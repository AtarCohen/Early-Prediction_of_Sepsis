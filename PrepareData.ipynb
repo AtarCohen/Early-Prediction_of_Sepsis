{
 "cells": [
  {
   "cell_type": "markdown",
   "source": [
    "<h1> Prepare Data </h1>\n",
    "To prepare the data for our models we need to:\n",
    "<ol>\n",
    "<li> cut unnecessary rows from the csv's (the rows that will not be used as input for the model, as explained in the instructions) </li>\n",
    "<li> create train and validation datasets </li>\n",
    "</ol>\n",
    "<h2> Adding Columns </h2>\n",
    "For each patients (and row) we will add 3 columns to the data frame:\n",
    "<ol>\n",
    "<li> max_ICULOS - the total time a patient was in the ICU </li>\n",
    "<li> time_bm - the difference between the current time and the total time a patient was in the ICU. defined as $time_bm = ICULOS-max ICULOS$\n",
    "</li>\n",
    "<li> Label column -  1 if the patient had sepsis after some time in the ICU and 0 otherwise\n",
    "</li>\n",
    "</ol>\n"
   ],
   "metadata": {
    "collapsed": false,
    "pycharm": {
     "name": "#%% md\n"
    }
   }
  },
  {
   "cell_type": "code",
   "execution_count": 3,
   "outputs": [],
   "source": [
    "import pandas as pd\n",
    "import os\n",
    "import tqdm\n",
    "from random import sample\n",
    "from sklearn.experimental import enable_iterative_imputer\n",
    "from sklearn.impute import IterativeImputer"
   ],
   "metadata": {
    "collapsed": false,
    "pycharm": {
     "name": "#%%\n"
    }
   }
  },
  {
   "cell_type": "code",
   "execution_count": 4,
   "outputs": [],
   "source": [
    "TRAIN_PATH = 'filtered_train_df_0705'\n",
    "VAL_PATH = 'filtered_val_df_0705'\n",
    "TEST_PATH = 'filtered_test_df_0705'\n",
    "TRAIN_MEAN_PATH = 'filtered_train_mean.csv'"
   ],
   "metadata": {
    "collapsed": false,
    "pycharm": {
     "name": "#%%\n"
    }
   }
  },
  {
   "cell_type": "code",
   "execution_count": 3,
   "outputs": [],
   "source": [
    "# def create_patients_df(patients, data_path):\n",
    "#     tmp_df = pd.read_csv(os.path.join(data_path,patients[0]),delimiter ='|')\n",
    "#     tmp_df['ID'] = patients[0].split('_')[-1].split('.')[0]\n",
    "#     new_df = tmp_df[tmp_df['SepsisLabel']==0]\n",
    "#     if max(tmp_df['SepsisLabel'])==1:\n",
    "#         new_df=new_df.append(tmp_df[tmp_df['SepsisLabel']==1][:1])\n",
    "#         new_df['Label'] = [1]*new_df.shape[0]\n",
    "#     else:\n",
    "#         new_df['Label'] = [0]*new_df.shape[0]\n",
    "#     new_df['max_ICULOS'] = [new_df['ICULOS'].values[-1]]*new_df.shape[0]\n",
    "#     new_df['time_bm'] =  new_df['ICULOS']-new_df['max_ICULOS']\n",
    "#     for patient in tqdm.tqdm(patients[1:]):\n",
    "#         patient_path = os.path.join(data_path,patient)\n",
    "#         patient_number = patient.split('_')[-1].split('.')[0]\n",
    "#         tmp_df = pd.read_csv(os.path.join(data_path,patient_path),delimiter ='|')\n",
    "#         tmp_df['ID'] = patient_number\n",
    "#         tmp_new_df = tmp_df[tmp_df['SepsisLabel']==0]\n",
    "#         if max(tmp_df['SepsisLabel'])==1:\n",
    "#             tmp_new_df=tmp_new_df.append(tmp_df[tmp_df['SepsisLabel']==1][:1])\n",
    "#             tmp_new_df['Label'] = [1]*tmp_new_df.shape[0]\n",
    "#         else:\n",
    "#             tmp_new_df['Label'] = [0]*tmp_new_df.shape[0]\n",
    "#         tmp_new_df['max_ICULOS'] = [tmp_new_df['ICULOS'].values[-1]]*tmp_new_df.shape[0]\n",
    "#         tmp_new_df['time_bm'] =  tmp_new_df['ICULOS']-tmp_new_df['max_ICULOS']\n",
    "#         new_df = new_df.append(tmp_new_df)\n",
    "#     return new_df"
   ],
   "metadata": {
    "collapsed": false,
    "pycharm": {
     "name": "#%%\n"
    }
   }
  },
  {
   "cell_type": "code",
   "execution_count": null,
   "outputs": [],
   "source": [
    "# for d_type in ['train', 'test']:\n",
    "#     data_path = f'/home/student/Early_Prediction_of_Sepsis/data/{d_type}/'\n",
    "#     patients = os.listdir(f'data/{d_type}')\n",
    "#     if d_type=='train':\n",
    "#         train_patients = sample(patients,int(len(patients)*0.8))\n",
    "#         val_patients = [x for x in patients if x not in train_patients]\n",
    "#         train_df = create_patients_df(train_patients,data_path)\n",
    "#         train_df.to_csv(f'{TRAIN_PATH}.csv',index=False)\n",
    "#         val_df = create_patients_df(val_patients,data_path)\n",
    "#         val_df.to_csv(f'{VAL_PATH}.csv',index=False)\n",
    "#     else:\n",
    "#         test_df = create_patients_df(patients,data_path)\n",
    "#         test_df.to_csv(f'{TEST_PATH}.csv',index=False)"
   ],
   "metadata": {
    "collapsed": false,
    "pycharm": {
     "name": "#%%\n"
    }
   }
  },
  {
   "cell_type": "code",
   "execution_count": 9,
   "outputs": [],
   "source": [
    "frequency_used_attributes = ['BaseExcess',  'FiO2', 'pH', 'PaCO2', 'Glucose','Lactate', 'PTT']\n",
    "# FREQUENCY_ATTR =['5w_sum_BaseExcess', '5w_sum_FiO2', '5w_sum_pH', '5w_sum_PaCO2', '5w_sum_Glucose', '5w_sum_Lactate', '5w_sum_PTT']\n",
    "# LAB_ATTR = ['Hct',  'Glucose','Potassium']\n",
    "CONST_ATTR = ['max_ICULOS','Gender']\n",
    "OTHER_ATTR = ['HR','MAP','O2Sat', 'Resp','SBP','ICULOS']\n",
    "ALL_LAB_ATTR = ['BaseExcess', 'HCO3', 'FiO2', 'pH', 'PaCO2',\n",
    " 'SaO2', 'AST', 'BUN', 'Alkalinephos', 'Calcium', 'Chloride',\n",
    " 'Creatinine', 'Bilirubin_direct', 'Glucose', 'Lactate',\n",
    " 'Magnesium', 'Phosphate', 'Potassium', 'Bilirubin_total',\n",
    " 'TroponinI', 'Hct', 'Hgb', 'PTT', 'WBC', 'Fibrinogen','Platelets']\n",
    "COLS = CONST_ATTR+OTHER_ATTR"
   ],
   "metadata": {
    "collapsed": false,
    "pycharm": {
     "name": "#%%\n"
    }
   }
  },
  {
   "cell_type": "code",
   "execution_count": 19,
   "outputs": [],
   "source": [
    "class data_preperator():\n",
    "    def __init__(self,columns,window_columns=None, freq_columns=None, seq_len=10,window=5):\n",
    "        self.all_data_means= pd.read_csv(TRAIN_MEAN_PATH)\n",
    "        self.seq_len=seq_len\n",
    "        self.window = window\n",
    "        self.window_columns = window_columns\n",
    "        self.freq_columns = freq_columns\n",
    "        self.columns = columns\n",
    "\n",
    "    def impute_per_patient(self,df):\n",
    "        patients = list(set(df.ID.values))\n",
    "        imputed = pd.DataFrame()\n",
    "        for patient in patients:\n",
    "            tmp_df = df[df['ID']==patient][self.columns+['Label']]\n",
    "            for f in self.columns:\n",
    "                if tmp_df[f].isnull().all:\n",
    "                    if f=='max_ICULOS':\n",
    "                        print(patient)\n",
    "                    tmp_df[f]=tmp_df[f].fillna(self.all_data_means[self.all_data_means['index']==f]['0'].values[0])\n",
    "            imp = IterativeImputer(max_iter=50, random_state=0)\n",
    "            try:\n",
    "                imp.fit(tmp_df)\n",
    "                tmp_df= pd.DataFrame(imp.transform(tmp_df), columns = self.columns+['Label'])\n",
    "                imputed=imputed.append(tmp_df)\n",
    "            except:\n",
    "                print(tmp_df.shape)\n",
    "        return imputed\n",
    "\n",
    "    def add_rolling_window(self,df):\n",
    "        df = df.sort_values(by=['ID','ICULOS'], ascending =[True,True])\n",
    "        rolling = df[['ID']+self.window_columns].groupby('ID').rolling(window=self.window, closed='both').count()\n",
    "        rolling= rolling.rename(columns={at: f'{self.window}w_sum_{at}' for at in self.window_columns})\n",
    "        rolling=rolling[list(rolling.columns)[1:]].reset_index().set_index('level_1')\n",
    "        combined = df.join(rolling,how='left', rsuffix= 'r')\n",
    "        self.columns +=[f'{self.window}w_sum_{at}' for at in self.window_columns]\n",
    "        return combined\n",
    "\n",
    "    def add_frequency(self,df):\n",
    "        df = df.sort_values(by=['ID','ICULOS'], ascending =[True,True])\n",
    "        rolling = df[['ID','max_ICULOS']+self.freq_columns].groupby(by=['ID','max_ICULOS'])[self.freq_columns].expanding().count().reset_index()\n",
    "        for at in self.freq_columns:\n",
    "            rolling[at] = rolling[at]/rolling['max_ICULOS']\n",
    "        rolling= rolling.rename(columns={at: f'freq_{at}' for at in self.freq_columns})\n",
    "        combined = df.join(rolling,how='left',on='ID', rsuffix= 'r')\n",
    "        self.columns +=[f'freq_{at}' for at in self.freq_columns]\n",
    "        return combined\n",
    "\n",
    "    def prepare_data(self,df, rolling=False,freq=True):\n",
    "        if rolling:\n",
    "            df = self.add_rolling_window(df)\n",
    "        if freq:\n",
    "            df = self.add_frequency(df)\n",
    "        df = df[df['time_bm']>=-1*(self.seq_len)]\n",
    "        df = df[self.columns+['Label','ID','time_bm']]\n",
    "        df = self.impute_per_patient(df)\n",
    "        return df"
   ],
   "metadata": {
    "collapsed": false,
    "pycharm": {
     "name": "#%%\n"
    }
   }
  },
  {
   "cell_type": "code",
   "execution_count": 7,
   "outputs": [],
   "source": [
    "train_df = pd.read_csv(f'{TRAIN_PATH}.csv')\n",
    "all_data_mean = train_df.mean().reset_index().to_csv(TRAIN_MEAN_PATH,index=False)"
   ],
   "metadata": {
    "collapsed": false,
    "pycharm": {
     "name": "#%%\n"
    }
   }
  },
  {
   "cell_type": "code",
   "execution_count": 20,
   "outputs": [],
   "source": [
    "p = data_preperator(columns=COLS,freq_columns=ALL_LAB_ATTR)"
   ],
   "metadata": {
    "collapsed": false,
    "pycharm": {
     "name": "#%%\n"
    }
   }
  },
  {
   "cell_type": "code",
   "execution_count": 97,
   "outputs": [
    {
     "ename": "NameError",
     "evalue": "name 'p' is not defined",
     "output_type": "error",
     "traceback": [
      "\u001B[0;31m---------------------------------------------------------------------------\u001B[0m",
      "\u001B[0;31mNameError\u001B[0m                                 Traceback (most recent call last)",
      "\u001B[0;32m<ipython-input-97-86ac4fabc0bf>\u001B[0m in \u001B[0;36m<module>\u001B[0;34m\u001B[0m\n\u001B[1;32m      1\u001B[0m \u001B[0mtrain_df\u001B[0m \u001B[0;34m=\u001B[0m \u001B[0mpd\u001B[0m\u001B[0;34m.\u001B[0m\u001B[0mread_csv\u001B[0m\u001B[0;34m(\u001B[0m\u001B[0;34mf'{TRAIN_PATH}.csv'\u001B[0m\u001B[0;34m)\u001B[0m\u001B[0;34m\u001B[0m\u001B[0;34m\u001B[0m\u001B[0m\n\u001B[0;32m----> 2\u001B[0;31m \u001B[0mtrain_df\u001B[0m \u001B[0;34m=\u001B[0m \u001B[0mp\u001B[0m\u001B[0;34m.\u001B[0m\u001B[0mprepare_data\u001B[0m\u001B[0;34m(\u001B[0m\u001B[0mtrain_df\u001B[0m\u001B[0;34m,\u001B[0m\u001B[0mrolling\u001B[0m\u001B[0;34m=\u001B[0m\u001B[0;32mFalse\u001B[0m\u001B[0;34m,\u001B[0m \u001B[0mfreq\u001B[0m\u001B[0;34m=\u001B[0m\u001B[0;32mTrue\u001B[0m\u001B[0;34m)\u001B[0m\u001B[0;34m\u001B[0m\u001B[0;34m\u001B[0m\u001B[0m\n\u001B[0m\u001B[1;32m      3\u001B[0m \u001B[0mtrain_df\u001B[0m\u001B[0;34m.\u001B[0m\u001B[0mto_csv\u001B[0m\u001B[0;34m(\u001B[0m\u001B[0;34mf'{TRAIN_PATH}_LSTM_new.csv'\u001B[0m\u001B[0;34m)\u001B[0m\u001B[0;34m\u001B[0m\u001B[0;34m\u001B[0m\u001B[0m\n\u001B[1;32m      4\u001B[0m \u001B[0;34m\u001B[0m\u001B[0m\n",
      "\u001B[0;31mNameError\u001B[0m: name 'p' is not defined"
     ]
    }
   ],
   "source": [
    "# train_df = pd.read_csv(f'{TRAIN_PATH}.csv')\n",
    "# train_df = p.prepare_data(train_df,rolling=False, freq=True)\n",
    "# train_df.to_csv(f'{TRAIN_PATH}_LSTM_new.csv')"
   ],
   "metadata": {
    "collapsed": false,
    "pycharm": {
     "name": "#%%\n"
    }
   }
  },
  {
   "cell_type": "code",
   "execution_count": 21,
   "outputs": [
    {
     "name": "stdout",
     "output_type": "stream",
     "text": [
      "1\n"
     ]
    },
    {
     "ename": "IndexError",
     "evalue": "index 0 is out of bounds for axis 0 with size 0",
     "output_type": "error",
     "traceback": [
      "\u001B[0;31m---------------------------------------------------------------------------\u001B[0m",
      "\u001B[0;31mIndexError\u001B[0m                                Traceback (most recent call last)",
      "\u001B[0;32m<ipython-input-21-15d5c9121c8a>\u001B[0m in \u001B[0;36m<module>\u001B[0;34m\u001B[0m\n\u001B[1;32m      1\u001B[0m \u001B[0mval_df\u001B[0m \u001B[0;34m=\u001B[0m \u001B[0mpd\u001B[0m\u001B[0;34m.\u001B[0m\u001B[0mread_csv\u001B[0m\u001B[0;34m(\u001B[0m\u001B[0;34mf'{VAL_PATH}.csv'\u001B[0m\u001B[0;34m)\u001B[0m\u001B[0;34m\u001B[0m\u001B[0;34m\u001B[0m\u001B[0m\n\u001B[0;32m----> 2\u001B[0;31m \u001B[0mval_df\u001B[0m \u001B[0;34m=\u001B[0m \u001B[0mp\u001B[0m\u001B[0;34m.\u001B[0m\u001B[0mprepare_data\u001B[0m\u001B[0;34m(\u001B[0m\u001B[0mval_df\u001B[0m\u001B[0;34m)\u001B[0m\u001B[0;34m\u001B[0m\u001B[0;34m\u001B[0m\u001B[0m\n\u001B[0m\u001B[1;32m      3\u001B[0m \u001B[0;31m# val_df.to_csv(f'{VAL_PATH}_LSTM_new.csv')\u001B[0m\u001B[0;34m\u001B[0m\u001B[0;34m\u001B[0m\u001B[0;34m\u001B[0m\u001B[0m\n\u001B[1;32m      4\u001B[0m \u001B[0mval_df\u001B[0m\u001B[0;34m\u001B[0m\u001B[0;34m\u001B[0m\u001B[0m\n",
      "\u001B[0;32m<ipython-input-19-398e00f80199>\u001B[0m in \u001B[0;36mprepare_data\u001B[0;34m(self, df, rolling, freq)\u001B[0m\n\u001B[1;32m     53\u001B[0m         \u001B[0mdf\u001B[0m \u001B[0;34m=\u001B[0m \u001B[0mdf\u001B[0m\u001B[0;34m[\u001B[0m\u001B[0mdf\u001B[0m\u001B[0;34m[\u001B[0m\u001B[0;34m'time_bm'\u001B[0m\u001B[0;34m]\u001B[0m\u001B[0;34m>=\u001B[0m\u001B[0;34m-\u001B[0m\u001B[0;36m1\u001B[0m\u001B[0;34m*\u001B[0m\u001B[0;34m(\u001B[0m\u001B[0mself\u001B[0m\u001B[0;34m.\u001B[0m\u001B[0mseq_len\u001B[0m\u001B[0;34m)\u001B[0m\u001B[0;34m]\u001B[0m\u001B[0;34m\u001B[0m\u001B[0;34m\u001B[0m\u001B[0m\n\u001B[1;32m     54\u001B[0m         \u001B[0mdf\u001B[0m \u001B[0;34m=\u001B[0m \u001B[0mdf\u001B[0m\u001B[0;34m[\u001B[0m\u001B[0mself\u001B[0m\u001B[0;34m.\u001B[0m\u001B[0mcolumns\u001B[0m\u001B[0;34m+\u001B[0m\u001B[0;34m[\u001B[0m\u001B[0;34m'Label'\u001B[0m\u001B[0;34m,\u001B[0m\u001B[0;34m'ID'\u001B[0m\u001B[0;34m,\u001B[0m\u001B[0;34m'time_bm'\u001B[0m\u001B[0;34m]\u001B[0m\u001B[0;34m]\u001B[0m\u001B[0;34m\u001B[0m\u001B[0;34m\u001B[0m\u001B[0m\n\u001B[0;32m---> 55\u001B[0;31m         \u001B[0mdf\u001B[0m \u001B[0;34m=\u001B[0m \u001B[0mself\u001B[0m\u001B[0;34m.\u001B[0m\u001B[0mimpute_per_patient\u001B[0m\u001B[0;34m(\u001B[0m\u001B[0mdf\u001B[0m\u001B[0;34m)\u001B[0m\u001B[0;34m\u001B[0m\u001B[0;34m\u001B[0m\u001B[0m\n\u001B[0m\u001B[1;32m     56\u001B[0m         \u001B[0;32mreturn\u001B[0m \u001B[0mdf\u001B[0m\u001B[0;34m\u001B[0m\u001B[0;34m\u001B[0m\u001B[0m\n",
      "\u001B[0;32m<ipython-input-19-398e00f80199>\u001B[0m in \u001B[0;36mimpute_per_patient\u001B[0;34m(self, df)\u001B[0m\n\u001B[1;32m     17\u001B[0m                     \u001B[0;32mif\u001B[0m \u001B[0mf\u001B[0m\u001B[0;34m==\u001B[0m\u001B[0;34m'max_ICULOS'\u001B[0m\u001B[0;34m:\u001B[0m\u001B[0;34m\u001B[0m\u001B[0;34m\u001B[0m\u001B[0m\n\u001B[1;32m     18\u001B[0m                         \u001B[0mprint\u001B[0m\u001B[0;34m(\u001B[0m\u001B[0mpatient\u001B[0m\u001B[0;34m)\u001B[0m\u001B[0;34m\u001B[0m\u001B[0;34m\u001B[0m\u001B[0m\n\u001B[0;32m---> 19\u001B[0;31m                     \u001B[0mtmp_df\u001B[0m\u001B[0;34m[\u001B[0m\u001B[0mf\u001B[0m\u001B[0;34m]\u001B[0m\u001B[0;34m=\u001B[0m\u001B[0mtmp_df\u001B[0m\u001B[0;34m[\u001B[0m\u001B[0mf\u001B[0m\u001B[0;34m]\u001B[0m\u001B[0;34m.\u001B[0m\u001B[0mfillna\u001B[0m\u001B[0;34m(\u001B[0m\u001B[0mself\u001B[0m\u001B[0;34m.\u001B[0m\u001B[0mall_data_means\u001B[0m\u001B[0;34m[\u001B[0m\u001B[0mself\u001B[0m\u001B[0;34m.\u001B[0m\u001B[0mall_data_means\u001B[0m\u001B[0;34m[\u001B[0m\u001B[0;34m'index'\u001B[0m\u001B[0;34m]\u001B[0m\u001B[0;34m==\u001B[0m\u001B[0mf\u001B[0m\u001B[0;34m]\u001B[0m\u001B[0;34m[\u001B[0m\u001B[0;34m'0'\u001B[0m\u001B[0;34m]\u001B[0m\u001B[0;34m.\u001B[0m\u001B[0mvalues\u001B[0m\u001B[0;34m[\u001B[0m\u001B[0;36m0\u001B[0m\u001B[0;34m]\u001B[0m\u001B[0;34m)\u001B[0m\u001B[0;34m\u001B[0m\u001B[0;34m\u001B[0m\u001B[0m\n\u001B[0m\u001B[1;32m     20\u001B[0m             \u001B[0mimp\u001B[0m \u001B[0;34m=\u001B[0m \u001B[0mIterativeImputer\u001B[0m\u001B[0;34m(\u001B[0m\u001B[0mmax_iter\u001B[0m\u001B[0;34m=\u001B[0m\u001B[0;36m50\u001B[0m\u001B[0;34m,\u001B[0m \u001B[0mrandom_state\u001B[0m\u001B[0;34m=\u001B[0m\u001B[0;36m0\u001B[0m\u001B[0;34m)\u001B[0m\u001B[0;34m\u001B[0m\u001B[0;34m\u001B[0m\u001B[0m\n\u001B[1;32m     21\u001B[0m             \u001B[0;32mtry\u001B[0m\u001B[0;34m:\u001B[0m\u001B[0;34m\u001B[0m\u001B[0;34m\u001B[0m\u001B[0m\n",
      "\u001B[0;31mIndexError\u001B[0m: index 0 is out of bounds for axis 0 with size 0"
     ]
    }
   ],
   "source": [
    "val_df = pd.read_csv(f'{VAL_PATH}.csv')\n",
    "val_df = p.prepare_data(val_df)\n",
    "# val_df.to_csv(f'{VAL_PATH}_LSTM_new.csv')\n",
    "val_df"
   ],
   "metadata": {
    "collapsed": false,
    "pycharm": {
     "name": "#%%\n"
    }
   }
  },
  {
   "cell_type": "code",
   "execution_count": null,
   "outputs": [],
   "source": [
    "test_df = pd.read_csv(f'{TEST_PATH}.csv')\n",
    "test_df = p.prepare_data(test_df)\n",
    "test_df.to_csv(f'{TEST_PATH}_LSTM_new.csv')"
   ],
   "metadata": {
    "collapsed": false,
    "pycharm": {
     "name": "#%%\n"
    }
   }
  },
  {
   "cell_type": "code",
   "execution_count": 59,
   "outputs": [],
   "source": [
    "train_df = pd.read_csv(f'{TRAIN_PATH}.csv')"
   ],
   "metadata": {
    "collapsed": false,
    "pycharm": {
     "name": "#%%\n"
    }
   }
  },
  {
   "cell_type": "code",
   "execution_count": 26,
   "outputs": [
    {
     "data": {
      "text/plain": "          HR  O2Sat   Temp    SBP   MAP   DBP  Resp  EtCO2  BaseExcess  HCO3  \\\n75951    NaN    NaN    NaN    NaN   NaN   NaN   NaN    NaN         NaN   NaN   \n75952   61.0   99.0  36.44  124.0  65.0  43.0  17.5    NaN         NaN   NaN   \n75953   64.0   98.0    NaN  125.0  64.0  41.0  27.0    NaN         NaN   NaN   \n75954   56.0  100.0    NaN  123.0  65.0  41.0   9.0    NaN         NaN   NaN   \n75955   66.0   99.0    NaN  120.0  67.0  43.0  23.0    NaN         NaN   NaN   \n...      ...    ...    ...    ...   ...   ...   ...    ...         ...   ...   \n154924  76.0    NaN    NaN   85.0  53.0   NaN  17.0    NaN         NaN   NaN   \n154925  81.0   99.0    NaN   99.0  51.0   NaN  17.0    NaN         NaN   NaN   \n154926  85.0  100.0    NaN  103.0  48.0   NaN  26.0    NaN         NaN   NaN   \n154927  86.0   93.0    NaN   87.0  44.0   NaN  22.0    NaN         NaN   NaN   \n154928  84.0   85.0    NaN   78.0  44.0   NaN  18.0    NaN         NaN   NaN   \n\n        ...  Gender  Unit1  Unit2  HospAdmTime  ICULOS  SepsisLabel     ID  \\\n75951   ...       0    0.0    1.0       -98.60       1            0      0   \n75952   ...       0    0.0    1.0       -98.60       2            0      0   \n75953   ...       0    0.0    1.0       -98.60       3            0      0   \n75954   ...       0    0.0    1.0       -98.60       4            0      0   \n75955   ...       0    0.0    1.0       -98.60       5            0      0   \n...     ...     ...    ...    ...          ...     ...          ...    ...   \n154924  ...       0    NaN    NaN        -0.03      50            0  19999   \n154925  ...       0    NaN    NaN        -0.03      51            0  19999   \n154926  ...       0    NaN    NaN        -0.03      52            0  19999   \n154927  ...       0    NaN    NaN        -0.03      53            0  19999   \n154928  ...       0    NaN    NaN        -0.03      54            0  19999   \n\n        Label  max_ICULOS  time_bm  \n75951       0          23      -22  \n75952       0          23      -21  \n75953       0          23      -20  \n75954       0          23      -19  \n75955       0          23      -18  \n...       ...         ...      ...  \n154924      0          54       -4  \n154925      0          54       -3  \n154926      0          54       -2  \n154927      0          54       -1  \n154928      0          54        0  \n\n[603455 rows x 45 columns]",
      "text/html": "<div>\n<style scoped>\n    .dataframe tbody tr th:only-of-type {\n        vertical-align: middle;\n    }\n\n    .dataframe tbody tr th {\n        vertical-align: top;\n    }\n\n    .dataframe thead th {\n        text-align: right;\n    }\n</style>\n<table border=\"1\" class=\"dataframe\">\n  <thead>\n    <tr style=\"text-align: right;\">\n      <th></th>\n      <th>HR</th>\n      <th>O2Sat</th>\n      <th>Temp</th>\n      <th>SBP</th>\n      <th>MAP</th>\n      <th>DBP</th>\n      <th>Resp</th>\n      <th>EtCO2</th>\n      <th>BaseExcess</th>\n      <th>HCO3</th>\n      <th>...</th>\n      <th>Gender</th>\n      <th>Unit1</th>\n      <th>Unit2</th>\n      <th>HospAdmTime</th>\n      <th>ICULOS</th>\n      <th>SepsisLabel</th>\n      <th>ID</th>\n      <th>Label</th>\n      <th>max_ICULOS</th>\n      <th>time_bm</th>\n    </tr>\n  </thead>\n  <tbody>\n    <tr>\n      <th>75951</th>\n      <td>NaN</td>\n      <td>NaN</td>\n      <td>NaN</td>\n      <td>NaN</td>\n      <td>NaN</td>\n      <td>NaN</td>\n      <td>NaN</td>\n      <td>NaN</td>\n      <td>NaN</td>\n      <td>NaN</td>\n      <td>...</td>\n      <td>0</td>\n      <td>0.0</td>\n      <td>1.0</td>\n      <td>-98.60</td>\n      <td>1</td>\n      <td>0</td>\n      <td>0</td>\n      <td>0</td>\n      <td>23</td>\n      <td>-22</td>\n    </tr>\n    <tr>\n      <th>75952</th>\n      <td>61.0</td>\n      <td>99.0</td>\n      <td>36.44</td>\n      <td>124.0</td>\n      <td>65.0</td>\n      <td>43.0</td>\n      <td>17.5</td>\n      <td>NaN</td>\n      <td>NaN</td>\n      <td>NaN</td>\n      <td>...</td>\n      <td>0</td>\n      <td>0.0</td>\n      <td>1.0</td>\n      <td>-98.60</td>\n      <td>2</td>\n      <td>0</td>\n      <td>0</td>\n      <td>0</td>\n      <td>23</td>\n      <td>-21</td>\n    </tr>\n    <tr>\n      <th>75953</th>\n      <td>64.0</td>\n      <td>98.0</td>\n      <td>NaN</td>\n      <td>125.0</td>\n      <td>64.0</td>\n      <td>41.0</td>\n      <td>27.0</td>\n      <td>NaN</td>\n      <td>NaN</td>\n      <td>NaN</td>\n      <td>...</td>\n      <td>0</td>\n      <td>0.0</td>\n      <td>1.0</td>\n      <td>-98.60</td>\n      <td>3</td>\n      <td>0</td>\n      <td>0</td>\n      <td>0</td>\n      <td>23</td>\n      <td>-20</td>\n    </tr>\n    <tr>\n      <th>75954</th>\n      <td>56.0</td>\n      <td>100.0</td>\n      <td>NaN</td>\n      <td>123.0</td>\n      <td>65.0</td>\n      <td>41.0</td>\n      <td>9.0</td>\n      <td>NaN</td>\n      <td>NaN</td>\n      <td>NaN</td>\n      <td>...</td>\n      <td>0</td>\n      <td>0.0</td>\n      <td>1.0</td>\n      <td>-98.60</td>\n      <td>4</td>\n      <td>0</td>\n      <td>0</td>\n      <td>0</td>\n      <td>23</td>\n      <td>-19</td>\n    </tr>\n    <tr>\n      <th>75955</th>\n      <td>66.0</td>\n      <td>99.0</td>\n      <td>NaN</td>\n      <td>120.0</td>\n      <td>67.0</td>\n      <td>43.0</td>\n      <td>23.0</td>\n      <td>NaN</td>\n      <td>NaN</td>\n      <td>NaN</td>\n      <td>...</td>\n      <td>0</td>\n      <td>0.0</td>\n      <td>1.0</td>\n      <td>-98.60</td>\n      <td>5</td>\n      <td>0</td>\n      <td>0</td>\n      <td>0</td>\n      <td>23</td>\n      <td>-18</td>\n    </tr>\n    <tr>\n      <th>...</th>\n      <td>...</td>\n      <td>...</td>\n      <td>...</td>\n      <td>...</td>\n      <td>...</td>\n      <td>...</td>\n      <td>...</td>\n      <td>...</td>\n      <td>...</td>\n      <td>...</td>\n      <td>...</td>\n      <td>...</td>\n      <td>...</td>\n      <td>...</td>\n      <td>...</td>\n      <td>...</td>\n      <td>...</td>\n      <td>...</td>\n      <td>...</td>\n      <td>...</td>\n      <td>...</td>\n    </tr>\n    <tr>\n      <th>154924</th>\n      <td>76.0</td>\n      <td>NaN</td>\n      <td>NaN</td>\n      <td>85.0</td>\n      <td>53.0</td>\n      <td>NaN</td>\n      <td>17.0</td>\n      <td>NaN</td>\n      <td>NaN</td>\n      <td>NaN</td>\n      <td>...</td>\n      <td>0</td>\n      <td>NaN</td>\n      <td>NaN</td>\n      <td>-0.03</td>\n      <td>50</td>\n      <td>0</td>\n      <td>19999</td>\n      <td>0</td>\n      <td>54</td>\n      <td>-4</td>\n    </tr>\n    <tr>\n      <th>154925</th>\n      <td>81.0</td>\n      <td>99.0</td>\n      <td>NaN</td>\n      <td>99.0</td>\n      <td>51.0</td>\n      <td>NaN</td>\n      <td>17.0</td>\n      <td>NaN</td>\n      <td>NaN</td>\n      <td>NaN</td>\n      <td>...</td>\n      <td>0</td>\n      <td>NaN</td>\n      <td>NaN</td>\n      <td>-0.03</td>\n      <td>51</td>\n      <td>0</td>\n      <td>19999</td>\n      <td>0</td>\n      <td>54</td>\n      <td>-3</td>\n    </tr>\n    <tr>\n      <th>154926</th>\n      <td>85.0</td>\n      <td>100.0</td>\n      <td>NaN</td>\n      <td>103.0</td>\n      <td>48.0</td>\n      <td>NaN</td>\n      <td>26.0</td>\n      <td>NaN</td>\n      <td>NaN</td>\n      <td>NaN</td>\n      <td>...</td>\n      <td>0</td>\n      <td>NaN</td>\n      <td>NaN</td>\n      <td>-0.03</td>\n      <td>52</td>\n      <td>0</td>\n      <td>19999</td>\n      <td>0</td>\n      <td>54</td>\n      <td>-2</td>\n    </tr>\n    <tr>\n      <th>154927</th>\n      <td>86.0</td>\n      <td>93.0</td>\n      <td>NaN</td>\n      <td>87.0</td>\n      <td>44.0</td>\n      <td>NaN</td>\n      <td>22.0</td>\n      <td>NaN</td>\n      <td>NaN</td>\n      <td>NaN</td>\n      <td>...</td>\n      <td>0</td>\n      <td>NaN</td>\n      <td>NaN</td>\n      <td>-0.03</td>\n      <td>53</td>\n      <td>0</td>\n      <td>19999</td>\n      <td>0</td>\n      <td>54</td>\n      <td>-1</td>\n    </tr>\n    <tr>\n      <th>154928</th>\n      <td>84.0</td>\n      <td>85.0</td>\n      <td>NaN</td>\n      <td>78.0</td>\n      <td>44.0</td>\n      <td>NaN</td>\n      <td>18.0</td>\n      <td>NaN</td>\n      <td>NaN</td>\n      <td>NaN</td>\n      <td>...</td>\n      <td>0</td>\n      <td>NaN</td>\n      <td>NaN</td>\n      <td>-0.03</td>\n      <td>54</td>\n      <td>0</td>\n      <td>19999</td>\n      <td>0</td>\n      <td>54</td>\n      <td>0</td>\n    </tr>\n  </tbody>\n</table>\n<p>603455 rows × 45 columns</p>\n</div>"
     },
     "execution_count": 26,
     "metadata": {},
     "output_type": "execute_result"
    }
   ],
   "source": [
    "train_df.sort_values(by=['ID','ICULOS'], ascending =[True,True])"
   ],
   "metadata": {
    "collapsed": false,
    "pycharm": {
     "name": "#%%\n"
    }
   }
  },
  {
   "cell_type": "code",
   "execution_count": 71,
   "outputs": [],
   "source": [
    "def add_frequency(df, attr):\n",
    "    df = df.sort_values(by=['ID','ICULOS'], ascending =[True,True])\n",
    "    rolling = df[['ID','max_ICULOS','ICULOS']+attr].groupby(by=['ID','max_ICULOS'])[attr].expanding().count().reset_index()\n",
    "    for at in attr:\n",
    "        rolling[at] = rolling[at]/rolling['max_ICULOS']\n",
    "    rolling= rolling.rename(columns={at: f'freq_{at}' for at in attr})\n",
    "    combined = df.join(rolling,how='left', rsuffix= 'r')\n",
    "    return combined"
   ],
   "metadata": {
    "collapsed": false,
    "pycharm": {
     "name": "#%%\n"
    }
   }
  },
  {
   "cell_type": "code",
   "execution_count": 72,
   "outputs": [],
   "source": [
    "df = add_frequency(train_df[train_df.ID.isin([0,1,2,3])],ALL_LAB_ATTR)"
   ],
   "metadata": {
    "collapsed": false,
    "pycharm": {
     "name": "#%%\n"
    }
   }
  },
  {
   "cell_type": "code",
   "execution_count": 74,
   "outputs": [],
   "source": [
    "df = train_df[train_df.ID.isin([0,1,2,3])].sort_values(by=['ID','ICULOS'], ascending =[True,True])\n",
    "rolling = df[['ID','max_ICULOS']+ALL_LAB_ATTR].groupby(by=['ID','max_ICULOS'])[ALL_LAB_ATTR].expanding().count().reset_index()\n"
   ],
   "metadata": {
    "collapsed": false,
    "pycharm": {
     "name": "#%%\n"
    }
   }
  },
  {
   "cell_type": "code",
   "execution_count": 78,
   "outputs": [],
   "source": [
    "rolling['FiO2'] = rolling['FiO2']/rolling['max_ICULOS']"
   ],
   "metadata": {
    "collapsed": false,
    "pycharm": {
     "name": "#%%\n"
    }
   }
  },
  {
   "cell_type": "code",
   "execution_count": 81,
   "outputs": [],
   "source": [
    "rolling= rolling.rename(columns={at: f'freq_{at}' for at in ALL_LAB_ATTR})"
   ],
   "metadata": {
    "collapsed": false,
    "pycharm": {
     "name": "#%%\n"
    }
   }
  },
  {
   "cell_type": "code",
   "execution_count": 88,
   "outputs": [],
   "source": [
    "combined = df.join(rolling,how='left',on='ID', rsuffix= 'r')"
   ],
   "metadata": {
    "collapsed": false,
    "pycharm": {
     "name": "#%%\n"
    }
   }
  },
  {
   "cell_type": "code",
   "execution_count": 89,
   "outputs": [
    {
     "data": {
      "text/plain": "          HR  O2Sat   Temp    SBP     MAP   DBP  Resp  EtCO2  BaseExcess  \\\n75951    NaN    NaN    NaN    NaN     NaN   NaN   NaN    NaN         NaN   \n75952   61.0   99.0  36.44  124.0   65.00  43.0  17.5    NaN         NaN   \n75953   64.0   98.0    NaN  125.0   64.00  41.0  27.0    NaN         NaN   \n75954   56.0  100.0    NaN  123.0   65.00  41.0   9.0    NaN         NaN   \n75955   66.0   99.0    NaN  120.0   67.00  43.0  23.0    NaN         NaN   \n...      ...    ...    ...    ...     ...   ...   ...    ...         ...   \n539766  58.0   99.0    NaN  152.5  100.00  76.0  14.0    NaN         NaN   \n539767  68.0   99.0    NaN  128.0   74.33  77.0  17.0    NaN         NaN   \n539768  71.0   95.0    NaN  146.5   94.50  73.0  17.0    NaN         NaN   \n539769  71.0   96.0  37.00  149.0   94.00  73.0  18.0    NaN         NaN   \n539770  71.0   95.0    NaN  136.0   90.00  71.0  20.0    NaN         NaN   \n\n        HCO3  ...  freq_Phosphate  freq_Potassium  freq_Bilirubin_total  \\\n75951    NaN  ...             0.0             0.0                   0.0   \n75952    NaN  ...             0.0             0.0                   0.0   \n75953    NaN  ...             0.0             0.0                   0.0   \n75954    NaN  ...             0.0             0.0                   0.0   \n75955    NaN  ...             0.0             0.0                   0.0   \n...      ...  ...             ...             ...                   ...   \n539766   NaN  ...             0.0             0.0                   0.0   \n539767   NaN  ...             0.0             0.0                   0.0   \n539768  23.0  ...             0.0             0.0                   0.0   \n539769   NaN  ...             0.0             0.0                   0.0   \n539770   NaN  ...             0.0             0.0                   0.0   \n\n        freq_TroponinI  freq_Hct  freq_Hgb  freq_PTT  freq_WBC  \\\n75951              0.0       0.0       0.0       0.0       0.0   \n75952              0.0       0.0       0.0       0.0       0.0   \n75953              0.0       0.0       0.0       0.0       0.0   \n75954              0.0       0.0       0.0       0.0       0.0   \n75955              0.0       0.0       0.0       0.0       0.0   \n...                ...       ...       ...       ...       ...   \n539766             0.0       0.0       0.0       0.0       0.0   \n539767             0.0       0.0       0.0       0.0       0.0   \n539768             0.0       0.0       0.0       0.0       0.0   \n539769             0.0       0.0       0.0       0.0       0.0   \n539770             0.0       0.0       0.0       0.0       0.0   \n\n        freq_Fibrinogen  freq_Platelets  \n75951               0.0             0.0  \n75952               0.0             0.0  \n75953               0.0             0.0  \n75954               0.0             0.0  \n75955               0.0             0.0  \n...                 ...             ...  \n539766              0.0             0.0  \n539767              0.0             0.0  \n539768              0.0             0.0  \n539769              0.0             0.0  \n539770              0.0             0.0  \n\n[104 rows x 74 columns]",
      "text/html": "<div>\n<style scoped>\n    .dataframe tbody tr th:only-of-type {\n        vertical-align: middle;\n    }\n\n    .dataframe tbody tr th {\n        vertical-align: top;\n    }\n\n    .dataframe thead th {\n        text-align: right;\n    }\n</style>\n<table border=\"1\" class=\"dataframe\">\n  <thead>\n    <tr style=\"text-align: right;\">\n      <th></th>\n      <th>HR</th>\n      <th>O2Sat</th>\n      <th>Temp</th>\n      <th>SBP</th>\n      <th>MAP</th>\n      <th>DBP</th>\n      <th>Resp</th>\n      <th>EtCO2</th>\n      <th>BaseExcess</th>\n      <th>HCO3</th>\n      <th>...</th>\n      <th>freq_Phosphate</th>\n      <th>freq_Potassium</th>\n      <th>freq_Bilirubin_total</th>\n      <th>freq_TroponinI</th>\n      <th>freq_Hct</th>\n      <th>freq_Hgb</th>\n      <th>freq_PTT</th>\n      <th>freq_WBC</th>\n      <th>freq_Fibrinogen</th>\n      <th>freq_Platelets</th>\n    </tr>\n  </thead>\n  <tbody>\n    <tr>\n      <th>75951</th>\n      <td>NaN</td>\n      <td>NaN</td>\n      <td>NaN</td>\n      <td>NaN</td>\n      <td>NaN</td>\n      <td>NaN</td>\n      <td>NaN</td>\n      <td>NaN</td>\n      <td>NaN</td>\n      <td>NaN</td>\n      <td>...</td>\n      <td>0.0</td>\n      <td>0.0</td>\n      <td>0.0</td>\n      <td>0.0</td>\n      <td>0.0</td>\n      <td>0.0</td>\n      <td>0.0</td>\n      <td>0.0</td>\n      <td>0.0</td>\n      <td>0.0</td>\n    </tr>\n    <tr>\n      <th>75952</th>\n      <td>61.0</td>\n      <td>99.0</td>\n      <td>36.44</td>\n      <td>124.0</td>\n      <td>65.00</td>\n      <td>43.0</td>\n      <td>17.5</td>\n      <td>NaN</td>\n      <td>NaN</td>\n      <td>NaN</td>\n      <td>...</td>\n      <td>0.0</td>\n      <td>0.0</td>\n      <td>0.0</td>\n      <td>0.0</td>\n      <td>0.0</td>\n      <td>0.0</td>\n      <td>0.0</td>\n      <td>0.0</td>\n      <td>0.0</td>\n      <td>0.0</td>\n    </tr>\n    <tr>\n      <th>75953</th>\n      <td>64.0</td>\n      <td>98.0</td>\n      <td>NaN</td>\n      <td>125.0</td>\n      <td>64.00</td>\n      <td>41.0</td>\n      <td>27.0</td>\n      <td>NaN</td>\n      <td>NaN</td>\n      <td>NaN</td>\n      <td>...</td>\n      <td>0.0</td>\n      <td>0.0</td>\n      <td>0.0</td>\n      <td>0.0</td>\n      <td>0.0</td>\n      <td>0.0</td>\n      <td>0.0</td>\n      <td>0.0</td>\n      <td>0.0</td>\n      <td>0.0</td>\n    </tr>\n    <tr>\n      <th>75954</th>\n      <td>56.0</td>\n      <td>100.0</td>\n      <td>NaN</td>\n      <td>123.0</td>\n      <td>65.00</td>\n      <td>41.0</td>\n      <td>9.0</td>\n      <td>NaN</td>\n      <td>NaN</td>\n      <td>NaN</td>\n      <td>...</td>\n      <td>0.0</td>\n      <td>0.0</td>\n      <td>0.0</td>\n      <td>0.0</td>\n      <td>0.0</td>\n      <td>0.0</td>\n      <td>0.0</td>\n      <td>0.0</td>\n      <td>0.0</td>\n      <td>0.0</td>\n    </tr>\n    <tr>\n      <th>75955</th>\n      <td>66.0</td>\n      <td>99.0</td>\n      <td>NaN</td>\n      <td>120.0</td>\n      <td>67.00</td>\n      <td>43.0</td>\n      <td>23.0</td>\n      <td>NaN</td>\n      <td>NaN</td>\n      <td>NaN</td>\n      <td>...</td>\n      <td>0.0</td>\n      <td>0.0</td>\n      <td>0.0</td>\n      <td>0.0</td>\n      <td>0.0</td>\n      <td>0.0</td>\n      <td>0.0</td>\n      <td>0.0</td>\n      <td>0.0</td>\n      <td>0.0</td>\n    </tr>\n    <tr>\n      <th>...</th>\n      <td>...</td>\n      <td>...</td>\n      <td>...</td>\n      <td>...</td>\n      <td>...</td>\n      <td>...</td>\n      <td>...</td>\n      <td>...</td>\n      <td>...</td>\n      <td>...</td>\n      <td>...</td>\n      <td>...</td>\n      <td>...</td>\n      <td>...</td>\n      <td>...</td>\n      <td>...</td>\n      <td>...</td>\n      <td>...</td>\n      <td>...</td>\n      <td>...</td>\n      <td>...</td>\n    </tr>\n    <tr>\n      <th>539766</th>\n      <td>58.0</td>\n      <td>99.0</td>\n      <td>NaN</td>\n      <td>152.5</td>\n      <td>100.00</td>\n      <td>76.0</td>\n      <td>14.0</td>\n      <td>NaN</td>\n      <td>NaN</td>\n      <td>NaN</td>\n      <td>...</td>\n      <td>0.0</td>\n      <td>0.0</td>\n      <td>0.0</td>\n      <td>0.0</td>\n      <td>0.0</td>\n      <td>0.0</td>\n      <td>0.0</td>\n      <td>0.0</td>\n      <td>0.0</td>\n      <td>0.0</td>\n    </tr>\n    <tr>\n      <th>539767</th>\n      <td>68.0</td>\n      <td>99.0</td>\n      <td>NaN</td>\n      <td>128.0</td>\n      <td>74.33</td>\n      <td>77.0</td>\n      <td>17.0</td>\n      <td>NaN</td>\n      <td>NaN</td>\n      <td>NaN</td>\n      <td>...</td>\n      <td>0.0</td>\n      <td>0.0</td>\n      <td>0.0</td>\n      <td>0.0</td>\n      <td>0.0</td>\n      <td>0.0</td>\n      <td>0.0</td>\n      <td>0.0</td>\n      <td>0.0</td>\n      <td>0.0</td>\n    </tr>\n    <tr>\n      <th>539768</th>\n      <td>71.0</td>\n      <td>95.0</td>\n      <td>NaN</td>\n      <td>146.5</td>\n      <td>94.50</td>\n      <td>73.0</td>\n      <td>17.0</td>\n      <td>NaN</td>\n      <td>NaN</td>\n      <td>23.0</td>\n      <td>...</td>\n      <td>0.0</td>\n      <td>0.0</td>\n      <td>0.0</td>\n      <td>0.0</td>\n      <td>0.0</td>\n      <td>0.0</td>\n      <td>0.0</td>\n      <td>0.0</td>\n      <td>0.0</td>\n      <td>0.0</td>\n    </tr>\n    <tr>\n      <th>539769</th>\n      <td>71.0</td>\n      <td>96.0</td>\n      <td>37.00</td>\n      <td>149.0</td>\n      <td>94.00</td>\n      <td>73.0</td>\n      <td>18.0</td>\n      <td>NaN</td>\n      <td>NaN</td>\n      <td>NaN</td>\n      <td>...</td>\n      <td>0.0</td>\n      <td>0.0</td>\n      <td>0.0</td>\n      <td>0.0</td>\n      <td>0.0</td>\n      <td>0.0</td>\n      <td>0.0</td>\n      <td>0.0</td>\n      <td>0.0</td>\n      <td>0.0</td>\n    </tr>\n    <tr>\n      <th>539770</th>\n      <td>71.0</td>\n      <td>95.0</td>\n      <td>NaN</td>\n      <td>136.0</td>\n      <td>90.00</td>\n      <td>71.0</td>\n      <td>20.0</td>\n      <td>NaN</td>\n      <td>NaN</td>\n      <td>NaN</td>\n      <td>...</td>\n      <td>0.0</td>\n      <td>0.0</td>\n      <td>0.0</td>\n      <td>0.0</td>\n      <td>0.0</td>\n      <td>0.0</td>\n      <td>0.0</td>\n      <td>0.0</td>\n      <td>0.0</td>\n      <td>0.0</td>\n    </tr>\n  </tbody>\n</table>\n<p>104 rows × 74 columns</p>\n</div>"
     },
     "execution_count": 89,
     "metadata": {},
     "output_type": "execute_result"
    }
   ],
   "source": [
    "combined"
   ],
   "metadata": {
    "collapsed": false,
    "pycharm": {
     "name": "#%%\n"
    }
   }
  },
  {
   "cell_type": "code",
   "execution_count": 87,
   "outputs": [
    {
     "data": {
      "text/plain": "          HR  O2Sat   Temp    SBP     MAP   DBP  Resp  EtCO2  BaseExcess  \\\n75951    NaN    NaN    NaN    NaN     NaN   NaN   NaN    NaN         NaN   \n75952   61.0   99.0  36.44  124.0   65.00  43.0  17.5    NaN         NaN   \n75953   64.0   98.0    NaN  125.0   64.00  41.0  27.0    NaN         NaN   \n75954   56.0  100.0    NaN  123.0   65.00  41.0   9.0    NaN         NaN   \n75955   66.0   99.0    NaN  120.0   67.00  43.0  23.0    NaN         NaN   \n...      ...    ...    ...    ...     ...   ...   ...    ...         ...   \n539766  58.0   99.0    NaN  152.5  100.00  76.0  14.0    NaN         NaN   \n539767  68.0   99.0    NaN  128.0   74.33  77.0  17.0    NaN         NaN   \n539768  71.0   95.0    NaN  146.5   94.50  73.0  17.0    NaN         NaN   \n539769  71.0   96.0  37.00  149.0   94.00  73.0  18.0    NaN         NaN   \n539770  71.0   95.0    NaN  136.0   90.00  71.0  20.0    NaN         NaN   \n\n        HCO3  ...  Gender  Unit1  Unit2  HospAdmTime  ICULOS  SepsisLabel  ID  \\\n75951    NaN  ...       0    0.0    1.0       -98.60       1            0   0   \n75952    NaN  ...       0    0.0    1.0       -98.60       2            0   0   \n75953    NaN  ...       0    0.0    1.0       -98.60       3            0   0   \n75954    NaN  ...       0    0.0    1.0       -98.60       4            0   0   \n75955    NaN  ...       0    0.0    1.0       -98.60       5            0   0   \n...      ...  ...     ...    ...    ...          ...     ...          ...  ..   \n539766   NaN  ...       1    NaN    NaN        -0.02      44            0   3   \n539767   NaN  ...       1    NaN    NaN        -0.02      45            0   3   \n539768  23.0  ...       1    NaN    NaN        -0.02      46            0   3   \n539769   NaN  ...       1    NaN    NaN        -0.02      47            0   3   \n539770   NaN  ...       1    NaN    NaN        -0.02      48            0   3   \n\n        Label  max_ICULOS  time_bm  \n75951       0          23      -22  \n75952       0          23      -21  \n75953       0          23      -20  \n75954       0          23      -19  \n75955       0          23      -18  \n...       ...         ...      ...  \n539766      0          48       -4  \n539767      0          48       -3  \n539768      0          48       -2  \n539769      0          48       -1  \n539770      0          48        0  \n\n[104 rows x 45 columns]",
      "text/html": "<div>\n<style scoped>\n    .dataframe tbody tr th:only-of-type {\n        vertical-align: middle;\n    }\n\n    .dataframe tbody tr th {\n        vertical-align: top;\n    }\n\n    .dataframe thead th {\n        text-align: right;\n    }\n</style>\n<table border=\"1\" class=\"dataframe\">\n  <thead>\n    <tr style=\"text-align: right;\">\n      <th></th>\n      <th>HR</th>\n      <th>O2Sat</th>\n      <th>Temp</th>\n      <th>SBP</th>\n      <th>MAP</th>\n      <th>DBP</th>\n      <th>Resp</th>\n      <th>EtCO2</th>\n      <th>BaseExcess</th>\n      <th>HCO3</th>\n      <th>...</th>\n      <th>Gender</th>\n      <th>Unit1</th>\n      <th>Unit2</th>\n      <th>HospAdmTime</th>\n      <th>ICULOS</th>\n      <th>SepsisLabel</th>\n      <th>ID</th>\n      <th>Label</th>\n      <th>max_ICULOS</th>\n      <th>time_bm</th>\n    </tr>\n  </thead>\n  <tbody>\n    <tr>\n      <th>75951</th>\n      <td>NaN</td>\n      <td>NaN</td>\n      <td>NaN</td>\n      <td>NaN</td>\n      <td>NaN</td>\n      <td>NaN</td>\n      <td>NaN</td>\n      <td>NaN</td>\n      <td>NaN</td>\n      <td>NaN</td>\n      <td>...</td>\n      <td>0</td>\n      <td>0.0</td>\n      <td>1.0</td>\n      <td>-98.60</td>\n      <td>1</td>\n      <td>0</td>\n      <td>0</td>\n      <td>0</td>\n      <td>23</td>\n      <td>-22</td>\n    </tr>\n    <tr>\n      <th>75952</th>\n      <td>61.0</td>\n      <td>99.0</td>\n      <td>36.44</td>\n      <td>124.0</td>\n      <td>65.00</td>\n      <td>43.0</td>\n      <td>17.5</td>\n      <td>NaN</td>\n      <td>NaN</td>\n      <td>NaN</td>\n      <td>...</td>\n      <td>0</td>\n      <td>0.0</td>\n      <td>1.0</td>\n      <td>-98.60</td>\n      <td>2</td>\n      <td>0</td>\n      <td>0</td>\n      <td>0</td>\n      <td>23</td>\n      <td>-21</td>\n    </tr>\n    <tr>\n      <th>75953</th>\n      <td>64.0</td>\n      <td>98.0</td>\n      <td>NaN</td>\n      <td>125.0</td>\n      <td>64.00</td>\n      <td>41.0</td>\n      <td>27.0</td>\n      <td>NaN</td>\n      <td>NaN</td>\n      <td>NaN</td>\n      <td>...</td>\n      <td>0</td>\n      <td>0.0</td>\n      <td>1.0</td>\n      <td>-98.60</td>\n      <td>3</td>\n      <td>0</td>\n      <td>0</td>\n      <td>0</td>\n      <td>23</td>\n      <td>-20</td>\n    </tr>\n    <tr>\n      <th>75954</th>\n      <td>56.0</td>\n      <td>100.0</td>\n      <td>NaN</td>\n      <td>123.0</td>\n      <td>65.00</td>\n      <td>41.0</td>\n      <td>9.0</td>\n      <td>NaN</td>\n      <td>NaN</td>\n      <td>NaN</td>\n      <td>...</td>\n      <td>0</td>\n      <td>0.0</td>\n      <td>1.0</td>\n      <td>-98.60</td>\n      <td>4</td>\n      <td>0</td>\n      <td>0</td>\n      <td>0</td>\n      <td>23</td>\n      <td>-19</td>\n    </tr>\n    <tr>\n      <th>75955</th>\n      <td>66.0</td>\n      <td>99.0</td>\n      <td>NaN</td>\n      <td>120.0</td>\n      <td>67.00</td>\n      <td>43.0</td>\n      <td>23.0</td>\n      <td>NaN</td>\n      <td>NaN</td>\n      <td>NaN</td>\n      <td>...</td>\n      <td>0</td>\n      <td>0.0</td>\n      <td>1.0</td>\n      <td>-98.60</td>\n      <td>5</td>\n      <td>0</td>\n      <td>0</td>\n      <td>0</td>\n      <td>23</td>\n      <td>-18</td>\n    </tr>\n    <tr>\n      <th>...</th>\n      <td>...</td>\n      <td>...</td>\n      <td>...</td>\n      <td>...</td>\n      <td>...</td>\n      <td>...</td>\n      <td>...</td>\n      <td>...</td>\n      <td>...</td>\n      <td>...</td>\n      <td>...</td>\n      <td>...</td>\n      <td>...</td>\n      <td>...</td>\n      <td>...</td>\n      <td>...</td>\n      <td>...</td>\n      <td>...</td>\n      <td>...</td>\n      <td>...</td>\n      <td>...</td>\n    </tr>\n    <tr>\n      <th>539766</th>\n      <td>58.0</td>\n      <td>99.0</td>\n      <td>NaN</td>\n      <td>152.5</td>\n      <td>100.00</td>\n      <td>76.0</td>\n      <td>14.0</td>\n      <td>NaN</td>\n      <td>NaN</td>\n      <td>NaN</td>\n      <td>...</td>\n      <td>1</td>\n      <td>NaN</td>\n      <td>NaN</td>\n      <td>-0.02</td>\n      <td>44</td>\n      <td>0</td>\n      <td>3</td>\n      <td>0</td>\n      <td>48</td>\n      <td>-4</td>\n    </tr>\n    <tr>\n      <th>539767</th>\n      <td>68.0</td>\n      <td>99.0</td>\n      <td>NaN</td>\n      <td>128.0</td>\n      <td>74.33</td>\n      <td>77.0</td>\n      <td>17.0</td>\n      <td>NaN</td>\n      <td>NaN</td>\n      <td>NaN</td>\n      <td>...</td>\n      <td>1</td>\n      <td>NaN</td>\n      <td>NaN</td>\n      <td>-0.02</td>\n      <td>45</td>\n      <td>0</td>\n      <td>3</td>\n      <td>0</td>\n      <td>48</td>\n      <td>-3</td>\n    </tr>\n    <tr>\n      <th>539768</th>\n      <td>71.0</td>\n      <td>95.0</td>\n      <td>NaN</td>\n      <td>146.5</td>\n      <td>94.50</td>\n      <td>73.0</td>\n      <td>17.0</td>\n      <td>NaN</td>\n      <td>NaN</td>\n      <td>23.0</td>\n      <td>...</td>\n      <td>1</td>\n      <td>NaN</td>\n      <td>NaN</td>\n      <td>-0.02</td>\n      <td>46</td>\n      <td>0</td>\n      <td>3</td>\n      <td>0</td>\n      <td>48</td>\n      <td>-2</td>\n    </tr>\n    <tr>\n      <th>539769</th>\n      <td>71.0</td>\n      <td>96.0</td>\n      <td>37.00</td>\n      <td>149.0</td>\n      <td>94.00</td>\n      <td>73.0</td>\n      <td>18.0</td>\n      <td>NaN</td>\n      <td>NaN</td>\n      <td>NaN</td>\n      <td>...</td>\n      <td>1</td>\n      <td>NaN</td>\n      <td>NaN</td>\n      <td>-0.02</td>\n      <td>47</td>\n      <td>0</td>\n      <td>3</td>\n      <td>0</td>\n      <td>48</td>\n      <td>-1</td>\n    </tr>\n    <tr>\n      <th>539770</th>\n      <td>71.0</td>\n      <td>95.0</td>\n      <td>NaN</td>\n      <td>136.0</td>\n      <td>90.00</td>\n      <td>71.0</td>\n      <td>20.0</td>\n      <td>NaN</td>\n      <td>NaN</td>\n      <td>NaN</td>\n      <td>...</td>\n      <td>1</td>\n      <td>NaN</td>\n      <td>NaN</td>\n      <td>-0.02</td>\n      <td>48</td>\n      <td>0</td>\n      <td>3</td>\n      <td>0</td>\n      <td>48</td>\n      <td>0</td>\n    </tr>\n  </tbody>\n</table>\n<p>104 rows × 45 columns</p>\n</div>"
     },
     "execution_count": 87,
     "metadata": {},
     "output_type": "execute_result"
    }
   ],
   "source": [
    "df"
   ],
   "metadata": {
    "collapsed": false,
    "pycharm": {
     "name": "#%%\n"
    }
   }
  },
  {
   "cell_type": "code",
   "execution_count": null,
   "outputs": [],
   "source": [],
   "metadata": {
    "collapsed": false,
    "pycharm": {
     "name": "#%%\n"
    }
   }
  }
 ],
 "metadata": {
  "kernelspec": {
   "display_name": "Python 3",
   "language": "python",
   "name": "python3"
  },
  "language_info": {
   "codemirror_mode": {
    "name": "ipython",
    "version": 2
   },
   "file_extension": ".py",
   "mimetype": "text/x-python",
   "name": "python",
   "nbconvert_exporter": "python",
   "pygments_lexer": "ipython2",
   "version": "2.7.6"
  }
 },
 "nbformat": 4,
 "nbformat_minor": 0
}