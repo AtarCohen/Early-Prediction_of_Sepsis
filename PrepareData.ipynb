{
 "cells": [
  {
   "cell_type": "markdown",
   "source": [
    "<h1> Prepare Data </h1>\n",
    "To prepare the data for our models we need to:\n",
    "1. cut unnecessary rows from the csv's (the rows that will not be used as input for the model, as explained in the instructions)\n",
    "2. create train and validation datasets"
   ],
   "metadata": {
    "collapsed": false,
    "pycharm": {
     "name": "#%% md\n"
    }
   }
  },
  {
   "cell_type": "code",
   "execution_count": 2,
   "outputs": [],
   "source": [
    "import pandas as pd\n",
    "import os\n",
    "import tqdm\n",
    "from random import sample"
   ],
   "metadata": {
    "collapsed": false,
    "pycharm": {
     "name": "#%%\n"
    }
   }
  },
  {
   "cell_type": "code",
   "execution_count": 5,
   "outputs": [
    {
     "ename": "NameError",
     "evalue": "name 'sample' is not defined",
     "output_type": "error",
     "traceback": [
      "\u001B[0;31m---------------------------------------------------------------------------\u001B[0m",
      "\u001B[0;31mNameError\u001B[0m                                 Traceback (most recent call last)",
      "\u001B[0;32m<ipython-input-5-646ed068d62b>\u001B[0m in \u001B[0;36m<module>\u001B[0;34m\u001B[0m\n\u001B[1;32m      3\u001B[0m     \u001B[0mpatients\u001B[0m \u001B[0;34m=\u001B[0m \u001B[0mos\u001B[0m\u001B[0;34m.\u001B[0m\u001B[0mlistdir\u001B[0m\u001B[0;34m(\u001B[0m\u001B[0;34mf'data/{d_type}'\u001B[0m\u001B[0;34m)\u001B[0m\u001B[0;34m\u001B[0m\u001B[0;34m\u001B[0m\u001B[0m\n\u001B[1;32m      4\u001B[0m     \u001B[0;32mif\u001B[0m \u001B[0md_type\u001B[0m\u001B[0;34m==\u001B[0m\u001B[0;34m'train'\u001B[0m\u001B[0;34m:\u001B[0m\u001B[0;34m\u001B[0m\u001B[0;34m\u001B[0m\u001B[0m\n\u001B[0;32m----> 5\u001B[0;31m         \u001B[0mtrain_patients\u001B[0m \u001B[0;34m=\u001B[0m \u001B[0msample\u001B[0m\u001B[0;34m(\u001B[0m\u001B[0mpatients\u001B[0m\u001B[0;34m,\u001B[0m\u001B[0mint\u001B[0m\u001B[0;34m(\u001B[0m\u001B[0mlen\u001B[0m\u001B[0;34m(\u001B[0m\u001B[0mpatients\u001B[0m\u001B[0;34m)\u001B[0m\u001B[0;34m*\u001B[0m\u001B[0;36m0.8\u001B[0m\u001B[0;34m)\u001B[0m\u001B[0;34m)\u001B[0m\u001B[0;34m\u001B[0m\u001B[0;34m\u001B[0m\u001B[0m\n\u001B[0m\u001B[1;32m      6\u001B[0m         \u001B[0mval_patients\u001B[0m \u001B[0;34m=\u001B[0m \u001B[0;34m[\u001B[0m\u001B[0mx\u001B[0m \u001B[0;32mfor\u001B[0m \u001B[0mx\u001B[0m \u001B[0;32min\u001B[0m \u001B[0mpatients\u001B[0m \u001B[0;32mif\u001B[0m \u001B[0mx\u001B[0m \u001B[0;32mnot\u001B[0m \u001B[0;32min\u001B[0m \u001B[0mval_patients\u001B[0m\u001B[0;34m]\u001B[0m\u001B[0;34m\u001B[0m\u001B[0;34m\u001B[0m\u001B[0m\n\u001B[1;32m      7\u001B[0m \u001B[0mprint\u001B[0m\u001B[0;34m(\u001B[0m\u001B[0mlen\u001B[0m\u001B[0;34m(\u001B[0m\u001B[0mpatients\u001B[0m\u001B[0;34m)\u001B[0m\u001B[0;34m)\u001B[0m\u001B[0;34m\u001B[0m\u001B[0;34m\u001B[0m\u001B[0m\n",
      "\u001B[0;31mNameError\u001B[0m: name 'sample' is not defined"
     ]
    }
   ],
   "source": [
    "for d_type in ['train', 'test']:\n",
    "    data_path = f'/home/student/Early_Prediction_of_Sepsis/data/{d_type}/'\n",
    "    patients = os.listdir(f'data/{d_type}')\n",
    "    if d_type=='train':\n",
    "        train_patients = sample(patients,int(len(patients)*0.8))\n",
    "        val_patients = [x for x in patients if x not in val_patients]\n",
    "print(len(patients))\n",
    "print(len(train_patients))\n",
    "print(len(val_patients))\n",
    "# df = pd.read_csv(os.path.join(data_path,patients[0]),delimiter ='|')\n",
    "# df['ID'] = patients[0].split('_')[-1].split('.')[0]\n",
    "# new_df = df[df['SepsisLabel']==0]\n",
    "# if max(df['SepsisLabel'])==1:\n",
    "#     new_df=new_df.append(df[df['SepsisLabel']==1][:1])\n",
    "#     new_df['Label'] = [1]*new_df.shape[0]\n",
    "# else:\n",
    "#     new_df['Label'] = [0]*new_df.shape[0]\n",
    "# stats = new_df.describe()\n",
    "# std = stats[(stats.index=='std')|(stats.index=='mean')]\n",
    "# std['ID'] = patients[0].split('_')[-1].split('.')[0]\n",
    "# for patient in tqdm.tqdm(patients[1:]):\n",
    "#     patient_path = os.path.join(data_path,patient)\n",
    "#     patient_number = patient.split('_')[-1].split('.')[0]\n",
    "#     tmp_df = pd.read_csv(os.path.join(data_path,patient_path),delimiter ='|')\n",
    "#     tmp_df['ID'] = patient_number\n",
    "#     # df = df.append(tmp_df)\n",
    "#     tmp_new_df = tmp_df[tmp_df['SepsisLabel']==0]\n",
    "#     if max(tmp_df['SepsisLabel'])==1:\n",
    "#         tmp_new_df=tmp_new_df.append(tmp_df[tmp_df['SepsisLabel']==1][:1])\n",
    "#         tmp_new_df['Label'] = [1]*tmp_new_df.shape[0]\n",
    "#     else:\n",
    "#         tmp_new_df['Label'] = [0]*tmp_new_df.shape[0]\n",
    "#     tmp_stats = tmp_new_df.describe()\n",
    "#     tmp_std = tmp_stats[(tmp_stats.index=='std')|(tmp_stats.index=='mean')]\n",
    "#     tmp_std['ID'] = patient_number\n",
    "#     std = std.append(tmp_std)\n",
    "#     new_df = new_df.append(tmp_new_df)"
   ],
   "metadata": {
    "collapsed": false,
    "pycharm": {
     "name": "#%%\n"
    }
   }
  },
  {
   "cell_type": "code",
   "execution_count": null,
   "outputs": [],
   "source": [],
   "metadata": {
    "collapsed": false,
    "pycharm": {
     "name": "#%%\n"
    }
   }
  }
 ],
 "metadata": {
  "kernelspec": {
   "display_name": "Python 3",
   "language": "python",
   "name": "python3"
  },
  "language_info": {
   "codemirror_mode": {
    "name": "ipython",
    "version": 2
   },
   "file_extension": ".py",
   "mimetype": "text/x-python",
   "name": "python",
   "nbconvert_exporter": "python",
   "pygments_lexer": "ipython2",
   "version": "2.7.6"
  }
 },
 "nbformat": 4,
 "nbformat_minor": 0
}