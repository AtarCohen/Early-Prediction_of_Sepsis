{
 "cells": [
  {
   "cell_type": "markdown",
   "source": [
    "<h1> Prepare Data </h1>\n",
    "To prepare the data for our models we need to:\n",
    "<ol>\n",
    "<li> cut unnecessary rows from the csv's (the rows that will not be used as input for the model, as explained in the instructions) </li>\n",
    "<li> create train and validation datasets </li>\n",
    "</ol>\n",
    "<h2> Adding Columns </h2>\n",
    "For each patients (and row) we will add 3 columns to the data frame:\n",
    "<ol>\n",
    "<li> max_ICULOS - the total time a patient was in the ICU </li>\n",
    "<li> time_bm - the difference between the current time and the total time a patient was in the ICU. defined as $time_bm = ICULOS-max ICULOS$\n",
    "</li>\n",
    "<li> Label column -  1 if the patient had sepsis after some time in the ICU and 0 otherwise\n",
    "</li>\n",
    "</ol>\n"
   ],
   "metadata": {
    "collapsed": false,
    "pycharm": {
     "name": "#%% md\n"
    }
   }
  },
  {
   "cell_type": "code",
   "execution_count": 4,
   "outputs": [],
   "source": [
    "import pandas as pd\n",
    "import os\n",
    "import tqdm\n",
    "from random import sample"
   ],
   "metadata": {
    "collapsed": false,
    "pycharm": {
     "name": "#%%\n"
    }
   }
  },
  {
   "cell_type": "code",
   "execution_count": 28,
   "outputs": [],
   "source": [
    "def create_patients_df(patients, data_path):\n",
    "    tmp_df = pd.read_csv(os.path.join(data_path,patients[0]),delimiter ='|')\n",
    "    tmp_df['ID'] = patients[0].split('_')[-1].split('.')[0]\n",
    "    new_df = tmp_df[tmp_df['SepsisLabel']==0]\n",
    "    if max(tmp_df['SepsisLabel'])==1:\n",
    "        new_df=new_df.append(tmp_df[tmp_df['SepsisLabel']==1][:1])\n",
    "        new_df['Label'] = [1]*new_df.shape[0]\n",
    "    else:\n",
    "        new_df['Label'] = [0]*new_df.shape[0]\n",
    "    new_df['max_ICULOS'] = [new_df['ICULOS'].values[-1]]*new_df.shape[0]\n",
    "    new_df['time_bm'] =  new_df['ICULOS']-new_df['max_ICULOS']\n",
    "    for patient in tqdm.tqdm(patients[1:]):\n",
    "        patient_path = os.path.join(data_path,patient)\n",
    "        patient_number = patient.split('_')[-1].split('.')[0]\n",
    "        tmp_df = pd.read_csv(os.path.join(data_path,patient_path),delimiter ='|')\n",
    "        tmp_df['ID'] = patient_number\n",
    "        tmp_new_df = tmp_df[tmp_df['SepsisLabel']==0]\n",
    "        if max(tmp_df['SepsisLabel'])==1:\n",
    "            tmp_new_df=tmp_new_df.append(tmp_df[tmp_df['SepsisLabel']==1][:1])\n",
    "            tmp_new_df['Label'] = [1]*tmp_new_df.shape[0]\n",
    "        else:\n",
    "            tmp_new_df['Label'] = [0]*tmp_new_df.shape[0]\n",
    "        tmp_new_df['max_ICULOS'] = [tmp_new_df['ICULOS'].values[-1]]*tmp_new_df.shape[0]\n",
    "        tmp_new_df['time_bm'] =  tmp_new_df['ICULOS']-tmp_new_df['max_ICULOS']\n",
    "        new_df = new_df.append(tmp_new_df)\n",
    "    return new_df"
   ],
   "metadata": {
    "collapsed": false,
    "pycharm": {
     "name": "#%%\n"
    }
   }
  },
  {
   "cell_type": "code",
   "execution_count": 30,
   "outputs": [
    {
     "name": "stderr",
     "output_type": "stream",
     "text": [
      "100%|██████████| 15999/15999 [43:41<00:00,  6.10it/s]\n",
      "100%|██████████| 3999/3999 [02:23<00:00, 27.90it/s]\n",
      "100%|██████████| 9999/9999 [17:54<00:00,  9.31it/s]\n"
     ]
    }
   ],
   "source": [
    "for d_type in ['train', 'test']:\n",
    "    data_path = f'/home/student/Early_Prediction_of_Sepsis/data/{d_type}/'\n",
    "    patients = os.listdir(f'data/{d_type}')\n",
    "    if d_type=='train':\n",
    "        train_patients = sample(patients,int(len(patients)*0.8))\n",
    "        val_patients = [x for x in patients if x not in train_patients]\n",
    "        train_df = create_patients_df(train_patients,data_path)\n",
    "        train_df.to_csv('filtered_train_df_0705.csv',index=False)\n",
    "        val_df = create_patients_df(val_patients,data_path)\n",
    "        val_df.to_csv('filtered_val_df_0705.csv',index=False)\n",
    "    else:\n",
    "        test_df = create_patients_df(patients,data_path)\n",
    "        test_df.to_csv('filtered_test_df_0705.csv',index=False)"
   ],
   "metadata": {
    "collapsed": false,
    "pycharm": {
     "name": "#%%\n"
    }
   }
  },
  {
   "cell_type": "code",
   "execution_count": 2,
   "outputs": [],
   "source": [
    "train_df = pd.read_csv('filtered_train_df_0705.csv')"
   ],
   "metadata": {
    "collapsed": false,
    "pycharm": {
     "name": "#%%\n"
    }
   }
  },
  {
   "cell_type": "code",
   "execution_count": 24,
   "outputs": [
    {
     "data": {
      "text/plain": "Index(['HR', 'O2Sat', 'Temp', 'SBP', 'MAP', 'DBP', 'Resp', 'EtCO2',\n       'BaseExcess', 'HCO3', 'FiO2', 'pH', 'PaCO2', 'SaO2', 'AST', 'BUN',\n       'Alkalinephos', 'Calcium', 'Chloride', 'Creatinine', 'Bilirubin_direct',\n       'Glucose', 'Lactate', 'Magnesium', 'Phosphate', 'Potassium',\n       'Bilirubin_total', 'TroponinI', 'Hct', 'Hgb', 'PTT', 'WBC',\n       'Fibrinogen', 'Platelets', 'Age', 'Gender', 'Unit1', 'Unit2',\n       'HospAdmTime', 'ICULOS', 'SepsisLabel', 'ID', 'Label', 'max_ICULOS',\n       'time_bm'],\n      dtype='object')"
     },
     "execution_count": 24,
     "metadata": {},
     "output_type": "execute_result"
    }
   ],
   "source": [
    "train_df.columns"
   ],
   "metadata": {
    "collapsed": false,
    "pycharm": {
     "name": "#%%\n"
    }
   }
  },
  {
   "cell_type": "code",
   "execution_count": 28,
   "outputs": [],
   "source": [
    "frequency_used_attributes = ['BaseExcess',  'FiO2', 'pH', 'PaCO2', 'Glucose','Lactate', 'PTT']\n",
    "values_used_attributes = [ 'Hct',  'Glucose','Potassium']\n",
    "constant_attributes = ['ID','max_ICULOS','Gender']\n",
    "other_attributes = ['time_bm','HR','MAP','O2Sat', 'Resp','SBP','ICULOS']\n",
    "label_attributes= ['Label','SepsisLabel']"
   ],
   "metadata": {
    "collapsed": false,
    "pycharm": {
     "name": "#%%\n"
    }
   }
  },
  {
   "cell_type": "code",
   "execution_count": 4,
   "outputs": [],
   "source": [
    "def add_rolling_window(df, attr, window_size):\n",
    "    df = df.sort_values(by=['ID','ICULOS'], ascending =[True,True])\n",
    "    rolling = df[['ID']+attr].groupby('ID').rolling(window=window_size, closed='both').count()\n",
    "    rolling= rolling.rename(columns={at: f'{window_size}w_sum_{at}' for at in attr})\n",
    "    rolling=rolling[list(rolling.columns)[1:]].reset_index().set_index('level_1')\n",
    "    combined = df.join(rolling,how='left', rsuffix= 'r')\n",
    "    return combined, rolling"
   ],
   "metadata": {
    "collapsed": false,
    "pycharm": {
     "name": "#%%\n"
    }
   }
  },
  {
   "cell_type": "code",
   "execution_count": 6,
   "outputs": [
    {
     "name": "stderr",
     "output_type": "stream",
     "text": [
      "/data/anaconda3/lib/python3.8/site-packages/pandas/core/window/rolling.py:2010: FutureWarning: min_periods=None will default to the size of window consistent with other methods in a future version. Specify min_periods=0 instead.\n",
      "  warnings.warn(\n"
     ]
    }
   ],
   "source": [
    "train_df_with_roll, train_roll = add_rolling_window(train_df,frequency_used_attributes,5)"
   ],
   "metadata": {
    "collapsed": false,
    "pycharm": {
     "name": "#%%\n"
    }
   }
  },
  {
   "cell_type": "code",
   "execution_count": 33,
   "outputs": [
    {
     "data": {
      "text/plain": "IterativeImputer(max_iter=50, random_state=0)"
     },
     "execution_count": 33,
     "metadata": {},
     "output_type": "execute_result"
    }
   ],
   "source": [
    "from sklearn.experimental import enable_iterative_imputer\n",
    "from sklearn.impute import IterativeImputer\n",
    "imp = IterativeImputer(max_iter=50, random_state=0)\n",
    "cols =values_used_attributes+constant_attributes+other_attributes+[ f'{5}w_sum_{at}' for at in frequency_used_attributes]\n",
    "imp.fit(train_df_with_roll[cols])"
   ],
   "metadata": {
    "collapsed": false,
    "pycharm": {
     "name": "#%%\n"
    }
   }
  },
  {
   "cell_type": "code",
   "execution_count": 34,
   "outputs": [],
   "source": [
    "train_df_with_roll_imputed = pd.DataFrame(imp.transform(train_df_with_roll[cols]), columns = cols)"
   ],
   "metadata": {
    "collapsed": false,
    "pycharm": {
     "name": "#%%\n"
    }
   }
  },
  {
   "cell_type": "code",
   "execution_count": 35,
   "outputs": [
    {
     "data": {
      "text/plain": "              Hct     Glucose  Potassium       ID  max_ICULOS  Gender  \\\n0       31.879524  137.262885   3.999588      0.0        23.0     0.0   \n1       28.877697  131.196166   4.023412      0.0        23.0     0.0   \n2       29.299494  136.441808   4.156775      0.0        23.0     0.0   \n3       28.344263  125.479708   3.903682      0.0        23.0     0.0   \n4       29.344315  134.214942   4.103983      0.0        23.0     0.0   \n...           ...         ...        ...      ...         ...     ...   \n603450  28.731362  113.457522   4.209190  19999.0        54.0     0.0   \n603451  26.694765  118.651314   4.146776  19999.0        54.0     0.0   \n603452  25.650483  131.589612   4.179673  19999.0        54.0     0.0   \n603453  28.574842  128.339147   4.263596  19999.0        54.0     0.0   \n603454  32.205283  124.727737   4.327488  19999.0        54.0     0.0   \n\n        time_bm         HR        MAP       O2Sat       Resp         SBP  \\\n0         -22.0  82.693367  86.854252   97.213871  18.327825  125.630528   \n1         -21.0  61.000000  65.000000   99.000000  17.500000  124.000000   \n2         -20.0  64.000000  64.000000   98.000000  27.000000  125.000000   \n3         -19.0  56.000000  65.000000  100.000000   9.000000  123.000000   \n4         -18.0  66.000000  67.000000   99.000000  23.000000  120.000000   \n...         ...        ...        ...         ...        ...         ...   \n603450     -4.0  76.000000  53.000000   97.615033  17.000000   85.000000   \n603451     -3.0  81.000000  51.000000   99.000000  17.000000   99.000000   \n603452     -2.0  85.000000  48.000000  100.000000  26.000000  103.000000   \n603453     -1.0  86.000000  44.000000   93.000000  22.000000   87.000000   \n603454      0.0  84.000000  44.000000   85.000000  18.000000   78.000000   \n\n        ICULOS  5w_sum_BaseExcess  5w_sum_FiO2  5w_sum_pH  5w_sum_PaCO2  \\\n0          1.0                0.0          0.0        0.0           0.0   \n1          2.0                0.0          0.0        0.0           0.0   \n2          3.0                0.0          0.0        0.0           0.0   \n3          4.0                0.0          0.0        0.0           0.0   \n4          5.0                0.0          0.0        0.0           0.0   \n...        ...                ...          ...        ...           ...   \n603450    50.0                1.0          3.0        1.0           0.0   \n603451    51.0                1.0          2.0        1.0           0.0   \n603452    52.0                0.0          1.0        0.0           0.0   \n603453    53.0                0.0          1.0        0.0           0.0   \n603454    54.0                0.0          1.0        0.0           0.0   \n\n        5w_sum_Glucose  5w_sum_Lactate  5w_sum_PTT  \n0                  0.0             0.0         0.0  \n1                  0.0             0.0         0.0  \n2                  0.0             0.0         0.0  \n3                  0.0             0.0         0.0  \n4                  0.0             0.0         0.0  \n...                ...             ...         ...  \n603450             0.0             0.0         0.0  \n603451             0.0             0.0         0.0  \n603452             0.0             0.0         0.0  \n603453             0.0             0.0         0.0  \n603454             0.0             0.0         0.0  \n\n[603455 rows x 20 columns]",
      "text/html": "<div>\n<style scoped>\n    .dataframe tbody tr th:only-of-type {\n        vertical-align: middle;\n    }\n\n    .dataframe tbody tr th {\n        vertical-align: top;\n    }\n\n    .dataframe thead th {\n        text-align: right;\n    }\n</style>\n<table border=\"1\" class=\"dataframe\">\n  <thead>\n    <tr style=\"text-align: right;\">\n      <th></th>\n      <th>Hct</th>\n      <th>Glucose</th>\n      <th>Potassium</th>\n      <th>ID</th>\n      <th>max_ICULOS</th>\n      <th>Gender</th>\n      <th>time_bm</th>\n      <th>HR</th>\n      <th>MAP</th>\n      <th>O2Sat</th>\n      <th>Resp</th>\n      <th>SBP</th>\n      <th>ICULOS</th>\n      <th>5w_sum_BaseExcess</th>\n      <th>5w_sum_FiO2</th>\n      <th>5w_sum_pH</th>\n      <th>5w_sum_PaCO2</th>\n      <th>5w_sum_Glucose</th>\n      <th>5w_sum_Lactate</th>\n      <th>5w_sum_PTT</th>\n    </tr>\n  </thead>\n  <tbody>\n    <tr>\n      <th>0</th>\n      <td>31.879524</td>\n      <td>137.262885</td>\n      <td>3.999588</td>\n      <td>0.0</td>\n      <td>23.0</td>\n      <td>0.0</td>\n      <td>-22.0</td>\n      <td>82.693367</td>\n      <td>86.854252</td>\n      <td>97.213871</td>\n      <td>18.327825</td>\n      <td>125.630528</td>\n      <td>1.0</td>\n      <td>0.0</td>\n      <td>0.0</td>\n      <td>0.0</td>\n      <td>0.0</td>\n      <td>0.0</td>\n      <td>0.0</td>\n      <td>0.0</td>\n    </tr>\n    <tr>\n      <th>1</th>\n      <td>28.877697</td>\n      <td>131.196166</td>\n      <td>4.023412</td>\n      <td>0.0</td>\n      <td>23.0</td>\n      <td>0.0</td>\n      <td>-21.0</td>\n      <td>61.000000</td>\n      <td>65.000000</td>\n      <td>99.000000</td>\n      <td>17.500000</td>\n      <td>124.000000</td>\n      <td>2.0</td>\n      <td>0.0</td>\n      <td>0.0</td>\n      <td>0.0</td>\n      <td>0.0</td>\n      <td>0.0</td>\n      <td>0.0</td>\n      <td>0.0</td>\n    </tr>\n    <tr>\n      <th>2</th>\n      <td>29.299494</td>\n      <td>136.441808</td>\n      <td>4.156775</td>\n      <td>0.0</td>\n      <td>23.0</td>\n      <td>0.0</td>\n      <td>-20.0</td>\n      <td>64.000000</td>\n      <td>64.000000</td>\n      <td>98.000000</td>\n      <td>27.000000</td>\n      <td>125.000000</td>\n      <td>3.0</td>\n      <td>0.0</td>\n      <td>0.0</td>\n      <td>0.0</td>\n      <td>0.0</td>\n      <td>0.0</td>\n      <td>0.0</td>\n      <td>0.0</td>\n    </tr>\n    <tr>\n      <th>3</th>\n      <td>28.344263</td>\n      <td>125.479708</td>\n      <td>3.903682</td>\n      <td>0.0</td>\n      <td>23.0</td>\n      <td>0.0</td>\n      <td>-19.0</td>\n      <td>56.000000</td>\n      <td>65.000000</td>\n      <td>100.000000</td>\n      <td>9.000000</td>\n      <td>123.000000</td>\n      <td>4.0</td>\n      <td>0.0</td>\n      <td>0.0</td>\n      <td>0.0</td>\n      <td>0.0</td>\n      <td>0.0</td>\n      <td>0.0</td>\n      <td>0.0</td>\n    </tr>\n    <tr>\n      <th>4</th>\n      <td>29.344315</td>\n      <td>134.214942</td>\n      <td>4.103983</td>\n      <td>0.0</td>\n      <td>23.0</td>\n      <td>0.0</td>\n      <td>-18.0</td>\n      <td>66.000000</td>\n      <td>67.000000</td>\n      <td>99.000000</td>\n      <td>23.000000</td>\n      <td>120.000000</td>\n      <td>5.0</td>\n      <td>0.0</td>\n      <td>0.0</td>\n      <td>0.0</td>\n      <td>0.0</td>\n      <td>0.0</td>\n      <td>0.0</td>\n      <td>0.0</td>\n    </tr>\n    <tr>\n      <th>...</th>\n      <td>...</td>\n      <td>...</td>\n      <td>...</td>\n      <td>...</td>\n      <td>...</td>\n      <td>...</td>\n      <td>...</td>\n      <td>...</td>\n      <td>...</td>\n      <td>...</td>\n      <td>...</td>\n      <td>...</td>\n      <td>...</td>\n      <td>...</td>\n      <td>...</td>\n      <td>...</td>\n      <td>...</td>\n      <td>...</td>\n      <td>...</td>\n      <td>...</td>\n    </tr>\n    <tr>\n      <th>603450</th>\n      <td>28.731362</td>\n      <td>113.457522</td>\n      <td>4.209190</td>\n      <td>19999.0</td>\n      <td>54.0</td>\n      <td>0.0</td>\n      <td>-4.0</td>\n      <td>76.000000</td>\n      <td>53.000000</td>\n      <td>97.615033</td>\n      <td>17.000000</td>\n      <td>85.000000</td>\n      <td>50.0</td>\n      <td>1.0</td>\n      <td>3.0</td>\n      <td>1.0</td>\n      <td>0.0</td>\n      <td>0.0</td>\n      <td>0.0</td>\n      <td>0.0</td>\n    </tr>\n    <tr>\n      <th>603451</th>\n      <td>26.694765</td>\n      <td>118.651314</td>\n      <td>4.146776</td>\n      <td>19999.0</td>\n      <td>54.0</td>\n      <td>0.0</td>\n      <td>-3.0</td>\n      <td>81.000000</td>\n      <td>51.000000</td>\n      <td>99.000000</td>\n      <td>17.000000</td>\n      <td>99.000000</td>\n      <td>51.0</td>\n      <td>1.0</td>\n      <td>2.0</td>\n      <td>1.0</td>\n      <td>0.0</td>\n      <td>0.0</td>\n      <td>0.0</td>\n      <td>0.0</td>\n    </tr>\n    <tr>\n      <th>603452</th>\n      <td>25.650483</td>\n      <td>131.589612</td>\n      <td>4.179673</td>\n      <td>19999.0</td>\n      <td>54.0</td>\n      <td>0.0</td>\n      <td>-2.0</td>\n      <td>85.000000</td>\n      <td>48.000000</td>\n      <td>100.000000</td>\n      <td>26.000000</td>\n      <td>103.000000</td>\n      <td>52.0</td>\n      <td>0.0</td>\n      <td>1.0</td>\n      <td>0.0</td>\n      <td>0.0</td>\n      <td>0.0</td>\n      <td>0.0</td>\n      <td>0.0</td>\n    </tr>\n    <tr>\n      <th>603453</th>\n      <td>28.574842</td>\n      <td>128.339147</td>\n      <td>4.263596</td>\n      <td>19999.0</td>\n      <td>54.0</td>\n      <td>0.0</td>\n      <td>-1.0</td>\n      <td>86.000000</td>\n      <td>44.000000</td>\n      <td>93.000000</td>\n      <td>22.000000</td>\n      <td>87.000000</td>\n      <td>53.0</td>\n      <td>0.0</td>\n      <td>1.0</td>\n      <td>0.0</td>\n      <td>0.0</td>\n      <td>0.0</td>\n      <td>0.0</td>\n      <td>0.0</td>\n    </tr>\n    <tr>\n      <th>603454</th>\n      <td>32.205283</td>\n      <td>124.727737</td>\n      <td>4.327488</td>\n      <td>19999.0</td>\n      <td>54.0</td>\n      <td>0.0</td>\n      <td>0.0</td>\n      <td>84.000000</td>\n      <td>44.000000</td>\n      <td>85.000000</td>\n      <td>18.000000</td>\n      <td>78.000000</td>\n      <td>54.0</td>\n      <td>0.0</td>\n      <td>1.0</td>\n      <td>0.0</td>\n      <td>0.0</td>\n      <td>0.0</td>\n      <td>0.0</td>\n      <td>0.0</td>\n    </tr>\n  </tbody>\n</table>\n<p>603455 rows × 20 columns</p>\n</div>"
     },
     "execution_count": 35,
     "metadata": {},
     "output_type": "execute_result"
    }
   ],
   "source": [
    "train_df_with_roll_imputed"
   ],
   "metadata": {
    "collapsed": false,
    "pycharm": {
     "name": "#%%\n"
    }
   }
  },
  {
   "cell_type": "code",
   "execution_count": 32,
   "outputs": [
    {
     "data": {
      "text/plain": "        Hct  Glucose  Potassium     ID  max_ICULOS  Gender  time_bm    HR  \\\n75951   NaN      NaN        NaN      0          23       0      -22   NaN   \n75952   NaN      NaN        NaN      0          23       0      -21  61.0   \n75953   NaN      NaN        NaN      0          23       0      -20  64.0   \n75954   NaN      NaN        NaN      0          23       0      -19  56.0   \n75955   NaN      NaN        NaN      0          23       0      -18  66.0   \n...     ...      ...        ...    ...         ...     ...      ...   ...   \n154924  NaN      NaN        NaN  19999          54       0       -4  76.0   \n154925  NaN      NaN        NaN  19999          54       0       -3  81.0   \n154926  NaN      NaN        NaN  19999          54       0       -2  85.0   \n154927  NaN      NaN        NaN  19999          54       0       -1  86.0   \n154928  NaN      NaN        NaN  19999          54       0        0  84.0   \n\n         MAP  O2Sat  Resp    SBP  ICULOS  5w_sum_BaseExcess  5w_sum_FiO2  \\\n75951    NaN    NaN   NaN    NaN       1                0.0          0.0   \n75952   65.0   99.0  17.5  124.0       2                0.0          0.0   \n75953   64.0   98.0  27.0  125.0       3                0.0          0.0   \n75954   65.0  100.0   9.0  123.0       4                0.0          0.0   \n75955   67.0   99.0  23.0  120.0       5                0.0          0.0   \n...      ...    ...   ...    ...     ...                ...          ...   \n154924  53.0    NaN  17.0   85.0      50                1.0          3.0   \n154925  51.0   99.0  17.0   99.0      51                1.0          2.0   \n154926  48.0  100.0  26.0  103.0      52                0.0          1.0   \n154927  44.0   93.0  22.0   87.0      53                0.0          1.0   \n154928  44.0   85.0  18.0   78.0      54                0.0          1.0   \n\n        5w_sum_pH  5w_sum_PaCO2  5w_sum_Glucose  5w_sum_Lactate  5w_sum_PTT  \n75951         0.0           0.0             0.0             0.0         0.0  \n75952         0.0           0.0             0.0             0.0         0.0  \n75953         0.0           0.0             0.0             0.0         0.0  \n75954         0.0           0.0             0.0             0.0         0.0  \n75955         0.0           0.0             0.0             0.0         0.0  \n...           ...           ...             ...             ...         ...  \n154924        1.0           0.0             0.0             0.0         0.0  \n154925        1.0           0.0             0.0             0.0         0.0  \n154926        0.0           0.0             0.0             0.0         0.0  \n154927        0.0           0.0             0.0             0.0         0.0  \n154928        0.0           0.0             0.0             0.0         0.0  \n\n[603455 rows x 20 columns]",
      "text/html": "<div>\n<style scoped>\n    .dataframe tbody tr th:only-of-type {\n        vertical-align: middle;\n    }\n\n    .dataframe tbody tr th {\n        vertical-align: top;\n    }\n\n    .dataframe thead th {\n        text-align: right;\n    }\n</style>\n<table border=\"1\" class=\"dataframe\">\n  <thead>\n    <tr style=\"text-align: right;\">\n      <th></th>\n      <th>Hct</th>\n      <th>Glucose</th>\n      <th>Potassium</th>\n      <th>ID</th>\n      <th>max_ICULOS</th>\n      <th>Gender</th>\n      <th>time_bm</th>\n      <th>HR</th>\n      <th>MAP</th>\n      <th>O2Sat</th>\n      <th>Resp</th>\n      <th>SBP</th>\n      <th>ICULOS</th>\n      <th>5w_sum_BaseExcess</th>\n      <th>5w_sum_FiO2</th>\n      <th>5w_sum_pH</th>\n      <th>5w_sum_PaCO2</th>\n      <th>5w_sum_Glucose</th>\n      <th>5w_sum_Lactate</th>\n      <th>5w_sum_PTT</th>\n    </tr>\n  </thead>\n  <tbody>\n    <tr>\n      <th>75951</th>\n      <td>NaN</td>\n      <td>NaN</td>\n      <td>NaN</td>\n      <td>0</td>\n      <td>23</td>\n      <td>0</td>\n      <td>-22</td>\n      <td>NaN</td>\n      <td>NaN</td>\n      <td>NaN</td>\n      <td>NaN</td>\n      <td>NaN</td>\n      <td>1</td>\n      <td>0.0</td>\n      <td>0.0</td>\n      <td>0.0</td>\n      <td>0.0</td>\n      <td>0.0</td>\n      <td>0.0</td>\n      <td>0.0</td>\n    </tr>\n    <tr>\n      <th>75952</th>\n      <td>NaN</td>\n      <td>NaN</td>\n      <td>NaN</td>\n      <td>0</td>\n      <td>23</td>\n      <td>0</td>\n      <td>-21</td>\n      <td>61.0</td>\n      <td>65.0</td>\n      <td>99.0</td>\n      <td>17.5</td>\n      <td>124.0</td>\n      <td>2</td>\n      <td>0.0</td>\n      <td>0.0</td>\n      <td>0.0</td>\n      <td>0.0</td>\n      <td>0.0</td>\n      <td>0.0</td>\n      <td>0.0</td>\n    </tr>\n    <tr>\n      <th>75953</th>\n      <td>NaN</td>\n      <td>NaN</td>\n      <td>NaN</td>\n      <td>0</td>\n      <td>23</td>\n      <td>0</td>\n      <td>-20</td>\n      <td>64.0</td>\n      <td>64.0</td>\n      <td>98.0</td>\n      <td>27.0</td>\n      <td>125.0</td>\n      <td>3</td>\n      <td>0.0</td>\n      <td>0.0</td>\n      <td>0.0</td>\n      <td>0.0</td>\n      <td>0.0</td>\n      <td>0.0</td>\n      <td>0.0</td>\n    </tr>\n    <tr>\n      <th>75954</th>\n      <td>NaN</td>\n      <td>NaN</td>\n      <td>NaN</td>\n      <td>0</td>\n      <td>23</td>\n      <td>0</td>\n      <td>-19</td>\n      <td>56.0</td>\n      <td>65.0</td>\n      <td>100.0</td>\n      <td>9.0</td>\n      <td>123.0</td>\n      <td>4</td>\n      <td>0.0</td>\n      <td>0.0</td>\n      <td>0.0</td>\n      <td>0.0</td>\n      <td>0.0</td>\n      <td>0.0</td>\n      <td>0.0</td>\n    </tr>\n    <tr>\n      <th>75955</th>\n      <td>NaN</td>\n      <td>NaN</td>\n      <td>NaN</td>\n      <td>0</td>\n      <td>23</td>\n      <td>0</td>\n      <td>-18</td>\n      <td>66.0</td>\n      <td>67.0</td>\n      <td>99.0</td>\n      <td>23.0</td>\n      <td>120.0</td>\n      <td>5</td>\n      <td>0.0</td>\n      <td>0.0</td>\n      <td>0.0</td>\n      <td>0.0</td>\n      <td>0.0</td>\n      <td>0.0</td>\n      <td>0.0</td>\n    </tr>\n    <tr>\n      <th>...</th>\n      <td>...</td>\n      <td>...</td>\n      <td>...</td>\n      <td>...</td>\n      <td>...</td>\n      <td>...</td>\n      <td>...</td>\n      <td>...</td>\n      <td>...</td>\n      <td>...</td>\n      <td>...</td>\n      <td>...</td>\n      <td>...</td>\n      <td>...</td>\n      <td>...</td>\n      <td>...</td>\n      <td>...</td>\n      <td>...</td>\n      <td>...</td>\n      <td>...</td>\n    </tr>\n    <tr>\n      <th>154924</th>\n      <td>NaN</td>\n      <td>NaN</td>\n      <td>NaN</td>\n      <td>19999</td>\n      <td>54</td>\n      <td>0</td>\n      <td>-4</td>\n      <td>76.0</td>\n      <td>53.0</td>\n      <td>NaN</td>\n      <td>17.0</td>\n      <td>85.0</td>\n      <td>50</td>\n      <td>1.0</td>\n      <td>3.0</td>\n      <td>1.0</td>\n      <td>0.0</td>\n      <td>0.0</td>\n      <td>0.0</td>\n      <td>0.0</td>\n    </tr>\n    <tr>\n      <th>154925</th>\n      <td>NaN</td>\n      <td>NaN</td>\n      <td>NaN</td>\n      <td>19999</td>\n      <td>54</td>\n      <td>0</td>\n      <td>-3</td>\n      <td>81.0</td>\n      <td>51.0</td>\n      <td>99.0</td>\n      <td>17.0</td>\n      <td>99.0</td>\n      <td>51</td>\n      <td>1.0</td>\n      <td>2.0</td>\n      <td>1.0</td>\n      <td>0.0</td>\n      <td>0.0</td>\n      <td>0.0</td>\n      <td>0.0</td>\n    </tr>\n    <tr>\n      <th>154926</th>\n      <td>NaN</td>\n      <td>NaN</td>\n      <td>NaN</td>\n      <td>19999</td>\n      <td>54</td>\n      <td>0</td>\n      <td>-2</td>\n      <td>85.0</td>\n      <td>48.0</td>\n      <td>100.0</td>\n      <td>26.0</td>\n      <td>103.0</td>\n      <td>52</td>\n      <td>0.0</td>\n      <td>1.0</td>\n      <td>0.0</td>\n      <td>0.0</td>\n      <td>0.0</td>\n      <td>0.0</td>\n      <td>0.0</td>\n    </tr>\n    <tr>\n      <th>154927</th>\n      <td>NaN</td>\n      <td>NaN</td>\n      <td>NaN</td>\n      <td>19999</td>\n      <td>54</td>\n      <td>0</td>\n      <td>-1</td>\n      <td>86.0</td>\n      <td>44.0</td>\n      <td>93.0</td>\n      <td>22.0</td>\n      <td>87.0</td>\n      <td>53</td>\n      <td>0.0</td>\n      <td>1.0</td>\n      <td>0.0</td>\n      <td>0.0</td>\n      <td>0.0</td>\n      <td>0.0</td>\n      <td>0.0</td>\n    </tr>\n    <tr>\n      <th>154928</th>\n      <td>NaN</td>\n      <td>NaN</td>\n      <td>NaN</td>\n      <td>19999</td>\n      <td>54</td>\n      <td>0</td>\n      <td>0</td>\n      <td>84.0</td>\n      <td>44.0</td>\n      <td>85.0</td>\n      <td>18.0</td>\n      <td>78.0</td>\n      <td>54</td>\n      <td>0.0</td>\n      <td>1.0</td>\n      <td>0.0</td>\n      <td>0.0</td>\n      <td>0.0</td>\n      <td>0.0</td>\n      <td>0.0</td>\n    </tr>\n  </tbody>\n</table>\n<p>603455 rows × 20 columns</p>\n</div>"
     },
     "execution_count": 32,
     "metadata": {},
     "output_type": "execute_result"
    }
   ],
   "source": [
    "train_df_with_roll[cols]"
   ],
   "metadata": {
    "collapsed": false,
    "pycharm": {
     "name": "#%%\n"
    }
   }
  },
  {
   "cell_type": "code",
   "execution_count": 1,
   "outputs": [],
   "source": [],
   "metadata": {
    "collapsed": false,
    "pycharm": {
     "name": "#%%\n"
    }
   }
  },
  {
   "cell_type": "code",
   "execution_count": 26,
   "outputs": [
    {
     "name": "stdout",
     "output_type": "stream",
     "text": [
      "train: Label 0: 14857/16000=0.9285625\n",
      "train: Label 1: 1143/16000=0.0714375 \n",
      "val: Label 0: 3728/4000=0.932\n",
      "val: Label 1: 272/4000=0.068 \n",
      "test: Label 0: 9259/10000=0.9259\n",
      "test: Label 1: 741/10000=0.0741 \n"
     ]
    }
   ],
   "source": [],
   "metadata": {
    "collapsed": false,
    "pycharm": {
     "name": "#%%\n"
    }
   }
  },
  {
   "cell_type": "code",
   "execution_count": null,
   "outputs": [],
   "source": [],
   "metadata": {
    "collapsed": false,
    "pycharm": {
     "name": "#%%\n"
    }
   }
  }
 ],
 "metadata": {
  "kernelspec": {
   "display_name": "Python 3",
   "language": "python",
   "name": "python3"
  },
  "language_info": {
   "codemirror_mode": {
    "name": "ipython",
    "version": 2
   },
   "file_extension": ".py",
   "mimetype": "text/x-python",
   "name": "python",
   "nbconvert_exporter": "python",
   "pygments_lexer": "ipython2",
   "version": "2.7.6"
  }
 },
 "nbformat": 4,
 "nbformat_minor": 0
}