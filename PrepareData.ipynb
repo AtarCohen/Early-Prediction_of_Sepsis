{
 "cells": [
  {
   "cell_type": "markdown",
   "source": [
    "<h1> Prepare Data </h1>\n",
    "To prepare the data for our models we need to:\n",
    "<ol>\n",
    "<li> cut unnecessary rows from the csv's (the rows that will not be used as input for the model, as explained in the instructions) </li>\n",
    "<li> create train and validation datasets </li>\n",
    "</ol>\n",
    "<h2> Adding Columns </h2>\n",
    "For each patients (and row) we will add 3 columns to the data frame:\n",
    "<ol>\n",
    "<li> max_ICULOS - the total time a patient was in the ICU </li>\n",
    "<li> time_bm - the difference between the current time and the total time a patient was in the ICU. defined as $time_bm = ICULOS-max ICULOS$\n",
    "</li>\n",
    "<li> Label column -  1 if the patient had sepsis after some time in the ICU and 0 otherwise\n",
    "</li>\n",
    "</ol>\n"
   ],
   "metadata": {
    "collapsed": false,
    "pycharm": {
     "name": "#%% md\n"
    }
   }
  },
  {
   "cell_type": "code",
   "execution_count": 1,
   "outputs": [],
   "source": [
    "import pandas as pd\n",
    "import os\n",
    "import tqdm\n",
    "from random import sample\n",
    "from sklearn.experimental import enable_iterative_imputer\n",
    "from sklearn.impute import IterativeImputer"
   ],
   "metadata": {
    "collapsed": false,
    "pycharm": {
     "name": "#%%\n"
    }
   }
  },
  {
   "cell_type": "code",
   "execution_count": 2,
   "outputs": [],
   "source": [
    "TRAIN_PATH = 'filtered_train_df_0705'\n",
    "VAL_PATH = 'filtered_val_df_0705'\n",
    "TEST_PATH = 'filtered_test_df_0705'\n",
    "TRAIN_MEAN_PATH = 'filtered_train_mean.csv'"
   ],
   "metadata": {
    "collapsed": false,
    "pycharm": {
     "name": "#%%\n"
    }
   }
  },
  {
   "cell_type": "code",
   "execution_count": 3,
   "outputs": [],
   "source": [
    "# def create_patients_df(patients, data_path):\n",
    "#     tmp_df = pd.read_csv(os.path.join(data_path,patients[0]),delimiter ='|')\n",
    "#     tmp_df['ID'] = patients[0].split('_')[-1].split('.')[0]\n",
    "#     new_df = tmp_df[tmp_df['SepsisLabel']==0]\n",
    "#     if max(tmp_df['SepsisLabel'])==1:\n",
    "#         new_df=new_df.append(tmp_df[tmp_df['SepsisLabel']==1][:1])\n",
    "#         new_df['Label'] = [1]*new_df.shape[0]\n",
    "#     else:\n",
    "#         new_df['Label'] = [0]*new_df.shape[0]\n",
    "#     new_df['max_ICULOS'] = [new_df['ICULOS'].values[-1]]*new_df.shape[0]\n",
    "#     new_df['time_bm'] =  new_df['ICULOS']-new_df['max_ICULOS']\n",
    "#     for patient in tqdm.tqdm(patients[1:]):\n",
    "#         patient_path = os.path.join(data_path,patient)\n",
    "#         patient_number = patient.split('_')[-1].split('.')[0]\n",
    "#         tmp_df = pd.read_csv(os.path.join(data_path,patient_path),delimiter ='|')\n",
    "#         tmp_df['ID'] = patient_number\n",
    "#         tmp_new_df = tmp_df[tmp_df['SepsisLabel']==0]\n",
    "#         if max(tmp_df['SepsisLabel'])==1:\n",
    "#             tmp_new_df=tmp_new_df.append(tmp_df[tmp_df['SepsisLabel']==1][:1])\n",
    "#             tmp_new_df['Label'] = [1]*tmp_new_df.shape[0]\n",
    "#         else:\n",
    "#             tmp_new_df['Label'] = [0]*tmp_new_df.shape[0]\n",
    "#         tmp_new_df['max_ICULOS'] = [tmp_new_df['ICULOS'].values[-1]]*tmp_new_df.shape[0]\n",
    "#         tmp_new_df['time_bm'] =  tmp_new_df['ICULOS']-tmp_new_df['max_ICULOS']\n",
    "#         new_df = new_df.append(tmp_new_df)\n",
    "#     return new_df"
   ],
   "metadata": {
    "collapsed": false,
    "pycharm": {
     "name": "#%%\n"
    }
   }
  },
  {
   "cell_type": "code",
   "execution_count": null,
   "outputs": [],
   "source": [
    "# for d_type in ['train', 'test']:\n",
    "#     data_path = f'/home/student/Early_Prediction_of_Sepsis/data/{d_type}/'\n",
    "#     patients = os.listdir(f'data/{d_type}')\n",
    "#     if d_type=='train':\n",
    "#         train_patients = sample(patients,int(len(patients)*0.8))\n",
    "#         val_patients = [x for x in patients if x not in train_patients]\n",
    "#         train_df = create_patients_df(train_patients,data_path)\n",
    "#         train_df.to_csv(f'{TRAIN_PATH}.csv',index=False)\n",
    "#         val_df = create_patients_df(val_patients,data_path)\n",
    "#         val_df.to_csv(f'{VAL_PATH}.csv',index=False)\n",
    "#     else:\n",
    "#         test_df = create_patients_df(patients,data_path)\n",
    "#         test_df.to_csv(f'{TEST_PATH}.csv',index=False)"
   ],
   "metadata": {
    "collapsed": false,
    "pycharm": {
     "name": "#%%\n"
    }
   }
  },
  {
   "cell_type": "code",
   "execution_count": 6,
   "outputs": [],
   "source": [
    "frequency_used_attributes = ['BaseExcess',  'FiO2', 'pH', 'PaCO2', 'Glucose','Lactate', 'PTT']\n",
    "# FREQUENCY_ATTR =['5w_sum_BaseExcess', '5w_sum_FiO2', '5w_sum_pH', '5w_sum_PaCO2', '5w_sum_Glucose', '5w_sum_Lactate', '5w_sum_PTT']\n",
    "# LAB_ATTR = ['Hct',  'Glucose','Potassium']\n",
    "CONST_ATTR = ['max_ICULOS','Gender']\n",
    "OTHER_ATTR = ['HR','MAP','O2Sat', 'Resp','SBP','ICULOS']\n",
    "ALL_LAB_ATTR = ['BaseExcess', 'HCO3', 'FiO2', 'pH', 'PaCO2',\n",
    " 'SaO2', 'AST', 'BUN', 'Alkalinephos', 'Calcium', 'Chloride',\n",
    " 'Creatinine', 'Bilirubin_direct', 'Glucose', 'Lactate',\n",
    " 'Magnesium', 'Phosphate', 'Potassium', 'Bilirubin_total',\n",
    " 'TroponinI', 'Hct', 'Hgb', 'PTT', 'WBC', 'Fibrinogen','Platelets']\n",
    "COLS = CONST_ATTR+OTHER_ATTR"
   ],
   "metadata": {
    "collapsed": false,
    "pycharm": {
     "name": "#%%\n"
    }
   }
  },
  {
   "cell_type": "code",
   "execution_count": 7,
   "outputs": [],
   "source": [
    "class data_preperator():\n",
    "    def __init__(self,columns,window_columns=None, freq_columns=None, seq_len=10,window=5):\n",
    "        self.all_data_means= pd.read_csv(TRAIN_MEAN_PATH)\n",
    "        self.seq_len=seq_len\n",
    "        self.window = window\n",
    "        self.window_columns = window_columns\n",
    "        self.freq_columns = freq_columns\n",
    "        self.columns = columns\n",
    "\n",
    "    def impute_per_patient(self,df):\n",
    "        patients = list(set(df.ID.values))\n",
    "        imputed = pd.DataFrame()\n",
    "        for patient in patients:\n",
    "            tmp_df = df[df['ID']==patient][self.columns+['Label']]\n",
    "            for f in self.columns:\n",
    "                if tmp_df[f].isnull().all:\n",
    "                    try:\n",
    "                        mean_val = self.all_data_means[self.all_data_means['index']==f]['0'].values[0]\n",
    "                        tmp_df[f]=tmp_df[f].fillna(mean_val)\n",
    "                    except:\n",
    "                        print('Exception')\n",
    "                        print('feature: ', f)\n",
    "                        print(self.all_data_means[self.all_data_means['index']==f]['0'])\n",
    "                        print(tmp_df[[f]])\n",
    "            imp = IterativeImputer(max_iter=50, random_state=0)\n",
    "            try:\n",
    "                imp.fit(tmp_df)\n",
    "                tmp_df= pd.DataFrame(imp.transform(tmp_df), columns = self.columns+['Label'])\n",
    "                imputed=imputed.append(tmp_df)\n",
    "            except:\n",
    "                print(tmp_df.shape)\n",
    "        return imputed\n",
    "\n",
    "    def add_rolling_window(self,df):\n",
    "        df = df.sort_values(by=['ID','ICULOS'], ascending =[True,True])\n",
    "        rolling = df[['ID']+self.window_columns].groupby('ID').rolling(window=self.window, closed='both').count()\n",
    "        rolling= rolling.rename(columns={at: f'{self.window}w_sum_{at}' for at in self.window_columns})\n",
    "        rolling=rolling[list(rolling.columns)[1:]].reset_index().set_index('level_1')\n",
    "        combined = df.join(rolling,how='left', rsuffix= 'r')\n",
    "        self.columns +=[f'{self.window}w_sum_{at}' for at in self.window_columns]\n",
    "        return combined\n",
    "\n",
    "    def add_frequency(self,df):\n",
    "        df = df.sort_values(by=['ID','ICULOS'], ascending =[True,True])\n",
    "        rolling = df[['ID','max_ICULOS']+self.freq_columns].groupby(by=['ID','max_ICULOS'])[self.freq_columns].expanding().count().reset_index()\n",
    "        for at in self.freq_columns:\n",
    "            rolling[at] = rolling[at]/rolling['max_ICULOS']\n",
    "        rolling= rolling.rename(columns={at: f'freq_{at}' for at in self.freq_columns})\n",
    "        combined = df.join(rolling,how='left',on='ID', rsuffix= 'r')\n",
    "        self.columns +=[f'freq_{at}' for at in self.freq_columns]\n",
    "        return combined\n",
    "\n",
    "\n",
    "    def prepare_data(self,df, rolling=False,freq=True):\n",
    "        if rolling:\n",
    "            df = self.add_rolling_window(df)\n",
    "        if freq:\n",
    "            df = self.add_frequency(df)\n",
    "        df = df[df['time_bm']>=-1*(self.seq_len)]\n",
    "        df = df[self.columns+['Label','ID','time_bm']]\n",
    "        df = self.impute_per_patient(df)\n",
    "        return df"
   ],
   "metadata": {
    "collapsed": false,
    "pycharm": {
     "name": "#%%\n"
    }
   }
  },
  {
   "cell_type": "code",
   "execution_count": 7,
   "outputs": [],
   "source": [
    "train_df = pd.read_csv(f'{TRAIN_PATH}.csv')\n",
    "all_data_mean = train_df.mean().reset_index().to_csv(TRAIN_MEAN_PATH,index=False)"
   ],
   "metadata": {
    "collapsed": false,
    "pycharm": {
     "name": "#%%\n"
    }
   }
  },
  {
   "cell_type": "code",
   "execution_count": 8,
   "outputs": [],
   "source": [
    "p = data_preperator(columns=COLS,freq_columns=ALL_LAB_ATTR)"
   ],
   "metadata": {
    "collapsed": false,
    "pycharm": {
     "name": "#%%\n"
    }
   }
  },
  {
   "cell_type": "code",
   "execution_count": 45,
   "outputs": [
    {
     "data": {
      "text/plain": "               index             0\n0                 HR     84.486285\n1              O2Sat     97.193457\n2               Temp     36.968404\n3                SBP    123.495401\n4                MAP     82.328402\n5                DBP     63.834791\n6               Resp     18.713982\n7              EtCO2     33.240873\n8         BaseExcess     -0.807791\n9               HCO3     24.100393\n10              FiO2      0.605928\n11                pH      7.376860\n12             PaCO2     41.139602\n13              SaO2     92.463107\n14               AST    265.904827\n15               BUN     23.396571\n16      Alkalinephos     98.755405\n17           Calcium      7.554402\n18          Chloride    105.937301\n19        Creatinine      1.486415\n20  Bilirubin_direct      1.385131\n21           Glucose    136.833959\n22           Lactate      2.691904\n23         Magnesium      2.045913\n24         Phosphate      3.540531\n25         Potassium      4.134591\n26   Bilirubin_total      1.929730\n27         TroponinI      8.443103\n28               Hct     30.842304\n29               Hgb     10.446525\n30               PTT     41.370174\n31               WBC     11.426336\n32        Fibrinogen    286.691486\n33         Platelets    196.109658\n34               Age     61.951273\n35            Gender      0.554913\n36             Unit1      0.492345\n37             Unit2      0.507655\n38       HospAdmTime    -55.200505\n39            ICULOS     26.098846\n40       SepsisLabel      0.001894\n41                ID  10028.276155\n42             Label      0.093908\n43        max_ICULOS     50.735090\n44           time_bm    -24.636245",
      "text/html": "<div>\n<style scoped>\n    .dataframe tbody tr th:only-of-type {\n        vertical-align: middle;\n    }\n\n    .dataframe tbody tr th {\n        vertical-align: top;\n    }\n\n    .dataframe thead th {\n        text-align: right;\n    }\n</style>\n<table border=\"1\" class=\"dataframe\">\n  <thead>\n    <tr style=\"text-align: right;\">\n      <th></th>\n      <th>index</th>\n      <th>0</th>\n    </tr>\n  </thead>\n  <tbody>\n    <tr>\n      <th>0</th>\n      <td>HR</td>\n      <td>84.486285</td>\n    </tr>\n    <tr>\n      <th>1</th>\n      <td>O2Sat</td>\n      <td>97.193457</td>\n    </tr>\n    <tr>\n      <th>2</th>\n      <td>Temp</td>\n      <td>36.968404</td>\n    </tr>\n    <tr>\n      <th>3</th>\n      <td>SBP</td>\n      <td>123.495401</td>\n    </tr>\n    <tr>\n      <th>4</th>\n      <td>MAP</td>\n      <td>82.328402</td>\n    </tr>\n    <tr>\n      <th>5</th>\n      <td>DBP</td>\n      <td>63.834791</td>\n    </tr>\n    <tr>\n      <th>6</th>\n      <td>Resp</td>\n      <td>18.713982</td>\n    </tr>\n    <tr>\n      <th>7</th>\n      <td>EtCO2</td>\n      <td>33.240873</td>\n    </tr>\n    <tr>\n      <th>8</th>\n      <td>BaseExcess</td>\n      <td>-0.807791</td>\n    </tr>\n    <tr>\n      <th>9</th>\n      <td>HCO3</td>\n      <td>24.100393</td>\n    </tr>\n    <tr>\n      <th>10</th>\n      <td>FiO2</td>\n      <td>0.605928</td>\n    </tr>\n    <tr>\n      <th>11</th>\n      <td>pH</td>\n      <td>7.376860</td>\n    </tr>\n    <tr>\n      <th>12</th>\n      <td>PaCO2</td>\n      <td>41.139602</td>\n    </tr>\n    <tr>\n      <th>13</th>\n      <td>SaO2</td>\n      <td>92.463107</td>\n    </tr>\n    <tr>\n      <th>14</th>\n      <td>AST</td>\n      <td>265.904827</td>\n    </tr>\n    <tr>\n      <th>15</th>\n      <td>BUN</td>\n      <td>23.396571</td>\n    </tr>\n    <tr>\n      <th>16</th>\n      <td>Alkalinephos</td>\n      <td>98.755405</td>\n    </tr>\n    <tr>\n      <th>17</th>\n      <td>Calcium</td>\n      <td>7.554402</td>\n    </tr>\n    <tr>\n      <th>18</th>\n      <td>Chloride</td>\n      <td>105.937301</td>\n    </tr>\n    <tr>\n      <th>19</th>\n      <td>Creatinine</td>\n      <td>1.486415</td>\n    </tr>\n    <tr>\n      <th>20</th>\n      <td>Bilirubin_direct</td>\n      <td>1.385131</td>\n    </tr>\n    <tr>\n      <th>21</th>\n      <td>Glucose</td>\n      <td>136.833959</td>\n    </tr>\n    <tr>\n      <th>22</th>\n      <td>Lactate</td>\n      <td>2.691904</td>\n    </tr>\n    <tr>\n      <th>23</th>\n      <td>Magnesium</td>\n      <td>2.045913</td>\n    </tr>\n    <tr>\n      <th>24</th>\n      <td>Phosphate</td>\n      <td>3.540531</td>\n    </tr>\n    <tr>\n      <th>25</th>\n      <td>Potassium</td>\n      <td>4.134591</td>\n    </tr>\n    <tr>\n      <th>26</th>\n      <td>Bilirubin_total</td>\n      <td>1.929730</td>\n    </tr>\n    <tr>\n      <th>27</th>\n      <td>TroponinI</td>\n      <td>8.443103</td>\n    </tr>\n    <tr>\n      <th>28</th>\n      <td>Hct</td>\n      <td>30.842304</td>\n    </tr>\n    <tr>\n      <th>29</th>\n      <td>Hgb</td>\n      <td>10.446525</td>\n    </tr>\n    <tr>\n      <th>30</th>\n      <td>PTT</td>\n      <td>41.370174</td>\n    </tr>\n    <tr>\n      <th>31</th>\n      <td>WBC</td>\n      <td>11.426336</td>\n    </tr>\n    <tr>\n      <th>32</th>\n      <td>Fibrinogen</td>\n      <td>286.691486</td>\n    </tr>\n    <tr>\n      <th>33</th>\n      <td>Platelets</td>\n      <td>196.109658</td>\n    </tr>\n    <tr>\n      <th>34</th>\n      <td>Age</td>\n      <td>61.951273</td>\n    </tr>\n    <tr>\n      <th>35</th>\n      <td>Gender</td>\n      <td>0.554913</td>\n    </tr>\n    <tr>\n      <th>36</th>\n      <td>Unit1</td>\n      <td>0.492345</td>\n    </tr>\n    <tr>\n      <th>37</th>\n      <td>Unit2</td>\n      <td>0.507655</td>\n    </tr>\n    <tr>\n      <th>38</th>\n      <td>HospAdmTime</td>\n      <td>-55.200505</td>\n    </tr>\n    <tr>\n      <th>39</th>\n      <td>ICULOS</td>\n      <td>26.098846</td>\n    </tr>\n    <tr>\n      <th>40</th>\n      <td>SepsisLabel</td>\n      <td>0.001894</td>\n    </tr>\n    <tr>\n      <th>41</th>\n      <td>ID</td>\n      <td>10028.276155</td>\n    </tr>\n    <tr>\n      <th>42</th>\n      <td>Label</td>\n      <td>0.093908</td>\n    </tr>\n    <tr>\n      <th>43</th>\n      <td>max_ICULOS</td>\n      <td>50.735090</td>\n    </tr>\n    <tr>\n      <th>44</th>\n      <td>time_bm</td>\n      <td>-24.636245</td>\n    </tr>\n  </tbody>\n</table>\n</div>"
     },
     "execution_count": 45,
     "metadata": {},
     "output_type": "execute_result"
    }
   ],
   "source": [
    "p.all_data_means"
   ],
   "metadata": {
    "collapsed": false,
    "pycharm": {
     "name": "#%%\n"
    }
   }
  },
  {
   "cell_type": "code",
   "execution_count": 97,
   "outputs": [
    {
     "ename": "NameError",
     "evalue": "name 'p' is not defined",
     "output_type": "error",
     "traceback": [
      "\u001B[0;31m---------------------------------------------------------------------------\u001B[0m",
      "\u001B[0;31mNameError\u001B[0m                                 Traceback (most recent call last)",
      "\u001B[0;32m<ipython-input-97-86ac4fabc0bf>\u001B[0m in \u001B[0;36m<module>\u001B[0;34m\u001B[0m\n\u001B[1;32m      1\u001B[0m \u001B[0mtrain_df\u001B[0m \u001B[0;34m=\u001B[0m \u001B[0mpd\u001B[0m\u001B[0;34m.\u001B[0m\u001B[0mread_csv\u001B[0m\u001B[0;34m(\u001B[0m\u001B[0;34mf'{TRAIN_PATH}.csv'\u001B[0m\u001B[0;34m)\u001B[0m\u001B[0;34m\u001B[0m\u001B[0;34m\u001B[0m\u001B[0m\n\u001B[0;32m----> 2\u001B[0;31m \u001B[0mtrain_df\u001B[0m \u001B[0;34m=\u001B[0m \u001B[0mp\u001B[0m\u001B[0;34m.\u001B[0m\u001B[0mprepare_data\u001B[0m\u001B[0;34m(\u001B[0m\u001B[0mtrain_df\u001B[0m\u001B[0;34m,\u001B[0m\u001B[0mrolling\u001B[0m\u001B[0;34m=\u001B[0m\u001B[0;32mFalse\u001B[0m\u001B[0;34m,\u001B[0m \u001B[0mfreq\u001B[0m\u001B[0;34m=\u001B[0m\u001B[0;32mTrue\u001B[0m\u001B[0;34m)\u001B[0m\u001B[0;34m\u001B[0m\u001B[0;34m\u001B[0m\u001B[0m\n\u001B[0m\u001B[1;32m      3\u001B[0m \u001B[0mtrain_df\u001B[0m\u001B[0;34m.\u001B[0m\u001B[0mto_csv\u001B[0m\u001B[0;34m(\u001B[0m\u001B[0;34mf'{TRAIN_PATH}_LSTM_new.csv'\u001B[0m\u001B[0;34m)\u001B[0m\u001B[0;34m\u001B[0m\u001B[0;34m\u001B[0m\u001B[0m\n\u001B[1;32m      4\u001B[0m \u001B[0;34m\u001B[0m\u001B[0m\n",
      "\u001B[0;31mNameError\u001B[0m: name 'p' is not defined"
     ]
    }
   ],
   "source": [
    "# train_df = pd.read_csv(f'{TRAIN_PATH}.csv')\n",
    "# train_df = p.prepare_data(train_df,rolling=False, freq=True)\n",
    "# train_df.to_csv(f'{TRAIN_PATH}_LSTM_new.csv')"
   ],
   "metadata": {
    "collapsed": false,
    "pycharm": {
     "name": "#%%\n"
    }
   }
  },
  {
   "cell_type": "code",
   "execution_count": 3,
   "outputs": [],
   "source": [
    "val_df = pd.read_csv(f'{VAL_PATH}.csv')\n",
    "# val_df = p.prepare_data(val_df)\n",
    "# # val_df.to_csv(f'{VAL_PATH}_LSTM_new.csv')\n",
    "# val_df"
   ],
   "metadata": {
    "collapsed": false,
    "pycharm": {
     "name": "#%%\n"
    }
   }
  },
  {
   "cell_type": "code",
   "execution_count": null,
   "outputs": [],
   "source": [
    "test_df = pd.read_csv(f'{TEST_PATH}.csv')\n",
    "test_df = p.prepare_data(test_df)\n",
    "test_df.to_csv(f'{TEST_PATH}_LSTM_new.csv')"
   ],
   "metadata": {
    "collapsed": false,
    "pycharm": {
     "name": "#%%\n"
    }
   }
  },
  {
   "cell_type": "code",
   "execution_count": 59,
   "outputs": [],
   "source": [
    "train_df = pd.read_csv(f'{TRAIN_PATH}.csv')"
   ],
   "metadata": {
    "collapsed": false,
    "pycharm": {
     "name": "#%%\n"
    }
   }
  },
  {
   "cell_type": "code",
   "execution_count": 26,
   "outputs": [
    {
     "data": {
      "text/plain": "          HR  O2Sat   Temp    SBP   MAP   DBP  Resp  EtCO2  BaseExcess  HCO3  \\\n75951    NaN    NaN    NaN    NaN   NaN   NaN   NaN    NaN         NaN   NaN   \n75952   61.0   99.0  36.44  124.0  65.0  43.0  17.5    NaN         NaN   NaN   \n75953   64.0   98.0    NaN  125.0  64.0  41.0  27.0    NaN         NaN   NaN   \n75954   56.0  100.0    NaN  123.0  65.0  41.0   9.0    NaN         NaN   NaN   \n75955   66.0   99.0    NaN  120.0  67.0  43.0  23.0    NaN         NaN   NaN   \n...      ...    ...    ...    ...   ...   ...   ...    ...         ...   ...   \n154924  76.0    NaN    NaN   85.0  53.0   NaN  17.0    NaN         NaN   NaN   \n154925  81.0   99.0    NaN   99.0  51.0   NaN  17.0    NaN         NaN   NaN   \n154926  85.0  100.0    NaN  103.0  48.0   NaN  26.0    NaN         NaN   NaN   \n154927  86.0   93.0    NaN   87.0  44.0   NaN  22.0    NaN         NaN   NaN   \n154928  84.0   85.0    NaN   78.0  44.0   NaN  18.0    NaN         NaN   NaN   \n\n        ...  Gender  Unit1  Unit2  HospAdmTime  ICULOS  SepsisLabel     ID  \\\n75951   ...       0    0.0    1.0       -98.60       1            0      0   \n75952   ...       0    0.0    1.0       -98.60       2            0      0   \n75953   ...       0    0.0    1.0       -98.60       3            0      0   \n75954   ...       0    0.0    1.0       -98.60       4            0      0   \n75955   ...       0    0.0    1.0       -98.60       5            0      0   \n...     ...     ...    ...    ...          ...     ...          ...    ...   \n154924  ...       0    NaN    NaN        -0.03      50            0  19999   \n154925  ...       0    NaN    NaN        -0.03      51            0  19999   \n154926  ...       0    NaN    NaN        -0.03      52            0  19999   \n154927  ...       0    NaN    NaN        -0.03      53            0  19999   \n154928  ...       0    NaN    NaN        -0.03      54            0  19999   \n\n        Label  max_ICULOS  time_bm  \n75951       0          23      -22  \n75952       0          23      -21  \n75953       0          23      -20  \n75954       0          23      -19  \n75955       0          23      -18  \n...       ...         ...      ...  \n154924      0          54       -4  \n154925      0          54       -3  \n154926      0          54       -2  \n154927      0          54       -1  \n154928      0          54        0  \n\n[603455 rows x 45 columns]",
      "text/html": "<div>\n<style scoped>\n    .dataframe tbody tr th:only-of-type {\n        vertical-align: middle;\n    }\n\n    .dataframe tbody tr th {\n        vertical-align: top;\n    }\n\n    .dataframe thead th {\n        text-align: right;\n    }\n</style>\n<table border=\"1\" class=\"dataframe\">\n  <thead>\n    <tr style=\"text-align: right;\">\n      <th></th>\n      <th>HR</th>\n      <th>O2Sat</th>\n      <th>Temp</th>\n      <th>SBP</th>\n      <th>MAP</th>\n      <th>DBP</th>\n      <th>Resp</th>\n      <th>EtCO2</th>\n      <th>BaseExcess</th>\n      <th>HCO3</th>\n      <th>...</th>\n      <th>Gender</th>\n      <th>Unit1</th>\n      <th>Unit2</th>\n      <th>HospAdmTime</th>\n      <th>ICULOS</th>\n      <th>SepsisLabel</th>\n      <th>ID</th>\n      <th>Label</th>\n      <th>max_ICULOS</th>\n      <th>time_bm</th>\n    </tr>\n  </thead>\n  <tbody>\n    <tr>\n      <th>75951</th>\n      <td>NaN</td>\n      <td>NaN</td>\n      <td>NaN</td>\n      <td>NaN</td>\n      <td>NaN</td>\n      <td>NaN</td>\n      <td>NaN</td>\n      <td>NaN</td>\n      <td>NaN</td>\n      <td>NaN</td>\n      <td>...</td>\n      <td>0</td>\n      <td>0.0</td>\n      <td>1.0</td>\n      <td>-98.60</td>\n      <td>1</td>\n      <td>0</td>\n      <td>0</td>\n      <td>0</td>\n      <td>23</td>\n      <td>-22</td>\n    </tr>\n    <tr>\n      <th>75952</th>\n      <td>61.0</td>\n      <td>99.0</td>\n      <td>36.44</td>\n      <td>124.0</td>\n      <td>65.0</td>\n      <td>43.0</td>\n      <td>17.5</td>\n      <td>NaN</td>\n      <td>NaN</td>\n      <td>NaN</td>\n      <td>...</td>\n      <td>0</td>\n      <td>0.0</td>\n      <td>1.0</td>\n      <td>-98.60</td>\n      <td>2</td>\n      <td>0</td>\n      <td>0</td>\n      <td>0</td>\n      <td>23</td>\n      <td>-21</td>\n    </tr>\n    <tr>\n      <th>75953</th>\n      <td>64.0</td>\n      <td>98.0</td>\n      <td>NaN</td>\n      <td>125.0</td>\n      <td>64.0</td>\n      <td>41.0</td>\n      <td>27.0</td>\n      <td>NaN</td>\n      <td>NaN</td>\n      <td>NaN</td>\n      <td>...</td>\n      <td>0</td>\n      <td>0.0</td>\n      <td>1.0</td>\n      <td>-98.60</td>\n      <td>3</td>\n      <td>0</td>\n      <td>0</td>\n      <td>0</td>\n      <td>23</td>\n      <td>-20</td>\n    </tr>\n    <tr>\n      <th>75954</th>\n      <td>56.0</td>\n      <td>100.0</td>\n      <td>NaN</td>\n      <td>123.0</td>\n      <td>65.0</td>\n      <td>41.0</td>\n      <td>9.0</td>\n      <td>NaN</td>\n      <td>NaN</td>\n      <td>NaN</td>\n      <td>...</td>\n      <td>0</td>\n      <td>0.0</td>\n      <td>1.0</td>\n      <td>-98.60</td>\n      <td>4</td>\n      <td>0</td>\n      <td>0</td>\n      <td>0</td>\n      <td>23</td>\n      <td>-19</td>\n    </tr>\n    <tr>\n      <th>75955</th>\n      <td>66.0</td>\n      <td>99.0</td>\n      <td>NaN</td>\n      <td>120.0</td>\n      <td>67.0</td>\n      <td>43.0</td>\n      <td>23.0</td>\n      <td>NaN</td>\n      <td>NaN</td>\n      <td>NaN</td>\n      <td>...</td>\n      <td>0</td>\n      <td>0.0</td>\n      <td>1.0</td>\n      <td>-98.60</td>\n      <td>5</td>\n      <td>0</td>\n      <td>0</td>\n      <td>0</td>\n      <td>23</td>\n      <td>-18</td>\n    </tr>\n    <tr>\n      <th>...</th>\n      <td>...</td>\n      <td>...</td>\n      <td>...</td>\n      <td>...</td>\n      <td>...</td>\n      <td>...</td>\n      <td>...</td>\n      <td>...</td>\n      <td>...</td>\n      <td>...</td>\n      <td>...</td>\n      <td>...</td>\n      <td>...</td>\n      <td>...</td>\n      <td>...</td>\n      <td>...</td>\n      <td>...</td>\n      <td>...</td>\n      <td>...</td>\n      <td>...</td>\n      <td>...</td>\n    </tr>\n    <tr>\n      <th>154924</th>\n      <td>76.0</td>\n      <td>NaN</td>\n      <td>NaN</td>\n      <td>85.0</td>\n      <td>53.0</td>\n      <td>NaN</td>\n      <td>17.0</td>\n      <td>NaN</td>\n      <td>NaN</td>\n      <td>NaN</td>\n      <td>...</td>\n      <td>0</td>\n      <td>NaN</td>\n      <td>NaN</td>\n      <td>-0.03</td>\n      <td>50</td>\n      <td>0</td>\n      <td>19999</td>\n      <td>0</td>\n      <td>54</td>\n      <td>-4</td>\n    </tr>\n    <tr>\n      <th>154925</th>\n      <td>81.0</td>\n      <td>99.0</td>\n      <td>NaN</td>\n      <td>99.0</td>\n      <td>51.0</td>\n      <td>NaN</td>\n      <td>17.0</td>\n      <td>NaN</td>\n      <td>NaN</td>\n      <td>NaN</td>\n      <td>...</td>\n      <td>0</td>\n      <td>NaN</td>\n      <td>NaN</td>\n      <td>-0.03</td>\n      <td>51</td>\n      <td>0</td>\n      <td>19999</td>\n      <td>0</td>\n      <td>54</td>\n      <td>-3</td>\n    </tr>\n    <tr>\n      <th>154926</th>\n      <td>85.0</td>\n      <td>100.0</td>\n      <td>NaN</td>\n      <td>103.0</td>\n      <td>48.0</td>\n      <td>NaN</td>\n      <td>26.0</td>\n      <td>NaN</td>\n      <td>NaN</td>\n      <td>NaN</td>\n      <td>...</td>\n      <td>0</td>\n      <td>NaN</td>\n      <td>NaN</td>\n      <td>-0.03</td>\n      <td>52</td>\n      <td>0</td>\n      <td>19999</td>\n      <td>0</td>\n      <td>54</td>\n      <td>-2</td>\n    </tr>\n    <tr>\n      <th>154927</th>\n      <td>86.0</td>\n      <td>93.0</td>\n      <td>NaN</td>\n      <td>87.0</td>\n      <td>44.0</td>\n      <td>NaN</td>\n      <td>22.0</td>\n      <td>NaN</td>\n      <td>NaN</td>\n      <td>NaN</td>\n      <td>...</td>\n      <td>0</td>\n      <td>NaN</td>\n      <td>NaN</td>\n      <td>-0.03</td>\n      <td>53</td>\n      <td>0</td>\n      <td>19999</td>\n      <td>0</td>\n      <td>54</td>\n      <td>-1</td>\n    </tr>\n    <tr>\n      <th>154928</th>\n      <td>84.0</td>\n      <td>85.0</td>\n      <td>NaN</td>\n      <td>78.0</td>\n      <td>44.0</td>\n      <td>NaN</td>\n      <td>18.0</td>\n      <td>NaN</td>\n      <td>NaN</td>\n      <td>NaN</td>\n      <td>...</td>\n      <td>0</td>\n      <td>NaN</td>\n      <td>NaN</td>\n      <td>-0.03</td>\n      <td>54</td>\n      <td>0</td>\n      <td>19999</td>\n      <td>0</td>\n      <td>54</td>\n      <td>0</td>\n    </tr>\n  </tbody>\n</table>\n<p>603455 rows × 45 columns</p>\n</div>"
     },
     "execution_count": 26,
     "metadata": {},
     "output_type": "execute_result"
    }
   ],
   "source": [
    "train_df.sort_values(by=['ID','ICULOS'], ascending =[True,True])"
   ],
   "metadata": {
    "collapsed": false,
    "pycharm": {
     "name": "#%%\n"
    }
   }
  },
  {
   "cell_type": "code",
   "execution_count": 4,
   "outputs": [],
   "source": [
    "def add_frequency(df, attr):\n",
    "    df = df.sort_values(by=['ID','ICULOS'], ascending =[True,True])\n",
    "    rolling = df[['ID','max_ICULOS','ICULOS']+attr].groupby(by=['ID','max_ICULOS'])[attr].expanding().count().reset_index()\n",
    "    for at in attr:\n",
    "        rolling[at] = rolling[at]/rolling['max_ICULOS']\n",
    "    rolling= rolling.rename(columns={at: f'freq_{at}' for at in attr})\n",
    "    combined = df.join(rolling,how='left', rsuffix= 'r')\n",
    "    return combined"
   ],
   "metadata": {
    "collapsed": false,
    "pycharm": {
     "name": "#%%\n"
    }
   }
  },
  {
   "cell_type": "code",
   "execution_count": 9,
   "outputs": [],
   "source": [
    "attr = ALL_LAB_ATTR\n",
    "# df = val_df.sort_values(by=['ID', 'ICULOS'], ascending=[True, True])\n",
    "rolling = df[['ID','max_ICULOS','ICULOS']+attr].groupby(by=['ID','max_ICULOS'])[attr].expanding().count().reset_index()\n",
    "# for at in attr:\n",
    "#     rolling[at] = rolling[at] / rolling['max_ICULOS']\n",
    "# rolling = rolling.rename(columns={at: f'freq_{at}' for at in attr})\n",
    "# combined = df.join(rolling, how='left', rsuffix='r')\n",
    "# return combined\n"
   ],
   "metadata": {
    "collapsed": false,
    "pycharm": {
     "name": "#%%\n"
    }
   }
  },
  {
   "cell_type": "code",
   "execution_count": 10,
   "outputs": [
    {
     "data": {
      "text/plain": "           ID  max_ICULOS  level_2  BaseExcess  HCO3  FiO2   pH  PaCO2  SaO2  \\\n0           1          26   150546         1.0   1.0   1.0  1.0    1.0   0.0   \n1           1          26   150547         1.0   1.0   1.0  1.0    1.0   0.0   \n2           1          26   150548         1.0   1.0   2.0  1.0    1.0   0.0   \n3           1          26   150549         1.0   2.0   2.0  1.0    1.0   0.0   \n4           1          26   150550         1.0   2.0   2.0  1.0    1.0   0.0   \n...       ...         ...      ...         ...   ...   ...  ...    ...   ...   \n151357  19993          50    21276         3.0   2.0  12.0  5.0    3.0   2.0   \n151358  19993          50    21277         3.0   2.0  13.0  5.0    3.0   2.0   \n151359  19993          50    21278         3.0   2.0  13.0  5.0    3.0   2.0   \n151360  19993          50    21279         3.0   2.0  13.0  5.0    3.0   2.0   \n151361  19993          50    21280         3.0   2.0  13.0  5.0    3.0   2.0   \n\n        AST  ...  Phosphate  Potassium  Bilirubin_total  TroponinI   Hct  Hgb  \\\n0       0.0  ...        0.0        0.0              0.0        0.0   1.0  1.0   \n1       0.0  ...        0.0        0.0              0.0        0.0   1.0  1.0   \n2       0.0  ...        0.0        0.0              0.0        0.0   1.0  1.0   \n3       0.0  ...        1.0        1.0              0.0        0.0   2.0  2.0   \n4       0.0  ...        1.0        1.0              0.0        0.0   2.0  2.0   \n...     ...  ...        ...        ...              ...        ...   ...  ...   \n151357  0.0  ...        2.0        4.0              0.0        0.0   9.0  5.0   \n151358  0.0  ...        2.0        4.0              0.0        0.0   9.0  5.0   \n151359  0.0  ...        3.0        5.0              0.0        0.0  10.0  5.0   \n151360  0.0  ...        3.0        5.0              0.0        0.0  10.0  5.0   \n151361  0.0  ...        3.0        5.0              0.0        0.0  10.0  5.0   \n\n        PTT  WBC  Fibrinogen  Platelets  \n0       0.0  0.0         0.0        0.0  \n1       0.0  0.0         0.0        0.0  \n2       0.0  0.0         0.0        0.0  \n3       1.0  1.0         0.0        1.0  \n4       1.0  1.0         0.0        1.0  \n...     ...  ...         ...        ...  \n151357  2.0  2.0         0.0        2.0  \n151358  2.0  2.0         0.0        2.0  \n151359  2.0  2.0         0.0        2.0  \n151360  2.0  2.0         0.0        2.0  \n151361  2.0  2.0         0.0        2.0  \n\n[151362 rows x 29 columns]",
      "text/html": "<div>\n<style scoped>\n    .dataframe tbody tr th:only-of-type {\n        vertical-align: middle;\n    }\n\n    .dataframe tbody tr th {\n        vertical-align: top;\n    }\n\n    .dataframe thead th {\n        text-align: right;\n    }\n</style>\n<table border=\"1\" class=\"dataframe\">\n  <thead>\n    <tr style=\"text-align: right;\">\n      <th></th>\n      <th>ID</th>\n      <th>max_ICULOS</th>\n      <th>level_2</th>\n      <th>BaseExcess</th>\n      <th>HCO3</th>\n      <th>FiO2</th>\n      <th>pH</th>\n      <th>PaCO2</th>\n      <th>SaO2</th>\n      <th>AST</th>\n      <th>...</th>\n      <th>Phosphate</th>\n      <th>Potassium</th>\n      <th>Bilirubin_total</th>\n      <th>TroponinI</th>\n      <th>Hct</th>\n      <th>Hgb</th>\n      <th>PTT</th>\n      <th>WBC</th>\n      <th>Fibrinogen</th>\n      <th>Platelets</th>\n    </tr>\n  </thead>\n  <tbody>\n    <tr>\n      <th>0</th>\n      <td>1</td>\n      <td>26</td>\n      <td>150546</td>\n      <td>1.0</td>\n      <td>1.0</td>\n      <td>1.0</td>\n      <td>1.0</td>\n      <td>1.0</td>\n      <td>0.0</td>\n      <td>0.0</td>\n      <td>...</td>\n      <td>0.0</td>\n      <td>0.0</td>\n      <td>0.0</td>\n      <td>0.0</td>\n      <td>1.0</td>\n      <td>1.0</td>\n      <td>0.0</td>\n      <td>0.0</td>\n      <td>0.0</td>\n      <td>0.0</td>\n    </tr>\n    <tr>\n      <th>1</th>\n      <td>1</td>\n      <td>26</td>\n      <td>150547</td>\n      <td>1.0</td>\n      <td>1.0</td>\n      <td>1.0</td>\n      <td>1.0</td>\n      <td>1.0</td>\n      <td>0.0</td>\n      <td>0.0</td>\n      <td>...</td>\n      <td>0.0</td>\n      <td>0.0</td>\n      <td>0.0</td>\n      <td>0.0</td>\n      <td>1.0</td>\n      <td>1.0</td>\n      <td>0.0</td>\n      <td>0.0</td>\n      <td>0.0</td>\n      <td>0.0</td>\n    </tr>\n    <tr>\n      <th>2</th>\n      <td>1</td>\n      <td>26</td>\n      <td>150548</td>\n      <td>1.0</td>\n      <td>1.0</td>\n      <td>2.0</td>\n      <td>1.0</td>\n      <td>1.0</td>\n      <td>0.0</td>\n      <td>0.0</td>\n      <td>...</td>\n      <td>0.0</td>\n      <td>0.0</td>\n      <td>0.0</td>\n      <td>0.0</td>\n      <td>1.0</td>\n      <td>1.0</td>\n      <td>0.0</td>\n      <td>0.0</td>\n      <td>0.0</td>\n      <td>0.0</td>\n    </tr>\n    <tr>\n      <th>3</th>\n      <td>1</td>\n      <td>26</td>\n      <td>150549</td>\n      <td>1.0</td>\n      <td>2.0</td>\n      <td>2.0</td>\n      <td>1.0</td>\n      <td>1.0</td>\n      <td>0.0</td>\n      <td>0.0</td>\n      <td>...</td>\n      <td>1.0</td>\n      <td>1.0</td>\n      <td>0.0</td>\n      <td>0.0</td>\n      <td>2.0</td>\n      <td>2.0</td>\n      <td>1.0</td>\n      <td>1.0</td>\n      <td>0.0</td>\n      <td>1.0</td>\n    </tr>\n    <tr>\n      <th>4</th>\n      <td>1</td>\n      <td>26</td>\n      <td>150550</td>\n      <td>1.0</td>\n      <td>2.0</td>\n      <td>2.0</td>\n      <td>1.0</td>\n      <td>1.0</td>\n      <td>0.0</td>\n      <td>0.0</td>\n      <td>...</td>\n      <td>1.0</td>\n      <td>1.0</td>\n      <td>0.0</td>\n      <td>0.0</td>\n      <td>2.0</td>\n      <td>2.0</td>\n      <td>1.0</td>\n      <td>1.0</td>\n      <td>0.0</td>\n      <td>1.0</td>\n    </tr>\n    <tr>\n      <th>...</th>\n      <td>...</td>\n      <td>...</td>\n      <td>...</td>\n      <td>...</td>\n      <td>...</td>\n      <td>...</td>\n      <td>...</td>\n      <td>...</td>\n      <td>...</td>\n      <td>...</td>\n      <td>...</td>\n      <td>...</td>\n      <td>...</td>\n      <td>...</td>\n      <td>...</td>\n      <td>...</td>\n      <td>...</td>\n      <td>...</td>\n      <td>...</td>\n      <td>...</td>\n      <td>...</td>\n    </tr>\n    <tr>\n      <th>151357</th>\n      <td>19993</td>\n      <td>50</td>\n      <td>21276</td>\n      <td>3.0</td>\n      <td>2.0</td>\n      <td>12.0</td>\n      <td>5.0</td>\n      <td>3.0</td>\n      <td>2.0</td>\n      <td>0.0</td>\n      <td>...</td>\n      <td>2.0</td>\n      <td>4.0</td>\n      <td>0.0</td>\n      <td>0.0</td>\n      <td>9.0</td>\n      <td>5.0</td>\n      <td>2.0</td>\n      <td>2.0</td>\n      <td>0.0</td>\n      <td>2.0</td>\n    </tr>\n    <tr>\n      <th>151358</th>\n      <td>19993</td>\n      <td>50</td>\n      <td>21277</td>\n      <td>3.0</td>\n      <td>2.0</td>\n      <td>13.0</td>\n      <td>5.0</td>\n      <td>3.0</td>\n      <td>2.0</td>\n      <td>0.0</td>\n      <td>...</td>\n      <td>2.0</td>\n      <td>4.0</td>\n      <td>0.0</td>\n      <td>0.0</td>\n      <td>9.0</td>\n      <td>5.0</td>\n      <td>2.0</td>\n      <td>2.0</td>\n      <td>0.0</td>\n      <td>2.0</td>\n    </tr>\n    <tr>\n      <th>151359</th>\n      <td>19993</td>\n      <td>50</td>\n      <td>21278</td>\n      <td>3.0</td>\n      <td>2.0</td>\n      <td>13.0</td>\n      <td>5.0</td>\n      <td>3.0</td>\n      <td>2.0</td>\n      <td>0.0</td>\n      <td>...</td>\n      <td>3.0</td>\n      <td>5.0</td>\n      <td>0.0</td>\n      <td>0.0</td>\n      <td>10.0</td>\n      <td>5.0</td>\n      <td>2.0</td>\n      <td>2.0</td>\n      <td>0.0</td>\n      <td>2.0</td>\n    </tr>\n    <tr>\n      <th>151360</th>\n      <td>19993</td>\n      <td>50</td>\n      <td>21279</td>\n      <td>3.0</td>\n      <td>2.0</td>\n      <td>13.0</td>\n      <td>5.0</td>\n      <td>3.0</td>\n      <td>2.0</td>\n      <td>0.0</td>\n      <td>...</td>\n      <td>3.0</td>\n      <td>5.0</td>\n      <td>0.0</td>\n      <td>0.0</td>\n      <td>10.0</td>\n      <td>5.0</td>\n      <td>2.0</td>\n      <td>2.0</td>\n      <td>0.0</td>\n      <td>2.0</td>\n    </tr>\n    <tr>\n      <th>151361</th>\n      <td>19993</td>\n      <td>50</td>\n      <td>21280</td>\n      <td>3.0</td>\n      <td>2.0</td>\n      <td>13.0</td>\n      <td>5.0</td>\n      <td>3.0</td>\n      <td>2.0</td>\n      <td>0.0</td>\n      <td>...</td>\n      <td>3.0</td>\n      <td>5.0</td>\n      <td>0.0</td>\n      <td>0.0</td>\n      <td>10.0</td>\n      <td>5.0</td>\n      <td>2.0</td>\n      <td>2.0</td>\n      <td>0.0</td>\n      <td>2.0</td>\n    </tr>\n  </tbody>\n</table>\n<p>151362 rows × 29 columns</p>\n</div>"
     },
     "execution_count": 10,
     "metadata": {},
     "output_type": "execute_result"
    }
   ],
   "source": [
    "rolling"
   ],
   "metadata": {
    "collapsed": false,
    "pycharm": {
     "name": "#%%\n"
    }
   }
  },
  {
   "cell_type": "code",
   "execution_count": 12,
   "outputs": [
    {
     "data": {
      "text/plain": "        Phosphate\n150546        NaN\n150547        NaN\n150548        NaN\n150549        4.2\n150550        NaN\n...           ...\n21276         NaN\n21277         NaN\n21278         3.5\n21279         NaN\n21280         NaN\n\n[151362 rows x 1 columns]",
      "text/html": "<div>\n<style scoped>\n    .dataframe tbody tr th:only-of-type {\n        vertical-align: middle;\n    }\n\n    .dataframe tbody tr th {\n        vertical-align: top;\n    }\n\n    .dataframe thead th {\n        text-align: right;\n    }\n</style>\n<table border=\"1\" class=\"dataframe\">\n  <thead>\n    <tr style=\"text-align: right;\">\n      <th></th>\n      <th>Phosphate</th>\n    </tr>\n  </thead>\n  <tbody>\n    <tr>\n      <th>150546</th>\n      <td>NaN</td>\n    </tr>\n    <tr>\n      <th>150547</th>\n      <td>NaN</td>\n    </tr>\n    <tr>\n      <th>150548</th>\n      <td>NaN</td>\n    </tr>\n    <tr>\n      <th>150549</th>\n      <td>4.2</td>\n    </tr>\n    <tr>\n      <th>150550</th>\n      <td>NaN</td>\n    </tr>\n    <tr>\n      <th>...</th>\n      <td>...</td>\n    </tr>\n    <tr>\n      <th>21276</th>\n      <td>NaN</td>\n    </tr>\n    <tr>\n      <th>21277</th>\n      <td>NaN</td>\n    </tr>\n    <tr>\n      <th>21278</th>\n      <td>3.5</td>\n    </tr>\n    <tr>\n      <th>21279</th>\n      <td>NaN</td>\n    </tr>\n    <tr>\n      <th>21280</th>\n      <td>NaN</td>\n    </tr>\n  </tbody>\n</table>\n<p>151362 rows × 1 columns</p>\n</div>"
     },
     "execution_count": 12,
     "metadata": {},
     "output_type": "execute_result"
    }
   ],
   "source": [
    "df[['Phosphate']]"
   ],
   "metadata": {
    "collapsed": false,
    "pycharm": {
     "name": "#%%\n"
    }
   }
  },
  {
   "cell_type": "code",
   "execution_count": 11,
   "outputs": [],
   "source": [
    "df = add_frequency(val_df,ALL_LAB_ATTR)"
   ],
   "metadata": {
    "collapsed": false,
    "pycharm": {
     "name": "#%%\n"
    }
   }
  },
  {
   "cell_type": "code",
   "execution_count": 14,
   "outputs": [
    {
     "data": {
      "text/plain": "        freq_Phosphate  Phosphate     ID  ICULOS\n150546        0.036364        NaN      1       2\n150547        0.036364        NaN      1       3\n150548        0.036364        NaN      1       4\n150549        0.036364        4.2      1       5\n150550        0.054545        NaN      1       6\n...                ...        ...    ...     ...\n21276         0.000000        NaN  19993      46\n21277         0.000000        NaN  19993      47\n21278         0.000000        3.5  19993      48\n21279         0.000000        NaN  19993      49\n21280         0.000000        NaN  19993      50\n\n[151362 rows x 4 columns]",
      "text/html": "<div>\n<style scoped>\n    .dataframe tbody tr th:only-of-type {\n        vertical-align: middle;\n    }\n\n    .dataframe tbody tr th {\n        vertical-align: top;\n    }\n\n    .dataframe thead th {\n        text-align: right;\n    }\n</style>\n<table border=\"1\" class=\"dataframe\">\n  <thead>\n    <tr style=\"text-align: right;\">\n      <th></th>\n      <th>freq_Phosphate</th>\n      <th>Phosphate</th>\n      <th>ID</th>\n      <th>ICULOS</th>\n    </tr>\n  </thead>\n  <tbody>\n    <tr>\n      <th>150546</th>\n      <td>0.036364</td>\n      <td>NaN</td>\n      <td>1</td>\n      <td>2</td>\n    </tr>\n    <tr>\n      <th>150547</th>\n      <td>0.036364</td>\n      <td>NaN</td>\n      <td>1</td>\n      <td>3</td>\n    </tr>\n    <tr>\n      <th>150548</th>\n      <td>0.036364</td>\n      <td>NaN</td>\n      <td>1</td>\n      <td>4</td>\n    </tr>\n    <tr>\n      <th>150549</th>\n      <td>0.036364</td>\n      <td>4.2</td>\n      <td>1</td>\n      <td>5</td>\n    </tr>\n    <tr>\n      <th>150550</th>\n      <td>0.054545</td>\n      <td>NaN</td>\n      <td>1</td>\n      <td>6</td>\n    </tr>\n    <tr>\n      <th>...</th>\n      <td>...</td>\n      <td>...</td>\n      <td>...</td>\n      <td>...</td>\n    </tr>\n    <tr>\n      <th>21276</th>\n      <td>0.000000</td>\n      <td>NaN</td>\n      <td>19993</td>\n      <td>46</td>\n    </tr>\n    <tr>\n      <th>21277</th>\n      <td>0.000000</td>\n      <td>NaN</td>\n      <td>19993</td>\n      <td>47</td>\n    </tr>\n    <tr>\n      <th>21278</th>\n      <td>0.000000</td>\n      <td>3.5</td>\n      <td>19993</td>\n      <td>48</td>\n    </tr>\n    <tr>\n      <th>21279</th>\n      <td>0.000000</td>\n      <td>NaN</td>\n      <td>19993</td>\n      <td>49</td>\n    </tr>\n    <tr>\n      <th>21280</th>\n      <td>0.000000</td>\n      <td>NaN</td>\n      <td>19993</td>\n      <td>50</td>\n    </tr>\n  </tbody>\n</table>\n<p>151362 rows × 4 columns</p>\n</div>"
     },
     "execution_count": 14,
     "metadata": {},
     "output_type": "execute_result"
    }
   ],
   "source": [
    "df[['freq_Phosphate','Phosphate','ID','ICULOS']]"
   ],
   "metadata": {
    "collapsed": false,
    "pycharm": {
     "name": "#%%\n"
    }
   }
  },
  {
   "cell_type": "code",
   "execution_count": 74,
   "outputs": [],
   "source": [
    "df = train_df[train_df.ID.isin([0,1,2,3])].sort_values(by=['ID','ICULOS'], ascending =[True,True])\n",
    "rolling = df[['ID','max_ICULOS']+ALL_LAB_ATTR].groupby(by=['ID','max_ICULOS'])[ALL_LAB_ATTR].expanding().count().reset_index()\n"
   ],
   "metadata": {
    "collapsed": false,
    "pycharm": {
     "name": "#%%\n"
    }
   }
  },
  {
   "cell_type": "code",
   "execution_count": 78,
   "outputs": [],
   "source": [
    "rolling['FiO2'] = rolling['FiO2']/rolling['max_ICULOS']"
   ],
   "metadata": {
    "collapsed": false,
    "pycharm": {
     "name": "#%%\n"
    }
   }
  },
  {
   "cell_type": "code",
   "execution_count": 81,
   "outputs": [],
   "source": [
    "rolling= rolling.rename(columns={at: f'freq_{at}' for at in ALL_LAB_ATTR})"
   ],
   "metadata": {
    "collapsed": false,
    "pycharm": {
     "name": "#%%\n"
    }
   }
  },
  {
   "cell_type": "code",
   "execution_count": 88,
   "outputs": [],
   "source": [
    "combined = df.join(rolling,how='left',on='ID', rsuffix= 'r')"
   ],
   "metadata": {
    "collapsed": false,
    "pycharm": {
     "name": "#%%\n"
    }
   }
  },
  {
   "cell_type": "code",
   "execution_count": 89,
   "outputs": [
    {
     "data": {
      "text/plain": "          HR  O2Sat   Temp    SBP     MAP   DBP  Resp  EtCO2  BaseExcess  \\\n75951    NaN    NaN    NaN    NaN     NaN   NaN   NaN    NaN         NaN   \n75952   61.0   99.0  36.44  124.0   65.00  43.0  17.5    NaN         NaN   \n75953   64.0   98.0    NaN  125.0   64.00  41.0  27.0    NaN         NaN   \n75954   56.0  100.0    NaN  123.0   65.00  41.0   9.0    NaN         NaN   \n75955   66.0   99.0    NaN  120.0   67.00  43.0  23.0    NaN         NaN   \n...      ...    ...    ...    ...     ...   ...   ...    ...         ...   \n539766  58.0   99.0    NaN  152.5  100.00  76.0  14.0    NaN         NaN   \n539767  68.0   99.0    NaN  128.0   74.33  77.0  17.0    NaN         NaN   \n539768  71.0   95.0    NaN  146.5   94.50  73.0  17.0    NaN         NaN   \n539769  71.0   96.0  37.00  149.0   94.00  73.0  18.0    NaN         NaN   \n539770  71.0   95.0    NaN  136.0   90.00  71.0  20.0    NaN         NaN   \n\n        HCO3  ...  freq_Phosphate  freq_Potassium  freq_Bilirubin_total  \\\n75951    NaN  ...             0.0             0.0                   0.0   \n75952    NaN  ...             0.0             0.0                   0.0   \n75953    NaN  ...             0.0             0.0                   0.0   \n75954    NaN  ...             0.0             0.0                   0.0   \n75955    NaN  ...             0.0             0.0                   0.0   \n...      ...  ...             ...             ...                   ...   \n539766   NaN  ...             0.0             0.0                   0.0   \n539767   NaN  ...             0.0             0.0                   0.0   \n539768  23.0  ...             0.0             0.0                   0.0   \n539769   NaN  ...             0.0             0.0                   0.0   \n539770   NaN  ...             0.0             0.0                   0.0   \n\n        freq_TroponinI  freq_Hct  freq_Hgb  freq_PTT  freq_WBC  \\\n75951              0.0       0.0       0.0       0.0       0.0   \n75952              0.0       0.0       0.0       0.0       0.0   \n75953              0.0       0.0       0.0       0.0       0.0   \n75954              0.0       0.0       0.0       0.0       0.0   \n75955              0.0       0.0       0.0       0.0       0.0   \n...                ...       ...       ...       ...       ...   \n539766             0.0       0.0       0.0       0.0       0.0   \n539767             0.0       0.0       0.0       0.0       0.0   \n539768             0.0       0.0       0.0       0.0       0.0   \n539769             0.0       0.0       0.0       0.0       0.0   \n539770             0.0       0.0       0.0       0.0       0.0   \n\n        freq_Fibrinogen  freq_Platelets  \n75951               0.0             0.0  \n75952               0.0             0.0  \n75953               0.0             0.0  \n75954               0.0             0.0  \n75955               0.0             0.0  \n...                 ...             ...  \n539766              0.0             0.0  \n539767              0.0             0.0  \n539768              0.0             0.0  \n539769              0.0             0.0  \n539770              0.0             0.0  \n\n[104 rows x 74 columns]",
      "text/html": "<div>\n<style scoped>\n    .dataframe tbody tr th:only-of-type {\n        vertical-align: middle;\n    }\n\n    .dataframe tbody tr th {\n        vertical-align: top;\n    }\n\n    .dataframe thead th {\n        text-align: right;\n    }\n</style>\n<table border=\"1\" class=\"dataframe\">\n  <thead>\n    <tr style=\"text-align: right;\">\n      <th></th>\n      <th>HR</th>\n      <th>O2Sat</th>\n      <th>Temp</th>\n      <th>SBP</th>\n      <th>MAP</th>\n      <th>DBP</th>\n      <th>Resp</th>\n      <th>EtCO2</th>\n      <th>BaseExcess</th>\n      <th>HCO3</th>\n      <th>...</th>\n      <th>freq_Phosphate</th>\n      <th>freq_Potassium</th>\n      <th>freq_Bilirubin_total</th>\n      <th>freq_TroponinI</th>\n      <th>freq_Hct</th>\n      <th>freq_Hgb</th>\n      <th>freq_PTT</th>\n      <th>freq_WBC</th>\n      <th>freq_Fibrinogen</th>\n      <th>freq_Platelets</th>\n    </tr>\n  </thead>\n  <tbody>\n    <tr>\n      <th>75951</th>\n      <td>NaN</td>\n      <td>NaN</td>\n      <td>NaN</td>\n      <td>NaN</td>\n      <td>NaN</td>\n      <td>NaN</td>\n      <td>NaN</td>\n      <td>NaN</td>\n      <td>NaN</td>\n      <td>NaN</td>\n      <td>...</td>\n      <td>0.0</td>\n      <td>0.0</td>\n      <td>0.0</td>\n      <td>0.0</td>\n      <td>0.0</td>\n      <td>0.0</td>\n      <td>0.0</td>\n      <td>0.0</td>\n      <td>0.0</td>\n      <td>0.0</td>\n    </tr>\n    <tr>\n      <th>75952</th>\n      <td>61.0</td>\n      <td>99.0</td>\n      <td>36.44</td>\n      <td>124.0</td>\n      <td>65.00</td>\n      <td>43.0</td>\n      <td>17.5</td>\n      <td>NaN</td>\n      <td>NaN</td>\n      <td>NaN</td>\n      <td>...</td>\n      <td>0.0</td>\n      <td>0.0</td>\n      <td>0.0</td>\n      <td>0.0</td>\n      <td>0.0</td>\n      <td>0.0</td>\n      <td>0.0</td>\n      <td>0.0</td>\n      <td>0.0</td>\n      <td>0.0</td>\n    </tr>\n    <tr>\n      <th>75953</th>\n      <td>64.0</td>\n      <td>98.0</td>\n      <td>NaN</td>\n      <td>125.0</td>\n      <td>64.00</td>\n      <td>41.0</td>\n      <td>27.0</td>\n      <td>NaN</td>\n      <td>NaN</td>\n      <td>NaN</td>\n      <td>...</td>\n      <td>0.0</td>\n      <td>0.0</td>\n      <td>0.0</td>\n      <td>0.0</td>\n      <td>0.0</td>\n      <td>0.0</td>\n      <td>0.0</td>\n      <td>0.0</td>\n      <td>0.0</td>\n      <td>0.0</td>\n    </tr>\n    <tr>\n      <th>75954</th>\n      <td>56.0</td>\n      <td>100.0</td>\n      <td>NaN</td>\n      <td>123.0</td>\n      <td>65.00</td>\n      <td>41.0</td>\n      <td>9.0</td>\n      <td>NaN</td>\n      <td>NaN</td>\n      <td>NaN</td>\n      <td>...</td>\n      <td>0.0</td>\n      <td>0.0</td>\n      <td>0.0</td>\n      <td>0.0</td>\n      <td>0.0</td>\n      <td>0.0</td>\n      <td>0.0</td>\n      <td>0.0</td>\n      <td>0.0</td>\n      <td>0.0</td>\n    </tr>\n    <tr>\n      <th>75955</th>\n      <td>66.0</td>\n      <td>99.0</td>\n      <td>NaN</td>\n      <td>120.0</td>\n      <td>67.00</td>\n      <td>43.0</td>\n      <td>23.0</td>\n      <td>NaN</td>\n      <td>NaN</td>\n      <td>NaN</td>\n      <td>...</td>\n      <td>0.0</td>\n      <td>0.0</td>\n      <td>0.0</td>\n      <td>0.0</td>\n      <td>0.0</td>\n      <td>0.0</td>\n      <td>0.0</td>\n      <td>0.0</td>\n      <td>0.0</td>\n      <td>0.0</td>\n    </tr>\n    <tr>\n      <th>...</th>\n      <td>...</td>\n      <td>...</td>\n      <td>...</td>\n      <td>...</td>\n      <td>...</td>\n      <td>...</td>\n      <td>...</td>\n      <td>...</td>\n      <td>...</td>\n      <td>...</td>\n      <td>...</td>\n      <td>...</td>\n      <td>...</td>\n      <td>...</td>\n      <td>...</td>\n      <td>...</td>\n      <td>...</td>\n      <td>...</td>\n      <td>...</td>\n      <td>...</td>\n      <td>...</td>\n    </tr>\n    <tr>\n      <th>539766</th>\n      <td>58.0</td>\n      <td>99.0</td>\n      <td>NaN</td>\n      <td>152.5</td>\n      <td>100.00</td>\n      <td>76.0</td>\n      <td>14.0</td>\n      <td>NaN</td>\n      <td>NaN</td>\n      <td>NaN</td>\n      <td>...</td>\n      <td>0.0</td>\n      <td>0.0</td>\n      <td>0.0</td>\n      <td>0.0</td>\n      <td>0.0</td>\n      <td>0.0</td>\n      <td>0.0</td>\n      <td>0.0</td>\n      <td>0.0</td>\n      <td>0.0</td>\n    </tr>\n    <tr>\n      <th>539767</th>\n      <td>68.0</td>\n      <td>99.0</td>\n      <td>NaN</td>\n      <td>128.0</td>\n      <td>74.33</td>\n      <td>77.0</td>\n      <td>17.0</td>\n      <td>NaN</td>\n      <td>NaN</td>\n      <td>NaN</td>\n      <td>...</td>\n      <td>0.0</td>\n      <td>0.0</td>\n      <td>0.0</td>\n      <td>0.0</td>\n      <td>0.0</td>\n      <td>0.0</td>\n      <td>0.0</td>\n      <td>0.0</td>\n      <td>0.0</td>\n      <td>0.0</td>\n    </tr>\n    <tr>\n      <th>539768</th>\n      <td>71.0</td>\n      <td>95.0</td>\n      <td>NaN</td>\n      <td>146.5</td>\n      <td>94.50</td>\n      <td>73.0</td>\n      <td>17.0</td>\n      <td>NaN</td>\n      <td>NaN</td>\n      <td>23.0</td>\n      <td>...</td>\n      <td>0.0</td>\n      <td>0.0</td>\n      <td>0.0</td>\n      <td>0.0</td>\n      <td>0.0</td>\n      <td>0.0</td>\n      <td>0.0</td>\n      <td>0.0</td>\n      <td>0.0</td>\n      <td>0.0</td>\n    </tr>\n    <tr>\n      <th>539769</th>\n      <td>71.0</td>\n      <td>96.0</td>\n      <td>37.00</td>\n      <td>149.0</td>\n      <td>94.00</td>\n      <td>73.0</td>\n      <td>18.0</td>\n      <td>NaN</td>\n      <td>NaN</td>\n      <td>NaN</td>\n      <td>...</td>\n      <td>0.0</td>\n      <td>0.0</td>\n      <td>0.0</td>\n      <td>0.0</td>\n      <td>0.0</td>\n      <td>0.0</td>\n      <td>0.0</td>\n      <td>0.0</td>\n      <td>0.0</td>\n      <td>0.0</td>\n    </tr>\n    <tr>\n      <th>539770</th>\n      <td>71.0</td>\n      <td>95.0</td>\n      <td>NaN</td>\n      <td>136.0</td>\n      <td>90.00</td>\n      <td>71.0</td>\n      <td>20.0</td>\n      <td>NaN</td>\n      <td>NaN</td>\n      <td>NaN</td>\n      <td>...</td>\n      <td>0.0</td>\n      <td>0.0</td>\n      <td>0.0</td>\n      <td>0.0</td>\n      <td>0.0</td>\n      <td>0.0</td>\n      <td>0.0</td>\n      <td>0.0</td>\n      <td>0.0</td>\n      <td>0.0</td>\n    </tr>\n  </tbody>\n</table>\n<p>104 rows × 74 columns</p>\n</div>"
     },
     "execution_count": 89,
     "metadata": {},
     "output_type": "execute_result"
    }
   ],
   "source": [
    "combined"
   ],
   "metadata": {
    "collapsed": false,
    "pycharm": {
     "name": "#%%\n"
    }
   }
  },
  {
   "cell_type": "code",
   "execution_count": 87,
   "outputs": [
    {
     "data": {
      "text/plain": "          HR  O2Sat   Temp    SBP     MAP   DBP  Resp  EtCO2  BaseExcess  \\\n75951    NaN    NaN    NaN    NaN     NaN   NaN   NaN    NaN         NaN   \n75952   61.0   99.0  36.44  124.0   65.00  43.0  17.5    NaN         NaN   \n75953   64.0   98.0    NaN  125.0   64.00  41.0  27.0    NaN         NaN   \n75954   56.0  100.0    NaN  123.0   65.00  41.0   9.0    NaN         NaN   \n75955   66.0   99.0    NaN  120.0   67.00  43.0  23.0    NaN         NaN   \n...      ...    ...    ...    ...     ...   ...   ...    ...         ...   \n539766  58.0   99.0    NaN  152.5  100.00  76.0  14.0    NaN         NaN   \n539767  68.0   99.0    NaN  128.0   74.33  77.0  17.0    NaN         NaN   \n539768  71.0   95.0    NaN  146.5   94.50  73.0  17.0    NaN         NaN   \n539769  71.0   96.0  37.00  149.0   94.00  73.0  18.0    NaN         NaN   \n539770  71.0   95.0    NaN  136.0   90.00  71.0  20.0    NaN         NaN   \n\n        HCO3  ...  Gender  Unit1  Unit2  HospAdmTime  ICULOS  SepsisLabel  ID  \\\n75951    NaN  ...       0    0.0    1.0       -98.60       1            0   0   \n75952    NaN  ...       0    0.0    1.0       -98.60       2            0   0   \n75953    NaN  ...       0    0.0    1.0       -98.60       3            0   0   \n75954    NaN  ...       0    0.0    1.0       -98.60       4            0   0   \n75955    NaN  ...       0    0.0    1.0       -98.60       5            0   0   \n...      ...  ...     ...    ...    ...          ...     ...          ...  ..   \n539766   NaN  ...       1    NaN    NaN        -0.02      44            0   3   \n539767   NaN  ...       1    NaN    NaN        -0.02      45            0   3   \n539768  23.0  ...       1    NaN    NaN        -0.02      46            0   3   \n539769   NaN  ...       1    NaN    NaN        -0.02      47            0   3   \n539770   NaN  ...       1    NaN    NaN        -0.02      48            0   3   \n\n        Label  max_ICULOS  time_bm  \n75951       0          23      -22  \n75952       0          23      -21  \n75953       0          23      -20  \n75954       0          23      -19  \n75955       0          23      -18  \n...       ...         ...      ...  \n539766      0          48       -4  \n539767      0          48       -3  \n539768      0          48       -2  \n539769      0          48       -1  \n539770      0          48        0  \n\n[104 rows x 45 columns]",
      "text/html": "<div>\n<style scoped>\n    .dataframe tbody tr th:only-of-type {\n        vertical-align: middle;\n    }\n\n    .dataframe tbody tr th {\n        vertical-align: top;\n    }\n\n    .dataframe thead th {\n        text-align: right;\n    }\n</style>\n<table border=\"1\" class=\"dataframe\">\n  <thead>\n    <tr style=\"text-align: right;\">\n      <th></th>\n      <th>HR</th>\n      <th>O2Sat</th>\n      <th>Temp</th>\n      <th>SBP</th>\n      <th>MAP</th>\n      <th>DBP</th>\n      <th>Resp</th>\n      <th>EtCO2</th>\n      <th>BaseExcess</th>\n      <th>HCO3</th>\n      <th>...</th>\n      <th>Gender</th>\n      <th>Unit1</th>\n      <th>Unit2</th>\n      <th>HospAdmTime</th>\n      <th>ICULOS</th>\n      <th>SepsisLabel</th>\n      <th>ID</th>\n      <th>Label</th>\n      <th>max_ICULOS</th>\n      <th>time_bm</th>\n    </tr>\n  </thead>\n  <tbody>\n    <tr>\n      <th>75951</th>\n      <td>NaN</td>\n      <td>NaN</td>\n      <td>NaN</td>\n      <td>NaN</td>\n      <td>NaN</td>\n      <td>NaN</td>\n      <td>NaN</td>\n      <td>NaN</td>\n      <td>NaN</td>\n      <td>NaN</td>\n      <td>...</td>\n      <td>0</td>\n      <td>0.0</td>\n      <td>1.0</td>\n      <td>-98.60</td>\n      <td>1</td>\n      <td>0</td>\n      <td>0</td>\n      <td>0</td>\n      <td>23</td>\n      <td>-22</td>\n    </tr>\n    <tr>\n      <th>75952</th>\n      <td>61.0</td>\n      <td>99.0</td>\n      <td>36.44</td>\n      <td>124.0</td>\n      <td>65.00</td>\n      <td>43.0</td>\n      <td>17.5</td>\n      <td>NaN</td>\n      <td>NaN</td>\n      <td>NaN</td>\n      <td>...</td>\n      <td>0</td>\n      <td>0.0</td>\n      <td>1.0</td>\n      <td>-98.60</td>\n      <td>2</td>\n      <td>0</td>\n      <td>0</td>\n      <td>0</td>\n      <td>23</td>\n      <td>-21</td>\n    </tr>\n    <tr>\n      <th>75953</th>\n      <td>64.0</td>\n      <td>98.0</td>\n      <td>NaN</td>\n      <td>125.0</td>\n      <td>64.00</td>\n      <td>41.0</td>\n      <td>27.0</td>\n      <td>NaN</td>\n      <td>NaN</td>\n      <td>NaN</td>\n      <td>...</td>\n      <td>0</td>\n      <td>0.0</td>\n      <td>1.0</td>\n      <td>-98.60</td>\n      <td>3</td>\n      <td>0</td>\n      <td>0</td>\n      <td>0</td>\n      <td>23</td>\n      <td>-20</td>\n    </tr>\n    <tr>\n      <th>75954</th>\n      <td>56.0</td>\n      <td>100.0</td>\n      <td>NaN</td>\n      <td>123.0</td>\n      <td>65.00</td>\n      <td>41.0</td>\n      <td>9.0</td>\n      <td>NaN</td>\n      <td>NaN</td>\n      <td>NaN</td>\n      <td>...</td>\n      <td>0</td>\n      <td>0.0</td>\n      <td>1.0</td>\n      <td>-98.60</td>\n      <td>4</td>\n      <td>0</td>\n      <td>0</td>\n      <td>0</td>\n      <td>23</td>\n      <td>-19</td>\n    </tr>\n    <tr>\n      <th>75955</th>\n      <td>66.0</td>\n      <td>99.0</td>\n      <td>NaN</td>\n      <td>120.0</td>\n      <td>67.00</td>\n      <td>43.0</td>\n      <td>23.0</td>\n      <td>NaN</td>\n      <td>NaN</td>\n      <td>NaN</td>\n      <td>...</td>\n      <td>0</td>\n      <td>0.0</td>\n      <td>1.0</td>\n      <td>-98.60</td>\n      <td>5</td>\n      <td>0</td>\n      <td>0</td>\n      <td>0</td>\n      <td>23</td>\n      <td>-18</td>\n    </tr>\n    <tr>\n      <th>...</th>\n      <td>...</td>\n      <td>...</td>\n      <td>...</td>\n      <td>...</td>\n      <td>...</td>\n      <td>...</td>\n      <td>...</td>\n      <td>...</td>\n      <td>...</td>\n      <td>...</td>\n      <td>...</td>\n      <td>...</td>\n      <td>...</td>\n      <td>...</td>\n      <td>...</td>\n      <td>...</td>\n      <td>...</td>\n      <td>...</td>\n      <td>...</td>\n      <td>...</td>\n      <td>...</td>\n    </tr>\n    <tr>\n      <th>539766</th>\n      <td>58.0</td>\n      <td>99.0</td>\n      <td>NaN</td>\n      <td>152.5</td>\n      <td>100.00</td>\n      <td>76.0</td>\n      <td>14.0</td>\n      <td>NaN</td>\n      <td>NaN</td>\n      <td>NaN</td>\n      <td>...</td>\n      <td>1</td>\n      <td>NaN</td>\n      <td>NaN</td>\n      <td>-0.02</td>\n      <td>44</td>\n      <td>0</td>\n      <td>3</td>\n      <td>0</td>\n      <td>48</td>\n      <td>-4</td>\n    </tr>\n    <tr>\n      <th>539767</th>\n      <td>68.0</td>\n      <td>99.0</td>\n      <td>NaN</td>\n      <td>128.0</td>\n      <td>74.33</td>\n      <td>77.0</td>\n      <td>17.0</td>\n      <td>NaN</td>\n      <td>NaN</td>\n      <td>NaN</td>\n      <td>...</td>\n      <td>1</td>\n      <td>NaN</td>\n      <td>NaN</td>\n      <td>-0.02</td>\n      <td>45</td>\n      <td>0</td>\n      <td>3</td>\n      <td>0</td>\n      <td>48</td>\n      <td>-3</td>\n    </tr>\n    <tr>\n      <th>539768</th>\n      <td>71.0</td>\n      <td>95.0</td>\n      <td>NaN</td>\n      <td>146.5</td>\n      <td>94.50</td>\n      <td>73.0</td>\n      <td>17.0</td>\n      <td>NaN</td>\n      <td>NaN</td>\n      <td>23.0</td>\n      <td>...</td>\n      <td>1</td>\n      <td>NaN</td>\n      <td>NaN</td>\n      <td>-0.02</td>\n      <td>46</td>\n      <td>0</td>\n      <td>3</td>\n      <td>0</td>\n      <td>48</td>\n      <td>-2</td>\n    </tr>\n    <tr>\n      <th>539769</th>\n      <td>71.0</td>\n      <td>96.0</td>\n      <td>37.00</td>\n      <td>149.0</td>\n      <td>94.00</td>\n      <td>73.0</td>\n      <td>18.0</td>\n      <td>NaN</td>\n      <td>NaN</td>\n      <td>NaN</td>\n      <td>...</td>\n      <td>1</td>\n      <td>NaN</td>\n      <td>NaN</td>\n      <td>-0.02</td>\n      <td>47</td>\n      <td>0</td>\n      <td>3</td>\n      <td>0</td>\n      <td>48</td>\n      <td>-1</td>\n    </tr>\n    <tr>\n      <th>539770</th>\n      <td>71.0</td>\n      <td>95.0</td>\n      <td>NaN</td>\n      <td>136.0</td>\n      <td>90.00</td>\n      <td>71.0</td>\n      <td>20.0</td>\n      <td>NaN</td>\n      <td>NaN</td>\n      <td>NaN</td>\n      <td>...</td>\n      <td>1</td>\n      <td>NaN</td>\n      <td>NaN</td>\n      <td>-0.02</td>\n      <td>48</td>\n      <td>0</td>\n      <td>3</td>\n      <td>0</td>\n      <td>48</td>\n      <td>0</td>\n    </tr>\n  </tbody>\n</table>\n<p>104 rows × 45 columns</p>\n</div>"
     },
     "execution_count": 87,
     "metadata": {},
     "output_type": "execute_result"
    }
   ],
   "source": [
    "df"
   ],
   "metadata": {
    "collapsed": false,
    "pycharm": {
     "name": "#%%\n"
    }
   }
  },
  {
   "cell_type": "code",
   "execution_count": null,
   "outputs": [],
   "source": [],
   "metadata": {
    "collapsed": false,
    "pycharm": {
     "name": "#%%\n"
    }
   }
  }
 ],
 "metadata": {
  "kernelspec": {
   "display_name": "Python 3",
   "language": "python",
   "name": "python3"
  },
  "language_info": {
   "codemirror_mode": {
    "name": "ipython",
    "version": 2
   },
   "file_extension": ".py",
   "mimetype": "text/x-python",
   "name": "python",
   "nbconvert_exporter": "python",
   "pygments_lexer": "ipython2",
   "version": "2.7.6"
  }
 },
 "nbformat": 4,
 "nbformat_minor": 0
}