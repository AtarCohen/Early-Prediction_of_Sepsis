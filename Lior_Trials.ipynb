{
 "cells": [
  {
   "cell_type": "code",
   "execution_count": 1,
   "outputs": [],
   "source": [
    "import pandas as pd\n",
    "from imblearn.over_sampling import RandomOverSampler\n",
    "from imblearn.under_sampling import RandomUnderSampler"
   ],
   "metadata": {
    "collapsed": false,
    "pycharm": {
     "name": "#%%\n"
    }
   }
  },
  {
   "cell_type": "code",
   "execution_count": 2,
   "outputs": [],
   "source": [
    "TRAIN_PATH = 'filtered_train_df_0705.csv'\n",
    "VAL_PATH = 'filtered_val_df_0705.csv'\n",
    "TEST_PATH = 'filtered_test_df_0705.csv'"
   ],
   "metadata": {
    "collapsed": false,
    "pycharm": {
     "name": "#%%\n"
    }
   }
  },
  {
   "cell_type": "code",
   "execution_count": 3,
   "outputs": [],
   "source": [
    "train_df = pd.read_csv(TRAIN_PATH)"
   ],
   "metadata": {
    "collapsed": false,
    "pycharm": {
     "name": "#%%\n"
    }
   }
  },
  {
   "cell_type": "code",
   "execution_count": null,
   "outputs": [],
   "source": [
    "for path in [TRAIN_PATH,VAL_PATH,TEST_PATH]:\n",
    "    df = pd.read_csv(path)\n",
    "    df = df[['ID','Label']].groupby(by='ID').max().reset_index()\n",
    "    total = df.shape[0]\n",
    "    type_d = path.split('_')[1]\n",
    "    df=df.groupby(by='Label').count().reset_index()\n",
    "    print(f'{type_d}: Label 0: {df[df.Label==0][\"ID\"].values[0]}/{total}={df[df.Label==0][\"ID\"].values[0]/total}')\n",
    "    print(f'{type_d}: Label 1: {df[df.Label==1][\"ID\"].values[0]}/{total}={df[df.Label==1][\"ID\"].values[0]/total} ')"
   ],
   "metadata": {
    "collapsed": false,
    "pycharm": {
     "name": "#%%\n"
    }
   }
  },
  {
   "cell_type": "code",
   "execution_count": 38,
   "outputs": [],
   "source": [
    "train_small = train_df[['ID','Label']].groupby(by='ID').max().reset_index()\n",
    "over = RandomOverSampler(sampling_strategy=0.3)\n",
    "under = RandomUnderSampler(sampling_strategy=0.5)\n",
    "ids_over,labels_over = over.fit_resample(train_small[['ID']], train_small['Label'])\n",
    "ids_over_under,labels_over_under = under.fit_resample(ids_over, labels_over)"
   ],
   "metadata": {
    "collapsed": false,
    "pycharm": {
     "name": "#%%\n"
    }
   }
  },
  {
   "cell_type": "code",
   "execution_count": 39,
   "outputs": [],
   "source": [
    "ids_over,labels_over = over.fit_resample(train_small[['ID']], train_small['Label'])"
   ],
   "metadata": {
    "collapsed": false,
    "pycharm": {
     "name": "#%%\n"
    }
   }
  },
  {
   "cell_type": "code",
   "execution_count": 5,
   "outputs": [
    {
     "data": {
      "text/plain": "          HR  O2Sat   Temp    SBP     MAP   DBP  Resp  EtCO2  BaseExcess  \\\n75951    NaN    NaN    NaN    NaN     NaN   NaN   NaN    NaN         NaN   \n75952   61.0   99.0  36.44  124.0   65.00  43.0  17.5    NaN         NaN   \n75953   64.0   98.0    NaN  125.0   64.00  41.0  27.0    NaN         NaN   \n75954   56.0  100.0    NaN  123.0   65.00  41.0   9.0    NaN         NaN   \n75955   66.0   99.0    NaN  120.0   67.00  43.0  23.0    NaN         NaN   \n...      ...    ...    ...    ...     ...   ...   ...    ...         ...   \n539766  58.0   99.0    NaN  152.5  100.00  76.0  14.0    NaN         NaN   \n539767  68.0   99.0    NaN  128.0   74.33  77.0  17.0    NaN         NaN   \n539768  71.0   95.0    NaN  146.5   94.50  73.0  17.0    NaN         NaN   \n539769  71.0   96.0  37.00  149.0   94.00  73.0  18.0    NaN         NaN   \n539770  71.0   95.0    NaN  136.0   90.00  71.0  20.0    NaN         NaN   \n\n        HCO3  ...  Gender  Unit1  Unit2  HospAdmTime  ICULOS  SepsisLabel  ID  \\\n75951    NaN  ...       0    0.0    1.0       -98.60       1            0   0   \n75952    NaN  ...       0    0.0    1.0       -98.60       2            0   0   \n75953    NaN  ...       0    0.0    1.0       -98.60       3            0   0   \n75954    NaN  ...       0    0.0    1.0       -98.60       4            0   0   \n75955    NaN  ...       0    0.0    1.0       -98.60       5            0   0   \n...      ...  ...     ...    ...    ...          ...     ...          ...  ..   \n539766   NaN  ...       1    NaN    NaN        -0.02      44            0   3   \n539767   NaN  ...       1    NaN    NaN        -0.02      45            0   3   \n539768  23.0  ...       1    NaN    NaN        -0.02      46            0   3   \n539769   NaN  ...       1    NaN    NaN        -0.02      47            0   3   \n539770   NaN  ...       1    NaN    NaN        -0.02      48            0   3   \n\n        Label  max_ICULOS  time_bm  \n75951       0          23      -22  \n75952       0          23      -21  \n75953       0          23      -20  \n75954       0          23      -19  \n75955       0          23      -18  \n...       ...         ...      ...  \n539766      0          48       -4  \n539767      0          48       -3  \n539768      0          48       -2  \n539769      0          48       -1  \n539770      0          48        0  \n\n[104 rows x 45 columns]",
      "text/html": "<div>\n<style scoped>\n    .dataframe tbody tr th:only-of-type {\n        vertical-align: middle;\n    }\n\n    .dataframe tbody tr th {\n        vertical-align: top;\n    }\n\n    .dataframe thead th {\n        text-align: right;\n    }\n</style>\n<table border=\"1\" class=\"dataframe\">\n  <thead>\n    <tr style=\"text-align: right;\">\n      <th></th>\n      <th>HR</th>\n      <th>O2Sat</th>\n      <th>Temp</th>\n      <th>SBP</th>\n      <th>MAP</th>\n      <th>DBP</th>\n      <th>Resp</th>\n      <th>EtCO2</th>\n      <th>BaseExcess</th>\n      <th>HCO3</th>\n      <th>...</th>\n      <th>Gender</th>\n      <th>Unit1</th>\n      <th>Unit2</th>\n      <th>HospAdmTime</th>\n      <th>ICULOS</th>\n      <th>SepsisLabel</th>\n      <th>ID</th>\n      <th>Label</th>\n      <th>max_ICULOS</th>\n      <th>time_bm</th>\n    </tr>\n  </thead>\n  <tbody>\n    <tr>\n      <th>75951</th>\n      <td>NaN</td>\n      <td>NaN</td>\n      <td>NaN</td>\n      <td>NaN</td>\n      <td>NaN</td>\n      <td>NaN</td>\n      <td>NaN</td>\n      <td>NaN</td>\n      <td>NaN</td>\n      <td>NaN</td>\n      <td>...</td>\n      <td>0</td>\n      <td>0.0</td>\n      <td>1.0</td>\n      <td>-98.60</td>\n      <td>1</td>\n      <td>0</td>\n      <td>0</td>\n      <td>0</td>\n      <td>23</td>\n      <td>-22</td>\n    </tr>\n    <tr>\n      <th>75952</th>\n      <td>61.0</td>\n      <td>99.0</td>\n      <td>36.44</td>\n      <td>124.0</td>\n      <td>65.00</td>\n      <td>43.0</td>\n      <td>17.5</td>\n      <td>NaN</td>\n      <td>NaN</td>\n      <td>NaN</td>\n      <td>...</td>\n      <td>0</td>\n      <td>0.0</td>\n      <td>1.0</td>\n      <td>-98.60</td>\n      <td>2</td>\n      <td>0</td>\n      <td>0</td>\n      <td>0</td>\n      <td>23</td>\n      <td>-21</td>\n    </tr>\n    <tr>\n      <th>75953</th>\n      <td>64.0</td>\n      <td>98.0</td>\n      <td>NaN</td>\n      <td>125.0</td>\n      <td>64.00</td>\n      <td>41.0</td>\n      <td>27.0</td>\n      <td>NaN</td>\n      <td>NaN</td>\n      <td>NaN</td>\n      <td>...</td>\n      <td>0</td>\n      <td>0.0</td>\n      <td>1.0</td>\n      <td>-98.60</td>\n      <td>3</td>\n      <td>0</td>\n      <td>0</td>\n      <td>0</td>\n      <td>23</td>\n      <td>-20</td>\n    </tr>\n    <tr>\n      <th>75954</th>\n      <td>56.0</td>\n      <td>100.0</td>\n      <td>NaN</td>\n      <td>123.0</td>\n      <td>65.00</td>\n      <td>41.0</td>\n      <td>9.0</td>\n      <td>NaN</td>\n      <td>NaN</td>\n      <td>NaN</td>\n      <td>...</td>\n      <td>0</td>\n      <td>0.0</td>\n      <td>1.0</td>\n      <td>-98.60</td>\n      <td>4</td>\n      <td>0</td>\n      <td>0</td>\n      <td>0</td>\n      <td>23</td>\n      <td>-19</td>\n    </tr>\n    <tr>\n      <th>75955</th>\n      <td>66.0</td>\n      <td>99.0</td>\n      <td>NaN</td>\n      <td>120.0</td>\n      <td>67.00</td>\n      <td>43.0</td>\n      <td>23.0</td>\n      <td>NaN</td>\n      <td>NaN</td>\n      <td>NaN</td>\n      <td>...</td>\n      <td>0</td>\n      <td>0.0</td>\n      <td>1.0</td>\n      <td>-98.60</td>\n      <td>5</td>\n      <td>0</td>\n      <td>0</td>\n      <td>0</td>\n      <td>23</td>\n      <td>-18</td>\n    </tr>\n    <tr>\n      <th>...</th>\n      <td>...</td>\n      <td>...</td>\n      <td>...</td>\n      <td>...</td>\n      <td>...</td>\n      <td>...</td>\n      <td>...</td>\n      <td>...</td>\n      <td>...</td>\n      <td>...</td>\n      <td>...</td>\n      <td>...</td>\n      <td>...</td>\n      <td>...</td>\n      <td>...</td>\n      <td>...</td>\n      <td>...</td>\n      <td>...</td>\n      <td>...</td>\n      <td>...</td>\n      <td>...</td>\n    </tr>\n    <tr>\n      <th>539766</th>\n      <td>58.0</td>\n      <td>99.0</td>\n      <td>NaN</td>\n      <td>152.5</td>\n      <td>100.00</td>\n      <td>76.0</td>\n      <td>14.0</td>\n      <td>NaN</td>\n      <td>NaN</td>\n      <td>NaN</td>\n      <td>...</td>\n      <td>1</td>\n      <td>NaN</td>\n      <td>NaN</td>\n      <td>-0.02</td>\n      <td>44</td>\n      <td>0</td>\n      <td>3</td>\n      <td>0</td>\n      <td>48</td>\n      <td>-4</td>\n    </tr>\n    <tr>\n      <th>539767</th>\n      <td>68.0</td>\n      <td>99.0</td>\n      <td>NaN</td>\n      <td>128.0</td>\n      <td>74.33</td>\n      <td>77.0</td>\n      <td>17.0</td>\n      <td>NaN</td>\n      <td>NaN</td>\n      <td>NaN</td>\n      <td>...</td>\n      <td>1</td>\n      <td>NaN</td>\n      <td>NaN</td>\n      <td>-0.02</td>\n      <td>45</td>\n      <td>0</td>\n      <td>3</td>\n      <td>0</td>\n      <td>48</td>\n      <td>-3</td>\n    </tr>\n    <tr>\n      <th>539768</th>\n      <td>71.0</td>\n      <td>95.0</td>\n      <td>NaN</td>\n      <td>146.5</td>\n      <td>94.50</td>\n      <td>73.0</td>\n      <td>17.0</td>\n      <td>NaN</td>\n      <td>NaN</td>\n      <td>23.0</td>\n      <td>...</td>\n      <td>1</td>\n      <td>NaN</td>\n      <td>NaN</td>\n      <td>-0.02</td>\n      <td>46</td>\n      <td>0</td>\n      <td>3</td>\n      <td>0</td>\n      <td>48</td>\n      <td>-2</td>\n    </tr>\n    <tr>\n      <th>539769</th>\n      <td>71.0</td>\n      <td>96.0</td>\n      <td>37.00</td>\n      <td>149.0</td>\n      <td>94.00</td>\n      <td>73.0</td>\n      <td>18.0</td>\n      <td>NaN</td>\n      <td>NaN</td>\n      <td>NaN</td>\n      <td>...</td>\n      <td>1</td>\n      <td>NaN</td>\n      <td>NaN</td>\n      <td>-0.02</td>\n      <td>47</td>\n      <td>0</td>\n      <td>3</td>\n      <td>0</td>\n      <td>48</td>\n      <td>-1</td>\n    </tr>\n    <tr>\n      <th>539770</th>\n      <td>71.0</td>\n      <td>95.0</td>\n      <td>NaN</td>\n      <td>136.0</td>\n      <td>90.00</td>\n      <td>71.0</td>\n      <td>20.0</td>\n      <td>NaN</td>\n      <td>NaN</td>\n      <td>NaN</td>\n      <td>...</td>\n      <td>1</td>\n      <td>NaN</td>\n      <td>NaN</td>\n      <td>-0.02</td>\n      <td>48</td>\n      <td>0</td>\n      <td>3</td>\n      <td>0</td>\n      <td>48</td>\n      <td>0</td>\n    </tr>\n  </tbody>\n</table>\n<p>104 rows × 45 columns</p>\n</div>"
     },
     "execution_count": 5,
     "metadata": {},
     "output_type": "execute_result"
    }
   ],
   "source": [
    "s = train_df[train_df['ID'].isin([0,1,2,3])]\n",
    "s"
   ],
   "metadata": {
    "collapsed": false,
    "pycharm": {
     "name": "#%%\n"
    }
   }
  },
  {
   "cell_type": "code",
   "execution_count": 58,
   "outputs": [],
   "source": [
    "# FREQUENCY_ATTR =['5w_sum_BaseExcess', '5w_sum_FiO2', '5w_sum_pH', '5w_sum_PaCO2', '5w_sum_Glucose', '5w_sum_Lactate', '5w_sum_PTT']\n",
    "LAB_ATTR = [ 'Hct',  'Glucose','Potassium']\n",
    "CONST_ATTR = ['ID','max_ICULOS','Gender']\n",
    "OTHER_ATTR = ['HR','MAP','O2Sat', 'Resp','SBP','ICULOS']\n",
    "LABEL_ATTR= 'Label'\n",
    "COLS = CONST_ATTR+LAB_ATTR+OTHER_ATTR"
   ],
   "metadata": {
    "collapsed": false,
    "pycharm": {
     "name": "#%%\n"
    }
   }
  },
  {
   "cell_type": "code",
   "execution_count": 59,
   "outputs": [
    {
     "data": {
      "text/plain": "        ID  max_ICULOS  Gender   Hct  Glucose  Potassium    HR     MAP  O2Sat  \\\n75951    0          23       0   NaN      NaN        NaN   NaN     NaN    NaN   \n75952    0          23       0   NaN      NaN        NaN  61.0   65.00   99.0   \n75953    0          23       0   NaN      NaN        NaN  64.0   64.00   98.0   \n75954    0          23       0   NaN      NaN        NaN  56.0   65.00  100.0   \n75955    0          23       0   NaN      NaN        NaN  66.0   67.00   99.0   \n...     ..         ...     ...   ...      ...        ...   ...     ...    ...   \n539766   3          48       1   NaN      NaN        NaN  58.0  100.00   99.0   \n539767   3          48       1   NaN      NaN        NaN  68.0   74.33   99.0   \n539768   3          48       1  39.8     94.0        3.9  71.0   94.50   95.0   \n539769   3          48       1   NaN      NaN        NaN  71.0   94.00   96.0   \n539770   3          48       1   NaN      NaN        NaN  71.0   90.00   95.0   \n\n        Resp    SBP  ICULOS  Label  \n75951    NaN    NaN       1      0  \n75952   17.5  124.0       2      0  \n75953   27.0  125.0       3      0  \n75954    9.0  123.0       4      0  \n75955   23.0  120.0       5      0  \n...      ...    ...     ...    ...  \n539766  14.0  152.5      44      0  \n539767  17.0  128.0      45      0  \n539768  17.0  146.5      46      0  \n539769  18.0  149.0      47      0  \n539770  20.0  136.0      48      0  \n\n[104 rows x 13 columns]",
      "text/html": "<div>\n<style scoped>\n    .dataframe tbody tr th:only-of-type {\n        vertical-align: middle;\n    }\n\n    .dataframe tbody tr th {\n        vertical-align: top;\n    }\n\n    .dataframe thead th {\n        text-align: right;\n    }\n</style>\n<table border=\"1\" class=\"dataframe\">\n  <thead>\n    <tr style=\"text-align: right;\">\n      <th></th>\n      <th>ID</th>\n      <th>max_ICULOS</th>\n      <th>Gender</th>\n      <th>Hct</th>\n      <th>Glucose</th>\n      <th>Potassium</th>\n      <th>HR</th>\n      <th>MAP</th>\n      <th>O2Sat</th>\n      <th>Resp</th>\n      <th>SBP</th>\n      <th>ICULOS</th>\n      <th>Label</th>\n    </tr>\n  </thead>\n  <tbody>\n    <tr>\n      <th>75951</th>\n      <td>0</td>\n      <td>23</td>\n      <td>0</td>\n      <td>NaN</td>\n      <td>NaN</td>\n      <td>NaN</td>\n      <td>NaN</td>\n      <td>NaN</td>\n      <td>NaN</td>\n      <td>NaN</td>\n      <td>NaN</td>\n      <td>1</td>\n      <td>0</td>\n    </tr>\n    <tr>\n      <th>75952</th>\n      <td>0</td>\n      <td>23</td>\n      <td>0</td>\n      <td>NaN</td>\n      <td>NaN</td>\n      <td>NaN</td>\n      <td>61.0</td>\n      <td>65.00</td>\n      <td>99.0</td>\n      <td>17.5</td>\n      <td>124.0</td>\n      <td>2</td>\n      <td>0</td>\n    </tr>\n    <tr>\n      <th>75953</th>\n      <td>0</td>\n      <td>23</td>\n      <td>0</td>\n      <td>NaN</td>\n      <td>NaN</td>\n      <td>NaN</td>\n      <td>64.0</td>\n      <td>64.00</td>\n      <td>98.0</td>\n      <td>27.0</td>\n      <td>125.0</td>\n      <td>3</td>\n      <td>0</td>\n    </tr>\n    <tr>\n      <th>75954</th>\n      <td>0</td>\n      <td>23</td>\n      <td>0</td>\n      <td>NaN</td>\n      <td>NaN</td>\n      <td>NaN</td>\n      <td>56.0</td>\n      <td>65.00</td>\n      <td>100.0</td>\n      <td>9.0</td>\n      <td>123.0</td>\n      <td>4</td>\n      <td>0</td>\n    </tr>\n    <tr>\n      <th>75955</th>\n      <td>0</td>\n      <td>23</td>\n      <td>0</td>\n      <td>NaN</td>\n      <td>NaN</td>\n      <td>NaN</td>\n      <td>66.0</td>\n      <td>67.00</td>\n      <td>99.0</td>\n      <td>23.0</td>\n      <td>120.0</td>\n      <td>5</td>\n      <td>0</td>\n    </tr>\n    <tr>\n      <th>...</th>\n      <td>...</td>\n      <td>...</td>\n      <td>...</td>\n      <td>...</td>\n      <td>...</td>\n      <td>...</td>\n      <td>...</td>\n      <td>...</td>\n      <td>...</td>\n      <td>...</td>\n      <td>...</td>\n      <td>...</td>\n      <td>...</td>\n    </tr>\n    <tr>\n      <th>539766</th>\n      <td>3</td>\n      <td>48</td>\n      <td>1</td>\n      <td>NaN</td>\n      <td>NaN</td>\n      <td>NaN</td>\n      <td>58.0</td>\n      <td>100.00</td>\n      <td>99.0</td>\n      <td>14.0</td>\n      <td>152.5</td>\n      <td>44</td>\n      <td>0</td>\n    </tr>\n    <tr>\n      <th>539767</th>\n      <td>3</td>\n      <td>48</td>\n      <td>1</td>\n      <td>NaN</td>\n      <td>NaN</td>\n      <td>NaN</td>\n      <td>68.0</td>\n      <td>74.33</td>\n      <td>99.0</td>\n      <td>17.0</td>\n      <td>128.0</td>\n      <td>45</td>\n      <td>0</td>\n    </tr>\n    <tr>\n      <th>539768</th>\n      <td>3</td>\n      <td>48</td>\n      <td>1</td>\n      <td>39.8</td>\n      <td>94.0</td>\n      <td>3.9</td>\n      <td>71.0</td>\n      <td>94.50</td>\n      <td>95.0</td>\n      <td>17.0</td>\n      <td>146.5</td>\n      <td>46</td>\n      <td>0</td>\n    </tr>\n    <tr>\n      <th>539769</th>\n      <td>3</td>\n      <td>48</td>\n      <td>1</td>\n      <td>NaN</td>\n      <td>NaN</td>\n      <td>NaN</td>\n      <td>71.0</td>\n      <td>94.00</td>\n      <td>96.0</td>\n      <td>18.0</td>\n      <td>149.0</td>\n      <td>47</td>\n      <td>0</td>\n    </tr>\n    <tr>\n      <th>539770</th>\n      <td>3</td>\n      <td>48</td>\n      <td>1</td>\n      <td>NaN</td>\n      <td>NaN</td>\n      <td>NaN</td>\n      <td>71.0</td>\n      <td>90.00</td>\n      <td>95.0</td>\n      <td>20.0</td>\n      <td>136.0</td>\n      <td>48</td>\n      <td>0</td>\n    </tr>\n  </tbody>\n</table>\n<p>104 rows × 13 columns</p>\n</div>"
     },
     "execution_count": 59,
     "metadata": {},
     "output_type": "execute_result"
    }
   ],
   "source": [
    "s = s[COLS+[LABEL_ATTR]]\n",
    "s"
   ],
   "metadata": {
    "collapsed": false,
    "pycharm": {
     "name": "#%%\n"
    }
   }
  },
  {
   "cell_type": "code",
   "execution_count": 95,
   "outputs": [
    {
     "name": "stdout",
     "output_type": "stream",
     "text": [
      "(33, 13)\n",
      "(54, 13)\n",
      "(58, 13)\n"
     ]
    },
    {
     "ename": "KeyboardInterrupt",
     "evalue": "",
     "output_type": "error",
     "traceback": [
      "\u001B[0;31m---------------------------------------------------------------------------\u001B[0m",
      "\u001B[0;31mKeyboardInterrupt\u001B[0m                         Traceback (most recent call last)",
      "\u001B[0;32m<ipython-input-95-b96cbc6bcab7>\u001B[0m in \u001B[0;36m<module>\u001B[0;34m\u001B[0m\n\u001B[1;32m      9\u001B[0m     \u001B[0;32mfor\u001B[0m \u001B[0mf\u001B[0m \u001B[0;32min\u001B[0m \u001B[0mLAB_ATTR\u001B[0m\u001B[0;34m+\u001B[0m\u001B[0mOTHER_ATTR\u001B[0m\u001B[0;34m:\u001B[0m\u001B[0;34m\u001B[0m\u001B[0;34m\u001B[0m\u001B[0m\n\u001B[1;32m     10\u001B[0m         \u001B[0;32mif\u001B[0m \u001B[0mtmp_df\u001B[0m\u001B[0;34m[\u001B[0m\u001B[0mf\u001B[0m\u001B[0;34m]\u001B[0m\u001B[0;34m.\u001B[0m\u001B[0misnull\u001B[0m\u001B[0;34m(\u001B[0m\u001B[0;34m)\u001B[0m\u001B[0;34m.\u001B[0m\u001B[0mall\u001B[0m\u001B[0;34m:\u001B[0m\u001B[0;34m\u001B[0m\u001B[0;34m\u001B[0m\u001B[0m\n\u001B[0;32m---> 11\u001B[0;31m             \u001B[0mtmp_df\u001B[0m\u001B[0;34m[\u001B[0m\u001B[0mf\u001B[0m\u001B[0;34m]\u001B[0m\u001B[0;34m=\u001B[0m\u001B[0mtmp_df\u001B[0m\u001B[0;34m[\u001B[0m\u001B[0mf\u001B[0m\u001B[0;34m]\u001B[0m\u001B[0;34m.\u001B[0m\u001B[0mfillna\u001B[0m\u001B[0;34m(\u001B[0m\u001B[0mall_data_means\u001B[0m\u001B[0;34m[\u001B[0m\u001B[0mf\u001B[0m\u001B[0;34m]\u001B[0m\u001B[0;34m)\u001B[0m\u001B[0;34m\u001B[0m\u001B[0;34m\u001B[0m\u001B[0m\n\u001B[0m\u001B[1;32m     12\u001B[0m     \u001B[0mimp\u001B[0m \u001B[0;34m=\u001B[0m \u001B[0mIterativeImputer\u001B[0m\u001B[0;34m(\u001B[0m\u001B[0mmax_iter\u001B[0m\u001B[0;34m=\u001B[0m\u001B[0;36m50\u001B[0m\u001B[0;34m,\u001B[0m \u001B[0mrandom_state\u001B[0m\u001B[0;34m=\u001B[0m\u001B[0;36m0\u001B[0m\u001B[0;34m)\u001B[0m\u001B[0;34m\u001B[0m\u001B[0;34m\u001B[0m\u001B[0m\n\u001B[1;32m     13\u001B[0m     \u001B[0;32mtry\u001B[0m\u001B[0;34m:\u001B[0m\u001B[0;34m\u001B[0m\u001B[0;34m\u001B[0m\u001B[0m\n",
      "\u001B[0;32m/data/anaconda3/lib/python3.8/site-packages/pandas/core/series.py\u001B[0m in \u001B[0;36mfillna\u001B[0;34m(self, value, method, axis, inplace, limit, downcast)\u001B[0m\n\u001B[1;32m   4461\u001B[0m         \u001B[0mdowncast\u001B[0m\u001B[0;34m=\u001B[0m\u001B[0;32mNone\u001B[0m\u001B[0;34m,\u001B[0m\u001B[0;34m\u001B[0m\u001B[0;34m\u001B[0m\u001B[0m\n\u001B[1;32m   4462\u001B[0m     ) -> Optional[\"Series\"]:\n\u001B[0;32m-> 4463\u001B[0;31m         return super().fillna(\n\u001B[0m\u001B[1;32m   4464\u001B[0m             \u001B[0mvalue\u001B[0m\u001B[0;34m=\u001B[0m\u001B[0mvalue\u001B[0m\u001B[0;34m,\u001B[0m\u001B[0;34m\u001B[0m\u001B[0;34m\u001B[0m\u001B[0m\n\u001B[1;32m   4465\u001B[0m             \u001B[0mmethod\u001B[0m\u001B[0;34m=\u001B[0m\u001B[0mmethod\u001B[0m\u001B[0;34m,\u001B[0m\u001B[0;34m\u001B[0m\u001B[0;34m\u001B[0m\u001B[0m\n",
      "\u001B[0;32m/data/anaconda3/lib/python3.8/site-packages/pandas/core/generic.py\u001B[0m in \u001B[0;36mfillna\u001B[0;34m(self, value, method, axis, inplace, limit, downcast)\u001B[0m\n\u001B[1;32m   6390\u001B[0m             )\n\u001B[1;32m   6391\u001B[0m         \u001B[0;32melse\u001B[0m\u001B[0;34m:\u001B[0m\u001B[0;34m\u001B[0m\u001B[0;34m\u001B[0m\u001B[0m\n\u001B[0;32m-> 6392\u001B[0;31m             \u001B[0;32mif\u001B[0m \u001B[0mself\u001B[0m\u001B[0;34m.\u001B[0m\u001B[0mndim\u001B[0m \u001B[0;34m==\u001B[0m \u001B[0;36m1\u001B[0m\u001B[0;34m:\u001B[0m\u001B[0;34m\u001B[0m\u001B[0;34m\u001B[0m\u001B[0m\n\u001B[0m\u001B[1;32m   6393\u001B[0m                 \u001B[0;32mif\u001B[0m \u001B[0misinstance\u001B[0m\u001B[0;34m(\u001B[0m\u001B[0mvalue\u001B[0m\u001B[0;34m,\u001B[0m \u001B[0;34m(\u001B[0m\u001B[0mdict\u001B[0m\u001B[0;34m,\u001B[0m \u001B[0mABCSeries\u001B[0m\u001B[0;34m)\u001B[0m\u001B[0;34m)\u001B[0m\u001B[0;34m:\u001B[0m\u001B[0;34m\u001B[0m\u001B[0;34m\u001B[0m\u001B[0m\n\u001B[1;32m   6394\u001B[0m                     value = create_series_with_explicit_dtype(\n",
      "\u001B[0;32m/data/anaconda3/lib/python3.8/site-packages/pandas/core/base.py\u001B[0m in \u001B[0;36mndim\u001B[0;34m(self)\u001B[0m\n\u001B[1;32m    395\u001B[0m         \u001B[0;32mraise\u001B[0m \u001B[0mAbstractMethodError\u001B[0m\u001B[0;34m(\u001B[0m\u001B[0mself\u001B[0m\u001B[0;34m)\u001B[0m\u001B[0;34m\u001B[0m\u001B[0;34m\u001B[0m\u001B[0m\n\u001B[1;32m    396\u001B[0m \u001B[0;34m\u001B[0m\u001B[0m\n\u001B[0;32m--> 397\u001B[0;31m     \u001B[0;34m@\u001B[0m\u001B[0mproperty\u001B[0m\u001B[0;34m\u001B[0m\u001B[0;34m\u001B[0m\u001B[0m\n\u001B[0m\u001B[1;32m    398\u001B[0m     \u001B[0;32mdef\u001B[0m \u001B[0mndim\u001B[0m\u001B[0;34m(\u001B[0m\u001B[0mself\u001B[0m\u001B[0;34m)\u001B[0m \u001B[0;34m->\u001B[0m \u001B[0mint\u001B[0m\u001B[0;34m:\u001B[0m\u001B[0;34m\u001B[0m\u001B[0;34m\u001B[0m\u001B[0m\n\u001B[1;32m    399\u001B[0m         \"\"\"\n",
      "\u001B[0;31mKeyboardInterrupt\u001B[0m: "
     ]
    }
   ],
   "source": [
    "from sklearn.experimental import enable_iterative_imputer\n",
    "from sklearn.impute import IterativeImputer\n",
    "patients = list(set(train_df.ID.values))\n",
    "imputed = pd.DataFrame()\n",
    "all_data_means = train_df.mean()\n",
    "for patient in patients:\n",
    "    tmp_df = train_df[train_df['ID']==patient][COLS+['Label']]\n",
    "    # print(tmp_df.shape)\n",
    "    for f in LAB_ATTR+OTHER_ATTR:\n",
    "        if tmp_df[f].isnull().all:\n",
    "            tmp_df[f]=tmp_df[f].fillna(all_data_means[f])\n",
    "    imp = IterativeImputer(max_iter=50, random_state=0)\n",
    "    try:\n",
    "        imp.fit(tmp_df)\n",
    "        tmp_df= pd.DataFrame(imp.transform(tmp_df), columns = COLS+['Label'])\n",
    "        imputed=imputed.append(tmp_df)\n",
    "    except:\n",
    "        print(tmp_df.shape)\n",
    "print('done')"
   ],
   "metadata": {
    "collapsed": false,
    "pycharm": {
     "name": "#%%\n"
    }
   }
  },
  {
   "cell_type": "code",
   "execution_count": 92,
   "outputs": [
    {
     "data": {
      "text/plain": "84.48628456940398"
     },
     "execution_count": 92,
     "metadata": {},
     "output_type": "execute_result"
    }
   ],
   "source": [
    "train_df.mean()['HR']"
   ],
   "metadata": {
    "collapsed": false,
    "pycharm": {
     "name": "#%%\n"
    }
   }
  },
  {
   "cell_type": "code",
   "execution_count": 71,
   "outputs": [
    {
     "data": {
      "text/plain": "     ID  max_ICULOS  Gender        Hct     Glucose  Potassium          HR  \\\n0   3.0        48.0     1.0  42.273606  160.732764        3.9   77.000000   \n1   3.0        48.0     1.0  42.094533  160.737112        3.9   73.000000   \n2   3.0        48.0     1.0  41.602434  160.743672        3.9   62.000000   \n3   3.0        48.0     1.0  42.225180  160.736909        3.9   84.909192   \n4   3.0        48.0     1.0  42.190665  160.737245        3.9   84.497589   \n5   3.0        48.0     1.0  42.156150  160.737580        3.9   84.085986   \n6   3.0        48.0     1.0  41.013945  160.758143        3.9   74.000000   \n7   3.0        48.0     1.0  40.966113  160.758971        3.9   75.500000   \n8   3.0        48.0     1.0  41.762034  160.746731        3.9   92.000000   \n9   3.0        48.0     1.0  41.618178  160.752475        3.9   98.000000   \n10  3.0        48.0     1.0  42.079259  160.742476        3.9  100.500000   \n11  3.0        48.0     1.0  42.013831  160.744554        3.9   96.000000   \n12  3.0        48.0     1.0  42.481801  160.734680        3.9  100.000000   \n13  3.0        48.0     1.0  42.565978  160.732182        3.9  101.000000   \n14  3.0        48.0     1.0  42.576646  160.724518        3.9   82.000000   \n15  3.0        48.0     1.0  41.742494  160.742988        3.9   79.000000   \n16  3.0        48.0     1.0  41.262656  160.752022        3.9   78.000000   \n17  3.0        48.0     1.0  41.421061  160.747369        3.9   73.000000   \n18  3.0        48.0     1.0  42.334786  160.724466        3.9   68.000000   \n19  3.0        48.0     1.0  42.400000   98.000000        3.9   81.000000   \n20  3.0        48.0     1.0  42.844455  160.712386        3.9   73.000000   \n21  3.0        48.0     1.0  42.022546  160.730378        3.9   71.000000   \n22  3.0        48.0     1.0  41.709582  160.742781        3.9   88.000000   \n23  3.0        48.0     1.0  41.717977  160.738881        3.9   71.000000   \n24  3.0        48.0     1.0  41.470035  160.745639        3.9   73.500000   \n25  3.0        48.0     1.0  41.650631  160.740132        3.9   69.000000   \n26  3.0        48.0     1.0  41.942197  160.732891        3.9   74.000000   \n27  3.0        48.0     1.0  42.148040  160.725746        3.9   68.000000   \n28  3.0        48.0     1.0  40.669542  160.761190        3.9   67.000000   \n29  3.0        48.0     1.0  41.235857  160.750384        3.9   76.000000   \n30  3.0        48.0     1.0  41.811297  160.729632        3.9   68.000000   \n31  3.0        48.0     1.0  41.526655  160.742676        3.9   80.000000   \n32  3.0        48.0     1.0  40.980218  207.000000        3.9   86.000000   \n33  3.0        48.0     1.0  40.830239  160.755892        3.9   70.000000   \n34  3.0        48.0     1.0  40.988688  160.758249        3.9   86.000000   \n35  3.0        48.0     1.0  41.486837  160.739665        3.9   72.000000   \n36  3.0        48.0     1.0  40.708556  160.757867        3.9   71.000000   \n37  3.0        48.0     1.0  41.318516  244.000000        3.9   70.000000   \n38  3.0        48.0     1.0  41.487542  160.729879        3.9   64.500000   \n39  3.0        48.0     1.0  41.542659  160.733853        3.9   68.500000   \n40  3.0        48.0     1.0  39.692607  160.773214        3.9   58.000000   \n41  3.0        48.0     1.0  41.483593  160.738635        3.9   68.000000   \n42  3.0        48.0     1.0  39.800000   94.000000        3.9   71.000000   \n43  3.0        48.0     1.0  40.074885  160.768342        3.9   71.000000   \n44  3.0        48.0     1.0  40.698574  160.752613        3.9   71.000000   \n\n           MAP      O2Sat       Resp         SBP  ICULOS  Label  \n0    95.000000  97.000000  14.000000  135.000000     4.0    0.0  \n1    91.000000  99.000000  16.000000  139.000000     5.0    0.0  \n2    96.000000  99.000000  13.000000  143.000000     6.0    0.0  \n3    91.480435  97.141373  16.401137  138.294600     7.0    0.0  \n4    91.321775  97.113864  16.421269  138.219925     8.0    0.0  \n5    91.163115  97.086355  16.441401  138.145250     9.0    0.0  \n6   106.000000  98.000000  14.000000  152.000000    10.0    0.0  \n7   107.500000  98.000000  14.000000  152.000000    11.0    0.0  \n8    99.500000  98.000000  16.500000  143.000000    12.0    0.0  \n9    98.500000  97.500000  20.500000  148.000000    13.0    0.0  \n10   94.000000  97.000000  19.000000  140.000000    14.0    0.0  \n11   86.000000  94.000000  18.000000  143.500000    15.0    0.0  \n12   83.000000  96.000000  18.000000  135.000000    16.0    0.0  \n13   84.000000  98.000000  20.000000  132.000000    17.0    0.0  \n14   83.000000  97.000000  15.000000  125.000000    18.0    0.0  \n15   89.000000  99.000000  15.000000  139.000000    19.0    0.0  \n16   96.000000  98.000000  16.000000  145.000000    20.0    0.0  \n17   90.000000  97.000000  18.000000  142.000000    21.0    0.0  \n18   80.000000  96.000000  16.000000  124.000000    22.0    0.0  \n19   79.000000  95.000000  16.000000  118.000000    23.0    0.0  \n20   79.000000  96.000000  16.000000  113.000000    24.0    0.0  \n21   85.000000  95.000000  18.000000  127.000000    25.0    0.0  \n22   91.000000  97.000000  20.000000  136.000000    26.0    0.0  \n23   82.000000  97.000000  18.000000  134.000000    27.0    0.0  \n24   82.500000  96.000000  17.500000  139.500000    28.0    0.0  \n25   79.000000  96.000000  14.000000  135.000000    29.0    0.0  \n26   81.000000  96.000000  19.000000  128.000000    30.0    0.0  \n27   78.000000  96.000000  19.000000  122.000000    31.0    0.0  \n28   85.000000  94.000000  17.000000  151.000000    32.0    0.0  \n29   82.000000  94.000000  17.000000  142.000000    33.0    0.0  \n30   88.000000  95.000000  15.000000  122.000000    34.0    0.0  \n31   84.000000  95.000000  18.000000  134.000000    35.0    0.0  \n32   92.000000  97.000000  17.000000  150.000000    36.0    0.0  \n33   86.000000  95.000000  11.000000  144.000000    37.0    0.0  \n34   82.000000  94.000000  21.000000  147.000000    38.0    0.0  \n35   82.000000  96.000000  17.000000  130.000000    39.0    0.0  \n36   87.000000  98.000000  16.000000  144.000000    40.0    0.0  \n37   88.000000  96.000000  16.000000  140.000000    41.0    0.0  \n38   97.500000  98.000000  17.000000  116.500000    42.0    0.0  \n39   85.670000  98.000000  17.500000  122.250000    43.0    0.0  \n40  100.000000  99.000000  14.000000  152.500000    44.0    0.0  \n41   74.330000  99.000000  17.000000  128.000000    45.0    0.0  \n42   94.500000  95.000000  17.000000  146.500000    46.0    0.0  \n43   94.000000  96.000000  18.000000  149.000000    47.0    0.0  \n44   90.000000  95.000000  20.000000  136.000000    48.0    0.0  ",
      "text/html": "<div>\n<style scoped>\n    .dataframe tbody tr th:only-of-type {\n        vertical-align: middle;\n    }\n\n    .dataframe tbody tr th {\n        vertical-align: top;\n    }\n\n    .dataframe thead th {\n        text-align: right;\n    }\n</style>\n<table border=\"1\" class=\"dataframe\">\n  <thead>\n    <tr style=\"text-align: right;\">\n      <th></th>\n      <th>ID</th>\n      <th>max_ICULOS</th>\n      <th>Gender</th>\n      <th>Hct</th>\n      <th>Glucose</th>\n      <th>Potassium</th>\n      <th>HR</th>\n      <th>MAP</th>\n      <th>O2Sat</th>\n      <th>Resp</th>\n      <th>SBP</th>\n      <th>ICULOS</th>\n      <th>Label</th>\n    </tr>\n  </thead>\n  <tbody>\n    <tr>\n      <th>0</th>\n      <td>3.0</td>\n      <td>48.0</td>\n      <td>1.0</td>\n      <td>42.273606</td>\n      <td>160.732764</td>\n      <td>3.9</td>\n      <td>77.000000</td>\n      <td>95.000000</td>\n      <td>97.000000</td>\n      <td>14.000000</td>\n      <td>135.000000</td>\n      <td>4.0</td>\n      <td>0.0</td>\n    </tr>\n    <tr>\n      <th>1</th>\n      <td>3.0</td>\n      <td>48.0</td>\n      <td>1.0</td>\n      <td>42.094533</td>\n      <td>160.737112</td>\n      <td>3.9</td>\n      <td>73.000000</td>\n      <td>91.000000</td>\n      <td>99.000000</td>\n      <td>16.000000</td>\n      <td>139.000000</td>\n      <td>5.0</td>\n      <td>0.0</td>\n    </tr>\n    <tr>\n      <th>2</th>\n      <td>3.0</td>\n      <td>48.0</td>\n      <td>1.0</td>\n      <td>41.602434</td>\n      <td>160.743672</td>\n      <td>3.9</td>\n      <td>62.000000</td>\n      <td>96.000000</td>\n      <td>99.000000</td>\n      <td>13.000000</td>\n      <td>143.000000</td>\n      <td>6.0</td>\n      <td>0.0</td>\n    </tr>\n    <tr>\n      <th>3</th>\n      <td>3.0</td>\n      <td>48.0</td>\n      <td>1.0</td>\n      <td>42.225180</td>\n      <td>160.736909</td>\n      <td>3.9</td>\n      <td>84.909192</td>\n      <td>91.480435</td>\n      <td>97.141373</td>\n      <td>16.401137</td>\n      <td>138.294600</td>\n      <td>7.0</td>\n      <td>0.0</td>\n    </tr>\n    <tr>\n      <th>4</th>\n      <td>3.0</td>\n      <td>48.0</td>\n      <td>1.0</td>\n      <td>42.190665</td>\n      <td>160.737245</td>\n      <td>3.9</td>\n      <td>84.497589</td>\n      <td>91.321775</td>\n      <td>97.113864</td>\n      <td>16.421269</td>\n      <td>138.219925</td>\n      <td>8.0</td>\n      <td>0.0</td>\n    </tr>\n    <tr>\n      <th>5</th>\n      <td>3.0</td>\n      <td>48.0</td>\n      <td>1.0</td>\n      <td>42.156150</td>\n      <td>160.737580</td>\n      <td>3.9</td>\n      <td>84.085986</td>\n      <td>91.163115</td>\n      <td>97.086355</td>\n      <td>16.441401</td>\n      <td>138.145250</td>\n      <td>9.0</td>\n      <td>0.0</td>\n    </tr>\n    <tr>\n      <th>6</th>\n      <td>3.0</td>\n      <td>48.0</td>\n      <td>1.0</td>\n      <td>41.013945</td>\n      <td>160.758143</td>\n      <td>3.9</td>\n      <td>74.000000</td>\n      <td>106.000000</td>\n      <td>98.000000</td>\n      <td>14.000000</td>\n      <td>152.000000</td>\n      <td>10.0</td>\n      <td>0.0</td>\n    </tr>\n    <tr>\n      <th>7</th>\n      <td>3.0</td>\n      <td>48.0</td>\n      <td>1.0</td>\n      <td>40.966113</td>\n      <td>160.758971</td>\n      <td>3.9</td>\n      <td>75.500000</td>\n      <td>107.500000</td>\n      <td>98.000000</td>\n      <td>14.000000</td>\n      <td>152.000000</td>\n      <td>11.0</td>\n      <td>0.0</td>\n    </tr>\n    <tr>\n      <th>8</th>\n      <td>3.0</td>\n      <td>48.0</td>\n      <td>1.0</td>\n      <td>41.762034</td>\n      <td>160.746731</td>\n      <td>3.9</td>\n      <td>92.000000</td>\n      <td>99.500000</td>\n      <td>98.000000</td>\n      <td>16.500000</td>\n      <td>143.000000</td>\n      <td>12.0</td>\n      <td>0.0</td>\n    </tr>\n    <tr>\n      <th>9</th>\n      <td>3.0</td>\n      <td>48.0</td>\n      <td>1.0</td>\n      <td>41.618178</td>\n      <td>160.752475</td>\n      <td>3.9</td>\n      <td>98.000000</td>\n      <td>98.500000</td>\n      <td>97.500000</td>\n      <td>20.500000</td>\n      <td>148.000000</td>\n      <td>13.0</td>\n      <td>0.0</td>\n    </tr>\n    <tr>\n      <th>10</th>\n      <td>3.0</td>\n      <td>48.0</td>\n      <td>1.0</td>\n      <td>42.079259</td>\n      <td>160.742476</td>\n      <td>3.9</td>\n      <td>100.500000</td>\n      <td>94.000000</td>\n      <td>97.000000</td>\n      <td>19.000000</td>\n      <td>140.000000</td>\n      <td>14.0</td>\n      <td>0.0</td>\n    </tr>\n    <tr>\n      <th>11</th>\n      <td>3.0</td>\n      <td>48.0</td>\n      <td>1.0</td>\n      <td>42.013831</td>\n      <td>160.744554</td>\n      <td>3.9</td>\n      <td>96.000000</td>\n      <td>86.000000</td>\n      <td>94.000000</td>\n      <td>18.000000</td>\n      <td>143.500000</td>\n      <td>15.0</td>\n      <td>0.0</td>\n    </tr>\n    <tr>\n      <th>12</th>\n      <td>3.0</td>\n      <td>48.0</td>\n      <td>1.0</td>\n      <td>42.481801</td>\n      <td>160.734680</td>\n      <td>3.9</td>\n      <td>100.000000</td>\n      <td>83.000000</td>\n      <td>96.000000</td>\n      <td>18.000000</td>\n      <td>135.000000</td>\n      <td>16.0</td>\n      <td>0.0</td>\n    </tr>\n    <tr>\n      <th>13</th>\n      <td>3.0</td>\n      <td>48.0</td>\n      <td>1.0</td>\n      <td>42.565978</td>\n      <td>160.732182</td>\n      <td>3.9</td>\n      <td>101.000000</td>\n      <td>84.000000</td>\n      <td>98.000000</td>\n      <td>20.000000</td>\n      <td>132.000000</td>\n      <td>17.0</td>\n      <td>0.0</td>\n    </tr>\n    <tr>\n      <th>14</th>\n      <td>3.0</td>\n      <td>48.0</td>\n      <td>1.0</td>\n      <td>42.576646</td>\n      <td>160.724518</td>\n      <td>3.9</td>\n      <td>82.000000</td>\n      <td>83.000000</td>\n      <td>97.000000</td>\n      <td>15.000000</td>\n      <td>125.000000</td>\n      <td>18.0</td>\n      <td>0.0</td>\n    </tr>\n    <tr>\n      <th>15</th>\n      <td>3.0</td>\n      <td>48.0</td>\n      <td>1.0</td>\n      <td>41.742494</td>\n      <td>160.742988</td>\n      <td>3.9</td>\n      <td>79.000000</td>\n      <td>89.000000</td>\n      <td>99.000000</td>\n      <td>15.000000</td>\n      <td>139.000000</td>\n      <td>19.0</td>\n      <td>0.0</td>\n    </tr>\n    <tr>\n      <th>16</th>\n      <td>3.0</td>\n      <td>48.0</td>\n      <td>1.0</td>\n      <td>41.262656</td>\n      <td>160.752022</td>\n      <td>3.9</td>\n      <td>78.000000</td>\n      <td>96.000000</td>\n      <td>98.000000</td>\n      <td>16.000000</td>\n      <td>145.000000</td>\n      <td>20.0</td>\n      <td>0.0</td>\n    </tr>\n    <tr>\n      <th>17</th>\n      <td>3.0</td>\n      <td>48.0</td>\n      <td>1.0</td>\n      <td>41.421061</td>\n      <td>160.747369</td>\n      <td>3.9</td>\n      <td>73.000000</td>\n      <td>90.000000</td>\n      <td>97.000000</td>\n      <td>18.000000</td>\n      <td>142.000000</td>\n      <td>21.0</td>\n      <td>0.0</td>\n    </tr>\n    <tr>\n      <th>18</th>\n      <td>3.0</td>\n      <td>48.0</td>\n      <td>1.0</td>\n      <td>42.334786</td>\n      <td>160.724466</td>\n      <td>3.9</td>\n      <td>68.000000</td>\n      <td>80.000000</td>\n      <td>96.000000</td>\n      <td>16.000000</td>\n      <td>124.000000</td>\n      <td>22.0</td>\n      <td>0.0</td>\n    </tr>\n    <tr>\n      <th>19</th>\n      <td>3.0</td>\n      <td>48.0</td>\n      <td>1.0</td>\n      <td>42.400000</td>\n      <td>98.000000</td>\n      <td>3.9</td>\n      <td>81.000000</td>\n      <td>79.000000</td>\n      <td>95.000000</td>\n      <td>16.000000</td>\n      <td>118.000000</td>\n      <td>23.0</td>\n      <td>0.0</td>\n    </tr>\n    <tr>\n      <th>20</th>\n      <td>3.0</td>\n      <td>48.0</td>\n      <td>1.0</td>\n      <td>42.844455</td>\n      <td>160.712386</td>\n      <td>3.9</td>\n      <td>73.000000</td>\n      <td>79.000000</td>\n      <td>96.000000</td>\n      <td>16.000000</td>\n      <td>113.000000</td>\n      <td>24.0</td>\n      <td>0.0</td>\n    </tr>\n    <tr>\n      <th>21</th>\n      <td>3.0</td>\n      <td>48.0</td>\n      <td>1.0</td>\n      <td>42.022546</td>\n      <td>160.730378</td>\n      <td>3.9</td>\n      <td>71.000000</td>\n      <td>85.000000</td>\n      <td>95.000000</td>\n      <td>18.000000</td>\n      <td>127.000000</td>\n      <td>25.0</td>\n      <td>0.0</td>\n    </tr>\n    <tr>\n      <th>22</th>\n      <td>3.0</td>\n      <td>48.0</td>\n      <td>1.0</td>\n      <td>41.709582</td>\n      <td>160.742781</td>\n      <td>3.9</td>\n      <td>88.000000</td>\n      <td>91.000000</td>\n      <td>97.000000</td>\n      <td>20.000000</td>\n      <td>136.000000</td>\n      <td>26.0</td>\n      <td>0.0</td>\n    </tr>\n    <tr>\n      <th>23</th>\n      <td>3.0</td>\n      <td>48.0</td>\n      <td>1.0</td>\n      <td>41.717977</td>\n      <td>160.738881</td>\n      <td>3.9</td>\n      <td>71.000000</td>\n      <td>82.000000</td>\n      <td>97.000000</td>\n      <td>18.000000</td>\n      <td>134.000000</td>\n      <td>27.0</td>\n      <td>0.0</td>\n    </tr>\n    <tr>\n      <th>24</th>\n      <td>3.0</td>\n      <td>48.0</td>\n      <td>1.0</td>\n      <td>41.470035</td>\n      <td>160.745639</td>\n      <td>3.9</td>\n      <td>73.500000</td>\n      <td>82.500000</td>\n      <td>96.000000</td>\n      <td>17.500000</td>\n      <td>139.500000</td>\n      <td>28.0</td>\n      <td>0.0</td>\n    </tr>\n    <tr>\n      <th>25</th>\n      <td>3.0</td>\n      <td>48.0</td>\n      <td>1.0</td>\n      <td>41.650631</td>\n      <td>160.740132</td>\n      <td>3.9</td>\n      <td>69.000000</td>\n      <td>79.000000</td>\n      <td>96.000000</td>\n      <td>14.000000</td>\n      <td>135.000000</td>\n      <td>29.0</td>\n      <td>0.0</td>\n    </tr>\n    <tr>\n      <th>26</th>\n      <td>3.0</td>\n      <td>48.0</td>\n      <td>1.0</td>\n      <td>41.942197</td>\n      <td>160.732891</td>\n      <td>3.9</td>\n      <td>74.000000</td>\n      <td>81.000000</td>\n      <td>96.000000</td>\n      <td>19.000000</td>\n      <td>128.000000</td>\n      <td>30.0</td>\n      <td>0.0</td>\n    </tr>\n    <tr>\n      <th>27</th>\n      <td>3.0</td>\n      <td>48.0</td>\n      <td>1.0</td>\n      <td>42.148040</td>\n      <td>160.725746</td>\n      <td>3.9</td>\n      <td>68.000000</td>\n      <td>78.000000</td>\n      <td>96.000000</td>\n      <td>19.000000</td>\n      <td>122.000000</td>\n      <td>31.0</td>\n      <td>0.0</td>\n    </tr>\n    <tr>\n      <th>28</th>\n      <td>3.0</td>\n      <td>48.0</td>\n      <td>1.0</td>\n      <td>40.669542</td>\n      <td>160.761190</td>\n      <td>3.9</td>\n      <td>67.000000</td>\n      <td>85.000000</td>\n      <td>94.000000</td>\n      <td>17.000000</td>\n      <td>151.000000</td>\n      <td>32.0</td>\n      <td>0.0</td>\n    </tr>\n    <tr>\n      <th>29</th>\n      <td>3.0</td>\n      <td>48.0</td>\n      <td>1.0</td>\n      <td>41.235857</td>\n      <td>160.750384</td>\n      <td>3.9</td>\n      <td>76.000000</td>\n      <td>82.000000</td>\n      <td>94.000000</td>\n      <td>17.000000</td>\n      <td>142.000000</td>\n      <td>33.0</td>\n      <td>0.0</td>\n    </tr>\n    <tr>\n      <th>30</th>\n      <td>3.0</td>\n      <td>48.0</td>\n      <td>1.0</td>\n      <td>41.811297</td>\n      <td>160.729632</td>\n      <td>3.9</td>\n      <td>68.000000</td>\n      <td>88.000000</td>\n      <td>95.000000</td>\n      <td>15.000000</td>\n      <td>122.000000</td>\n      <td>34.0</td>\n      <td>0.0</td>\n    </tr>\n    <tr>\n      <th>31</th>\n      <td>3.0</td>\n      <td>48.0</td>\n      <td>1.0</td>\n      <td>41.526655</td>\n      <td>160.742676</td>\n      <td>3.9</td>\n      <td>80.000000</td>\n      <td>84.000000</td>\n      <td>95.000000</td>\n      <td>18.000000</td>\n      <td>134.000000</td>\n      <td>35.0</td>\n      <td>0.0</td>\n    </tr>\n    <tr>\n      <th>32</th>\n      <td>3.0</td>\n      <td>48.0</td>\n      <td>1.0</td>\n      <td>40.980218</td>\n      <td>207.000000</td>\n      <td>3.9</td>\n      <td>86.000000</td>\n      <td>92.000000</td>\n      <td>97.000000</td>\n      <td>17.000000</td>\n      <td>150.000000</td>\n      <td>36.0</td>\n      <td>0.0</td>\n    </tr>\n    <tr>\n      <th>33</th>\n      <td>3.0</td>\n      <td>48.0</td>\n      <td>1.0</td>\n      <td>40.830239</td>\n      <td>160.755892</td>\n      <td>3.9</td>\n      <td>70.000000</td>\n      <td>86.000000</td>\n      <td>95.000000</td>\n      <td>11.000000</td>\n      <td>144.000000</td>\n      <td>37.0</td>\n      <td>0.0</td>\n    </tr>\n    <tr>\n      <th>34</th>\n      <td>3.0</td>\n      <td>48.0</td>\n      <td>1.0</td>\n      <td>40.988688</td>\n      <td>160.758249</td>\n      <td>3.9</td>\n      <td>86.000000</td>\n      <td>82.000000</td>\n      <td>94.000000</td>\n      <td>21.000000</td>\n      <td>147.000000</td>\n      <td>38.0</td>\n      <td>0.0</td>\n    </tr>\n    <tr>\n      <th>35</th>\n      <td>3.0</td>\n      <td>48.0</td>\n      <td>1.0</td>\n      <td>41.486837</td>\n      <td>160.739665</td>\n      <td>3.9</td>\n      <td>72.000000</td>\n      <td>82.000000</td>\n      <td>96.000000</td>\n      <td>17.000000</td>\n      <td>130.000000</td>\n      <td>39.0</td>\n      <td>0.0</td>\n    </tr>\n    <tr>\n      <th>36</th>\n      <td>3.0</td>\n      <td>48.0</td>\n      <td>1.0</td>\n      <td>40.708556</td>\n      <td>160.757867</td>\n      <td>3.9</td>\n      <td>71.000000</td>\n      <td>87.000000</td>\n      <td>98.000000</td>\n      <td>16.000000</td>\n      <td>144.000000</td>\n      <td>40.0</td>\n      <td>0.0</td>\n    </tr>\n    <tr>\n      <th>37</th>\n      <td>3.0</td>\n      <td>48.0</td>\n      <td>1.0</td>\n      <td>41.318516</td>\n      <td>244.000000</td>\n      <td>3.9</td>\n      <td>70.000000</td>\n      <td>88.000000</td>\n      <td>96.000000</td>\n      <td>16.000000</td>\n      <td>140.000000</td>\n      <td>41.0</td>\n      <td>0.0</td>\n    </tr>\n    <tr>\n      <th>38</th>\n      <td>3.0</td>\n      <td>48.0</td>\n      <td>1.0</td>\n      <td>41.487542</td>\n      <td>160.729879</td>\n      <td>3.9</td>\n      <td>64.500000</td>\n      <td>97.500000</td>\n      <td>98.000000</td>\n      <td>17.000000</td>\n      <td>116.500000</td>\n      <td>42.0</td>\n      <td>0.0</td>\n    </tr>\n    <tr>\n      <th>39</th>\n      <td>3.0</td>\n      <td>48.0</td>\n      <td>1.0</td>\n      <td>41.542659</td>\n      <td>160.733853</td>\n      <td>3.9</td>\n      <td>68.500000</td>\n      <td>85.670000</td>\n      <td>98.000000</td>\n      <td>17.500000</td>\n      <td>122.250000</td>\n      <td>43.0</td>\n      <td>0.0</td>\n    </tr>\n    <tr>\n      <th>40</th>\n      <td>3.0</td>\n      <td>48.0</td>\n      <td>1.0</td>\n      <td>39.692607</td>\n      <td>160.773214</td>\n      <td>3.9</td>\n      <td>58.000000</td>\n      <td>100.000000</td>\n      <td>99.000000</td>\n      <td>14.000000</td>\n      <td>152.500000</td>\n      <td>44.0</td>\n      <td>0.0</td>\n    </tr>\n    <tr>\n      <th>41</th>\n      <td>3.0</td>\n      <td>48.0</td>\n      <td>1.0</td>\n      <td>41.483593</td>\n      <td>160.738635</td>\n      <td>3.9</td>\n      <td>68.000000</td>\n      <td>74.330000</td>\n      <td>99.000000</td>\n      <td>17.000000</td>\n      <td>128.000000</td>\n      <td>45.0</td>\n      <td>0.0</td>\n    </tr>\n    <tr>\n      <th>42</th>\n      <td>3.0</td>\n      <td>48.0</td>\n      <td>1.0</td>\n      <td>39.800000</td>\n      <td>94.000000</td>\n      <td>3.9</td>\n      <td>71.000000</td>\n      <td>94.500000</td>\n      <td>95.000000</td>\n      <td>17.000000</td>\n      <td>146.500000</td>\n      <td>46.0</td>\n      <td>0.0</td>\n    </tr>\n    <tr>\n      <th>43</th>\n      <td>3.0</td>\n      <td>48.0</td>\n      <td>1.0</td>\n      <td>40.074885</td>\n      <td>160.768342</td>\n      <td>3.9</td>\n      <td>71.000000</td>\n      <td>94.000000</td>\n      <td>96.000000</td>\n      <td>18.000000</td>\n      <td>149.000000</td>\n      <td>47.0</td>\n      <td>0.0</td>\n    </tr>\n    <tr>\n      <th>44</th>\n      <td>3.0</td>\n      <td>48.0</td>\n      <td>1.0</td>\n      <td>40.698574</td>\n      <td>160.752613</td>\n      <td>3.9</td>\n      <td>71.000000</td>\n      <td>90.000000</td>\n      <td>95.000000</td>\n      <td>20.000000</td>\n      <td>136.000000</td>\n      <td>48.0</td>\n      <td>0.0</td>\n    </tr>\n  </tbody>\n</table>\n</div>"
     },
     "execution_count": 71,
     "metadata": {},
     "output_type": "execute_result"
    }
   ],
   "source": [
    "imputed[imputed.ID==3]"
   ],
   "metadata": {
    "collapsed": false,
    "pycharm": {
     "name": "#%%\n"
    }
   }
  },
  {
   "cell_type": "code",
   "execution_count": 70,
   "outputs": [
    {
     "data": {
      "text/plain": "        ID  max_ICULOS  Gender   Hct  Glucose  Potassium     HR     MAP  \\\n539726   3          48       1   NaN      NaN        NaN   77.0   95.00   \n539727   3          48       1   NaN      NaN        NaN   73.0   91.00   \n539728   3          48       1   NaN      NaN        NaN   62.0   96.00   \n539729   3          48       1   NaN      NaN        NaN    NaN     NaN   \n539730   3          48       1   NaN      NaN        NaN    NaN     NaN   \n539731   3          48       1   NaN      NaN        NaN    NaN     NaN   \n539732   3          48       1   NaN      NaN        NaN   74.0  106.00   \n539733   3          48       1   NaN      NaN        NaN   75.5  107.50   \n539734   3          48       1   NaN      NaN        NaN   92.0   99.50   \n539735   3          48       1   NaN      NaN        NaN   98.0   98.50   \n539736   3          48       1   NaN      NaN        NaN  100.5   94.00   \n539737   3          48       1   NaN      NaN        NaN   96.0   86.00   \n539738   3          48       1   NaN      NaN        NaN  100.0   83.00   \n539739   3          48       1   NaN      NaN        NaN  101.0   84.00   \n539740   3          48       1   NaN      NaN        NaN   82.0   83.00   \n539741   3          48       1   NaN      NaN        NaN   79.0   89.00   \n539742   3          48       1   NaN      NaN        NaN   78.0   96.00   \n539743   3          48       1   NaN      NaN        NaN   73.0   90.00   \n539744   3          48       1   NaN      NaN        NaN   68.0   80.00   \n539745   3          48       1  42.4     98.0        3.9   81.0   79.00   \n539746   3          48       1   NaN      NaN        NaN   73.0   79.00   \n539747   3          48       1   NaN      NaN        NaN   71.0   85.00   \n539748   3          48       1   NaN      NaN        NaN   88.0   91.00   \n539749   3          48       1   NaN      NaN        NaN   71.0   82.00   \n539750   3          48       1   NaN      NaN        NaN   73.5   82.50   \n539751   3          48       1   NaN      NaN        NaN   69.0   79.00   \n539752   3          48       1   NaN      NaN        NaN   74.0   81.00   \n539753   3          48       1   NaN      NaN        NaN   68.0   78.00   \n539754   3          48       1   NaN      NaN        NaN   67.0   85.00   \n539755   3          48       1   NaN      NaN        NaN   76.0   82.00   \n539756   3          48       1   NaN      NaN        NaN   68.0   88.00   \n539757   3          48       1   NaN      NaN        NaN   80.0   84.00   \n539758   3          48       1   NaN    207.0        NaN   86.0   92.00   \n539759   3          48       1   NaN      NaN        NaN   70.0   86.00   \n539760   3          48       1   NaN      NaN        NaN   86.0   82.00   \n539761   3          48       1   NaN      NaN        NaN   72.0   82.00   \n539762   3          48       1   NaN      NaN        NaN   71.0   87.00   \n539763   3          48       1   NaN    244.0        NaN   70.0   88.00   \n539764   3          48       1   NaN      NaN        NaN   64.5   97.50   \n539765   3          48       1   NaN      NaN        NaN   68.5   85.67   \n539766   3          48       1   NaN      NaN        NaN   58.0  100.00   \n539767   3          48       1   NaN      NaN        NaN   68.0   74.33   \n539768   3          48       1  39.8     94.0        3.9   71.0   94.50   \n539769   3          48       1   NaN      NaN        NaN   71.0   94.00   \n539770   3          48       1   NaN      NaN        NaN   71.0   90.00   \n\n        O2Sat  Resp     SBP  ICULOS  Label  \n539726   97.0  14.0  135.00       4      0  \n539727   99.0  16.0  139.00       5      0  \n539728   99.0  13.0  143.00       6      0  \n539729    NaN   NaN     NaN       7      0  \n539730    NaN   NaN     NaN       8      0  \n539731    NaN   NaN     NaN       9      0  \n539732   98.0  14.0  152.00      10      0  \n539733   98.0  14.0  152.00      11      0  \n539734   98.0  16.5  143.00      12      0  \n539735   97.5  20.5  148.00      13      0  \n539736   97.0  19.0  140.00      14      0  \n539737   94.0  18.0  143.50      15      0  \n539738   96.0  18.0  135.00      16      0  \n539739   98.0  20.0  132.00      17      0  \n539740   97.0  15.0  125.00      18      0  \n539741   99.0  15.0  139.00      19      0  \n539742   98.0  16.0  145.00      20      0  \n539743   97.0  18.0  142.00      21      0  \n539744   96.0  16.0  124.00      22      0  \n539745   95.0  16.0  118.00      23      0  \n539746   96.0  16.0  113.00      24      0  \n539747   95.0  18.0  127.00      25      0  \n539748   97.0  20.0  136.00      26      0  \n539749   97.0  18.0  134.00      27      0  \n539750   96.0  17.5  139.50      28      0  \n539751   96.0  14.0  135.00      29      0  \n539752   96.0  19.0  128.00      30      0  \n539753   96.0  19.0  122.00      31      0  \n539754   94.0  17.0  151.00      32      0  \n539755   94.0  17.0  142.00      33      0  \n539756   95.0  15.0  122.00      34      0  \n539757   95.0  18.0  134.00      35      0  \n539758   97.0  17.0  150.00      36      0  \n539759   95.0  11.0  144.00      37      0  \n539760   94.0  21.0  147.00      38      0  \n539761   96.0  17.0  130.00      39      0  \n539762   98.0  16.0  144.00      40      0  \n539763   96.0  16.0  140.00      41      0  \n539764   98.0  17.0  116.50      42      0  \n539765   98.0  17.5  122.25      43      0  \n539766   99.0  14.0  152.50      44      0  \n539767   99.0  17.0  128.00      45      0  \n539768   95.0  17.0  146.50      46      0  \n539769   96.0  18.0  149.00      47      0  \n539770   95.0  20.0  136.00      48      0  ",
      "text/html": "<div>\n<style scoped>\n    .dataframe tbody tr th:only-of-type {\n        vertical-align: middle;\n    }\n\n    .dataframe tbody tr th {\n        vertical-align: top;\n    }\n\n    .dataframe thead th {\n        text-align: right;\n    }\n</style>\n<table border=\"1\" class=\"dataframe\">\n  <thead>\n    <tr style=\"text-align: right;\">\n      <th></th>\n      <th>ID</th>\n      <th>max_ICULOS</th>\n      <th>Gender</th>\n      <th>Hct</th>\n      <th>Glucose</th>\n      <th>Potassium</th>\n      <th>HR</th>\n      <th>MAP</th>\n      <th>O2Sat</th>\n      <th>Resp</th>\n      <th>SBP</th>\n      <th>ICULOS</th>\n      <th>Label</th>\n    </tr>\n  </thead>\n  <tbody>\n    <tr>\n      <th>539726</th>\n      <td>3</td>\n      <td>48</td>\n      <td>1</td>\n      <td>NaN</td>\n      <td>NaN</td>\n      <td>NaN</td>\n      <td>77.0</td>\n      <td>95.00</td>\n      <td>97.0</td>\n      <td>14.0</td>\n      <td>135.00</td>\n      <td>4</td>\n      <td>0</td>\n    </tr>\n    <tr>\n      <th>539727</th>\n      <td>3</td>\n      <td>48</td>\n      <td>1</td>\n      <td>NaN</td>\n      <td>NaN</td>\n      <td>NaN</td>\n      <td>73.0</td>\n      <td>91.00</td>\n      <td>99.0</td>\n      <td>16.0</td>\n      <td>139.00</td>\n      <td>5</td>\n      <td>0</td>\n    </tr>\n    <tr>\n      <th>539728</th>\n      <td>3</td>\n      <td>48</td>\n      <td>1</td>\n      <td>NaN</td>\n      <td>NaN</td>\n      <td>NaN</td>\n      <td>62.0</td>\n      <td>96.00</td>\n      <td>99.0</td>\n      <td>13.0</td>\n      <td>143.00</td>\n      <td>6</td>\n      <td>0</td>\n    </tr>\n    <tr>\n      <th>539729</th>\n      <td>3</td>\n      <td>48</td>\n      <td>1</td>\n      <td>NaN</td>\n      <td>NaN</td>\n      <td>NaN</td>\n      <td>NaN</td>\n      <td>NaN</td>\n      <td>NaN</td>\n      <td>NaN</td>\n      <td>NaN</td>\n      <td>7</td>\n      <td>0</td>\n    </tr>\n    <tr>\n      <th>539730</th>\n      <td>3</td>\n      <td>48</td>\n      <td>1</td>\n      <td>NaN</td>\n      <td>NaN</td>\n      <td>NaN</td>\n      <td>NaN</td>\n      <td>NaN</td>\n      <td>NaN</td>\n      <td>NaN</td>\n      <td>NaN</td>\n      <td>8</td>\n      <td>0</td>\n    </tr>\n    <tr>\n      <th>539731</th>\n      <td>3</td>\n      <td>48</td>\n      <td>1</td>\n      <td>NaN</td>\n      <td>NaN</td>\n      <td>NaN</td>\n      <td>NaN</td>\n      <td>NaN</td>\n      <td>NaN</td>\n      <td>NaN</td>\n      <td>NaN</td>\n      <td>9</td>\n      <td>0</td>\n    </tr>\n    <tr>\n      <th>539732</th>\n      <td>3</td>\n      <td>48</td>\n      <td>1</td>\n      <td>NaN</td>\n      <td>NaN</td>\n      <td>NaN</td>\n      <td>74.0</td>\n      <td>106.00</td>\n      <td>98.0</td>\n      <td>14.0</td>\n      <td>152.00</td>\n      <td>10</td>\n      <td>0</td>\n    </tr>\n    <tr>\n      <th>539733</th>\n      <td>3</td>\n      <td>48</td>\n      <td>1</td>\n      <td>NaN</td>\n      <td>NaN</td>\n      <td>NaN</td>\n      <td>75.5</td>\n      <td>107.50</td>\n      <td>98.0</td>\n      <td>14.0</td>\n      <td>152.00</td>\n      <td>11</td>\n      <td>0</td>\n    </tr>\n    <tr>\n      <th>539734</th>\n      <td>3</td>\n      <td>48</td>\n      <td>1</td>\n      <td>NaN</td>\n      <td>NaN</td>\n      <td>NaN</td>\n      <td>92.0</td>\n      <td>99.50</td>\n      <td>98.0</td>\n      <td>16.5</td>\n      <td>143.00</td>\n      <td>12</td>\n      <td>0</td>\n    </tr>\n    <tr>\n      <th>539735</th>\n      <td>3</td>\n      <td>48</td>\n      <td>1</td>\n      <td>NaN</td>\n      <td>NaN</td>\n      <td>NaN</td>\n      <td>98.0</td>\n      <td>98.50</td>\n      <td>97.5</td>\n      <td>20.5</td>\n      <td>148.00</td>\n      <td>13</td>\n      <td>0</td>\n    </tr>\n    <tr>\n      <th>539736</th>\n      <td>3</td>\n      <td>48</td>\n      <td>1</td>\n      <td>NaN</td>\n      <td>NaN</td>\n      <td>NaN</td>\n      <td>100.5</td>\n      <td>94.00</td>\n      <td>97.0</td>\n      <td>19.0</td>\n      <td>140.00</td>\n      <td>14</td>\n      <td>0</td>\n    </tr>\n    <tr>\n      <th>539737</th>\n      <td>3</td>\n      <td>48</td>\n      <td>1</td>\n      <td>NaN</td>\n      <td>NaN</td>\n      <td>NaN</td>\n      <td>96.0</td>\n      <td>86.00</td>\n      <td>94.0</td>\n      <td>18.0</td>\n      <td>143.50</td>\n      <td>15</td>\n      <td>0</td>\n    </tr>\n    <tr>\n      <th>539738</th>\n      <td>3</td>\n      <td>48</td>\n      <td>1</td>\n      <td>NaN</td>\n      <td>NaN</td>\n      <td>NaN</td>\n      <td>100.0</td>\n      <td>83.00</td>\n      <td>96.0</td>\n      <td>18.0</td>\n      <td>135.00</td>\n      <td>16</td>\n      <td>0</td>\n    </tr>\n    <tr>\n      <th>539739</th>\n      <td>3</td>\n      <td>48</td>\n      <td>1</td>\n      <td>NaN</td>\n      <td>NaN</td>\n      <td>NaN</td>\n      <td>101.0</td>\n      <td>84.00</td>\n      <td>98.0</td>\n      <td>20.0</td>\n      <td>132.00</td>\n      <td>17</td>\n      <td>0</td>\n    </tr>\n    <tr>\n      <th>539740</th>\n      <td>3</td>\n      <td>48</td>\n      <td>1</td>\n      <td>NaN</td>\n      <td>NaN</td>\n      <td>NaN</td>\n      <td>82.0</td>\n      <td>83.00</td>\n      <td>97.0</td>\n      <td>15.0</td>\n      <td>125.00</td>\n      <td>18</td>\n      <td>0</td>\n    </tr>\n    <tr>\n      <th>539741</th>\n      <td>3</td>\n      <td>48</td>\n      <td>1</td>\n      <td>NaN</td>\n      <td>NaN</td>\n      <td>NaN</td>\n      <td>79.0</td>\n      <td>89.00</td>\n      <td>99.0</td>\n      <td>15.0</td>\n      <td>139.00</td>\n      <td>19</td>\n      <td>0</td>\n    </tr>\n    <tr>\n      <th>539742</th>\n      <td>3</td>\n      <td>48</td>\n      <td>1</td>\n      <td>NaN</td>\n      <td>NaN</td>\n      <td>NaN</td>\n      <td>78.0</td>\n      <td>96.00</td>\n      <td>98.0</td>\n      <td>16.0</td>\n      <td>145.00</td>\n      <td>20</td>\n      <td>0</td>\n    </tr>\n    <tr>\n      <th>539743</th>\n      <td>3</td>\n      <td>48</td>\n      <td>1</td>\n      <td>NaN</td>\n      <td>NaN</td>\n      <td>NaN</td>\n      <td>73.0</td>\n      <td>90.00</td>\n      <td>97.0</td>\n      <td>18.0</td>\n      <td>142.00</td>\n      <td>21</td>\n      <td>0</td>\n    </tr>\n    <tr>\n      <th>539744</th>\n      <td>3</td>\n      <td>48</td>\n      <td>1</td>\n      <td>NaN</td>\n      <td>NaN</td>\n      <td>NaN</td>\n      <td>68.0</td>\n      <td>80.00</td>\n      <td>96.0</td>\n      <td>16.0</td>\n      <td>124.00</td>\n      <td>22</td>\n      <td>0</td>\n    </tr>\n    <tr>\n      <th>539745</th>\n      <td>3</td>\n      <td>48</td>\n      <td>1</td>\n      <td>42.4</td>\n      <td>98.0</td>\n      <td>3.9</td>\n      <td>81.0</td>\n      <td>79.00</td>\n      <td>95.0</td>\n      <td>16.0</td>\n      <td>118.00</td>\n      <td>23</td>\n      <td>0</td>\n    </tr>\n    <tr>\n      <th>539746</th>\n      <td>3</td>\n      <td>48</td>\n      <td>1</td>\n      <td>NaN</td>\n      <td>NaN</td>\n      <td>NaN</td>\n      <td>73.0</td>\n      <td>79.00</td>\n      <td>96.0</td>\n      <td>16.0</td>\n      <td>113.00</td>\n      <td>24</td>\n      <td>0</td>\n    </tr>\n    <tr>\n      <th>539747</th>\n      <td>3</td>\n      <td>48</td>\n      <td>1</td>\n      <td>NaN</td>\n      <td>NaN</td>\n      <td>NaN</td>\n      <td>71.0</td>\n      <td>85.00</td>\n      <td>95.0</td>\n      <td>18.0</td>\n      <td>127.00</td>\n      <td>25</td>\n      <td>0</td>\n    </tr>\n    <tr>\n      <th>539748</th>\n      <td>3</td>\n      <td>48</td>\n      <td>1</td>\n      <td>NaN</td>\n      <td>NaN</td>\n      <td>NaN</td>\n      <td>88.0</td>\n      <td>91.00</td>\n      <td>97.0</td>\n      <td>20.0</td>\n      <td>136.00</td>\n      <td>26</td>\n      <td>0</td>\n    </tr>\n    <tr>\n      <th>539749</th>\n      <td>3</td>\n      <td>48</td>\n      <td>1</td>\n      <td>NaN</td>\n      <td>NaN</td>\n      <td>NaN</td>\n      <td>71.0</td>\n      <td>82.00</td>\n      <td>97.0</td>\n      <td>18.0</td>\n      <td>134.00</td>\n      <td>27</td>\n      <td>0</td>\n    </tr>\n    <tr>\n      <th>539750</th>\n      <td>3</td>\n      <td>48</td>\n      <td>1</td>\n      <td>NaN</td>\n      <td>NaN</td>\n      <td>NaN</td>\n      <td>73.5</td>\n      <td>82.50</td>\n      <td>96.0</td>\n      <td>17.5</td>\n      <td>139.50</td>\n      <td>28</td>\n      <td>0</td>\n    </tr>\n    <tr>\n      <th>539751</th>\n      <td>3</td>\n      <td>48</td>\n      <td>1</td>\n      <td>NaN</td>\n      <td>NaN</td>\n      <td>NaN</td>\n      <td>69.0</td>\n      <td>79.00</td>\n      <td>96.0</td>\n      <td>14.0</td>\n      <td>135.00</td>\n      <td>29</td>\n      <td>0</td>\n    </tr>\n    <tr>\n      <th>539752</th>\n      <td>3</td>\n      <td>48</td>\n      <td>1</td>\n      <td>NaN</td>\n      <td>NaN</td>\n      <td>NaN</td>\n      <td>74.0</td>\n      <td>81.00</td>\n      <td>96.0</td>\n      <td>19.0</td>\n      <td>128.00</td>\n      <td>30</td>\n      <td>0</td>\n    </tr>\n    <tr>\n      <th>539753</th>\n      <td>3</td>\n      <td>48</td>\n      <td>1</td>\n      <td>NaN</td>\n      <td>NaN</td>\n      <td>NaN</td>\n      <td>68.0</td>\n      <td>78.00</td>\n      <td>96.0</td>\n      <td>19.0</td>\n      <td>122.00</td>\n      <td>31</td>\n      <td>0</td>\n    </tr>\n    <tr>\n      <th>539754</th>\n      <td>3</td>\n      <td>48</td>\n      <td>1</td>\n      <td>NaN</td>\n      <td>NaN</td>\n      <td>NaN</td>\n      <td>67.0</td>\n      <td>85.00</td>\n      <td>94.0</td>\n      <td>17.0</td>\n      <td>151.00</td>\n      <td>32</td>\n      <td>0</td>\n    </tr>\n    <tr>\n      <th>539755</th>\n      <td>3</td>\n      <td>48</td>\n      <td>1</td>\n      <td>NaN</td>\n      <td>NaN</td>\n      <td>NaN</td>\n      <td>76.0</td>\n      <td>82.00</td>\n      <td>94.0</td>\n      <td>17.0</td>\n      <td>142.00</td>\n      <td>33</td>\n      <td>0</td>\n    </tr>\n    <tr>\n      <th>539756</th>\n      <td>3</td>\n      <td>48</td>\n      <td>1</td>\n      <td>NaN</td>\n      <td>NaN</td>\n      <td>NaN</td>\n      <td>68.0</td>\n      <td>88.00</td>\n      <td>95.0</td>\n      <td>15.0</td>\n      <td>122.00</td>\n      <td>34</td>\n      <td>0</td>\n    </tr>\n    <tr>\n      <th>539757</th>\n      <td>3</td>\n      <td>48</td>\n      <td>1</td>\n      <td>NaN</td>\n      <td>NaN</td>\n      <td>NaN</td>\n      <td>80.0</td>\n      <td>84.00</td>\n      <td>95.0</td>\n      <td>18.0</td>\n      <td>134.00</td>\n      <td>35</td>\n      <td>0</td>\n    </tr>\n    <tr>\n      <th>539758</th>\n      <td>3</td>\n      <td>48</td>\n      <td>1</td>\n      <td>NaN</td>\n      <td>207.0</td>\n      <td>NaN</td>\n      <td>86.0</td>\n      <td>92.00</td>\n      <td>97.0</td>\n      <td>17.0</td>\n      <td>150.00</td>\n      <td>36</td>\n      <td>0</td>\n    </tr>\n    <tr>\n      <th>539759</th>\n      <td>3</td>\n      <td>48</td>\n      <td>1</td>\n      <td>NaN</td>\n      <td>NaN</td>\n      <td>NaN</td>\n      <td>70.0</td>\n      <td>86.00</td>\n      <td>95.0</td>\n      <td>11.0</td>\n      <td>144.00</td>\n      <td>37</td>\n      <td>0</td>\n    </tr>\n    <tr>\n      <th>539760</th>\n      <td>3</td>\n      <td>48</td>\n      <td>1</td>\n      <td>NaN</td>\n      <td>NaN</td>\n      <td>NaN</td>\n      <td>86.0</td>\n      <td>82.00</td>\n      <td>94.0</td>\n      <td>21.0</td>\n      <td>147.00</td>\n      <td>38</td>\n      <td>0</td>\n    </tr>\n    <tr>\n      <th>539761</th>\n      <td>3</td>\n      <td>48</td>\n      <td>1</td>\n      <td>NaN</td>\n      <td>NaN</td>\n      <td>NaN</td>\n      <td>72.0</td>\n      <td>82.00</td>\n      <td>96.0</td>\n      <td>17.0</td>\n      <td>130.00</td>\n      <td>39</td>\n      <td>0</td>\n    </tr>\n    <tr>\n      <th>539762</th>\n      <td>3</td>\n      <td>48</td>\n      <td>1</td>\n      <td>NaN</td>\n      <td>NaN</td>\n      <td>NaN</td>\n      <td>71.0</td>\n      <td>87.00</td>\n      <td>98.0</td>\n      <td>16.0</td>\n      <td>144.00</td>\n      <td>40</td>\n      <td>0</td>\n    </tr>\n    <tr>\n      <th>539763</th>\n      <td>3</td>\n      <td>48</td>\n      <td>1</td>\n      <td>NaN</td>\n      <td>244.0</td>\n      <td>NaN</td>\n      <td>70.0</td>\n      <td>88.00</td>\n      <td>96.0</td>\n      <td>16.0</td>\n      <td>140.00</td>\n      <td>41</td>\n      <td>0</td>\n    </tr>\n    <tr>\n      <th>539764</th>\n      <td>3</td>\n      <td>48</td>\n      <td>1</td>\n      <td>NaN</td>\n      <td>NaN</td>\n      <td>NaN</td>\n      <td>64.5</td>\n      <td>97.50</td>\n      <td>98.0</td>\n      <td>17.0</td>\n      <td>116.50</td>\n      <td>42</td>\n      <td>0</td>\n    </tr>\n    <tr>\n      <th>539765</th>\n      <td>3</td>\n      <td>48</td>\n      <td>1</td>\n      <td>NaN</td>\n      <td>NaN</td>\n      <td>NaN</td>\n      <td>68.5</td>\n      <td>85.67</td>\n      <td>98.0</td>\n      <td>17.5</td>\n      <td>122.25</td>\n      <td>43</td>\n      <td>0</td>\n    </tr>\n    <tr>\n      <th>539766</th>\n      <td>3</td>\n      <td>48</td>\n      <td>1</td>\n      <td>NaN</td>\n      <td>NaN</td>\n      <td>NaN</td>\n      <td>58.0</td>\n      <td>100.00</td>\n      <td>99.0</td>\n      <td>14.0</td>\n      <td>152.50</td>\n      <td>44</td>\n      <td>0</td>\n    </tr>\n    <tr>\n      <th>539767</th>\n      <td>3</td>\n      <td>48</td>\n      <td>1</td>\n      <td>NaN</td>\n      <td>NaN</td>\n      <td>NaN</td>\n      <td>68.0</td>\n      <td>74.33</td>\n      <td>99.0</td>\n      <td>17.0</td>\n      <td>128.00</td>\n      <td>45</td>\n      <td>0</td>\n    </tr>\n    <tr>\n      <th>539768</th>\n      <td>3</td>\n      <td>48</td>\n      <td>1</td>\n      <td>39.8</td>\n      <td>94.0</td>\n      <td>3.9</td>\n      <td>71.0</td>\n      <td>94.50</td>\n      <td>95.0</td>\n      <td>17.0</td>\n      <td>146.50</td>\n      <td>46</td>\n      <td>0</td>\n    </tr>\n    <tr>\n      <th>539769</th>\n      <td>3</td>\n      <td>48</td>\n      <td>1</td>\n      <td>NaN</td>\n      <td>NaN</td>\n      <td>NaN</td>\n      <td>71.0</td>\n      <td>94.00</td>\n      <td>96.0</td>\n      <td>18.0</td>\n      <td>149.00</td>\n      <td>47</td>\n      <td>0</td>\n    </tr>\n    <tr>\n      <th>539770</th>\n      <td>3</td>\n      <td>48</td>\n      <td>1</td>\n      <td>NaN</td>\n      <td>NaN</td>\n      <td>NaN</td>\n      <td>71.0</td>\n      <td>90.00</td>\n      <td>95.0</td>\n      <td>20.0</td>\n      <td>136.00</td>\n      <td>48</td>\n      <td>0</td>\n    </tr>\n  </tbody>\n</table>\n</div>"
     },
     "execution_count": 70,
     "metadata": {},
     "output_type": "execute_result"
    }
   ],
   "source": [
    "s[s.ID==3]"
   ],
   "metadata": {
    "collapsed": false,
    "pycharm": {
     "name": "#%%\n"
    }
   }
  },
  {
   "cell_type": "code",
   "execution_count": null,
   "outputs": [],
   "source": [
    "s = s.sort_values(by=['ID','ICULOS'], ascending =[True,True])\n",
    "rolling = df[['ID']+attr].groupby('ID').rolling(window=window_size, closed='both').count()\n",
    "rolling= rolling.rename(columns={at: f'{window_size}w_sum_{at}' for at in attr})\n",
    "rolling=rolling[list(rolling.columns)[1:]].reset_index().set_index('level_1')\n",
    "combined = df.join(rolling,how='left', rsuffix= 'r')"
   ],
   "metadata": {
    "collapsed": false,
    "pycharm": {
     "name": "#%%\n"
    }
   }
  },
  {
   "cell_type": "code",
   "execution_count": 10,
   "outputs": [
    {
     "data": {
      "text/plain": "        Unit1  Unit2\n75951     0.0    1.0\n75952     0.0    1.0\n75953     0.0    1.0\n75954     0.0    1.0\n75955     0.0    1.0\n...       ...    ...\n539766    NaN    NaN\n539767    NaN    NaN\n539768    NaN    NaN\n539769    NaN    NaN\n539770    NaN    NaN\n\n[104 rows x 2 columns]",
      "text/html": "<div>\n<style scoped>\n    .dataframe tbody tr th:only-of-type {\n        vertical-align: middle;\n    }\n\n    .dataframe tbody tr th {\n        vertical-align: top;\n    }\n\n    .dataframe thead th {\n        text-align: right;\n    }\n</style>\n<table border=\"1\" class=\"dataframe\">\n  <thead>\n    <tr style=\"text-align: right;\">\n      <th></th>\n      <th>Unit1</th>\n      <th>Unit2</th>\n    </tr>\n  </thead>\n  <tbody>\n    <tr>\n      <th>75951</th>\n      <td>0.0</td>\n      <td>1.0</td>\n    </tr>\n    <tr>\n      <th>75952</th>\n      <td>0.0</td>\n      <td>1.0</td>\n    </tr>\n    <tr>\n      <th>75953</th>\n      <td>0.0</td>\n      <td>1.0</td>\n    </tr>\n    <tr>\n      <th>75954</th>\n      <td>0.0</td>\n      <td>1.0</td>\n    </tr>\n    <tr>\n      <th>75955</th>\n      <td>0.0</td>\n      <td>1.0</td>\n    </tr>\n    <tr>\n      <th>...</th>\n      <td>...</td>\n      <td>...</td>\n    </tr>\n    <tr>\n      <th>539766</th>\n      <td>NaN</td>\n      <td>NaN</td>\n    </tr>\n    <tr>\n      <th>539767</th>\n      <td>NaN</td>\n      <td>NaN</td>\n    </tr>\n    <tr>\n      <th>539768</th>\n      <td>NaN</td>\n      <td>NaN</td>\n    </tr>\n    <tr>\n      <th>539769</th>\n      <td>NaN</td>\n      <td>NaN</td>\n    </tr>\n    <tr>\n      <th>539770</th>\n      <td>NaN</td>\n      <td>NaN</td>\n    </tr>\n  </tbody>\n</table>\n<p>104 rows × 2 columns</p>\n</div>"
     },
     "execution_count": 10,
     "metadata": {},
     "output_type": "execute_result"
    }
   ],
   "source": [
    "s[['Unit1','Unit2']]"
   ],
   "metadata": {
    "collapsed": false,
    "pycharm": {
     "name": "#%%\n"
    }
   }
  },
  {
   "cell_type": "code",
   "execution_count": null,
   "outputs": [],
   "source": [
    "from xgboost import XGBClassifier\n",
    "from sklearn.metrics import f1_score\n",
    "import pandas as pd\n",
    "import numpy as np\n",
    "\n",
    "xgbc = XGBClassifier()\n",
    "xgbc.fit(xtrain, ytrain)\n",
    "y_train_pred = xgbc.predict(xtrain)\n",
    "print(f'Train F1: {f1_score(ytrain,y_train_pred)}')\n",
    "y_val_pred = xgbc.predict(xval)\n",
    "print(f'Val F1: {f1_score(yval,y_val_pred)}')"
   ],
   "metadata": {
    "collapsed": false,
    "pycharm": {
     "name": "#%%\n"
    }
   }
  },
  {
   "cell_type": "code",
   "execution_count": 28,
   "outputs": [
    {
     "ename": "ModuleNotFoundError",
     "evalue": "No module named 'xgboost'",
     "output_type": "error",
     "traceback": [
      "\u001B[0;31m---------------------------------------------------------------------------\u001B[0m",
      "\u001B[0;31mModuleNotFoundError\u001B[0m                       Traceback (most recent call last)",
      "\u001B[0;32m<ipython-input-28-9357bb1276ee>\u001B[0m in \u001B[0;36m<module>\u001B[0;34m\u001B[0m\n\u001B[0;32m----> 1\u001B[0;31m \u001B[0;32mfrom\u001B[0m \u001B[0mxgboost\u001B[0m \u001B[0;32mimport\u001B[0m \u001B[0mXGBClassifier\u001B[0m\u001B[0;34m\u001B[0m\u001B[0;34m\u001B[0m\u001B[0m\n\u001B[0m\u001B[1;32m      2\u001B[0m \u001B[0;34m\u001B[0m\u001B[0m\n",
      "\u001B[0;31mModuleNotFoundError\u001B[0m: No module named 'xgboost'"
     ]
    }
   ],
   "source": [
    "from xgboost import XGBClassifier\n"
   ],
   "metadata": {
    "collapsed": false,
    "pycharm": {
     "name": "#%%\n"
    }
   }
  },
  {
   "cell_type": "code",
   "execution_count": null,
   "outputs": [],
   "source": [
    "#Import Random Forest Model\n",
    "from sklearn.ensemble import RandomForestClassifier\n",
    "#Create a Gaussian Classifier\n",
    "clf=RandomForestClassifier(n_estimators=100)\n",
    "\n",
    "#Train the model using the training sets y_pred=clf.predict(X_test)\n",
    "clf.fit(X_train,y_train)\n",
    "y_train_pred = clf.predict(xtrain)\n",
    "\n",
    "y_pred=clf.predict(X_test)\n",
    "\n",
    "print(f'Train F1: {f1_score(ytrain, y_train_pred)}')\n",
    "y_val_pred = xgbc.predict(xval)\n",
    "print(f'Val F1: {f1_score(yval, y_val_pred)}')\n"
   ],
   "metadata": {
    "collapsed": false,
    "pycharm": {
     "name": "#%%\n"
    }
   }
  },
  {
   "cell_type": "code",
   "execution_count": 29,
   "outputs": [
    {
     "name": "stdout",
     "output_type": "stream",
     "text": [
      "Defaulting to user installation because normal site-packages is not writeable\r\n",
      "Collecting xgboost\r\n",
      "  Downloading xgboost-1.6.0-py3-none-manylinux2014_x86_64.whl (193.7 MB)\r\n",
      "\u001B[K     |████████████████████████████████| 193.7 MB 23 kB/s s eta 0:00:01\r\n",
      "\u001B[?25hRequirement already satisfied: numpy in /data/anaconda3/lib/python3.8/site-packages (from xgboost) (1.20.1)\r\n",
      "Requirement already satisfied: scipy in /data/anaconda3/lib/python3.8/site-packages (from xgboost) (1.6.2)\r\n",
      "Installing collected packages: xgboost\r\n",
      "Successfully installed xgboost-1.6.0\r\n",
      "Note: you may need to restart the kernel to use updated packages.\n"
     ]
    }
   ],
   "source": [
    "pip install xgboost"
   ],
   "metadata": {
    "collapsed": false,
    "pycharm": {
     "name": "#%%\n"
    }
   }
  },
  {
   "cell_type": "code",
   "execution_count": null,
   "outputs": [],
   "source": [],
   "metadata": {
    "collapsed": false,
    "pycharm": {
     "name": "#%%\n"
    }
   }
  }
 ],
 "metadata": {
  "kernelspec": {
   "display_name": "Python 3",
   "language": "python",
   "name": "python3"
  },
  "language_info": {
   "codemirror_mode": {
    "name": "ipython",
    "version": 2
   },
   "file_extension": ".py",
   "mimetype": "text/x-python",
   "name": "python",
   "nbconvert_exporter": "python",
   "pygments_lexer": "ipython2",
   "version": "2.7.6"
  }
 },
 "nbformat": 4,
 "nbformat_minor": 0
}