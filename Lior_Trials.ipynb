{
 "cells": [
  {
   "cell_type": "code",
   "execution_count": null,
   "outputs": [],
   "source": [
    "import pandas as pd\n",
    "from imblearn.over_sampling import SMOTE\n",
    "from imblearn.under_sampling import RandomUnderSampler\n"
   ],
   "metadata": {
    "collapsed": false,
    "pycharm": {
     "name": "#%%\n"
    }
   }
  },
  {
   "cell_type": "code",
   "execution_count": 1,
   "outputs": [
    {
     "name": "stdout",
     "output_type": "stream",
     "text": [
      "Defaulting to user installation because normal site-packages is not writeable\r\n",
      "Collecting imblearn\r\n",
      "  Downloading imblearn-0.0-py2.py3-none-any.whl (1.9 kB)\r\n",
      "Collecting imbalanced-learn\r\n",
      "  Downloading imbalanced_learn-0.9.0-py3-none-any.whl (199 kB)\r\n",
      "\u001B[K     |████████████████████████████████| 199 kB 38.4 MB/s eta 0:00:01\r\n",
      "\u001B[?25hRequirement already satisfied: numpy>=1.14.6 in /data/anaconda3/lib/python3.8/site-packages (from imbalanced-learn->imblearn) (1.20.1)\r\n",
      "Requirement already satisfied: threadpoolctl>=2.0.0 in /data/anaconda3/lib/python3.8/site-packages (from imbalanced-learn->imblearn) (2.1.0)\r\n",
      "Collecting scikit-learn>=1.0.1\r\n",
      "  Using cached scikit_learn-1.0.2-cp38-cp38-manylinux_2_17_x86_64.manylinux2014_x86_64.whl (26.7 MB)\r\n",
      "Requirement already satisfied: scipy>=1.1.0 in /data/anaconda3/lib/python3.8/site-packages (from imbalanced-learn->imblearn) (1.6.2)\r\n",
      "Requirement already satisfied: joblib>=0.11 in /data/anaconda3/lib/python3.8/site-packages (from imbalanced-learn->imblearn) (1.0.1)\r\n",
      "Installing collected packages: scikit-learn, imbalanced-learn, imblearn\r\n",
      "Successfully installed imbalanced-learn-0.9.0 imblearn-0.0 scikit-learn-1.0.2\r\n",
      "Note: you may need to restart the kernel to use updated packages.\n"
     ]
    }
   ],
   "source": [
    "pip install imblearn"
   ],
   "metadata": {
    "collapsed": false,
    "pycharm": {
     "name": "#%%\n"
    }
   }
  },
  {
   "cell_type": "code",
   "execution_count": null,
   "outputs": [],
   "source": [
    "TRAIN_PATH = 'filtered_train_df_0705.csv'\n",
    "VAL_PATH = 'filtered_val_df_0705.csv'\n",
    "TEST_PATH = 'filtered_test_df_0705.csv'"
   ],
   "metadata": {
    "collapsed": false,
    "pycharm": {
     "name": "#%%\n"
    }
   }
  },
  {
   "cell_type": "code",
   "execution_count": null,
   "outputs": [],
   "source": [
    "for path in [TRAIN_PATH,VAL_PATH,TEST_PATH]:\n",
    "    df = pd.read_csv(path)\n",
    "    df = df[['ID','Label']].groupby(by='ID').max().reset_index()\n",
    "    total = df.shape[0]\n",
    "    type_d = path.split('_')[1]\n",
    "    df=df.groupby(by='Label').count().reset_index()\n",
    "    print(f'{type_d}: Label 0: {df[df.Label==0][\"ID\"].values[0]}/{total}={df[df.Label==0][\"ID\"].values[0]/total}')\n",
    "    print(f'{type_d}: Label 1: {df[df.Label==1][\"ID\"].values[0]}/{total}={df[df.Label==1][\"ID\"].values[0]/total} ')"
   ],
   "metadata": {
    "collapsed": false,
    "pycharm": {
     "name": "#%%\n"
    }
   }
  }
 ],
 "metadata": {
  "kernelspec": {
   "display_name": "Python 3",
   "language": "python",
   "name": "python3"
  },
  "language_info": {
   "codemirror_mode": {
    "name": "ipython",
    "version": 2
   },
   "file_extension": ".py",
   "mimetype": "text/x-python",
   "name": "python",
   "nbconvert_exporter": "python",
   "pygments_lexer": "ipython2",
   "version": "2.7.6"
  }
 },
 "nbformat": 4,
 "nbformat_minor": 0
}