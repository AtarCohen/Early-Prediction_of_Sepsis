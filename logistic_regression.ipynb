{
 "cells": [
  {
   "cell_type": "code",
   "execution_count": 1,
   "outputs": [],
   "source": [
    "import pandas as pd\n",
    "import numpy as np\n",
    "from sklearn import preprocessing\n",
    "import matplotlib.pyplot as plt\n",
    "plt.rc(\"font\", size=14)\n",
    "from sklearn.linear_model import LogisticRegression\n",
    "from sklearn.model_selection import train_test_split\n",
    "import seaborn as sns\n",
    "sns.set(style=\"white\")\n",
    "sns.set(style=\"whitegrid\", color_codes=True)"
   ],
   "metadata": {
    "collapsed": false,
    "pycharm": {
     "name": "#%%\n"
    }
   }
  },
  {
   "cell_type": "code",
   "execution_count": 2,
   "outputs": [],
   "source": [
    "train_df = pd.read_csv(\"/home/student/filtered_train_df_0705.csv\")"
   ],
   "metadata": {
    "collapsed": false,
    "pycharm": {
     "name": "#%%\n"
    }
   }
  },
  {
   "cell_type": "code",
   "execution_count": 3,
   "outputs": [
    {
     "data": {
      "text/plain": "     HR  O2Sat  Temp   SBP   MAP  DBP  Resp  EtCO2  BaseExcess  HCO3  ...  \\\n0   NaN    NaN   NaN   NaN   NaN  NaN   NaN    NaN         NaN   NaN  ...   \n1  85.0   97.0   NaN  88.0  58.0  NaN  23.0    NaN         NaN   NaN  ...   \n2  80.0   98.0   NaN  89.0  54.0  NaN  19.0    NaN         NaN   NaN  ...   \n3  75.0   97.0   NaN  84.0  51.0  NaN  22.0    NaN         NaN   NaN  ...   \n4  77.0   95.0  36.5  88.0  56.0  NaN  27.0    NaN         NaN   NaN  ...   \n\n   Gender  Unit1  Unit2  HospAdmTime  ICULOS  SepsisLabel     ID  Label  \\\n0       1    1.0    0.0        -0.02       1            0  15354      0   \n1       1    1.0    0.0        -0.02       2            0  15354      0   \n2       1    1.0    0.0        -0.02       3            0  15354      0   \n3       1    1.0    0.0        -0.02       4            0  15354      0   \n4       1    1.0    0.0        -0.02       5            0  15354      0   \n\n   max_ICULOS  time_bm  \n0          46      -45  \n1          46      -44  \n2          46      -43  \n3          46      -42  \n4          46      -41  \n\n[5 rows x 45 columns]",
      "text/html": "<div>\n<style scoped>\n    .dataframe tbody tr th:only-of-type {\n        vertical-align: middle;\n    }\n\n    .dataframe tbody tr th {\n        vertical-align: top;\n    }\n\n    .dataframe thead th {\n        text-align: right;\n    }\n</style>\n<table border=\"1\" class=\"dataframe\">\n  <thead>\n    <tr style=\"text-align: right;\">\n      <th></th>\n      <th>HR</th>\n      <th>O2Sat</th>\n      <th>Temp</th>\n      <th>SBP</th>\n      <th>MAP</th>\n      <th>DBP</th>\n      <th>Resp</th>\n      <th>EtCO2</th>\n      <th>BaseExcess</th>\n      <th>HCO3</th>\n      <th>...</th>\n      <th>Gender</th>\n      <th>Unit1</th>\n      <th>Unit2</th>\n      <th>HospAdmTime</th>\n      <th>ICULOS</th>\n      <th>SepsisLabel</th>\n      <th>ID</th>\n      <th>Label</th>\n      <th>max_ICULOS</th>\n      <th>time_bm</th>\n    </tr>\n  </thead>\n  <tbody>\n    <tr>\n      <th>0</th>\n      <td>NaN</td>\n      <td>NaN</td>\n      <td>NaN</td>\n      <td>NaN</td>\n      <td>NaN</td>\n      <td>NaN</td>\n      <td>NaN</td>\n      <td>NaN</td>\n      <td>NaN</td>\n      <td>NaN</td>\n      <td>...</td>\n      <td>1</td>\n      <td>1.0</td>\n      <td>0.0</td>\n      <td>-0.02</td>\n      <td>1</td>\n      <td>0</td>\n      <td>15354</td>\n      <td>0</td>\n      <td>46</td>\n      <td>-45</td>\n    </tr>\n    <tr>\n      <th>1</th>\n      <td>85.0</td>\n      <td>97.0</td>\n      <td>NaN</td>\n      <td>88.0</td>\n      <td>58.0</td>\n      <td>NaN</td>\n      <td>23.0</td>\n      <td>NaN</td>\n      <td>NaN</td>\n      <td>NaN</td>\n      <td>...</td>\n      <td>1</td>\n      <td>1.0</td>\n      <td>0.0</td>\n      <td>-0.02</td>\n      <td>2</td>\n      <td>0</td>\n      <td>15354</td>\n      <td>0</td>\n      <td>46</td>\n      <td>-44</td>\n    </tr>\n    <tr>\n      <th>2</th>\n      <td>80.0</td>\n      <td>98.0</td>\n      <td>NaN</td>\n      <td>89.0</td>\n      <td>54.0</td>\n      <td>NaN</td>\n      <td>19.0</td>\n      <td>NaN</td>\n      <td>NaN</td>\n      <td>NaN</td>\n      <td>...</td>\n      <td>1</td>\n      <td>1.0</td>\n      <td>0.0</td>\n      <td>-0.02</td>\n      <td>3</td>\n      <td>0</td>\n      <td>15354</td>\n      <td>0</td>\n      <td>46</td>\n      <td>-43</td>\n    </tr>\n    <tr>\n      <th>3</th>\n      <td>75.0</td>\n      <td>97.0</td>\n      <td>NaN</td>\n      <td>84.0</td>\n      <td>51.0</td>\n      <td>NaN</td>\n      <td>22.0</td>\n      <td>NaN</td>\n      <td>NaN</td>\n      <td>NaN</td>\n      <td>...</td>\n      <td>1</td>\n      <td>1.0</td>\n      <td>0.0</td>\n      <td>-0.02</td>\n      <td>4</td>\n      <td>0</td>\n      <td>15354</td>\n      <td>0</td>\n      <td>46</td>\n      <td>-42</td>\n    </tr>\n    <tr>\n      <th>4</th>\n      <td>77.0</td>\n      <td>95.0</td>\n      <td>36.5</td>\n      <td>88.0</td>\n      <td>56.0</td>\n      <td>NaN</td>\n      <td>27.0</td>\n      <td>NaN</td>\n      <td>NaN</td>\n      <td>NaN</td>\n      <td>...</td>\n      <td>1</td>\n      <td>1.0</td>\n      <td>0.0</td>\n      <td>-0.02</td>\n      <td>5</td>\n      <td>0</td>\n      <td>15354</td>\n      <td>0</td>\n      <td>46</td>\n      <td>-41</td>\n    </tr>\n  </tbody>\n</table>\n<p>5 rows × 45 columns</p>\n</div>"
     },
     "execution_count": 3,
     "metadata": {},
     "output_type": "execute_result"
    }
   ],
   "source": [
    "train_df.head()"
   ],
   "metadata": {
    "collapsed": false,
    "pycharm": {
     "name": "#%%\n"
    }
   }
  },
  {
   "cell_type": "code",
   "execution_count": 7,
   "outputs": [],
   "source": [
    "frequency_used_attributes = ['BaseExcess',  'FiO2', 'pH', 'PaCO2', 'Glucose','Lactate', 'PTT']\n",
    "values_used_attributes = [ 'Hct',  'Glucose','Potassium']\n",
    "constant_attributes = ['ID','max_ICULOS','Gender']\n",
    "other_attributes = ['time_bm','HR','MAP','O2Sat', 'Resp','SBP','ICULOS']\n",
    "label_attributes= ['Label','SepsisLabel']"
   ],
   "metadata": {
    "collapsed": false,
    "pycharm": {
     "name": "#%%\n"
    }
   }
  },
  {
   "cell_type": "code",
   "execution_count": 5,
   "outputs": [],
   "source": [
    "def add_rolling_window(df, attr, window_size):\n",
    "    df = df.sort_values(by=['ID','ICULOS'], ascending =[True,True])\n",
    "    rolling = df[['ID']+attr].groupby('ID').rolling(window=window_size, closed='both').count()\n",
    "    rolling= rolling.rename(columns={at: f'{window_size}w_sum_{at}' for at in attr})\n",
    "    rolling=rolling[list(rolling.columns)[1:]].reset_index().set_index('level_1')\n",
    "    combined = df.join(rolling,how='left', rsuffix= 'r')\n",
    "    return combined, rolling"
   ],
   "metadata": {
    "collapsed": false,
    "pycharm": {
     "name": "#%%\n"
    }
   }
  },
  {
   "cell_type": "code",
   "execution_count": 15,
   "outputs": [
    {
     "name": "stderr",
     "output_type": "stream",
     "text": [
      "/data/anaconda3/lib/python3.8/site-packages/pandas/core/window/rolling.py:2010: FutureWarning: min_periods=None will default to the size of window consistent with other methods in a future version. Specify min_periods=0 instead.\n",
      "  warnings.warn(\n"
     ]
    }
   ],
   "source": [
    "window_size=5\n",
    "train_df_with_roll, train_roll = add_rolling_window(train_df,frequency_used_attributes,window_size)"
   ],
   "metadata": {
    "collapsed": false,
    "pycharm": {
     "name": "#%%\n"
    }
   }
  },
  {
   "cell_type": "code",
   "execution_count": 11,
   "outputs": [
    {
     "data": {
      "text/plain": "            ID  5w_sum_BaseExcess  5w_sum_FiO2  5w_sum_pH  5w_sum_PaCO2  \\\nlevel_1                                                                   \n75951        0                0.0          0.0        0.0           0.0   \n75952        0                0.0          0.0        0.0           0.0   \n75953        0                0.0          0.0        0.0           0.0   \n75954        0                0.0          0.0        0.0           0.0   \n75955        0                0.0          0.0        0.0           0.0   \n...        ...                ...          ...        ...           ...   \n154924   19999                1.0          3.0        1.0           0.0   \n154925   19999                1.0          2.0        1.0           0.0   \n154926   19999                0.0          1.0        0.0           0.0   \n154927   19999                0.0          1.0        0.0           0.0   \n154928   19999                0.0          1.0        0.0           0.0   \n\n         5w_sum_Glucose  5w_sum_Lactate  5w_sum_PTT  \nlevel_1                                              \n75951               0.0             0.0         0.0  \n75952               0.0             0.0         0.0  \n75953               0.0             0.0         0.0  \n75954               0.0             0.0         0.0  \n75955               0.0             0.0         0.0  \n...                 ...             ...         ...  \n154924              0.0             0.0         0.0  \n154925              0.0             0.0         0.0  \n154926              0.0             0.0         0.0  \n154927              0.0             0.0         0.0  \n154928              0.0             0.0         0.0  \n\n[603455 rows x 8 columns]",
      "text/html": "<div>\n<style scoped>\n    .dataframe tbody tr th:only-of-type {\n        vertical-align: middle;\n    }\n\n    .dataframe tbody tr th {\n        vertical-align: top;\n    }\n\n    .dataframe thead th {\n        text-align: right;\n    }\n</style>\n<table border=\"1\" class=\"dataframe\">\n  <thead>\n    <tr style=\"text-align: right;\">\n      <th></th>\n      <th>ID</th>\n      <th>5w_sum_BaseExcess</th>\n      <th>5w_sum_FiO2</th>\n      <th>5w_sum_pH</th>\n      <th>5w_sum_PaCO2</th>\n      <th>5w_sum_Glucose</th>\n      <th>5w_sum_Lactate</th>\n      <th>5w_sum_PTT</th>\n    </tr>\n    <tr>\n      <th>level_1</th>\n      <th></th>\n      <th></th>\n      <th></th>\n      <th></th>\n      <th></th>\n      <th></th>\n      <th></th>\n      <th></th>\n    </tr>\n  </thead>\n  <tbody>\n    <tr>\n      <th>75951</th>\n      <td>0</td>\n      <td>0.0</td>\n      <td>0.0</td>\n      <td>0.0</td>\n      <td>0.0</td>\n      <td>0.0</td>\n      <td>0.0</td>\n      <td>0.0</td>\n    </tr>\n    <tr>\n      <th>75952</th>\n      <td>0</td>\n      <td>0.0</td>\n      <td>0.0</td>\n      <td>0.0</td>\n      <td>0.0</td>\n      <td>0.0</td>\n      <td>0.0</td>\n      <td>0.0</td>\n    </tr>\n    <tr>\n      <th>75953</th>\n      <td>0</td>\n      <td>0.0</td>\n      <td>0.0</td>\n      <td>0.0</td>\n      <td>0.0</td>\n      <td>0.0</td>\n      <td>0.0</td>\n      <td>0.0</td>\n    </tr>\n    <tr>\n      <th>75954</th>\n      <td>0</td>\n      <td>0.0</td>\n      <td>0.0</td>\n      <td>0.0</td>\n      <td>0.0</td>\n      <td>0.0</td>\n      <td>0.0</td>\n      <td>0.0</td>\n    </tr>\n    <tr>\n      <th>75955</th>\n      <td>0</td>\n      <td>0.0</td>\n      <td>0.0</td>\n      <td>0.0</td>\n      <td>0.0</td>\n      <td>0.0</td>\n      <td>0.0</td>\n      <td>0.0</td>\n    </tr>\n    <tr>\n      <th>...</th>\n      <td>...</td>\n      <td>...</td>\n      <td>...</td>\n      <td>...</td>\n      <td>...</td>\n      <td>...</td>\n      <td>...</td>\n      <td>...</td>\n    </tr>\n    <tr>\n      <th>154924</th>\n      <td>19999</td>\n      <td>1.0</td>\n      <td>3.0</td>\n      <td>1.0</td>\n      <td>0.0</td>\n      <td>0.0</td>\n      <td>0.0</td>\n      <td>0.0</td>\n    </tr>\n    <tr>\n      <th>154925</th>\n      <td>19999</td>\n      <td>1.0</td>\n      <td>2.0</td>\n      <td>1.0</td>\n      <td>0.0</td>\n      <td>0.0</td>\n      <td>0.0</td>\n      <td>0.0</td>\n    </tr>\n    <tr>\n      <th>154926</th>\n      <td>19999</td>\n      <td>0.0</td>\n      <td>1.0</td>\n      <td>0.0</td>\n      <td>0.0</td>\n      <td>0.0</td>\n      <td>0.0</td>\n      <td>0.0</td>\n    </tr>\n    <tr>\n      <th>154927</th>\n      <td>19999</td>\n      <td>0.0</td>\n      <td>1.0</td>\n      <td>0.0</td>\n      <td>0.0</td>\n      <td>0.0</td>\n      <td>0.0</td>\n      <td>0.0</td>\n    </tr>\n    <tr>\n      <th>154928</th>\n      <td>19999</td>\n      <td>0.0</td>\n      <td>1.0</td>\n      <td>0.0</td>\n      <td>0.0</td>\n      <td>0.0</td>\n      <td>0.0</td>\n      <td>0.0</td>\n    </tr>\n  </tbody>\n</table>\n<p>603455 rows × 8 columns</p>\n</div>"
     },
     "execution_count": 11,
     "metadata": {},
     "output_type": "execute_result"
    }
   ],
   "source": [
    "train_roll"
   ],
   "metadata": {
    "collapsed": false,
    "pycharm": {
     "name": "#%%\n"
    }
   }
  },
  {
   "cell_type": "code",
   "execution_count": 9,
   "outputs": [
    {
     "data": {
      "text/plain": "          HR  O2Sat   Temp    SBP   MAP   DBP  Resp  EtCO2  BaseExcess  HCO3  \\\n75951    NaN    NaN    NaN    NaN   NaN   NaN   NaN    NaN         NaN   NaN   \n75952   61.0   99.0  36.44  124.0  65.0  43.0  17.5    NaN         NaN   NaN   \n75953   64.0   98.0    NaN  125.0  64.0  41.0  27.0    NaN         NaN   NaN   \n75954   56.0  100.0    NaN  123.0  65.0  41.0   9.0    NaN         NaN   NaN   \n75955   66.0   99.0    NaN  120.0  67.0  43.0  23.0    NaN         NaN   NaN   \n...      ...    ...    ...    ...   ...   ...   ...    ...         ...   ...   \n154924  76.0    NaN    NaN   85.0  53.0   NaN  17.0    NaN         NaN   NaN   \n154925  81.0   99.0    NaN   99.0  51.0   NaN  17.0    NaN         NaN   NaN   \n154926  85.0  100.0    NaN  103.0  48.0   NaN  26.0    NaN         NaN   NaN   \n154927  86.0   93.0    NaN   87.0  44.0   NaN  22.0    NaN         NaN   NaN   \n154928  84.0   85.0    NaN   78.0  44.0   NaN  18.0    NaN         NaN   NaN   \n\n        ...  max_ICULOS  time_bm    IDr  5w_sum_BaseExcess  5w_sum_FiO2  \\\n75951   ...          23      -22      0                0.0          0.0   \n75952   ...          23      -21      0                0.0          0.0   \n75953   ...          23      -20      0                0.0          0.0   \n75954   ...          23      -19      0                0.0          0.0   \n75955   ...          23      -18      0                0.0          0.0   \n...     ...         ...      ...    ...                ...          ...   \n154924  ...          54       -4  19999                1.0          3.0   \n154925  ...          54       -3  19999                1.0          2.0   \n154926  ...          54       -2  19999                0.0          1.0   \n154927  ...          54       -1  19999                0.0          1.0   \n154928  ...          54        0  19999                0.0          1.0   \n\n        5w_sum_pH  5w_sum_PaCO2  5w_sum_Glucose  5w_sum_Lactate  5w_sum_PTT  \n75951         0.0           0.0             0.0             0.0         0.0  \n75952         0.0           0.0             0.0             0.0         0.0  \n75953         0.0           0.0             0.0             0.0         0.0  \n75954         0.0           0.0             0.0             0.0         0.0  \n75955         0.0           0.0             0.0             0.0         0.0  \n...           ...           ...             ...             ...         ...  \n154924        1.0           0.0             0.0             0.0         0.0  \n154925        1.0           0.0             0.0             0.0         0.0  \n154926        0.0           0.0             0.0             0.0         0.0  \n154927        0.0           0.0             0.0             0.0         0.0  \n154928        0.0           0.0             0.0             0.0         0.0  \n\n[603455 rows x 53 columns]",
      "text/html": "<div>\n<style scoped>\n    .dataframe tbody tr th:only-of-type {\n        vertical-align: middle;\n    }\n\n    .dataframe tbody tr th {\n        vertical-align: top;\n    }\n\n    .dataframe thead th {\n        text-align: right;\n    }\n</style>\n<table border=\"1\" class=\"dataframe\">\n  <thead>\n    <tr style=\"text-align: right;\">\n      <th></th>\n      <th>HR</th>\n      <th>O2Sat</th>\n      <th>Temp</th>\n      <th>SBP</th>\n      <th>MAP</th>\n      <th>DBP</th>\n      <th>Resp</th>\n      <th>EtCO2</th>\n      <th>BaseExcess</th>\n      <th>HCO3</th>\n      <th>...</th>\n      <th>max_ICULOS</th>\n      <th>time_bm</th>\n      <th>IDr</th>\n      <th>5w_sum_BaseExcess</th>\n      <th>5w_sum_FiO2</th>\n      <th>5w_sum_pH</th>\n      <th>5w_sum_PaCO2</th>\n      <th>5w_sum_Glucose</th>\n      <th>5w_sum_Lactate</th>\n      <th>5w_sum_PTT</th>\n    </tr>\n  </thead>\n  <tbody>\n    <tr>\n      <th>75951</th>\n      <td>NaN</td>\n      <td>NaN</td>\n      <td>NaN</td>\n      <td>NaN</td>\n      <td>NaN</td>\n      <td>NaN</td>\n      <td>NaN</td>\n      <td>NaN</td>\n      <td>NaN</td>\n      <td>NaN</td>\n      <td>...</td>\n      <td>23</td>\n      <td>-22</td>\n      <td>0</td>\n      <td>0.0</td>\n      <td>0.0</td>\n      <td>0.0</td>\n      <td>0.0</td>\n      <td>0.0</td>\n      <td>0.0</td>\n      <td>0.0</td>\n    </tr>\n    <tr>\n      <th>75952</th>\n      <td>61.0</td>\n      <td>99.0</td>\n      <td>36.44</td>\n      <td>124.0</td>\n      <td>65.0</td>\n      <td>43.0</td>\n      <td>17.5</td>\n      <td>NaN</td>\n      <td>NaN</td>\n      <td>NaN</td>\n      <td>...</td>\n      <td>23</td>\n      <td>-21</td>\n      <td>0</td>\n      <td>0.0</td>\n      <td>0.0</td>\n      <td>0.0</td>\n      <td>0.0</td>\n      <td>0.0</td>\n      <td>0.0</td>\n      <td>0.0</td>\n    </tr>\n    <tr>\n      <th>75953</th>\n      <td>64.0</td>\n      <td>98.0</td>\n      <td>NaN</td>\n      <td>125.0</td>\n      <td>64.0</td>\n      <td>41.0</td>\n      <td>27.0</td>\n      <td>NaN</td>\n      <td>NaN</td>\n      <td>NaN</td>\n      <td>...</td>\n      <td>23</td>\n      <td>-20</td>\n      <td>0</td>\n      <td>0.0</td>\n      <td>0.0</td>\n      <td>0.0</td>\n      <td>0.0</td>\n      <td>0.0</td>\n      <td>0.0</td>\n      <td>0.0</td>\n    </tr>\n    <tr>\n      <th>75954</th>\n      <td>56.0</td>\n      <td>100.0</td>\n      <td>NaN</td>\n      <td>123.0</td>\n      <td>65.0</td>\n      <td>41.0</td>\n      <td>9.0</td>\n      <td>NaN</td>\n      <td>NaN</td>\n      <td>NaN</td>\n      <td>...</td>\n      <td>23</td>\n      <td>-19</td>\n      <td>0</td>\n      <td>0.0</td>\n      <td>0.0</td>\n      <td>0.0</td>\n      <td>0.0</td>\n      <td>0.0</td>\n      <td>0.0</td>\n      <td>0.0</td>\n    </tr>\n    <tr>\n      <th>75955</th>\n      <td>66.0</td>\n      <td>99.0</td>\n      <td>NaN</td>\n      <td>120.0</td>\n      <td>67.0</td>\n      <td>43.0</td>\n      <td>23.0</td>\n      <td>NaN</td>\n      <td>NaN</td>\n      <td>NaN</td>\n      <td>...</td>\n      <td>23</td>\n      <td>-18</td>\n      <td>0</td>\n      <td>0.0</td>\n      <td>0.0</td>\n      <td>0.0</td>\n      <td>0.0</td>\n      <td>0.0</td>\n      <td>0.0</td>\n      <td>0.0</td>\n    </tr>\n    <tr>\n      <th>...</th>\n      <td>...</td>\n      <td>...</td>\n      <td>...</td>\n      <td>...</td>\n      <td>...</td>\n      <td>...</td>\n      <td>...</td>\n      <td>...</td>\n      <td>...</td>\n      <td>...</td>\n      <td>...</td>\n      <td>...</td>\n      <td>...</td>\n      <td>...</td>\n      <td>...</td>\n      <td>...</td>\n      <td>...</td>\n      <td>...</td>\n      <td>...</td>\n      <td>...</td>\n      <td>...</td>\n    </tr>\n    <tr>\n      <th>154924</th>\n      <td>76.0</td>\n      <td>NaN</td>\n      <td>NaN</td>\n      <td>85.0</td>\n      <td>53.0</td>\n      <td>NaN</td>\n      <td>17.0</td>\n      <td>NaN</td>\n      <td>NaN</td>\n      <td>NaN</td>\n      <td>...</td>\n      <td>54</td>\n      <td>-4</td>\n      <td>19999</td>\n      <td>1.0</td>\n      <td>3.0</td>\n      <td>1.0</td>\n      <td>0.0</td>\n      <td>0.0</td>\n      <td>0.0</td>\n      <td>0.0</td>\n    </tr>\n    <tr>\n      <th>154925</th>\n      <td>81.0</td>\n      <td>99.0</td>\n      <td>NaN</td>\n      <td>99.0</td>\n      <td>51.0</td>\n      <td>NaN</td>\n      <td>17.0</td>\n      <td>NaN</td>\n      <td>NaN</td>\n      <td>NaN</td>\n      <td>...</td>\n      <td>54</td>\n      <td>-3</td>\n      <td>19999</td>\n      <td>1.0</td>\n      <td>2.0</td>\n      <td>1.0</td>\n      <td>0.0</td>\n      <td>0.0</td>\n      <td>0.0</td>\n      <td>0.0</td>\n    </tr>\n    <tr>\n      <th>154926</th>\n      <td>85.0</td>\n      <td>100.0</td>\n      <td>NaN</td>\n      <td>103.0</td>\n      <td>48.0</td>\n      <td>NaN</td>\n      <td>26.0</td>\n      <td>NaN</td>\n      <td>NaN</td>\n      <td>NaN</td>\n      <td>...</td>\n      <td>54</td>\n      <td>-2</td>\n      <td>19999</td>\n      <td>0.0</td>\n      <td>1.0</td>\n      <td>0.0</td>\n      <td>0.0</td>\n      <td>0.0</td>\n      <td>0.0</td>\n      <td>0.0</td>\n    </tr>\n    <tr>\n      <th>154927</th>\n      <td>86.0</td>\n      <td>93.0</td>\n      <td>NaN</td>\n      <td>87.0</td>\n      <td>44.0</td>\n      <td>NaN</td>\n      <td>22.0</td>\n      <td>NaN</td>\n      <td>NaN</td>\n      <td>NaN</td>\n      <td>...</td>\n      <td>54</td>\n      <td>-1</td>\n      <td>19999</td>\n      <td>0.0</td>\n      <td>1.0</td>\n      <td>0.0</td>\n      <td>0.0</td>\n      <td>0.0</td>\n      <td>0.0</td>\n      <td>0.0</td>\n    </tr>\n    <tr>\n      <th>154928</th>\n      <td>84.0</td>\n      <td>85.0</td>\n      <td>NaN</td>\n      <td>78.0</td>\n      <td>44.0</td>\n      <td>NaN</td>\n      <td>18.0</td>\n      <td>NaN</td>\n      <td>NaN</td>\n      <td>NaN</td>\n      <td>...</td>\n      <td>54</td>\n      <td>0</td>\n      <td>19999</td>\n      <td>0.0</td>\n      <td>1.0</td>\n      <td>0.0</td>\n      <td>0.0</td>\n      <td>0.0</td>\n      <td>0.0</td>\n      <td>0.0</td>\n    </tr>\n  </tbody>\n</table>\n<p>603455 rows × 53 columns</p>\n</div>"
     },
     "execution_count": 9,
     "metadata": {},
     "output_type": "execute_result"
    }
   ],
   "source": [
    "train_df_with_roll"
   ],
   "metadata": {
    "collapsed": false,
    "pycharm": {
     "name": "#%%\n"
    }
   }
  },
  {
   "cell_type": "code",
   "execution_count": 17,
   "outputs": [],
   "source": [
    "frequency_used_attributes_fixed = [f'{window_size}w_sum_{x}' for x in frequency_used_attributes]"
   ],
   "metadata": {
    "collapsed": false,
    "pycharm": {
     "name": "#%%\n"
    }
   }
  },
  {
   "cell_type": "code",
   "execution_count": 19,
   "outputs": [
    {
     "data": {
      "text/plain": "           ID  max_ICULOS  Gender  time_bm    HR   MAP  O2Sat  Resp    SBP  \\\n75963       0          23       0      -10  62.0  72.0   95.0  12.0  139.0   \n75964       0          23       0       -9  63.0  75.0   95.0  11.0  143.0   \n75965       0          23       0       -8  63.0  81.0   97.0  11.0  154.0   \n75966       0          23       0       -7  58.0  58.0   94.0  10.0  114.0   \n75967       0          23       0       -6  54.0  50.5   97.0  12.0    NaN   \n...       ...         ...     ...      ...   ...   ...    ...   ...    ...   \n154924  19999          54       0       -4  76.0  53.0    NaN  17.0   85.0   \n154925  19999          54       0       -3  81.0  51.0   99.0  17.0   99.0   \n154926  19999          54       0       -2  85.0  48.0  100.0  26.0  103.0   \n154927  19999          54       0       -1  86.0  44.0   93.0  22.0   87.0   \n154928  19999          54       0        0  84.0  44.0   85.0  18.0   78.0   \n\n        ICULOS  ...  Potassium  5w_sum_BaseExcess  5w_sum_FiO2  5w_sum_pH  \\\n75963       13  ...        NaN                0.0          0.0        0.0   \n75964       14  ...        NaN                0.0          0.0        0.0   \n75965       15  ...        NaN                0.0          0.0        0.0   \n75966       16  ...        NaN                0.0          0.0        0.0   \n75967       17  ...        NaN                0.0          0.0        0.0   \n...        ...  ...        ...                ...          ...        ...   \n154924      50  ...        NaN                1.0          3.0        1.0   \n154925      51  ...        NaN                1.0          2.0        1.0   \n154926      52  ...        NaN                0.0          1.0        0.0   \n154927      53  ...        NaN                0.0          1.0        0.0   \n154928      54  ...        NaN                0.0          1.0        0.0   \n\n        5w_sum_PaCO2  5w_sum_Glucose  5w_sum_Lactate  5w_sum_PTT  Label  \\\n75963            0.0             1.0             0.0         0.0      0   \n75964            0.0             1.0             0.0         0.0      0   \n75965            0.0             1.0             0.0         0.0      0   \n75966            0.0             0.0             0.0         0.0      0   \n75967            0.0             0.0             0.0         0.0      0   \n...              ...             ...             ...         ...    ...   \n154924           0.0             0.0             0.0         0.0      0   \n154925           0.0             0.0             0.0         0.0      0   \n154926           0.0             0.0             0.0         0.0      0   \n154927           0.0             0.0             0.0         0.0      0   \n154928           0.0             0.0             0.0         0.0      0   \n\n        SepsisLabel  \n75963             0  \n75964             0  \n75965             0  \n75966             0  \n75967             0  \n...             ...  \n154924            0  \n154925            0  \n154926            0  \n154927            0  \n154928            0  \n\n[173197 rows x 22 columns]",
      "text/html": "<div>\n<style scoped>\n    .dataframe tbody tr th:only-of-type {\n        vertical-align: middle;\n    }\n\n    .dataframe tbody tr th {\n        vertical-align: top;\n    }\n\n    .dataframe thead th {\n        text-align: right;\n    }\n</style>\n<table border=\"1\" class=\"dataframe\">\n  <thead>\n    <tr style=\"text-align: right;\">\n      <th></th>\n      <th>ID</th>\n      <th>max_ICULOS</th>\n      <th>Gender</th>\n      <th>time_bm</th>\n      <th>HR</th>\n      <th>MAP</th>\n      <th>O2Sat</th>\n      <th>Resp</th>\n      <th>SBP</th>\n      <th>ICULOS</th>\n      <th>...</th>\n      <th>Potassium</th>\n      <th>5w_sum_BaseExcess</th>\n      <th>5w_sum_FiO2</th>\n      <th>5w_sum_pH</th>\n      <th>5w_sum_PaCO2</th>\n      <th>5w_sum_Glucose</th>\n      <th>5w_sum_Lactate</th>\n      <th>5w_sum_PTT</th>\n      <th>Label</th>\n      <th>SepsisLabel</th>\n    </tr>\n  </thead>\n  <tbody>\n    <tr>\n      <th>75963</th>\n      <td>0</td>\n      <td>23</td>\n      <td>0</td>\n      <td>-10</td>\n      <td>62.0</td>\n      <td>72.0</td>\n      <td>95.0</td>\n      <td>12.0</td>\n      <td>139.0</td>\n      <td>13</td>\n      <td>...</td>\n      <td>NaN</td>\n      <td>0.0</td>\n      <td>0.0</td>\n      <td>0.0</td>\n      <td>0.0</td>\n      <td>1.0</td>\n      <td>0.0</td>\n      <td>0.0</td>\n      <td>0</td>\n      <td>0</td>\n    </tr>\n    <tr>\n      <th>75964</th>\n      <td>0</td>\n      <td>23</td>\n      <td>0</td>\n      <td>-9</td>\n      <td>63.0</td>\n      <td>75.0</td>\n      <td>95.0</td>\n      <td>11.0</td>\n      <td>143.0</td>\n      <td>14</td>\n      <td>...</td>\n      <td>NaN</td>\n      <td>0.0</td>\n      <td>0.0</td>\n      <td>0.0</td>\n      <td>0.0</td>\n      <td>1.0</td>\n      <td>0.0</td>\n      <td>0.0</td>\n      <td>0</td>\n      <td>0</td>\n    </tr>\n    <tr>\n      <th>75965</th>\n      <td>0</td>\n      <td>23</td>\n      <td>0</td>\n      <td>-8</td>\n      <td>63.0</td>\n      <td>81.0</td>\n      <td>97.0</td>\n      <td>11.0</td>\n      <td>154.0</td>\n      <td>15</td>\n      <td>...</td>\n      <td>NaN</td>\n      <td>0.0</td>\n      <td>0.0</td>\n      <td>0.0</td>\n      <td>0.0</td>\n      <td>1.0</td>\n      <td>0.0</td>\n      <td>0.0</td>\n      <td>0</td>\n      <td>0</td>\n    </tr>\n    <tr>\n      <th>75966</th>\n      <td>0</td>\n      <td>23</td>\n      <td>0</td>\n      <td>-7</td>\n      <td>58.0</td>\n      <td>58.0</td>\n      <td>94.0</td>\n      <td>10.0</td>\n      <td>114.0</td>\n      <td>16</td>\n      <td>...</td>\n      <td>NaN</td>\n      <td>0.0</td>\n      <td>0.0</td>\n      <td>0.0</td>\n      <td>0.0</td>\n      <td>0.0</td>\n      <td>0.0</td>\n      <td>0.0</td>\n      <td>0</td>\n      <td>0</td>\n    </tr>\n    <tr>\n      <th>75967</th>\n      <td>0</td>\n      <td>23</td>\n      <td>0</td>\n      <td>-6</td>\n      <td>54.0</td>\n      <td>50.5</td>\n      <td>97.0</td>\n      <td>12.0</td>\n      <td>NaN</td>\n      <td>17</td>\n      <td>...</td>\n      <td>NaN</td>\n      <td>0.0</td>\n      <td>0.0</td>\n      <td>0.0</td>\n      <td>0.0</td>\n      <td>0.0</td>\n      <td>0.0</td>\n      <td>0.0</td>\n      <td>0</td>\n      <td>0</td>\n    </tr>\n    <tr>\n      <th>...</th>\n      <td>...</td>\n      <td>...</td>\n      <td>...</td>\n      <td>...</td>\n      <td>...</td>\n      <td>...</td>\n      <td>...</td>\n      <td>...</td>\n      <td>...</td>\n      <td>...</td>\n      <td>...</td>\n      <td>...</td>\n      <td>...</td>\n      <td>...</td>\n      <td>...</td>\n      <td>...</td>\n      <td>...</td>\n      <td>...</td>\n      <td>...</td>\n      <td>...</td>\n      <td>...</td>\n    </tr>\n    <tr>\n      <th>154924</th>\n      <td>19999</td>\n      <td>54</td>\n      <td>0</td>\n      <td>-4</td>\n      <td>76.0</td>\n      <td>53.0</td>\n      <td>NaN</td>\n      <td>17.0</td>\n      <td>85.0</td>\n      <td>50</td>\n      <td>...</td>\n      <td>NaN</td>\n      <td>1.0</td>\n      <td>3.0</td>\n      <td>1.0</td>\n      <td>0.0</td>\n      <td>0.0</td>\n      <td>0.0</td>\n      <td>0.0</td>\n      <td>0</td>\n      <td>0</td>\n    </tr>\n    <tr>\n      <th>154925</th>\n      <td>19999</td>\n      <td>54</td>\n      <td>0</td>\n      <td>-3</td>\n      <td>81.0</td>\n      <td>51.0</td>\n      <td>99.0</td>\n      <td>17.0</td>\n      <td>99.0</td>\n      <td>51</td>\n      <td>...</td>\n      <td>NaN</td>\n      <td>1.0</td>\n      <td>2.0</td>\n      <td>1.0</td>\n      <td>0.0</td>\n      <td>0.0</td>\n      <td>0.0</td>\n      <td>0.0</td>\n      <td>0</td>\n      <td>0</td>\n    </tr>\n    <tr>\n      <th>154926</th>\n      <td>19999</td>\n      <td>54</td>\n      <td>0</td>\n      <td>-2</td>\n      <td>85.0</td>\n      <td>48.0</td>\n      <td>100.0</td>\n      <td>26.0</td>\n      <td>103.0</td>\n      <td>52</td>\n      <td>...</td>\n      <td>NaN</td>\n      <td>0.0</td>\n      <td>1.0</td>\n      <td>0.0</td>\n      <td>0.0</td>\n      <td>0.0</td>\n      <td>0.0</td>\n      <td>0.0</td>\n      <td>0</td>\n      <td>0</td>\n    </tr>\n    <tr>\n      <th>154927</th>\n      <td>19999</td>\n      <td>54</td>\n      <td>0</td>\n      <td>-1</td>\n      <td>86.0</td>\n      <td>44.0</td>\n      <td>93.0</td>\n      <td>22.0</td>\n      <td>87.0</td>\n      <td>53</td>\n      <td>...</td>\n      <td>NaN</td>\n      <td>0.0</td>\n      <td>1.0</td>\n      <td>0.0</td>\n      <td>0.0</td>\n      <td>0.0</td>\n      <td>0.0</td>\n      <td>0.0</td>\n      <td>0</td>\n      <td>0</td>\n    </tr>\n    <tr>\n      <th>154928</th>\n      <td>19999</td>\n      <td>54</td>\n      <td>0</td>\n      <td>0</td>\n      <td>84.0</td>\n      <td>44.0</td>\n      <td>85.0</td>\n      <td>18.0</td>\n      <td>78.0</td>\n      <td>54</td>\n      <td>...</td>\n      <td>NaN</td>\n      <td>0.0</td>\n      <td>1.0</td>\n      <td>0.0</td>\n      <td>0.0</td>\n      <td>0.0</td>\n      <td>0.0</td>\n      <td>0.0</td>\n      <td>0</td>\n      <td>0</td>\n    </tr>\n  </tbody>\n</table>\n<p>173197 rows × 22 columns</p>\n</div>"
     },
     "execution_count": 19,
     "metadata": {},
     "output_type": "execute_result"
    }
   ],
   "source": [
    "train_df_with_roll = train_df_with_roll[constant_attributes + other_attributes + \\\n",
    "                                        values_used_attributes + frequency_used_attributes_fixed + \\\n",
    "                                        label_attributes]\n",
    "train_df_with_roll = train_df_with_roll[train_df_with_roll['time_bm']>=-10]\n",
    "train_df_with_roll"
   ],
   "metadata": {
    "collapsed": false,
    "pycharm": {
     "name": "#%%\n"
    }
   }
  },
  {
   "cell_type": "code",
   "execution_count": null,
   "outputs": [],
   "source": [
    "frequency_used_attributes = ['BaseExcess',  'FiO2', 'pH', 'PaCO2', 'Glucose','Lactate', 'PTT']\n",
    "values_used_attributes = [ 'Hct',  'Glucose','Potassium']\n",
    "constant_attributes = ['ID','max_ICULOS','Gender']\n",
    "other_attributes = ['time_bm','HR','MAP','O2Sat', 'Resp','SBP','ICULOS']\n",
    "label_attributes"
   ],
   "metadata": {
    "collapsed": false,
    "pycharm": {
     "name": "#%%\n"
    }
   }
  },
  {
   "cell_type": "code",
   "execution_count": 22,
   "outputs": [
    {
     "data": {
      "text/plain": "      max_ICULOS Gender          HR                     \n            mean   mean        mean median    max    min\nID                                                      \n0             23      0   58.636364   58.0   63.0   54.0\n2             38      1   80.000000   81.0   89.0   69.0\n3             48      1   70.090909   71.0   86.0   58.0\n4             24      1  100.272727   98.0  107.0   94.0\n5             25      1   62.900000   63.5   69.0   56.0\n...          ...    ...         ...    ...    ...    ...\n19995         29      1  110.400000  109.0  117.0  104.0\n19996         43      1   64.545455   63.0   78.0   60.0\n19997         15      0   72.818182   73.0   80.0   65.0\n19998         42      1   82.833333   84.0   94.0   71.0\n19999         54      0   90.181818   86.0  114.5   76.0\n\n[16000 rows x 6 columns]",
      "text/html": "<div>\n<style scoped>\n    .dataframe tbody tr th:only-of-type {\n        vertical-align: middle;\n    }\n\n    .dataframe tbody tr th {\n        vertical-align: top;\n    }\n\n    .dataframe thead tr th {\n        text-align: left;\n    }\n\n    .dataframe thead tr:last-of-type th {\n        text-align: right;\n    }\n</style>\n<table border=\"1\" class=\"dataframe\">\n  <thead>\n    <tr>\n      <th></th>\n      <th>max_ICULOS</th>\n      <th>Gender</th>\n      <th colspan=\"4\" halign=\"left\">HR</th>\n    </tr>\n    <tr>\n      <th></th>\n      <th>mean</th>\n      <th>mean</th>\n      <th>mean</th>\n      <th>median</th>\n      <th>max</th>\n      <th>min</th>\n    </tr>\n    <tr>\n      <th>ID</th>\n      <th></th>\n      <th></th>\n      <th></th>\n      <th></th>\n      <th></th>\n      <th></th>\n    </tr>\n  </thead>\n  <tbody>\n    <tr>\n      <th>0</th>\n      <td>23</td>\n      <td>0</td>\n      <td>58.636364</td>\n      <td>58.0</td>\n      <td>63.0</td>\n      <td>54.0</td>\n    </tr>\n    <tr>\n      <th>2</th>\n      <td>38</td>\n      <td>1</td>\n      <td>80.000000</td>\n      <td>81.0</td>\n      <td>89.0</td>\n      <td>69.0</td>\n    </tr>\n    <tr>\n      <th>3</th>\n      <td>48</td>\n      <td>1</td>\n      <td>70.090909</td>\n      <td>71.0</td>\n      <td>86.0</td>\n      <td>58.0</td>\n    </tr>\n    <tr>\n      <th>4</th>\n      <td>24</td>\n      <td>1</td>\n      <td>100.272727</td>\n      <td>98.0</td>\n      <td>107.0</td>\n      <td>94.0</td>\n    </tr>\n    <tr>\n      <th>5</th>\n      <td>25</td>\n      <td>1</td>\n      <td>62.900000</td>\n      <td>63.5</td>\n      <td>69.0</td>\n      <td>56.0</td>\n    </tr>\n    <tr>\n      <th>...</th>\n      <td>...</td>\n      <td>...</td>\n      <td>...</td>\n      <td>...</td>\n      <td>...</td>\n      <td>...</td>\n    </tr>\n    <tr>\n      <th>19995</th>\n      <td>29</td>\n      <td>1</td>\n      <td>110.400000</td>\n      <td>109.0</td>\n      <td>117.0</td>\n      <td>104.0</td>\n    </tr>\n    <tr>\n      <th>19996</th>\n      <td>43</td>\n      <td>1</td>\n      <td>64.545455</td>\n      <td>63.0</td>\n      <td>78.0</td>\n      <td>60.0</td>\n    </tr>\n    <tr>\n      <th>19997</th>\n      <td>15</td>\n      <td>0</td>\n      <td>72.818182</td>\n      <td>73.0</td>\n      <td>80.0</td>\n      <td>65.0</td>\n    </tr>\n    <tr>\n      <th>19998</th>\n      <td>42</td>\n      <td>1</td>\n      <td>82.833333</td>\n      <td>84.0</td>\n      <td>94.0</td>\n      <td>71.0</td>\n    </tr>\n    <tr>\n      <th>19999</th>\n      <td>54</td>\n      <td>0</td>\n      <td>90.181818</td>\n      <td>86.0</td>\n      <td>114.5</td>\n      <td>76.0</td>\n    </tr>\n  </tbody>\n</table>\n<p>16000 rows × 6 columns</p>\n</div>"
     },
     "execution_count": 22,
     "metadata": {},
     "output_type": "execute_result"
    }
   ],
   "source": [
    "grouped_single = train_df_with_roll.groupby('ID').agg({'max_ICULOS': 'mean',\\\n",
    "                                                       'Gender': 'mean',\\\n",
    "                                                       'HR': ['mean', 'median', 'max', 'min']})\n",
    "grouped_single"
   ],
   "metadata": {
    "collapsed": false,
    "pycharm": {
     "name": "#%%\n"
    }
   }
  },
  {
   "cell_type": "code",
   "execution_count": null,
   "outputs": [],
   "source": [],
   "metadata": {
    "collapsed": false,
    "pycharm": {
     "name": "#%%\n"
    }
   }
  },
  {
   "cell_type": "markdown",
   "source": [
    "## Over-sampling using SMOTE\n",
    "\n",
    "With our training data created, We’ll up-sample the minor class (Label=1) using the SMOTE algorithm (Synthetic Minority Oversampling Technique)"
   ],
   "metadata": {
    "collapsed": false,
    "pycharm": {
     "name": "#%% md\n"
    }
   }
  },
  {
   "cell_type": "code",
   "execution_count": null,
   "outputs": [],
   "source": [
    "X = data_final.loc[:, data_final.columns != 'Label']\n",
    "y = data_final.loc[:, data_final.columns == 'Label']\n",
    "\n",
    "from imblearn.over_sampling import SMOTE ##TODO: Insert to ENV.yml\n",
    "\n",
    "os = SMOTE(random_state=0)\n",
    "X_train, X_test, y_train, y_test = train_test_split(X, y, test_size=0.3, random_state=0)\n",
    "columns = X_train.columns\n",
    "os_data_X, os_data_y = os.fit_sample(X_train, y_train)\n",
    "os_data_X = pd.DataFrame(data=os_data_X,columns=columns )\n",
    "os_data_y = pd.DataFrame(data=os_data_y,columns=['y'])\n",
    "\n",
    "# Check the numbers of our data\n",
    "print(\"length of oversampled data is \",len(os_data_X))\n",
    "print(\"Number of Label=0 in oversampled data\",len(os_data_y[os_data_y['y']==0]))\n",
    "print(\"Number of Label=1\",len(os_data_y[os_data_y['y']==1]))\n",
    "print(\"Proportion of Label=0 data in oversampled data is \",len(os_data_y[os_data_y['y']==0])/len(os_data_X))\n",
    "print(\"Proportion of Label=1 data in oversampled data is \",len(os_data_y[os_data_y['y']==1])/len(os_data_X))"
   ],
   "metadata": {
    "collapsed": false,
    "pycharm": {
     "name": "#%%\n"
    }
   }
  },
  {
   "cell_type": "markdown",
   "source": [
    "## Recursive Feature Elimination\n",
    "\n",
    "Recursive Feature Elimination (RFE) is based on the idea to repeatedly construct a model and choose either the best or worst performing feature, setting the feature aside and then repeating the process with the rest of the features. This process is applied until all features in the dataset are exhausted. The goal of RFE is to select features by recursively considering smaller and smaller sets of features."
   ],
   "metadata": {
    "collapsed": false,
    "pycharm": {
     "name": "#%% md\n"
    }
   }
  },
  {
   "cell_type": "code",
   "execution_count": null,
   "outputs": [],
   "source": [
    "data_final_vars = data_final.columns.values.tolist()\n",
    "y=['Label']\n",
    "X=[i for i in data_final_vars if i not in y]\n",
    "\n",
    "from sklearn.feature_selection import RFE\n",
    "from sklearn.linear_model import LogisticRegression\n",
    "\n",
    "logreg = LogisticRegression()\n",
    "rfe = RFE(logreg, 20)\n",
    "rfe = rfe.fit(os_data_X, os_data_y.values.ravel())\n",
    "print(rfe.support_)\n",
    "print(rfe.ranking_)"
   ],
   "metadata": {
    "collapsed": false,
    "pycharm": {
     "name": "#%%\n"
    }
   }
  },
  {
   "cell_type": "markdown",
   "source": [
    "The RFE has helped us select the following features:\n",
    "\n",
    "*TODO: COMPLETE *******"
   ],
   "metadata": {
    "collapsed": false,
    "pycharm": {
     "name": "#%% md\n"
    }
   }
  },
  {
   "cell_type": "markdown",
   "source": [
    "## Implementing the model"
   ],
   "metadata": {
    "collapsed": false,
    "pycharm": {
     "name": "#%% md\n"
    }
   }
  },
  {
   "cell_type": "code",
   "execution_count": 3,
   "outputs": [
    {
     "ename": "NameError",
     "evalue": "name 'y' is not defined",
     "output_type": "error",
     "traceback": [
      "\u001B[0;31m---------------------------------------------------------------------------\u001B[0m",
      "\u001B[0;31mNameError\u001B[0m                                 Traceback (most recent call last)",
      "\u001B[0;32m<ipython-input-3-9d4efc26b604>\u001B[0m in \u001B[0;36m<module>\u001B[0;34m\u001B[0m\n\u001B[1;32m      1\u001B[0m \u001B[0;32mimport\u001B[0m \u001B[0mstatsmodels\u001B[0m\u001B[0;34m.\u001B[0m\u001B[0mapi\u001B[0m \u001B[0;32mas\u001B[0m \u001B[0msm\u001B[0m\u001B[0;34m\u001B[0m\u001B[0;34m\u001B[0m\u001B[0m\n\u001B[0;32m----> 2\u001B[0;31m \u001B[0mlogit_model\u001B[0m\u001B[0;34m=\u001B[0m\u001B[0msm\u001B[0m\u001B[0;34m.\u001B[0m\u001B[0mLogit\u001B[0m\u001B[0;34m(\u001B[0m\u001B[0my\u001B[0m\u001B[0;34m,\u001B[0m\u001B[0mX\u001B[0m\u001B[0;34m)\u001B[0m\u001B[0;34m\u001B[0m\u001B[0;34m\u001B[0m\u001B[0m\n\u001B[0m\u001B[1;32m      3\u001B[0m \u001B[0mresult\u001B[0m\u001B[0;34m=\u001B[0m\u001B[0mlogit_model\u001B[0m\u001B[0;34m.\u001B[0m\u001B[0mfit\u001B[0m\u001B[0;34m(\u001B[0m\u001B[0;34m)\u001B[0m\u001B[0;34m\u001B[0m\u001B[0;34m\u001B[0m\u001B[0m\n\u001B[1;32m      4\u001B[0m \u001B[0mprint\u001B[0m\u001B[0;34m(\u001B[0m\u001B[0mresult\u001B[0m\u001B[0;34m.\u001B[0m\u001B[0msummary2\u001B[0m\u001B[0;34m(\u001B[0m\u001B[0;34m)\u001B[0m\u001B[0;34m)\u001B[0m\u001B[0;34m\u001B[0m\u001B[0;34m\u001B[0m\u001B[0m\n",
      "\u001B[0;31mNameError\u001B[0m: name 'y' is not defined"
     ]
    }
   ],
   "source": [
    "import statsmodels.api as sm\n",
    "\n",
    "logit_model = sm.Logit(y,X)\n",
    "result = logit_model.fit()\n",
    "print(result.summary2())"
   ],
   "metadata": {
    "collapsed": false,
    "pycharm": {
     "name": "#%%\n"
    }
   }
  },
  {
   "cell_type": "markdown",
   "source": [
    "#### ADJUSTMENTS????"
   ],
   "metadata": {
    "collapsed": false,
    "pycharm": {
     "name": "#%% md\n"
    }
   }
  },
  {
   "cell_type": "markdown",
   "source": [
    "### Logistic Regression Model Fitting"
   ],
   "metadata": {
    "collapsed": false,
    "pycharm": {
     "name": "#%% md\n"
    }
   }
  },
  {
   "cell_type": "code",
   "execution_count": null,
   "outputs": [],
   "source": [
    "from sklearn.linear_model import LogisticRegression\n",
    "from sklearn import metrics\n",
    "X_train, X_test, y_train, y_test = train_test_split(X, y, test_size=0.3, random_state=0)\n",
    "logreg = LogisticRegression()\n",
    "logreg.fit(X_train, y_train)"
   ],
   "metadata": {
    "collapsed": false,
    "pycharm": {
     "name": "#%%\n"
    }
   }
  },
  {
   "cell_type": "markdown",
   "source": [
    "### Predicting the test set results and calculating the accuracy\n"
   ],
   "metadata": {
    "collapsed": false,
    "pycharm": {
     "name": "#%% md\n"
    }
   }
  },
  {
   "cell_type": "code",
   "execution_count": null,
   "outputs": [],
   "source": [
    "y_pred = logreg.predict(X_test)\n",
    "print('Accuracy of logistic regression classifier on test set: {:.2f}'.format(logreg.score(X_test, y_test)))"
   ],
   "metadata": {
    "collapsed": false,
    "pycharm": {
     "name": "#%%\n"
    }
   }
  },
  {
   "cell_type": "markdown",
   "source": [
    "### Confusion Matrix"
   ],
   "metadata": {
    "collapsed": false,
    "pycharm": {
     "name": "#%% md\n"
    }
   }
  },
  {
   "cell_type": "code",
   "execution_count": 4,
   "outputs": [
    {
     "ename": "NameError",
     "evalue": "name 'y_test' is not defined",
     "output_type": "error",
     "traceback": [
      "\u001B[0;31m---------------------------------------------------------------------------\u001B[0m",
      "\u001B[0;31mNameError\u001B[0m                                 Traceback (most recent call last)",
      "\u001B[0;32m<ipython-input-4-ce754b32714f>\u001B[0m in \u001B[0;36m<module>\u001B[0;34m\u001B[0m\n\u001B[1;32m      1\u001B[0m \u001B[0;32mfrom\u001B[0m \u001B[0msklearn\u001B[0m\u001B[0;34m.\u001B[0m\u001B[0mmetrics\u001B[0m \u001B[0;32mimport\u001B[0m \u001B[0mconfusion_matrix\u001B[0m\u001B[0;34m\u001B[0m\u001B[0;34m\u001B[0m\u001B[0m\n\u001B[0;32m----> 2\u001B[0;31m \u001B[0mconfusion_matrix\u001B[0m \u001B[0;34m=\u001B[0m \u001B[0mconfusion_matrix\u001B[0m\u001B[0;34m(\u001B[0m\u001B[0my_test\u001B[0m\u001B[0;34m,\u001B[0m \u001B[0my_pred\u001B[0m\u001B[0;34m)\u001B[0m\u001B[0;34m\u001B[0m\u001B[0;34m\u001B[0m\u001B[0m\n\u001B[0m\u001B[1;32m      3\u001B[0m \u001B[0mprint\u001B[0m\u001B[0;34m(\u001B[0m\u001B[0mconfusion_matrix\u001B[0m\u001B[0;34m)\u001B[0m\u001B[0;34m\u001B[0m\u001B[0;34m\u001B[0m\u001B[0m\n",
      "\u001B[0;31mNameError\u001B[0m: name 'y_test' is not defined"
     ]
    }
   ],
   "source": [
    "from sklearn.metrics import confusion_matrix\n",
    "confusion_matrix = confusion_matrix(y_test, y_pred)\n",
    "print(confusion_matrix)"
   ],
   "metadata": {
    "collapsed": false,
    "pycharm": {
     "name": "#%%\n"
    }
   }
  },
  {
   "cell_type": "markdown",
   "source": [
    "### Compute precision, recall, F-measure and support"
   ],
   "metadata": {
    "collapsed": false,
    "pycharm": {
     "name": "#%% md\n"
    }
   }
  },
  {
   "cell_type": "code",
   "execution_count": null,
   "outputs": [],
   "source": [
    "from sklearn.metrics import classification_report\n",
    "\n",
    "print(classification_report(y_test, y_pred))"
   ],
   "metadata": {
    "collapsed": false,
    "pycharm": {
     "name": "#%%\n"
    }
   }
  },
  {
   "cell_type": "markdown",
   "source": [
    "### ROC Curve"
   ],
   "metadata": {
    "collapsed": false,
    "pycharm": {
     "name": "#%% md\n"
    }
   }
  },
  {
   "cell_type": "code",
   "execution_count": null,
   "outputs": [],
   "source": [
    "from sklearn.metrics import roc_auc_score\n",
    "from sklearn.metrics import roc_curve\n",
    "\n",
    "logit_roc_auc = roc_auc_score(y_test, logreg.predict(X_test))\n",
    "fpr, tpr, thresholds = roc_curve(y_test, logreg.predict_proba(X_test)[:,1])\n",
    "plt.figure()\n",
    "plt.plot(fpr, tpr, label='Logistic Regression (area = %0.2f)' % logit_roc_auc)\n",
    "plt.plot([0, 1], [0, 1],'r--')\n",
    "plt.xlim([0.0, 1.0])\n",
    "plt.ylim([0.0, 1.05])\n",
    "plt.xlabel('False Positive Rate')\n",
    "plt.ylabel('True Positive Rate')\n",
    "plt.title('Receiver operating characteristic')\n",
    "plt.legend(loc=\"lower right\")\n",
    "plt.savefig('Log_ROC')\n",
    "plt.show()"
   ],
   "metadata": {
    "collapsed": false,
    "pycharm": {
     "name": "#%%\n"
    }
   }
  },
  {
   "cell_type": "code",
   "execution_count": null,
   "outputs": [],
   "source": [],
   "metadata": {
    "collapsed": false,
    "pycharm": {
     "name": "#%%\n"
    }
   }
  }
 ],
 "metadata": {
  "kernelspec": {
   "display_name": "Python 3",
   "language": "python",
   "name": "python3"
  },
  "language_info": {
   "codemirror_mode": {
    "name": "ipython",
    "version": 2
   },
   "file_extension": ".py",
   "mimetype": "text/x-python",
   "name": "python",
   "nbconvert_exporter": "python",
   "pygments_lexer": "ipython2",
   "version": "2.7.6"
  }
 },
 "nbformat": 4,
 "nbformat_minor": 0
}