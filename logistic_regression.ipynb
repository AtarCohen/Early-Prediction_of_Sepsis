{
 "cells": [
  {
   "cell_type": "code",
   "execution_count": 34,
   "outputs": [],
   "source": [
    "import pandas as pd\n",
    "import numpy as np\n",
    "from sklearn import preprocessing\n",
    "import matplotlib.pyplot as plt\n",
    "plt.rc(\"font\", size=14)\n",
    "from sklearn.linear_model import LogisticRegression\n",
    "from sklearn.model_selection import train_test_split\n",
    "import seaborn as sns\n",
    "sns.set(style=\"white\")\n",
    "sns.set(style=\"whitegrid\", color_codes=True)"
   ],
   "metadata": {
    "collapsed": false,
    "pycharm": {
     "name": "#%%\n"
    }
   }
  },
  {
   "cell_type": "code",
   "execution_count": 35,
   "outputs": [],
   "source": [
    "train_df = pd.read_csv(\"/home/student/filtered_train_df_0705.csv\")"
   ],
   "metadata": {
    "collapsed": false,
    "pycharm": {
     "name": "#%%\n"
    }
   }
  },
  {
   "cell_type": "code",
   "execution_count": 36,
   "outputs": [
    {
     "data": {
      "text/plain": "     HR  O2Sat  Temp   SBP   MAP  DBP  Resp  EtCO2  BaseExcess  HCO3  ...  \\\n0   NaN    NaN   NaN   NaN   NaN  NaN   NaN    NaN         NaN   NaN  ...   \n1  85.0   97.0   NaN  88.0  58.0  NaN  23.0    NaN         NaN   NaN  ...   \n2  80.0   98.0   NaN  89.0  54.0  NaN  19.0    NaN         NaN   NaN  ...   \n3  75.0   97.0   NaN  84.0  51.0  NaN  22.0    NaN         NaN   NaN  ...   \n4  77.0   95.0  36.5  88.0  56.0  NaN  27.0    NaN         NaN   NaN  ...   \n\n   Gender  Unit1  Unit2  HospAdmTime  ICULOS  SepsisLabel     ID  Label  \\\n0       1    1.0    0.0        -0.02       1            0  15354      0   \n1       1    1.0    0.0        -0.02       2            0  15354      0   \n2       1    1.0    0.0        -0.02       3            0  15354      0   \n3       1    1.0    0.0        -0.02       4            0  15354      0   \n4       1    1.0    0.0        -0.02       5            0  15354      0   \n\n   max_ICULOS  time_bm  \n0          46      -45  \n1          46      -44  \n2          46      -43  \n3          46      -42  \n4          46      -41  \n\n[5 rows x 45 columns]",
      "text/html": "<div>\n<style scoped>\n    .dataframe tbody tr th:only-of-type {\n        vertical-align: middle;\n    }\n\n    .dataframe tbody tr th {\n        vertical-align: top;\n    }\n\n    .dataframe thead th {\n        text-align: right;\n    }\n</style>\n<table border=\"1\" class=\"dataframe\">\n  <thead>\n    <tr style=\"text-align: right;\">\n      <th></th>\n      <th>HR</th>\n      <th>O2Sat</th>\n      <th>Temp</th>\n      <th>SBP</th>\n      <th>MAP</th>\n      <th>DBP</th>\n      <th>Resp</th>\n      <th>EtCO2</th>\n      <th>BaseExcess</th>\n      <th>HCO3</th>\n      <th>...</th>\n      <th>Gender</th>\n      <th>Unit1</th>\n      <th>Unit2</th>\n      <th>HospAdmTime</th>\n      <th>ICULOS</th>\n      <th>SepsisLabel</th>\n      <th>ID</th>\n      <th>Label</th>\n      <th>max_ICULOS</th>\n      <th>time_bm</th>\n    </tr>\n  </thead>\n  <tbody>\n    <tr>\n      <th>0</th>\n      <td>NaN</td>\n      <td>NaN</td>\n      <td>NaN</td>\n      <td>NaN</td>\n      <td>NaN</td>\n      <td>NaN</td>\n      <td>NaN</td>\n      <td>NaN</td>\n      <td>NaN</td>\n      <td>NaN</td>\n      <td>...</td>\n      <td>1</td>\n      <td>1.0</td>\n      <td>0.0</td>\n      <td>-0.02</td>\n      <td>1</td>\n      <td>0</td>\n      <td>15354</td>\n      <td>0</td>\n      <td>46</td>\n      <td>-45</td>\n    </tr>\n    <tr>\n      <th>1</th>\n      <td>85.0</td>\n      <td>97.0</td>\n      <td>NaN</td>\n      <td>88.0</td>\n      <td>58.0</td>\n      <td>NaN</td>\n      <td>23.0</td>\n      <td>NaN</td>\n      <td>NaN</td>\n      <td>NaN</td>\n      <td>...</td>\n      <td>1</td>\n      <td>1.0</td>\n      <td>0.0</td>\n      <td>-0.02</td>\n      <td>2</td>\n      <td>0</td>\n      <td>15354</td>\n      <td>0</td>\n      <td>46</td>\n      <td>-44</td>\n    </tr>\n    <tr>\n      <th>2</th>\n      <td>80.0</td>\n      <td>98.0</td>\n      <td>NaN</td>\n      <td>89.0</td>\n      <td>54.0</td>\n      <td>NaN</td>\n      <td>19.0</td>\n      <td>NaN</td>\n      <td>NaN</td>\n      <td>NaN</td>\n      <td>...</td>\n      <td>1</td>\n      <td>1.0</td>\n      <td>0.0</td>\n      <td>-0.02</td>\n      <td>3</td>\n      <td>0</td>\n      <td>15354</td>\n      <td>0</td>\n      <td>46</td>\n      <td>-43</td>\n    </tr>\n    <tr>\n      <th>3</th>\n      <td>75.0</td>\n      <td>97.0</td>\n      <td>NaN</td>\n      <td>84.0</td>\n      <td>51.0</td>\n      <td>NaN</td>\n      <td>22.0</td>\n      <td>NaN</td>\n      <td>NaN</td>\n      <td>NaN</td>\n      <td>...</td>\n      <td>1</td>\n      <td>1.0</td>\n      <td>0.0</td>\n      <td>-0.02</td>\n      <td>4</td>\n      <td>0</td>\n      <td>15354</td>\n      <td>0</td>\n      <td>46</td>\n      <td>-42</td>\n    </tr>\n    <tr>\n      <th>4</th>\n      <td>77.0</td>\n      <td>95.0</td>\n      <td>36.5</td>\n      <td>88.0</td>\n      <td>56.0</td>\n      <td>NaN</td>\n      <td>27.0</td>\n      <td>NaN</td>\n      <td>NaN</td>\n      <td>NaN</td>\n      <td>...</td>\n      <td>1</td>\n      <td>1.0</td>\n      <td>0.0</td>\n      <td>-0.02</td>\n      <td>5</td>\n      <td>0</td>\n      <td>15354</td>\n      <td>0</td>\n      <td>46</td>\n      <td>-41</td>\n    </tr>\n  </tbody>\n</table>\n<p>5 rows × 45 columns</p>\n</div>"
     },
     "execution_count": 36,
     "metadata": {},
     "output_type": "execute_result"
    }
   ],
   "source": [
    "train_df.head()"
   ],
   "metadata": {
    "collapsed": false,
    "pycharm": {
     "name": "#%%\n"
    }
   }
  },
  {
   "cell_type": "code",
   "execution_count": 37,
   "outputs": [],
   "source": [
    "frequency_used_attributes = ['BaseExcess',  'FiO2', 'pH', 'PaCO2', 'Glucose','Lactate', 'PTT']\n",
    "values_used_attributes = [ 'Hct',  'Glucose','Potassium']\n",
    "constant_attributes = ['ID','max_ICULOS','Gender']\n",
    "other_attributes = ['time_bm','HR','MAP','O2Sat', 'Resp','SBP','ICULOS']\n",
    "label_attributes= ['Label','SepsisLabel']"
   ],
   "metadata": {
    "collapsed": false,
    "pycharm": {
     "name": "#%%\n"
    }
   }
  },
  {
   "cell_type": "code",
   "execution_count": 38,
   "outputs": [],
   "source": [
    "def add_rolling_window(df, attr, window_size):\n",
    "    df = df.sort_values(by=['ID','ICULOS'], ascending =[True,True])\n",
    "    rolling = df[['ID']+attr].groupby('ID').rolling(window=window_size, closed='both').count()\n",
    "    rolling= rolling.rename(columns={at: f'{window_size}w_sum_{at}' for at in attr})\n",
    "    rolling=rolling[list(rolling.columns)[1:]].reset_index().set_index('level_1')\n",
    "    combined = df.join(rolling,how='left', rsuffix= 'r')\n",
    "    return combined, rolling"
   ],
   "metadata": {
    "collapsed": false,
    "pycharm": {
     "name": "#%%\n"
    }
   }
  },
  {
   "cell_type": "code",
   "execution_count": 39,
   "outputs": [
    {
     "name": "stderr",
     "output_type": "stream",
     "text": [
      "/data/anaconda3/lib/python3.8/site-packages/pandas/core/window/rolling.py:2010: FutureWarning: min_periods=None will default to the size of window consistent with other methods in a future version. Specify min_periods=0 instead.\n",
      "  warnings.warn(\n"
     ]
    }
   ],
   "source": [
    "window_size=5\n",
    "train_df_with_roll, train_roll = add_rolling_window(train_df,frequency_used_attributes,window_size)"
   ],
   "metadata": {
    "collapsed": false,
    "pycharm": {
     "name": "#%%\n"
    }
   }
  },
  {
   "cell_type": "code",
   "execution_count": 40,
   "outputs": [
    {
     "data": {
      "text/plain": "          HR  O2Sat   Temp    SBP   MAP   DBP  Resp  EtCO2  BaseExcess  HCO3  \\\n75951    NaN    NaN    NaN    NaN   NaN   NaN   NaN    NaN         NaN   NaN   \n75952   61.0   99.0  36.44  124.0  65.0  43.0  17.5    NaN         NaN   NaN   \n75953   64.0   98.0    NaN  125.0  64.0  41.0  27.0    NaN         NaN   NaN   \n75954   56.0  100.0    NaN  123.0  65.0  41.0   9.0    NaN         NaN   NaN   \n75955   66.0   99.0    NaN  120.0  67.0  43.0  23.0    NaN         NaN   NaN   \n...      ...    ...    ...    ...   ...   ...   ...    ...         ...   ...   \n154924  76.0    NaN    NaN   85.0  53.0   NaN  17.0    NaN         NaN   NaN   \n154925  81.0   99.0    NaN   99.0  51.0   NaN  17.0    NaN         NaN   NaN   \n154926  85.0  100.0    NaN  103.0  48.0   NaN  26.0    NaN         NaN   NaN   \n154927  86.0   93.0    NaN   87.0  44.0   NaN  22.0    NaN         NaN   NaN   \n154928  84.0   85.0    NaN   78.0  44.0   NaN  18.0    NaN         NaN   NaN   \n\n        ...  max_ICULOS  time_bm    IDr  5w_sum_BaseExcess  5w_sum_FiO2  \\\n75951   ...          23      -22      0                0.0          0.0   \n75952   ...          23      -21      0                0.0          0.0   \n75953   ...          23      -20      0                0.0          0.0   \n75954   ...          23      -19      0                0.0          0.0   \n75955   ...          23      -18      0                0.0          0.0   \n...     ...         ...      ...    ...                ...          ...   \n154924  ...          54       -4  19999                1.0          3.0   \n154925  ...          54       -3  19999                1.0          2.0   \n154926  ...          54       -2  19999                0.0          1.0   \n154927  ...          54       -1  19999                0.0          1.0   \n154928  ...          54        0  19999                0.0          1.0   \n\n        5w_sum_pH  5w_sum_PaCO2  5w_sum_Glucose  5w_sum_Lactate  5w_sum_PTT  \n75951         0.0           0.0             0.0             0.0         0.0  \n75952         0.0           0.0             0.0             0.0         0.0  \n75953         0.0           0.0             0.0             0.0         0.0  \n75954         0.0           0.0             0.0             0.0         0.0  \n75955         0.0           0.0             0.0             0.0         0.0  \n...           ...           ...             ...             ...         ...  \n154924        1.0           0.0             0.0             0.0         0.0  \n154925        1.0           0.0             0.0             0.0         0.0  \n154926        0.0           0.0             0.0             0.0         0.0  \n154927        0.0           0.0             0.0             0.0         0.0  \n154928        0.0           0.0             0.0             0.0         0.0  \n\n[603455 rows x 53 columns]",
      "text/html": "<div>\n<style scoped>\n    .dataframe tbody tr th:only-of-type {\n        vertical-align: middle;\n    }\n\n    .dataframe tbody tr th {\n        vertical-align: top;\n    }\n\n    .dataframe thead th {\n        text-align: right;\n    }\n</style>\n<table border=\"1\" class=\"dataframe\">\n  <thead>\n    <tr style=\"text-align: right;\">\n      <th></th>\n      <th>HR</th>\n      <th>O2Sat</th>\n      <th>Temp</th>\n      <th>SBP</th>\n      <th>MAP</th>\n      <th>DBP</th>\n      <th>Resp</th>\n      <th>EtCO2</th>\n      <th>BaseExcess</th>\n      <th>HCO3</th>\n      <th>...</th>\n      <th>max_ICULOS</th>\n      <th>time_bm</th>\n      <th>IDr</th>\n      <th>5w_sum_BaseExcess</th>\n      <th>5w_sum_FiO2</th>\n      <th>5w_sum_pH</th>\n      <th>5w_sum_PaCO2</th>\n      <th>5w_sum_Glucose</th>\n      <th>5w_sum_Lactate</th>\n      <th>5w_sum_PTT</th>\n    </tr>\n  </thead>\n  <tbody>\n    <tr>\n      <th>75951</th>\n      <td>NaN</td>\n      <td>NaN</td>\n      <td>NaN</td>\n      <td>NaN</td>\n      <td>NaN</td>\n      <td>NaN</td>\n      <td>NaN</td>\n      <td>NaN</td>\n      <td>NaN</td>\n      <td>NaN</td>\n      <td>...</td>\n      <td>23</td>\n      <td>-22</td>\n      <td>0</td>\n      <td>0.0</td>\n      <td>0.0</td>\n      <td>0.0</td>\n      <td>0.0</td>\n      <td>0.0</td>\n      <td>0.0</td>\n      <td>0.0</td>\n    </tr>\n    <tr>\n      <th>75952</th>\n      <td>61.0</td>\n      <td>99.0</td>\n      <td>36.44</td>\n      <td>124.0</td>\n      <td>65.0</td>\n      <td>43.0</td>\n      <td>17.5</td>\n      <td>NaN</td>\n      <td>NaN</td>\n      <td>NaN</td>\n      <td>...</td>\n      <td>23</td>\n      <td>-21</td>\n      <td>0</td>\n      <td>0.0</td>\n      <td>0.0</td>\n      <td>0.0</td>\n      <td>0.0</td>\n      <td>0.0</td>\n      <td>0.0</td>\n      <td>0.0</td>\n    </tr>\n    <tr>\n      <th>75953</th>\n      <td>64.0</td>\n      <td>98.0</td>\n      <td>NaN</td>\n      <td>125.0</td>\n      <td>64.0</td>\n      <td>41.0</td>\n      <td>27.0</td>\n      <td>NaN</td>\n      <td>NaN</td>\n      <td>NaN</td>\n      <td>...</td>\n      <td>23</td>\n      <td>-20</td>\n      <td>0</td>\n      <td>0.0</td>\n      <td>0.0</td>\n      <td>0.0</td>\n      <td>0.0</td>\n      <td>0.0</td>\n      <td>0.0</td>\n      <td>0.0</td>\n    </tr>\n    <tr>\n      <th>75954</th>\n      <td>56.0</td>\n      <td>100.0</td>\n      <td>NaN</td>\n      <td>123.0</td>\n      <td>65.0</td>\n      <td>41.0</td>\n      <td>9.0</td>\n      <td>NaN</td>\n      <td>NaN</td>\n      <td>NaN</td>\n      <td>...</td>\n      <td>23</td>\n      <td>-19</td>\n      <td>0</td>\n      <td>0.0</td>\n      <td>0.0</td>\n      <td>0.0</td>\n      <td>0.0</td>\n      <td>0.0</td>\n      <td>0.0</td>\n      <td>0.0</td>\n    </tr>\n    <tr>\n      <th>75955</th>\n      <td>66.0</td>\n      <td>99.0</td>\n      <td>NaN</td>\n      <td>120.0</td>\n      <td>67.0</td>\n      <td>43.0</td>\n      <td>23.0</td>\n      <td>NaN</td>\n      <td>NaN</td>\n      <td>NaN</td>\n      <td>...</td>\n      <td>23</td>\n      <td>-18</td>\n      <td>0</td>\n      <td>0.0</td>\n      <td>0.0</td>\n      <td>0.0</td>\n      <td>0.0</td>\n      <td>0.0</td>\n      <td>0.0</td>\n      <td>0.0</td>\n    </tr>\n    <tr>\n      <th>...</th>\n      <td>...</td>\n      <td>...</td>\n      <td>...</td>\n      <td>...</td>\n      <td>...</td>\n      <td>...</td>\n      <td>...</td>\n      <td>...</td>\n      <td>...</td>\n      <td>...</td>\n      <td>...</td>\n      <td>...</td>\n      <td>...</td>\n      <td>...</td>\n      <td>...</td>\n      <td>...</td>\n      <td>...</td>\n      <td>...</td>\n      <td>...</td>\n      <td>...</td>\n      <td>...</td>\n    </tr>\n    <tr>\n      <th>154924</th>\n      <td>76.0</td>\n      <td>NaN</td>\n      <td>NaN</td>\n      <td>85.0</td>\n      <td>53.0</td>\n      <td>NaN</td>\n      <td>17.0</td>\n      <td>NaN</td>\n      <td>NaN</td>\n      <td>NaN</td>\n      <td>...</td>\n      <td>54</td>\n      <td>-4</td>\n      <td>19999</td>\n      <td>1.0</td>\n      <td>3.0</td>\n      <td>1.0</td>\n      <td>0.0</td>\n      <td>0.0</td>\n      <td>0.0</td>\n      <td>0.0</td>\n    </tr>\n    <tr>\n      <th>154925</th>\n      <td>81.0</td>\n      <td>99.0</td>\n      <td>NaN</td>\n      <td>99.0</td>\n      <td>51.0</td>\n      <td>NaN</td>\n      <td>17.0</td>\n      <td>NaN</td>\n      <td>NaN</td>\n      <td>NaN</td>\n      <td>...</td>\n      <td>54</td>\n      <td>-3</td>\n      <td>19999</td>\n      <td>1.0</td>\n      <td>2.0</td>\n      <td>1.0</td>\n      <td>0.0</td>\n      <td>0.0</td>\n      <td>0.0</td>\n      <td>0.0</td>\n    </tr>\n    <tr>\n      <th>154926</th>\n      <td>85.0</td>\n      <td>100.0</td>\n      <td>NaN</td>\n      <td>103.0</td>\n      <td>48.0</td>\n      <td>NaN</td>\n      <td>26.0</td>\n      <td>NaN</td>\n      <td>NaN</td>\n      <td>NaN</td>\n      <td>...</td>\n      <td>54</td>\n      <td>-2</td>\n      <td>19999</td>\n      <td>0.0</td>\n      <td>1.0</td>\n      <td>0.0</td>\n      <td>0.0</td>\n      <td>0.0</td>\n      <td>0.0</td>\n      <td>0.0</td>\n    </tr>\n    <tr>\n      <th>154927</th>\n      <td>86.0</td>\n      <td>93.0</td>\n      <td>NaN</td>\n      <td>87.0</td>\n      <td>44.0</td>\n      <td>NaN</td>\n      <td>22.0</td>\n      <td>NaN</td>\n      <td>NaN</td>\n      <td>NaN</td>\n      <td>...</td>\n      <td>54</td>\n      <td>-1</td>\n      <td>19999</td>\n      <td>0.0</td>\n      <td>1.0</td>\n      <td>0.0</td>\n      <td>0.0</td>\n      <td>0.0</td>\n      <td>0.0</td>\n      <td>0.0</td>\n    </tr>\n    <tr>\n      <th>154928</th>\n      <td>84.0</td>\n      <td>85.0</td>\n      <td>NaN</td>\n      <td>78.0</td>\n      <td>44.0</td>\n      <td>NaN</td>\n      <td>18.0</td>\n      <td>NaN</td>\n      <td>NaN</td>\n      <td>NaN</td>\n      <td>...</td>\n      <td>54</td>\n      <td>0</td>\n      <td>19999</td>\n      <td>0.0</td>\n      <td>1.0</td>\n      <td>0.0</td>\n      <td>0.0</td>\n      <td>0.0</td>\n      <td>0.0</td>\n      <td>0.0</td>\n    </tr>\n  </tbody>\n</table>\n<p>603455 rows × 53 columns</p>\n</div>"
     },
     "execution_count": 40,
     "metadata": {},
     "output_type": "execute_result"
    }
   ],
   "source": [
    "train_df_with_roll"
   ],
   "metadata": {
    "collapsed": false,
    "pycharm": {
     "name": "#%%\n"
    }
   }
  },
  {
   "cell_type": "code",
   "execution_count": 41,
   "outputs": [],
   "source": [
    "frequency_used_attributes_fixed = [f'{window_size}w_sum_{x}' for x in frequency_used_attributes]"
   ],
   "metadata": {
    "collapsed": false,
    "pycharm": {
     "name": "#%%\n"
    }
   }
  },
  {
   "cell_type": "code",
   "execution_count": 42,
   "outputs": [
    {
     "data": {
      "text/plain": "           ID  max_ICULOS  Gender  time_bm    HR   MAP  O2Sat  Resp    SBP  \\\n75963       0          23       0      -10  62.0  72.0   95.0  12.0  139.0   \n75964       0          23       0       -9  63.0  75.0   95.0  11.0  143.0   \n75965       0          23       0       -8  63.0  81.0   97.0  11.0  154.0   \n75966       0          23       0       -7  58.0  58.0   94.0  10.0  114.0   \n75967       0          23       0       -6  54.0  50.5   97.0  12.0    NaN   \n...       ...         ...     ...      ...   ...   ...    ...   ...    ...   \n154924  19999          54       0       -4  76.0  53.0    NaN  17.0   85.0   \n154925  19999          54       0       -3  81.0  51.0   99.0  17.0   99.0   \n154926  19999          54       0       -2  85.0  48.0  100.0  26.0  103.0   \n154927  19999          54       0       -1  86.0  44.0   93.0  22.0   87.0   \n154928  19999          54       0        0  84.0  44.0   85.0  18.0   78.0   \n\n        ICULOS  ...  Potassium  5w_sum_BaseExcess  5w_sum_FiO2  5w_sum_pH  \\\n75963       13  ...        NaN                0.0          0.0        0.0   \n75964       14  ...        NaN                0.0          0.0        0.0   \n75965       15  ...        NaN                0.0          0.0        0.0   \n75966       16  ...        NaN                0.0          0.0        0.0   \n75967       17  ...        NaN                0.0          0.0        0.0   \n...        ...  ...        ...                ...          ...        ...   \n154924      50  ...        NaN                1.0          3.0        1.0   \n154925      51  ...        NaN                1.0          2.0        1.0   \n154926      52  ...        NaN                0.0          1.0        0.0   \n154927      53  ...        NaN                0.0          1.0        0.0   \n154928      54  ...        NaN                0.0          1.0        0.0   \n\n        5w_sum_PaCO2  5w_sum_Glucose  5w_sum_Lactate  5w_sum_PTT  Label  \\\n75963            0.0             1.0             0.0         0.0      0   \n75964            0.0             1.0             0.0         0.0      0   \n75965            0.0             1.0             0.0         0.0      0   \n75966            0.0             0.0             0.0         0.0      0   \n75967            0.0             0.0             0.0         0.0      0   \n...              ...             ...             ...         ...    ...   \n154924           0.0             0.0             0.0         0.0      0   \n154925           0.0             0.0             0.0         0.0      0   \n154926           0.0             0.0             0.0         0.0      0   \n154927           0.0             0.0             0.0         0.0      0   \n154928           0.0             0.0             0.0         0.0      0   \n\n        SepsisLabel  \n75963             0  \n75964             0  \n75965             0  \n75966             0  \n75967             0  \n...             ...  \n154924            0  \n154925            0  \n154926            0  \n154927            0  \n154928            0  \n\n[173197 rows x 22 columns]",
      "text/html": "<div>\n<style scoped>\n    .dataframe tbody tr th:only-of-type {\n        vertical-align: middle;\n    }\n\n    .dataframe tbody tr th {\n        vertical-align: top;\n    }\n\n    .dataframe thead th {\n        text-align: right;\n    }\n</style>\n<table border=\"1\" class=\"dataframe\">\n  <thead>\n    <tr style=\"text-align: right;\">\n      <th></th>\n      <th>ID</th>\n      <th>max_ICULOS</th>\n      <th>Gender</th>\n      <th>time_bm</th>\n      <th>HR</th>\n      <th>MAP</th>\n      <th>O2Sat</th>\n      <th>Resp</th>\n      <th>SBP</th>\n      <th>ICULOS</th>\n      <th>...</th>\n      <th>Potassium</th>\n      <th>5w_sum_BaseExcess</th>\n      <th>5w_sum_FiO2</th>\n      <th>5w_sum_pH</th>\n      <th>5w_sum_PaCO2</th>\n      <th>5w_sum_Glucose</th>\n      <th>5w_sum_Lactate</th>\n      <th>5w_sum_PTT</th>\n      <th>Label</th>\n      <th>SepsisLabel</th>\n    </tr>\n  </thead>\n  <tbody>\n    <tr>\n      <th>75963</th>\n      <td>0</td>\n      <td>23</td>\n      <td>0</td>\n      <td>-10</td>\n      <td>62.0</td>\n      <td>72.0</td>\n      <td>95.0</td>\n      <td>12.0</td>\n      <td>139.0</td>\n      <td>13</td>\n      <td>...</td>\n      <td>NaN</td>\n      <td>0.0</td>\n      <td>0.0</td>\n      <td>0.0</td>\n      <td>0.0</td>\n      <td>1.0</td>\n      <td>0.0</td>\n      <td>0.0</td>\n      <td>0</td>\n      <td>0</td>\n    </tr>\n    <tr>\n      <th>75964</th>\n      <td>0</td>\n      <td>23</td>\n      <td>0</td>\n      <td>-9</td>\n      <td>63.0</td>\n      <td>75.0</td>\n      <td>95.0</td>\n      <td>11.0</td>\n      <td>143.0</td>\n      <td>14</td>\n      <td>...</td>\n      <td>NaN</td>\n      <td>0.0</td>\n      <td>0.0</td>\n      <td>0.0</td>\n      <td>0.0</td>\n      <td>1.0</td>\n      <td>0.0</td>\n      <td>0.0</td>\n      <td>0</td>\n      <td>0</td>\n    </tr>\n    <tr>\n      <th>75965</th>\n      <td>0</td>\n      <td>23</td>\n      <td>0</td>\n      <td>-8</td>\n      <td>63.0</td>\n      <td>81.0</td>\n      <td>97.0</td>\n      <td>11.0</td>\n      <td>154.0</td>\n      <td>15</td>\n      <td>...</td>\n      <td>NaN</td>\n      <td>0.0</td>\n      <td>0.0</td>\n      <td>0.0</td>\n      <td>0.0</td>\n      <td>1.0</td>\n      <td>0.0</td>\n      <td>0.0</td>\n      <td>0</td>\n      <td>0</td>\n    </tr>\n    <tr>\n      <th>75966</th>\n      <td>0</td>\n      <td>23</td>\n      <td>0</td>\n      <td>-7</td>\n      <td>58.0</td>\n      <td>58.0</td>\n      <td>94.0</td>\n      <td>10.0</td>\n      <td>114.0</td>\n      <td>16</td>\n      <td>...</td>\n      <td>NaN</td>\n      <td>0.0</td>\n      <td>0.0</td>\n      <td>0.0</td>\n      <td>0.0</td>\n      <td>0.0</td>\n      <td>0.0</td>\n      <td>0.0</td>\n      <td>0</td>\n      <td>0</td>\n    </tr>\n    <tr>\n      <th>75967</th>\n      <td>0</td>\n      <td>23</td>\n      <td>0</td>\n      <td>-6</td>\n      <td>54.0</td>\n      <td>50.5</td>\n      <td>97.0</td>\n      <td>12.0</td>\n      <td>NaN</td>\n      <td>17</td>\n      <td>...</td>\n      <td>NaN</td>\n      <td>0.0</td>\n      <td>0.0</td>\n      <td>0.0</td>\n      <td>0.0</td>\n      <td>0.0</td>\n      <td>0.0</td>\n      <td>0.0</td>\n      <td>0</td>\n      <td>0</td>\n    </tr>\n    <tr>\n      <th>...</th>\n      <td>...</td>\n      <td>...</td>\n      <td>...</td>\n      <td>...</td>\n      <td>...</td>\n      <td>...</td>\n      <td>...</td>\n      <td>...</td>\n      <td>...</td>\n      <td>...</td>\n      <td>...</td>\n      <td>...</td>\n      <td>...</td>\n      <td>...</td>\n      <td>...</td>\n      <td>...</td>\n      <td>...</td>\n      <td>...</td>\n      <td>...</td>\n      <td>...</td>\n      <td>...</td>\n    </tr>\n    <tr>\n      <th>154924</th>\n      <td>19999</td>\n      <td>54</td>\n      <td>0</td>\n      <td>-4</td>\n      <td>76.0</td>\n      <td>53.0</td>\n      <td>NaN</td>\n      <td>17.0</td>\n      <td>85.0</td>\n      <td>50</td>\n      <td>...</td>\n      <td>NaN</td>\n      <td>1.0</td>\n      <td>3.0</td>\n      <td>1.0</td>\n      <td>0.0</td>\n      <td>0.0</td>\n      <td>0.0</td>\n      <td>0.0</td>\n      <td>0</td>\n      <td>0</td>\n    </tr>\n    <tr>\n      <th>154925</th>\n      <td>19999</td>\n      <td>54</td>\n      <td>0</td>\n      <td>-3</td>\n      <td>81.0</td>\n      <td>51.0</td>\n      <td>99.0</td>\n      <td>17.0</td>\n      <td>99.0</td>\n      <td>51</td>\n      <td>...</td>\n      <td>NaN</td>\n      <td>1.0</td>\n      <td>2.0</td>\n      <td>1.0</td>\n      <td>0.0</td>\n      <td>0.0</td>\n      <td>0.0</td>\n      <td>0.0</td>\n      <td>0</td>\n      <td>0</td>\n    </tr>\n    <tr>\n      <th>154926</th>\n      <td>19999</td>\n      <td>54</td>\n      <td>0</td>\n      <td>-2</td>\n      <td>85.0</td>\n      <td>48.0</td>\n      <td>100.0</td>\n      <td>26.0</td>\n      <td>103.0</td>\n      <td>52</td>\n      <td>...</td>\n      <td>NaN</td>\n      <td>0.0</td>\n      <td>1.0</td>\n      <td>0.0</td>\n      <td>0.0</td>\n      <td>0.0</td>\n      <td>0.0</td>\n      <td>0.0</td>\n      <td>0</td>\n      <td>0</td>\n    </tr>\n    <tr>\n      <th>154927</th>\n      <td>19999</td>\n      <td>54</td>\n      <td>0</td>\n      <td>-1</td>\n      <td>86.0</td>\n      <td>44.0</td>\n      <td>93.0</td>\n      <td>22.0</td>\n      <td>87.0</td>\n      <td>53</td>\n      <td>...</td>\n      <td>NaN</td>\n      <td>0.0</td>\n      <td>1.0</td>\n      <td>0.0</td>\n      <td>0.0</td>\n      <td>0.0</td>\n      <td>0.0</td>\n      <td>0.0</td>\n      <td>0</td>\n      <td>0</td>\n    </tr>\n    <tr>\n      <th>154928</th>\n      <td>19999</td>\n      <td>54</td>\n      <td>0</td>\n      <td>0</td>\n      <td>84.0</td>\n      <td>44.0</td>\n      <td>85.0</td>\n      <td>18.0</td>\n      <td>78.0</td>\n      <td>54</td>\n      <td>...</td>\n      <td>NaN</td>\n      <td>0.0</td>\n      <td>1.0</td>\n      <td>0.0</td>\n      <td>0.0</td>\n      <td>0.0</td>\n      <td>0.0</td>\n      <td>0.0</td>\n      <td>0</td>\n      <td>0</td>\n    </tr>\n  </tbody>\n</table>\n<p>173197 rows × 22 columns</p>\n</div>"
     },
     "execution_count": 42,
     "metadata": {},
     "output_type": "execute_result"
    }
   ],
   "source": [
    "train_df_with_roll = train_df_with_roll[constant_attributes + other_attributes + \\\n",
    "                                        values_used_attributes + frequency_used_attributes_fixed + \\\n",
    "                                        label_attributes]\n",
    "train_df_with_roll = train_df_with_roll[train_df_with_roll['time_bm']>=-10]\n",
    "train_df_with_roll"
   ],
   "metadata": {
    "collapsed": false,
    "pycharm": {
     "name": "#%%\n"
    }
   }
  },
  {
   "cell_type": "markdown",
   "source": [],
   "metadata": {
    "collapsed": false,
    "pycharm": {
     "name": "#%% md\n"
    }
   }
  },
  {
   "cell_type": "code",
   "execution_count": 43,
   "outputs": [
    {
     "data": {
      "text/plain": "          ID  Label  max_ICULOS  Gender  HR__median  HR__max  MAP__median  \\\n0          0      0          23       0        58.0     63.0        58.00   \n1          2      0          38       1        81.0     89.0        99.00   \n2          3      0          48       1        71.0     86.0        88.00   \n3          4      0          24       1        98.0    107.0        84.00   \n4          5      0          25       1        63.5     69.0        83.00   \n...      ...    ...         ...     ...         ...      ...          ...   \n15995  19995      0          29       1       109.0    117.0        83.00   \n15996  19996      0          43       1        63.0     78.0       113.00   \n15997  19997      0          15       0        73.0     80.0        90.00   \n15998  19998      0          42       1        84.0     94.0        76.50   \n15999  19999      0          54       0        86.0    114.5        67.83   \n\n       MAP__min  O2Sat__mean  Resp__median  ...  Hct__min  Potassium__mean  \\\n0         50.50    95.909091          11.5  ...       NaN              NaN   \n1         75.67    95.500000          18.0  ...       NaN              NaN   \n2         74.33    96.727273          17.0  ...      39.8             3.90   \n3         76.00    95.181818          18.0  ...       NaN              NaN   \n4         65.00    97.400000          22.0  ...      31.4             4.95   \n...         ...          ...           ...  ...       ...              ...   \n15995     74.00    97.100000          19.5  ...      33.0              NaN   \n15996     95.00    99.090909          16.0  ...       NaN              NaN   \n15997     80.67    98.318182          17.0  ...      29.2             3.60   \n15998     72.00    97.166667          16.0  ...      29.9             4.20   \n15999     44.00    93.600000          21.5  ...       NaN              NaN   \n\n       Glucose__mean  5w_sum_BaseExcess__mean  5w_sum_FiO2__mean  \\\n0                NaN                 0.000000           0.000000   \n1                NaN                 0.000000           0.000000   \n2              169.0                 0.000000           0.000000   \n3              123.0                 0.000000           0.000000   \n4              118.8                 0.000000           0.000000   \n...              ...                      ...                ...   \n15995            NaN                 0.000000           0.545455   \n15996            NaN                 0.545455           1.545455   \n15997          112.0                 0.000000           0.000000   \n15998          137.0                 0.000000           0.000000   \n15999            NaN                 1.181818           1.636364   \n\n       5w_sum_pH__mean  5w_sum_PaCO2__mean  5w_sum_Glucose__mean  \\\n0             0.000000            0.000000              0.272727   \n1             0.000000            0.000000              0.454545   \n2             0.000000            0.000000              1.181818   \n3             0.000000            0.000000              1.181818   \n4             0.000000            0.000000              2.727273   \n...                ...                 ...                   ...   \n15995         0.363636            0.000000              0.363636   \n15996         0.545455            0.545455              0.000000   \n15997         0.000000            0.000000              0.545455   \n15998         0.545455            0.000000              0.545455   \n15999         1.181818            0.636364              0.181818   \n\n       5w_sum_Lactate__mean  5w_sum_PTT__mean  \n0                       0.0          0.000000  \n1                       0.0          0.454545  \n2                       0.0          0.272727  \n3                       0.0          0.000000  \n4                       0.0          0.000000  \n...                     ...               ...  \n15995                   0.0          0.000000  \n15996                   0.0          0.000000  \n15997                   0.0          0.545455  \n15998                   0.0          0.000000  \n15999                   0.0          0.000000  \n\n[16000 rows x 24 columns]",
      "text/html": "<div>\n<style scoped>\n    .dataframe tbody tr th:only-of-type {\n        vertical-align: middle;\n    }\n\n    .dataframe tbody tr th {\n        vertical-align: top;\n    }\n\n    .dataframe thead th {\n        text-align: right;\n    }\n</style>\n<table border=\"1\" class=\"dataframe\">\n  <thead>\n    <tr style=\"text-align: right;\">\n      <th></th>\n      <th>ID</th>\n      <th>Label</th>\n      <th>max_ICULOS</th>\n      <th>Gender</th>\n      <th>HR__median</th>\n      <th>HR__max</th>\n      <th>MAP__median</th>\n      <th>MAP__min</th>\n      <th>O2Sat__mean</th>\n      <th>Resp__median</th>\n      <th>...</th>\n      <th>Hct__min</th>\n      <th>Potassium__mean</th>\n      <th>Glucose__mean</th>\n      <th>5w_sum_BaseExcess__mean</th>\n      <th>5w_sum_FiO2__mean</th>\n      <th>5w_sum_pH__mean</th>\n      <th>5w_sum_PaCO2__mean</th>\n      <th>5w_sum_Glucose__mean</th>\n      <th>5w_sum_Lactate__mean</th>\n      <th>5w_sum_PTT__mean</th>\n    </tr>\n  </thead>\n  <tbody>\n    <tr>\n      <th>0</th>\n      <td>0</td>\n      <td>0</td>\n      <td>23</td>\n      <td>0</td>\n      <td>58.0</td>\n      <td>63.0</td>\n      <td>58.00</td>\n      <td>50.50</td>\n      <td>95.909091</td>\n      <td>11.5</td>\n      <td>...</td>\n      <td>NaN</td>\n      <td>NaN</td>\n      <td>NaN</td>\n      <td>0.000000</td>\n      <td>0.000000</td>\n      <td>0.000000</td>\n      <td>0.000000</td>\n      <td>0.272727</td>\n      <td>0.0</td>\n      <td>0.000000</td>\n    </tr>\n    <tr>\n      <th>1</th>\n      <td>2</td>\n      <td>0</td>\n      <td>38</td>\n      <td>1</td>\n      <td>81.0</td>\n      <td>89.0</td>\n      <td>99.00</td>\n      <td>75.67</td>\n      <td>95.500000</td>\n      <td>18.0</td>\n      <td>...</td>\n      <td>NaN</td>\n      <td>NaN</td>\n      <td>NaN</td>\n      <td>0.000000</td>\n      <td>0.000000</td>\n      <td>0.000000</td>\n      <td>0.000000</td>\n      <td>0.454545</td>\n      <td>0.0</td>\n      <td>0.454545</td>\n    </tr>\n    <tr>\n      <th>2</th>\n      <td>3</td>\n      <td>0</td>\n      <td>48</td>\n      <td>1</td>\n      <td>71.0</td>\n      <td>86.0</td>\n      <td>88.00</td>\n      <td>74.33</td>\n      <td>96.727273</td>\n      <td>17.0</td>\n      <td>...</td>\n      <td>39.8</td>\n      <td>3.90</td>\n      <td>169.0</td>\n      <td>0.000000</td>\n      <td>0.000000</td>\n      <td>0.000000</td>\n      <td>0.000000</td>\n      <td>1.181818</td>\n      <td>0.0</td>\n      <td>0.272727</td>\n    </tr>\n    <tr>\n      <th>3</th>\n      <td>4</td>\n      <td>0</td>\n      <td>24</td>\n      <td>1</td>\n      <td>98.0</td>\n      <td>107.0</td>\n      <td>84.00</td>\n      <td>76.00</td>\n      <td>95.181818</td>\n      <td>18.0</td>\n      <td>...</td>\n      <td>NaN</td>\n      <td>NaN</td>\n      <td>123.0</td>\n      <td>0.000000</td>\n      <td>0.000000</td>\n      <td>0.000000</td>\n      <td>0.000000</td>\n      <td>1.181818</td>\n      <td>0.0</td>\n      <td>0.000000</td>\n    </tr>\n    <tr>\n      <th>4</th>\n      <td>5</td>\n      <td>0</td>\n      <td>25</td>\n      <td>1</td>\n      <td>63.5</td>\n      <td>69.0</td>\n      <td>83.00</td>\n      <td>65.00</td>\n      <td>97.400000</td>\n      <td>22.0</td>\n      <td>...</td>\n      <td>31.4</td>\n      <td>4.95</td>\n      <td>118.8</td>\n      <td>0.000000</td>\n      <td>0.000000</td>\n      <td>0.000000</td>\n      <td>0.000000</td>\n      <td>2.727273</td>\n      <td>0.0</td>\n      <td>0.000000</td>\n    </tr>\n    <tr>\n      <th>...</th>\n      <td>...</td>\n      <td>...</td>\n      <td>...</td>\n      <td>...</td>\n      <td>...</td>\n      <td>...</td>\n      <td>...</td>\n      <td>...</td>\n      <td>...</td>\n      <td>...</td>\n      <td>...</td>\n      <td>...</td>\n      <td>...</td>\n      <td>...</td>\n      <td>...</td>\n      <td>...</td>\n      <td>...</td>\n      <td>...</td>\n      <td>...</td>\n      <td>...</td>\n      <td>...</td>\n    </tr>\n    <tr>\n      <th>15995</th>\n      <td>19995</td>\n      <td>0</td>\n      <td>29</td>\n      <td>1</td>\n      <td>109.0</td>\n      <td>117.0</td>\n      <td>83.00</td>\n      <td>74.00</td>\n      <td>97.100000</td>\n      <td>19.5</td>\n      <td>...</td>\n      <td>33.0</td>\n      <td>NaN</td>\n      <td>NaN</td>\n      <td>0.000000</td>\n      <td>0.545455</td>\n      <td>0.363636</td>\n      <td>0.000000</td>\n      <td>0.363636</td>\n      <td>0.0</td>\n      <td>0.000000</td>\n    </tr>\n    <tr>\n      <th>15996</th>\n      <td>19996</td>\n      <td>0</td>\n      <td>43</td>\n      <td>1</td>\n      <td>63.0</td>\n      <td>78.0</td>\n      <td>113.00</td>\n      <td>95.00</td>\n      <td>99.090909</td>\n      <td>16.0</td>\n      <td>...</td>\n      <td>NaN</td>\n      <td>NaN</td>\n      <td>NaN</td>\n      <td>0.545455</td>\n      <td>1.545455</td>\n      <td>0.545455</td>\n      <td>0.545455</td>\n      <td>0.000000</td>\n      <td>0.0</td>\n      <td>0.000000</td>\n    </tr>\n    <tr>\n      <th>15997</th>\n      <td>19997</td>\n      <td>0</td>\n      <td>15</td>\n      <td>0</td>\n      <td>73.0</td>\n      <td>80.0</td>\n      <td>90.00</td>\n      <td>80.67</td>\n      <td>98.318182</td>\n      <td>17.0</td>\n      <td>...</td>\n      <td>29.2</td>\n      <td>3.60</td>\n      <td>112.0</td>\n      <td>0.000000</td>\n      <td>0.000000</td>\n      <td>0.000000</td>\n      <td>0.000000</td>\n      <td>0.545455</td>\n      <td>0.0</td>\n      <td>0.545455</td>\n    </tr>\n    <tr>\n      <th>15998</th>\n      <td>19998</td>\n      <td>0</td>\n      <td>42</td>\n      <td>1</td>\n      <td>84.0</td>\n      <td>94.0</td>\n      <td>76.50</td>\n      <td>72.00</td>\n      <td>97.166667</td>\n      <td>16.0</td>\n      <td>...</td>\n      <td>29.9</td>\n      <td>4.20</td>\n      <td>137.0</td>\n      <td>0.000000</td>\n      <td>0.000000</td>\n      <td>0.545455</td>\n      <td>0.000000</td>\n      <td>0.545455</td>\n      <td>0.0</td>\n      <td>0.000000</td>\n    </tr>\n    <tr>\n      <th>15999</th>\n      <td>19999</td>\n      <td>0</td>\n      <td>54</td>\n      <td>0</td>\n      <td>86.0</td>\n      <td>114.5</td>\n      <td>67.83</td>\n      <td>44.00</td>\n      <td>93.600000</td>\n      <td>21.5</td>\n      <td>...</td>\n      <td>NaN</td>\n      <td>NaN</td>\n      <td>NaN</td>\n      <td>1.181818</td>\n      <td>1.636364</td>\n      <td>1.181818</td>\n      <td>0.636364</td>\n      <td>0.181818</td>\n      <td>0.0</td>\n      <td>0.000000</td>\n    </tr>\n  </tbody>\n</table>\n<p>16000 rows × 24 columns</p>\n</div>"
     },
     "execution_count": 43,
     "metadata": {},
     "output_type": "execute_result"
    }
   ],
   "source": [
    "data_final = train_df_with_roll.groupby(['ID', 'Label','max_ICULOS','Gender']).agg({\n",
    "                                                    'HR': ['median', 'max'],\\\n",
    "                                                    'MAP': ['median', 'min'],\\\n",
    "                                                    'O2Sat': 'mean',\\\n",
    "                                                    'Resp': ['median', 'max'],\\\n",
    "                                                    'SBP': ['median', 'min'],\\\n",
    "                                                    'Hct': ['median', 'min'],\\\n",
    "                                                    'Potassium': 'mean',\\\n",
    "                                                    'Glucose': 'mean',\\\n",
    "                                                    f'{window_size}w_sum_BaseExcess': 'mean',\\\n",
    "                                                    f'{window_size}w_sum_FiO2': 'mean',\\\n",
    "                                                    f'{window_size}w_sum_pH': 'mean',\\\n",
    "                                                    f'{window_size}w_sum_PaCO2': 'mean',\\\n",
    "                                                    f'{window_size}w_sum_Glucose': 'mean',\\\n",
    "                                                    f'{window_size}w_sum_Lactate': 'mean',\\\n",
    "                                                    f'{window_size}w_sum_PTT': 'mean'}).reset_index()\n",
    "\n",
    "data_final.columns = ['__'.join(col).strip() for col in data_final.columns.values]\n",
    "data_final.rename(columns={\"ID__\": \"ID\", \"Label__\": \"Label\", \"max_ICULOS__\":\"max_ICULOS\", \"Gender__\":\"Gender\"}, inplace=True)\n",
    "\n",
    "data_final"
   ],
   "metadata": {
    "collapsed": false,
    "pycharm": {
     "name": "#%%\n"
    }
   }
  },
  {
   "cell_type": "code",
   "execution_count": 11,
   "outputs": [
    {
     "name": "stdout",
     "output_type": "stream",
     "text": [
      "<class 'pandas.core.frame.DataFrame'>\n",
      "RangeIndex: 16000 entries, 0 to 15999\n",
      "Data columns (total 24 columns):\n",
      " #   Column                   Non-Null Count  Dtype  \n",
      "---  ------                   --------------  -----  \n",
      " 0   ID                       16000 non-null  int64  \n",
      " 1   Label                    16000 non-null  int64  \n",
      " 2   max_ICULOS               16000 non-null  int64  \n",
      " 3   Gender                   16000 non-null  int64  \n",
      " 4   HR__median               15809 non-null  float64\n",
      " 5   HR__max                  15809 non-null  float64\n",
      " 6   MAP__median              15708 non-null  float64\n",
      " 7   MAP__min                 15708 non-null  float64\n",
      " 8   O2Sat__mean              15714 non-null  float64\n",
      " 9   Resp__median             15690 non-null  float64\n",
      " 10  Resp__max                15690 non-null  float64\n",
      " 11  SBP__median              15355 non-null  float64\n",
      " 12  SBP__min                 15355 non-null  float64\n",
      " 13  Hct__median              9054 non-null   float64\n",
      " 14  Hct__min                 9054 non-null   float64\n",
      " 15  Potassium__mean          9416 non-null   float64\n",
      " 16  Glucose__mean            11388 non-null  float64\n",
      " 17  5w_sum_BaseExcess__mean  16000 non-null  float64\n",
      " 18  5w_sum_FiO2__mean        16000 non-null  float64\n",
      " 19  5w_sum_pH__mean          16000 non-null  float64\n",
      " 20  5w_sum_PaCO2__mean       16000 non-null  float64\n",
      " 21  5w_sum_Glucose__mean     16000 non-null  float64\n",
      " 22  5w_sum_Lactate__mean     16000 non-null  float64\n",
      " 23  5w_sum_PTT__mean         16000 non-null  float64\n",
      "dtypes: float64(20), int64(4)\n",
      "memory usage: 2.9 MB\n"
     ]
    }
   ],
   "source": [
    "data_final.info()"
   ],
   "metadata": {
    "collapsed": false,
    "pycharm": {
     "name": "#%%\n"
    }
   }
  },
  {
   "cell_type": "markdown",
   "source": [
    "### Imputing With KNNImputer"
   ],
   "metadata": {
    "collapsed": false,
    "pycharm": {
     "name": "#%% md\n"
    }
   }
  },
  {
   "cell_type": "code",
   "execution_count": 13,
   "outputs": [
    {
     "data": {
      "text/plain": "<Figure size 1152x576 with 1 Axes>",
      "image/png": "[encoded data removed]"
     },
     "metadata": {},
     "output_type": "display_data"
    }
   ],
   "source": [
    "n_neighbors = [2, 3, 5, 7]\n",
    "\n",
    "fig, ax = plt.subplots(figsize=(16, 8))\n",
    "# Plot the original distribution\n",
    "sns.kdeplot(data_final.Glucose__mean, label=\"Original Distribution\")\n",
    "for k in n_neighbors:\n",
    "    knn_imp = KNNImputer(n_neighbors=k)\n",
    "    data_knn_imputed.loc[:, :] = knn_imp.fit_transform(data_final)\n",
    "    sns.kdeplot(data_knn_imputed.Glucose__mean, label=f\"Imputed Dist with k={k}\")\n",
    "\n",
    "plt.legend();"
   ],
   "metadata": {
    "collapsed": false,
    "pycharm": {
     "name": "#%%\n"
    }
   }
  },
  {
   "cell_type": "code",
   "execution_count": 44,
   "outputs": [],
   "source": [
    "from sklearn.impute import KNNImputer\n",
    "\n",
    "# Copy the data\n",
    "data_knn_imputed = data_final.copy(deep=True)\n",
    "\n",
    "# Init the transformer\n",
    "knn_imp = KNNImputer(n_neighbors=3)\n",
    "\n",
    "# Fit/transform\n",
    "data_knn_imputed.loc[:, :] = knn_imp.fit_transform(data_knn_imputed)\n",
    "\n",
    "# data_knn_imputed.isnull().sum()"
   ],
   "metadata": {
    "collapsed": false,
    "pycharm": {
     "name": "#%%\n"
    }
   }
  },
  {
   "cell_type": "code",
   "execution_count": 16,
   "outputs": [
    {
     "data": {
      "text/plain": "          ID  Label  max_ICULOS  Gender  HR__median  HR__max  MAP__median  \\\n0          0      0          23       0        58.0     63.0        58.00   \n1          2      0          38       1        81.0     89.0        99.00   \n2          3      0          48       1        71.0     86.0        88.00   \n3          4      0          24       1        98.0    107.0        84.00   \n4          5      0          25       1        63.5     69.0        83.00   \n...      ...    ...         ...     ...         ...      ...          ...   \n15995  19995      0          29       1       109.0    117.0        83.00   \n15996  19996      0          43       1        63.0     78.0       113.00   \n15997  19997      0          15       0        73.0     80.0        90.00   \n15998  19998      0          42       1        84.0     94.0        76.50   \n15999  19999      0          54       0        86.0    114.5        67.83   \n\n       MAP__min  O2Sat__mean  Resp__median  ...  Hct__min  Potassium__mean  \\\n0         50.50    95.909091          11.5  ...       NaN              NaN   \n1         75.67    95.500000          18.0  ...       NaN              NaN   \n2         74.33    96.727273          17.0  ...      39.8             3.90   \n3         76.00    95.181818          18.0  ...       NaN              NaN   \n4         65.00    97.400000          22.0  ...      31.4             4.95   \n...         ...          ...           ...  ...       ...              ...   \n15995     74.00    97.100000          19.5  ...      33.0              NaN   \n15996     95.00    99.090909          16.0  ...       NaN              NaN   \n15997     80.67    98.318182          17.0  ...      29.2             3.60   \n15998     72.00    97.166667          16.0  ...      29.9             4.20   \n15999     44.00    93.600000          21.5  ...       NaN              NaN   \n\n       Glucose__mean  5w_sum_BaseExcess__mean  5w_sum_FiO2__mean  \\\n0                NaN                 0.000000           0.000000   \n1                NaN                 0.000000           0.000000   \n2              169.0                 0.000000           0.000000   \n3              123.0                 0.000000           0.000000   \n4              118.8                 0.000000           0.000000   \n...              ...                      ...                ...   \n15995            NaN                 0.000000           0.545455   \n15996            NaN                 0.545455           1.545455   \n15997          112.0                 0.000000           0.000000   \n15998          137.0                 0.000000           0.000000   \n15999            NaN                 1.181818           1.636364   \n\n       5w_sum_pH__mean  5w_sum_PaCO2__mean  5w_sum_Glucose__mean  \\\n0             0.000000            0.000000              0.272727   \n1             0.000000            0.000000              0.454545   \n2             0.000000            0.000000              1.181818   \n3             0.000000            0.000000              1.181818   \n4             0.000000            0.000000              2.727273   \n...                ...                 ...                   ...   \n15995         0.363636            0.000000              0.363636   \n15996         0.545455            0.545455              0.000000   \n15997         0.000000            0.000000              0.545455   \n15998         0.545455            0.000000              0.545455   \n15999         1.181818            0.636364              0.181818   \n\n       5w_sum_Lactate__mean  5w_sum_PTT__mean  \n0                       0.0          0.000000  \n1                       0.0          0.454545  \n2                       0.0          0.272727  \n3                       0.0          0.000000  \n4                       0.0          0.000000  \n...                     ...               ...  \n15995                   0.0          0.000000  \n15996                   0.0          0.000000  \n15997                   0.0          0.545455  \n15998                   0.0          0.000000  \n15999                   0.0          0.000000  \n\n[16000 rows x 24 columns]",
      "text/html": "<div>\n<style scoped>\n    .dataframe tbody tr th:only-of-type {\n        vertical-align: middle;\n    }\n\n    .dataframe tbody tr th {\n        vertical-align: top;\n    }\n\n    .dataframe thead th {\n        text-align: right;\n    }\n</style>\n<table border=\"1\" class=\"dataframe\">\n  <thead>\n    <tr style=\"text-align: right;\">\n      <th></th>\n      <th>ID</th>\n      <th>Label</th>\n      <th>max_ICULOS</th>\n      <th>Gender</th>\n      <th>HR__median</th>\n      <th>HR__max</th>\n      <th>MAP__median</th>\n      <th>MAP__min</th>\n      <th>O2Sat__mean</th>\n      <th>Resp__median</th>\n      <th>...</th>\n      <th>Hct__min</th>\n      <th>Potassium__mean</th>\n      <th>Glucose__mean</th>\n      <th>5w_sum_BaseExcess__mean</th>\n      <th>5w_sum_FiO2__mean</th>\n      <th>5w_sum_pH__mean</th>\n      <th>5w_sum_PaCO2__mean</th>\n      <th>5w_sum_Glucose__mean</th>\n      <th>5w_sum_Lactate__mean</th>\n      <th>5w_sum_PTT__mean</th>\n    </tr>\n  </thead>\n  <tbody>\n    <tr>\n      <th>0</th>\n      <td>0</td>\n      <td>0</td>\n      <td>23</td>\n      <td>0</td>\n      <td>58.0</td>\n      <td>63.0</td>\n      <td>58.00</td>\n      <td>50.50</td>\n      <td>95.909091</td>\n      <td>11.5</td>\n      <td>...</td>\n      <td>NaN</td>\n      <td>NaN</td>\n      <td>NaN</td>\n      <td>0.000000</td>\n      <td>0.000000</td>\n      <td>0.000000</td>\n      <td>0.000000</td>\n      <td>0.272727</td>\n      <td>0.0</td>\n      <td>0.000000</td>\n    </tr>\n    <tr>\n      <th>1</th>\n      <td>2</td>\n      <td>0</td>\n      <td>38</td>\n      <td>1</td>\n      <td>81.0</td>\n      <td>89.0</td>\n      <td>99.00</td>\n      <td>75.67</td>\n      <td>95.500000</td>\n      <td>18.0</td>\n      <td>...</td>\n      <td>NaN</td>\n      <td>NaN</td>\n      <td>NaN</td>\n      <td>0.000000</td>\n      <td>0.000000</td>\n      <td>0.000000</td>\n      <td>0.000000</td>\n      <td>0.454545</td>\n      <td>0.0</td>\n      <td>0.454545</td>\n    </tr>\n    <tr>\n      <th>2</th>\n      <td>3</td>\n      <td>0</td>\n      <td>48</td>\n      <td>1</td>\n      <td>71.0</td>\n      <td>86.0</td>\n      <td>88.00</td>\n      <td>74.33</td>\n      <td>96.727273</td>\n      <td>17.0</td>\n      <td>...</td>\n      <td>39.8</td>\n      <td>3.90</td>\n      <td>169.0</td>\n      <td>0.000000</td>\n      <td>0.000000</td>\n      <td>0.000000</td>\n      <td>0.000000</td>\n      <td>1.181818</td>\n      <td>0.0</td>\n      <td>0.272727</td>\n    </tr>\n    <tr>\n      <th>3</th>\n      <td>4</td>\n      <td>0</td>\n      <td>24</td>\n      <td>1</td>\n      <td>98.0</td>\n      <td>107.0</td>\n      <td>84.00</td>\n      <td>76.00</td>\n      <td>95.181818</td>\n      <td>18.0</td>\n      <td>...</td>\n      <td>NaN</td>\n      <td>NaN</td>\n      <td>123.0</td>\n      <td>0.000000</td>\n      <td>0.000000</td>\n      <td>0.000000</td>\n      <td>0.000000</td>\n      <td>1.181818</td>\n      <td>0.0</td>\n      <td>0.000000</td>\n    </tr>\n    <tr>\n      <th>4</th>\n      <td>5</td>\n      <td>0</td>\n      <td>25</td>\n      <td>1</td>\n      <td>63.5</td>\n      <td>69.0</td>\n      <td>83.00</td>\n      <td>65.00</td>\n      <td>97.400000</td>\n      <td>22.0</td>\n      <td>...</td>\n      <td>31.4</td>\n      <td>4.95</td>\n      <td>118.8</td>\n      <td>0.000000</td>\n      <td>0.000000</td>\n      <td>0.000000</td>\n      <td>0.000000</td>\n      <td>2.727273</td>\n      <td>0.0</td>\n      <td>0.000000</td>\n    </tr>\n    <tr>\n      <th>...</th>\n      <td>...</td>\n      <td>...</td>\n      <td>...</td>\n      <td>...</td>\n      <td>...</td>\n      <td>...</td>\n      <td>...</td>\n      <td>...</td>\n      <td>...</td>\n      <td>...</td>\n      <td>...</td>\n      <td>...</td>\n      <td>...</td>\n      <td>...</td>\n      <td>...</td>\n      <td>...</td>\n      <td>...</td>\n      <td>...</td>\n      <td>...</td>\n      <td>...</td>\n      <td>...</td>\n    </tr>\n    <tr>\n      <th>15995</th>\n      <td>19995</td>\n      <td>0</td>\n      <td>29</td>\n      <td>1</td>\n      <td>109.0</td>\n      <td>117.0</td>\n      <td>83.00</td>\n      <td>74.00</td>\n      <td>97.100000</td>\n      <td>19.5</td>\n      <td>...</td>\n      <td>33.0</td>\n      <td>NaN</td>\n      <td>NaN</td>\n      <td>0.000000</td>\n      <td>0.545455</td>\n      <td>0.363636</td>\n      <td>0.000000</td>\n      <td>0.363636</td>\n      <td>0.0</td>\n      <td>0.000000</td>\n    </tr>\n    <tr>\n      <th>15996</th>\n      <td>19996</td>\n      <td>0</td>\n      <td>43</td>\n      <td>1</td>\n      <td>63.0</td>\n      <td>78.0</td>\n      <td>113.00</td>\n      <td>95.00</td>\n      <td>99.090909</td>\n      <td>16.0</td>\n      <td>...</td>\n      <td>NaN</td>\n      <td>NaN</td>\n      <td>NaN</td>\n      <td>0.545455</td>\n      <td>1.545455</td>\n      <td>0.545455</td>\n      <td>0.545455</td>\n      <td>0.000000</td>\n      <td>0.0</td>\n      <td>0.000000</td>\n    </tr>\n    <tr>\n      <th>15997</th>\n      <td>19997</td>\n      <td>0</td>\n      <td>15</td>\n      <td>0</td>\n      <td>73.0</td>\n      <td>80.0</td>\n      <td>90.00</td>\n      <td>80.67</td>\n      <td>98.318182</td>\n      <td>17.0</td>\n      <td>...</td>\n      <td>29.2</td>\n      <td>3.60</td>\n      <td>112.0</td>\n      <td>0.000000</td>\n      <td>0.000000</td>\n      <td>0.000000</td>\n      <td>0.000000</td>\n      <td>0.545455</td>\n      <td>0.0</td>\n      <td>0.545455</td>\n    </tr>\n    <tr>\n      <th>15998</th>\n      <td>19998</td>\n      <td>0</td>\n      <td>42</td>\n      <td>1</td>\n      <td>84.0</td>\n      <td>94.0</td>\n      <td>76.50</td>\n      <td>72.00</td>\n      <td>97.166667</td>\n      <td>16.0</td>\n      <td>...</td>\n      <td>29.9</td>\n      <td>4.20</td>\n      <td>137.0</td>\n      <td>0.000000</td>\n      <td>0.000000</td>\n      <td>0.545455</td>\n      <td>0.000000</td>\n      <td>0.545455</td>\n      <td>0.0</td>\n      <td>0.000000</td>\n    </tr>\n    <tr>\n      <th>15999</th>\n      <td>19999</td>\n      <td>0</td>\n      <td>54</td>\n      <td>0</td>\n      <td>86.0</td>\n      <td>114.5</td>\n      <td>67.83</td>\n      <td>44.00</td>\n      <td>93.600000</td>\n      <td>21.5</td>\n      <td>...</td>\n      <td>NaN</td>\n      <td>NaN</td>\n      <td>NaN</td>\n      <td>1.181818</td>\n      <td>1.636364</td>\n      <td>1.181818</td>\n      <td>0.636364</td>\n      <td>0.181818</td>\n      <td>0.0</td>\n      <td>0.000000</td>\n    </tr>\n  </tbody>\n</table>\n<p>16000 rows × 24 columns</p>\n</div>"
     },
     "execution_count": 16,
     "metadata": {},
     "output_type": "execute_result"
    }
   ],
   "source": [
    "data_final"
   ],
   "metadata": {
    "collapsed": false,
    "pycharm": {
     "name": "#%%\n"
    }
   }
  },
  {
   "cell_type": "code",
   "execution_count": 15,
   "outputs": [
    {
     "data": {
      "text/plain": "            ID  Label  max_ICULOS  Gender  HR__median  HR__max  MAP__median  \\\n0          0.0    0.0        23.0     0.0        58.0     63.0        58.00   \n1          2.0    0.0        38.0     1.0        81.0     89.0        99.00   \n2          3.0    0.0        48.0     1.0        71.0     86.0        88.00   \n3          4.0    0.0        24.0     1.0        98.0    107.0        84.00   \n4          5.0    0.0        25.0     1.0        63.5     69.0        83.00   \n...        ...    ...         ...     ...         ...      ...          ...   \n15995  19995.0    0.0        29.0     1.0       109.0    117.0        83.00   \n15996  19996.0    0.0        43.0     1.0        63.0     78.0       113.00   \n15997  19997.0    0.0        15.0     0.0        73.0     80.0        90.00   \n15998  19998.0    0.0        42.0     1.0        84.0     94.0        76.50   \n15999  19999.0    0.0        54.0     0.0        86.0    114.5        67.83   \n\n       MAP__min  O2Sat__mean  Resp__median  ...   Hct__min  Potassium__mean  \\\n0         50.50    95.909091          11.5  ...  34.966667         4.283333   \n1         75.67    95.500000          18.0  ...  33.066667         4.533333   \n2         74.33    96.727273          17.0  ...  39.800000         3.900000   \n3         76.00    95.181818          18.0  ...  29.366667         3.933333   \n4         65.00    97.400000          22.0  ...  31.400000         4.950000   \n...         ...          ...           ...  ...        ...              ...   \n15995     74.00    97.100000          19.5  ...  33.000000         4.200000   \n15996     95.00    99.090909          16.0  ...  30.533333         3.900000   \n15997     80.67    98.318182          17.0  ...  29.200000         3.600000   \n15998     72.00    97.166667          16.0  ...  29.900000         4.200000   \n15999     44.00    93.600000          21.5  ...  27.100000         4.200000   \n\n       Glucose__mean  5w_sum_BaseExcess__mean  5w_sum_FiO2__mean  \\\n0         149.100000                 0.000000           0.000000   \n1         159.333333                 0.000000           0.000000   \n2         169.000000                 0.000000           0.000000   \n3         123.000000                 0.000000           0.000000   \n4         118.800000                 0.000000           0.000000   \n...              ...                      ...                ...   \n15995     127.000000                 0.000000           0.545455   \n15996     130.000000                 0.545455           1.545455   \n15997     112.000000                 0.000000           0.000000   \n15998     137.000000                 0.000000           0.000000   \n15999     112.000000                 1.181818           1.636364   \n\n       5w_sum_pH__mean  5w_sum_PaCO2__mean  5w_sum_Glucose__mean  \\\n0             0.000000            0.000000              0.272727   \n1             0.000000            0.000000              0.454545   \n2             0.000000            0.000000              1.181818   \n3             0.000000            0.000000              1.181818   \n4             0.000000            0.000000              2.727273   \n...                ...                 ...                   ...   \n15995         0.363636            0.000000              0.363636   \n15996         0.545455            0.545455              0.000000   \n15997         0.000000            0.000000              0.545455   \n15998         0.545455            0.000000              0.545455   \n15999         1.181818            0.636364              0.181818   \n\n       5w_sum_Lactate__mean  5w_sum_PTT__mean  \n0                       0.0          0.000000  \n1                       0.0          0.454545  \n2                       0.0          0.272727  \n3                       0.0          0.000000  \n4                       0.0          0.000000  \n...                     ...               ...  \n15995                   0.0          0.000000  \n15996                   0.0          0.000000  \n15997                   0.0          0.545455  \n15998                   0.0          0.000000  \n15999                   0.0          0.000000  \n\n[16000 rows x 24 columns]",
      "text/html": "<div>\n<style scoped>\n    .dataframe tbody tr th:only-of-type {\n        vertical-align: middle;\n    }\n\n    .dataframe tbody tr th {\n        vertical-align: top;\n    }\n\n    .dataframe thead th {\n        text-align: right;\n    }\n</style>\n<table border=\"1\" class=\"dataframe\">\n  <thead>\n    <tr style=\"text-align: right;\">\n      <th></th>\n      <th>ID</th>\n      <th>Label</th>\n      <th>max_ICULOS</th>\n      <th>Gender</th>\n      <th>HR__median</th>\n      <th>HR__max</th>\n      <th>MAP__median</th>\n      <th>MAP__min</th>\n      <th>O2Sat__mean</th>\n      <th>Resp__median</th>\n      <th>...</th>\n      <th>Hct__min</th>\n      <th>Potassium__mean</th>\n      <th>Glucose__mean</th>\n      <th>5w_sum_BaseExcess__mean</th>\n      <th>5w_sum_FiO2__mean</th>\n      <th>5w_sum_pH__mean</th>\n      <th>5w_sum_PaCO2__mean</th>\n      <th>5w_sum_Glucose__mean</th>\n      <th>5w_sum_Lactate__mean</th>\n      <th>5w_sum_PTT__mean</th>\n    </tr>\n  </thead>\n  <tbody>\n    <tr>\n      <th>0</th>\n      <td>0.0</td>\n      <td>0.0</td>\n      <td>23.0</td>\n      <td>0.0</td>\n      <td>58.0</td>\n      <td>63.0</td>\n      <td>58.00</td>\n      <td>50.50</td>\n      <td>95.909091</td>\n      <td>11.5</td>\n      <td>...</td>\n      <td>34.966667</td>\n      <td>4.283333</td>\n      <td>149.100000</td>\n      <td>0.000000</td>\n      <td>0.000000</td>\n      <td>0.000000</td>\n      <td>0.000000</td>\n      <td>0.272727</td>\n      <td>0.0</td>\n      <td>0.000000</td>\n    </tr>\n    <tr>\n      <th>1</th>\n      <td>2.0</td>\n      <td>0.0</td>\n      <td>38.0</td>\n      <td>1.0</td>\n      <td>81.0</td>\n      <td>89.0</td>\n      <td>99.00</td>\n      <td>75.67</td>\n      <td>95.500000</td>\n      <td>18.0</td>\n      <td>...</td>\n      <td>33.066667</td>\n      <td>4.533333</td>\n      <td>159.333333</td>\n      <td>0.000000</td>\n      <td>0.000000</td>\n      <td>0.000000</td>\n      <td>0.000000</td>\n      <td>0.454545</td>\n      <td>0.0</td>\n      <td>0.454545</td>\n    </tr>\n    <tr>\n      <th>2</th>\n      <td>3.0</td>\n      <td>0.0</td>\n      <td>48.0</td>\n      <td>1.0</td>\n      <td>71.0</td>\n      <td>86.0</td>\n      <td>88.00</td>\n      <td>74.33</td>\n      <td>96.727273</td>\n      <td>17.0</td>\n      <td>...</td>\n      <td>39.800000</td>\n      <td>3.900000</td>\n      <td>169.000000</td>\n      <td>0.000000</td>\n      <td>0.000000</td>\n      <td>0.000000</td>\n      <td>0.000000</td>\n      <td>1.181818</td>\n      <td>0.0</td>\n      <td>0.272727</td>\n    </tr>\n    <tr>\n      <th>3</th>\n      <td>4.0</td>\n      <td>0.0</td>\n      <td>24.0</td>\n      <td>1.0</td>\n      <td>98.0</td>\n      <td>107.0</td>\n      <td>84.00</td>\n      <td>76.00</td>\n      <td>95.181818</td>\n      <td>18.0</td>\n      <td>...</td>\n      <td>29.366667</td>\n      <td>3.933333</td>\n      <td>123.000000</td>\n      <td>0.000000</td>\n      <td>0.000000</td>\n      <td>0.000000</td>\n      <td>0.000000</td>\n      <td>1.181818</td>\n      <td>0.0</td>\n      <td>0.000000</td>\n    </tr>\n    <tr>\n      <th>4</th>\n      <td>5.0</td>\n      <td>0.0</td>\n      <td>25.0</td>\n      <td>1.0</td>\n      <td>63.5</td>\n      <td>69.0</td>\n      <td>83.00</td>\n      <td>65.00</td>\n      <td>97.400000</td>\n      <td>22.0</td>\n      <td>...</td>\n      <td>31.400000</td>\n      <td>4.950000</td>\n      <td>118.800000</td>\n      <td>0.000000</td>\n      <td>0.000000</td>\n      <td>0.000000</td>\n      <td>0.000000</td>\n      <td>2.727273</td>\n      <td>0.0</td>\n      <td>0.000000</td>\n    </tr>\n    <tr>\n      <th>...</th>\n      <td>...</td>\n      <td>...</td>\n      <td>...</td>\n      <td>...</td>\n      <td>...</td>\n      <td>...</td>\n      <td>...</td>\n      <td>...</td>\n      <td>...</td>\n      <td>...</td>\n      <td>...</td>\n      <td>...</td>\n      <td>...</td>\n      <td>...</td>\n      <td>...</td>\n      <td>...</td>\n      <td>...</td>\n      <td>...</td>\n      <td>...</td>\n      <td>...</td>\n      <td>...</td>\n    </tr>\n    <tr>\n      <th>15995</th>\n      <td>19995.0</td>\n      <td>0.0</td>\n      <td>29.0</td>\n      <td>1.0</td>\n      <td>109.0</td>\n      <td>117.0</td>\n      <td>83.00</td>\n      <td>74.00</td>\n      <td>97.100000</td>\n      <td>19.5</td>\n      <td>...</td>\n      <td>33.000000</td>\n      <td>4.200000</td>\n      <td>127.000000</td>\n      <td>0.000000</td>\n      <td>0.545455</td>\n      <td>0.363636</td>\n      <td>0.000000</td>\n      <td>0.363636</td>\n      <td>0.0</td>\n      <td>0.000000</td>\n    </tr>\n    <tr>\n      <th>15996</th>\n      <td>19996.0</td>\n      <td>0.0</td>\n      <td>43.0</td>\n      <td>1.0</td>\n      <td>63.0</td>\n      <td>78.0</td>\n      <td>113.00</td>\n      <td>95.00</td>\n      <td>99.090909</td>\n      <td>16.0</td>\n      <td>...</td>\n      <td>30.533333</td>\n      <td>3.900000</td>\n      <td>130.000000</td>\n      <td>0.545455</td>\n      <td>1.545455</td>\n      <td>0.545455</td>\n      <td>0.545455</td>\n      <td>0.000000</td>\n      <td>0.0</td>\n      <td>0.000000</td>\n    </tr>\n    <tr>\n      <th>15997</th>\n      <td>19997.0</td>\n      <td>0.0</td>\n      <td>15.0</td>\n      <td>0.0</td>\n      <td>73.0</td>\n      <td>80.0</td>\n      <td>90.00</td>\n      <td>80.67</td>\n      <td>98.318182</td>\n      <td>17.0</td>\n      <td>...</td>\n      <td>29.200000</td>\n      <td>3.600000</td>\n      <td>112.000000</td>\n      <td>0.000000</td>\n      <td>0.000000</td>\n      <td>0.000000</td>\n      <td>0.000000</td>\n      <td>0.545455</td>\n      <td>0.0</td>\n      <td>0.545455</td>\n    </tr>\n    <tr>\n      <th>15998</th>\n      <td>19998.0</td>\n      <td>0.0</td>\n      <td>42.0</td>\n      <td>1.0</td>\n      <td>84.0</td>\n      <td>94.0</td>\n      <td>76.50</td>\n      <td>72.00</td>\n      <td>97.166667</td>\n      <td>16.0</td>\n      <td>...</td>\n      <td>29.900000</td>\n      <td>4.200000</td>\n      <td>137.000000</td>\n      <td>0.000000</td>\n      <td>0.000000</td>\n      <td>0.545455</td>\n      <td>0.000000</td>\n      <td>0.545455</td>\n      <td>0.0</td>\n      <td>0.000000</td>\n    </tr>\n    <tr>\n      <th>15999</th>\n      <td>19999.0</td>\n      <td>0.0</td>\n      <td>54.0</td>\n      <td>0.0</td>\n      <td>86.0</td>\n      <td>114.5</td>\n      <td>67.83</td>\n      <td>44.00</td>\n      <td>93.600000</td>\n      <td>21.5</td>\n      <td>...</td>\n      <td>27.100000</td>\n      <td>4.200000</td>\n      <td>112.000000</td>\n      <td>1.181818</td>\n      <td>1.636364</td>\n      <td>1.181818</td>\n      <td>0.636364</td>\n      <td>0.181818</td>\n      <td>0.0</td>\n      <td>0.000000</td>\n    </tr>\n  </tbody>\n</table>\n<p>16000 rows × 24 columns</p>\n</div>"
     },
     "execution_count": 15,
     "metadata": {},
     "output_type": "execute_result"
    }
   ],
   "source": [
    "data_knn_imputed"
   ],
   "metadata": {
    "collapsed": false,
    "pycharm": {
     "name": "#%%\n"
    }
   }
  },
  {
   "cell_type": "markdown",
   "source": [
    "### Imputing With Iterative Imputer\n"
   ],
   "metadata": {
    "collapsed": false,
    "pycharm": {
     "name": "#%% md\n"
    }
   }
  },
  {
   "cell_type": "code",
   "execution_count": null,
   "outputs": [],
   "source": [
    "from sklearn.ensemble import ExtraTreesRegressor\n",
    "from sklearn.experimental import enable_iterative_imputer\n",
    "from sklearn.impute import IterativeImputer\n",
    "\n",
    "# Copy the data\n",
    "data_ii_imputed = data_final.copy(deep=True)\n",
    "\n",
    "# Init\n",
    "ii_imp = IterativeImputer(\n",
    "    estimator=ExtraTreesRegressor(), max_iter=10, random_state=1121218\n",
    ")\n",
    "\n",
    "# Tranform\n",
    "data_ii_imputed.loc[:, :] = ii_imp.fit_transform(data_ii_imputed)\n",
    "\n",
    "data_ii_imputed.isnull().sum()"
   ],
   "metadata": {
    "collapsed": false,
    "pycharm": {
     "name": "#%%\n"
    }
   }
  },
  {
   "cell_type": "code",
   "execution_count": null,
   "outputs": [],
   "source": [
    "from sklearn.model_selection import train_test_split\n",
    "\n",
    "X_full = data_final.loc[:, data_final.columns != 'Label'].copy()\n",
    "y_full = data_final.loc[:, data_final.columns == 'Label'].values.reshape(-1,1)\n",
    "\n",
    "from sklearn.ensemble import ExtraTreesRegressor, RandomForestClassifier\n",
    "from sklearn.impute import SimpleImputer\n",
    "from sklearn.linear_model import BayesianRidge\n",
    "from sklearn.model_selection import cross_val_score\n",
    "from sklearn.pipeline import make_pipeline\n",
    "\n",
    "# Set global configs\n",
    "cv = 5\n",
    "scoring = \"accuracy\"\n",
    "state = 1121218\n",
    "forest = RandomForestClassifier()\n",
    "\n",
    "# Store IterativeImputer scores\n",
    "ii_scores = pd.DataFrame()\n",
    "for estimator in [BayesianRidge(), ExtraTreesRegressor()]:\n",
    "    pipe = make_pipeline(\n",
    "        IterativeImputer(estimator=estimator, random_state=state), forest\n",
    "    )\n",
    "    ii_scores[estimator.__class__.__name__] = cross_val_score(\n",
    "        pipe, X_full, y_full, scoring=scoring, cv=cv\n",
    "    )\n",
    "\n",
    "# Store KNN scores\n",
    "knn_scores = pd.DataFrame()\n",
    "n_neighbors = [2, 3, 5, 7, 9]\n",
    "for k in n_neighbors:\n",
    "    pipe = make_pipeline (KNNImputer(n_neighbors=k), forest)\n",
    "    knn_scores[f\"KNN(k = {k})\"] = cross_val_score(\n",
    "        pipe, X_full, y_full, scoring=scoring, cv=cv\n",
    "    )\n",
    "\n",
    "# Combines scores into a single DF\n",
    "final_scores = pd.concat(\n",
    "    [ii_scores, knn_scores],\n",
    "    axis=1,\n",
    "    keys=[\"iterative_imputer\", \"knn_imputer\"],\n",
    ")\n",
    "\n",
    "# Plot\n",
    "fig, ax = plt.subplots(figsize=(14, 8))\n",
    "\n",
    "means, errors = final_scores.mean().sort_values(ascending=False), final_scores.std()\n",
    "means.plot.barh(xerr=errors, ax=ax)\n",
    "\n",
    "ax.set_title(\"Dataset Classification With Different Imputation Methods\")\n",
    "ax.set_xlabel(\"Accuracy\")\n",
    "ax.set_yticks(np.arange(means.shape[0]))\n",
    "\n",
    "plt.tight_layout(pad=1)\n",
    "plt.show();"
   ],
   "metadata": {
    "collapsed": false,
    "pycharm": {
     "name": "#%%\n"
    }
   }
  },
  {
   "cell_type": "code",
   "execution_count": 17,
   "outputs": [
    {
     "name": "stdout",
     "output_type": "stream",
     "text": [
      "length of data is 16000\n",
      "Number of Label=0 in data 14857\n",
      "Number of Label=1 in data 1143\n",
      "Proportion of Label=0 data in data is  0.9285625\n",
      "Proportion of Label=1 data in data is  0.0714375\n"
     ]
    }
   ],
   "source": [
    "# Check the numbers of our data\n",
    "print(\"length of data is\",len(data_final))\n",
    "print(\"Number of Label=0 in data\",len(data_final[data_final['Label']==0]))\n",
    "print(\"Number of Label=1 in data\",len(data_final[data_final['Label']==1]))\n",
    "print(\"Proportion of Label=0 data in data is \",len(data_final[data_final['Label']==0])/len(data_final))\n",
    "print(\"Proportion of Label=1 data in data is \",len(data_final[data_final['Label']==1])/len(data_final))"
   ],
   "metadata": {
    "collapsed": false,
    "pycharm": {
     "name": "#%%\n"
    }
   }
  },
  {
   "cell_type": "markdown",
   "source": [
    "## Over-sampling using SMOTE\n",
    "\n",
    "With our training data created, We’ll up-sample the minor class (Label=1) using the SMOTE algorithm (Synthetic Minority Oversampling Technique)"
   ],
   "metadata": {
    "collapsed": false,
    "pycharm": {
     "name": "#%% md\n"
    }
   }
  },
  {
   "cell_type": "code",
   "execution_count": 45,
   "outputs": [],
   "source": [
    "data_final = data_knn_imputed"
   ],
   "metadata": {
    "collapsed": false,
    "pycharm": {
     "name": "#%%\n"
    }
   }
  },
  {
   "cell_type": "code",
   "execution_count": 46,
   "outputs": [
    {
     "name": "stdout",
     "output_type": "stream",
     "text": [
      "length of oversampled data is  17828\n",
      "Number of Label=0 in oversampled data 14857\n",
      "Number of Label=1 2971\n",
      "Proportion of Label=0 data in oversampled data is  0.8333520305137985\n",
      "Proportion of Label=1 data in oversampled data is  0.16664796948620147\n"
     ]
    }
   ],
   "source": [
    "X = data_final.loc[:, data_final.columns != 'Label']\n",
    "y = data_final.loc[:, data_final.columns == 'Label']\n",
    "\n",
    "from imblearn.over_sampling import SMOTE ##TODO: Insert to ENV.yml\n",
    "\n",
    "os = SMOTE(sampling_strategy=0.2, random_state=0)\n",
    "columns = X.columns\n",
    "os_data_X, os_data_y = os.fit_resample(X, y)\n",
    "os_data_X = pd.DataFrame(data=os_data_X,columns=columns )\n",
    "os_data_y = pd.DataFrame(data=os_data_y,columns=['Label'])\n",
    "\n",
    "# Check the numbers of our data\n",
    "print(\"length of oversampled data is \",len(os_data_X))\n",
    "print(\"Number of Label=0 in oversampled data\",len(os_data_y[os_data_y['Label']==0]))\n",
    "print(\"Number of Label=1\",len(os_data_y[os_data_y['Label']==1]))\n",
    "print(\"Proportion of Label=0 data in oversampled data is \",len(os_data_y[os_data_y['Label']==0])/len(os_data_X))\n",
    "print(\"Proportion of Label=1 data in oversampled data is \",len(os_data_y[os_data_y['Label']==1])/len(os_data_X))"
   ],
   "metadata": {
    "collapsed": false,
    "pycharm": {
     "name": "#%%\n"
    }
   }
  },
  {
   "cell_type": "markdown",
   "source": [
    "## Recursive Feature Elimination\n",
    "\n",
    "Recursive Feature Elimination (RFE) is based on the idea to repeatedly construct a model and choose either the best or worst performing feature, setting the feature aside and then repeating the process with the rest of the features. This process is applied until all features in the dataset are exhausted. The goal of RFE is to select features by recursively considering smaller and smaller sets of features."
   ],
   "metadata": {
    "collapsed": false,
    "pycharm": {
     "name": "#%% md\n"
    }
   }
  },
  {
   "cell_type": "code",
   "execution_count": 28,
   "outputs": [
    {
     "name": "stderr",
     "output_type": "stream",
     "text": [
      "/home/student/.local/lib/python3.8/site-packages/sklearn/linear_model/_logistic.py:814: ConvergenceWarning: lbfgs failed to converge (status=1):\n",
      "STOP: TOTAL NO. of ITERATIONS REACHED LIMIT.\n",
      "\n",
      "Increase the number of iterations (max_iter) or scale the data as shown in:\n",
      "    https://scikit-learn.org/stable/modules/preprocessing.html\n",
      "Please also refer to the documentation for alternative solver options:\n",
      "    https://scikit-learn.org/stable/modules/linear_model.html#logistic-regression\n",
      "  n_iter_i = _check_optimize_result(\n",
      "/home/student/.local/lib/python3.8/site-packages/sklearn/linear_model/_logistic.py:814: ConvergenceWarning: lbfgs failed to converge (status=1):\n",
      "STOP: TOTAL NO. of ITERATIONS REACHED LIMIT.\n",
      "\n",
      "Increase the number of iterations (max_iter) or scale the data as shown in:\n",
      "    https://scikit-learn.org/stable/modules/preprocessing.html\n",
      "Please also refer to the documentation for alternative solver options:\n",
      "    https://scikit-learn.org/stable/modules/linear_model.html#logistic-regression\n",
      "  n_iter_i = _check_optimize_result(\n",
      "/home/student/.local/lib/python3.8/site-packages/sklearn/linear_model/_logistic.py:814: ConvergenceWarning: lbfgs failed to converge (status=1):\n",
      "STOP: TOTAL NO. of ITERATIONS REACHED LIMIT.\n",
      "\n",
      "Increase the number of iterations (max_iter) or scale the data as shown in:\n",
      "    https://scikit-learn.org/stable/modules/preprocessing.html\n",
      "Please also refer to the documentation for alternative solver options:\n",
      "    https://scikit-learn.org/stable/modules/linear_model.html#logistic-regression\n",
      "  n_iter_i = _check_optimize_result(\n",
      "/home/student/.local/lib/python3.8/site-packages/sklearn/linear_model/_logistic.py:814: ConvergenceWarning: lbfgs failed to converge (status=1):\n",
      "STOP: TOTAL NO. of ITERATIONS REACHED LIMIT.\n",
      "\n",
      "Increase the number of iterations (max_iter) or scale the data as shown in:\n",
      "    https://scikit-learn.org/stable/modules/preprocessing.html\n",
      "Please also refer to the documentation for alternative solver options:\n",
      "    https://scikit-learn.org/stable/modules/linear_model.html#logistic-regression\n",
      "  n_iter_i = _check_optimize_result(\n",
      "/home/student/.local/lib/python3.8/site-packages/sklearn/linear_model/_logistic.py:814: ConvergenceWarning: lbfgs failed to converge (status=1):\n",
      "STOP: TOTAL NO. of ITERATIONS REACHED LIMIT.\n",
      "\n",
      "Increase the number of iterations (max_iter) or scale the data as shown in:\n",
      "    https://scikit-learn.org/stable/modules/preprocessing.html\n",
      "Please also refer to the documentation for alternative solver options:\n",
      "    https://scikit-learn.org/stable/modules/linear_model.html#logistic-regression\n",
      "  n_iter_i = _check_optimize_result(\n",
      "/home/student/.local/lib/python3.8/site-packages/sklearn/linear_model/_logistic.py:814: ConvergenceWarning: lbfgs failed to converge (status=1):\n",
      "STOP: TOTAL NO. of ITERATIONS REACHED LIMIT.\n",
      "\n",
      "Increase the number of iterations (max_iter) or scale the data as shown in:\n",
      "    https://scikit-learn.org/stable/modules/preprocessing.html\n",
      "Please also refer to the documentation for alternative solver options:\n",
      "    https://scikit-learn.org/stable/modules/linear_model.html#logistic-regression\n",
      "  n_iter_i = _check_optimize_result(\n",
      "/home/student/.local/lib/python3.8/site-packages/sklearn/linear_model/_logistic.py:814: ConvergenceWarning: lbfgs failed to converge (status=1):\n",
      "STOP: TOTAL NO. of ITERATIONS REACHED LIMIT.\n",
      "\n",
      "Increase the number of iterations (max_iter) or scale the data as shown in:\n",
      "    https://scikit-learn.org/stable/modules/preprocessing.html\n",
      "Please also refer to the documentation for alternative solver options:\n",
      "    https://scikit-learn.org/stable/modules/linear_model.html#logistic-regression\n",
      "  n_iter_i = _check_optimize_result(\n",
      "/home/student/.local/lib/python3.8/site-packages/sklearn/linear_model/_logistic.py:814: ConvergenceWarning: lbfgs failed to converge (status=1):\n",
      "STOP: TOTAL NO. of ITERATIONS REACHED LIMIT.\n",
      "\n",
      "Increase the number of iterations (max_iter) or scale the data as shown in:\n",
      "    https://scikit-learn.org/stable/modules/preprocessing.html\n",
      "Please also refer to the documentation for alternative solver options:\n",
      "    https://scikit-learn.org/stable/modules/linear_model.html#logistic-regression\n",
      "  n_iter_i = _check_optimize_result(\n",
      "/home/student/.local/lib/python3.8/site-packages/sklearn/linear_model/_logistic.py:814: ConvergenceWarning: lbfgs failed to converge (status=1):\n",
      "STOP: TOTAL NO. of ITERATIONS REACHED LIMIT.\n",
      "\n",
      "Increase the number of iterations (max_iter) or scale the data as shown in:\n",
      "    https://scikit-learn.org/stable/modules/preprocessing.html\n",
      "Please also refer to the documentation for alternative solver options:\n",
      "    https://scikit-learn.org/stable/modules/linear_model.html#logistic-regression\n",
      "  n_iter_i = _check_optimize_result(\n",
      "/home/student/.local/lib/python3.8/site-packages/sklearn/linear_model/_logistic.py:814: ConvergenceWarning: lbfgs failed to converge (status=1):\n",
      "STOP: TOTAL NO. of ITERATIONS REACHED LIMIT.\n",
      "\n",
      "Increase the number of iterations (max_iter) or scale the data as shown in:\n",
      "    https://scikit-learn.org/stable/modules/preprocessing.html\n",
      "Please also refer to the documentation for alternative solver options:\n",
      "    https://scikit-learn.org/stable/modules/linear_model.html#logistic-regression\n",
      "  n_iter_i = _check_optimize_result(\n",
      "/home/student/.local/lib/python3.8/site-packages/sklearn/linear_model/_logistic.py:814: ConvergenceWarning: lbfgs failed to converge (status=1):\n",
      "STOP: TOTAL NO. of ITERATIONS REACHED LIMIT.\n",
      "\n",
      "Increase the number of iterations (max_iter) or scale the data as shown in:\n",
      "    https://scikit-learn.org/stable/modules/preprocessing.html\n",
      "Please also refer to the documentation for alternative solver options:\n",
      "    https://scikit-learn.org/stable/modules/linear_model.html#logistic-regression\n",
      "  n_iter_i = _check_optimize_result(\n",
      "/home/student/.local/lib/python3.8/site-packages/sklearn/linear_model/_logistic.py:814: ConvergenceWarning: lbfgs failed to converge (status=1):\n",
      "STOP: TOTAL NO. of ITERATIONS REACHED LIMIT.\n",
      "\n",
      "Increase the number of iterations (max_iter) or scale the data as shown in:\n",
      "    https://scikit-learn.org/stable/modules/preprocessing.html\n",
      "Please also refer to the documentation for alternative solver options:\n",
      "    https://scikit-learn.org/stable/modules/linear_model.html#logistic-regression\n",
      "  n_iter_i = _check_optimize_result(\n",
      "/home/student/.local/lib/python3.8/site-packages/sklearn/linear_model/_logistic.py:814: ConvergenceWarning: lbfgs failed to converge (status=1):\n",
      "STOP: TOTAL NO. of ITERATIONS REACHED LIMIT.\n",
      "\n",
      "Increase the number of iterations (max_iter) or scale the data as shown in:\n",
      "    https://scikit-learn.org/stable/modules/preprocessing.html\n",
      "Please also refer to the documentation for alternative solver options:\n",
      "    https://scikit-learn.org/stable/modules/linear_model.html#logistic-regression\n",
      "  n_iter_i = _check_optimize_result(\n"
     ]
    },
    {
     "name": "stdout",
     "output_type": "stream",
     "text": [
      "[False False  True False False False False False  True  True False False\n",
      " False False  True False  True  True  True  True  True  True False]\n",
      "[13  7  1  3 11  4  5  6  1  1  9  8 10 14  1 12  1  1  1  1  1  1  2]\n"
     ]
    },
    {
     "name": "stderr",
     "output_type": "stream",
     "text": [
      "/home/student/.local/lib/python3.8/site-packages/sklearn/linear_model/_logistic.py:814: ConvergenceWarning: lbfgs failed to converge (status=1):\n",
      "STOP: TOTAL NO. of ITERATIONS REACHED LIMIT.\n",
      "\n",
      "Increase the number of iterations (max_iter) or scale the data as shown in:\n",
      "    https://scikit-learn.org/stable/modules/preprocessing.html\n",
      "Please also refer to the documentation for alternative solver options:\n",
      "    https://scikit-learn.org/stable/modules/linear_model.html#logistic-regression\n",
      "  n_iter_i = _check_optimize_result(\n"
     ]
    }
   ],
   "source": [
    "data_final_vars = data_final.columns.values.tolist()\n",
    "y=['Label']\n",
    "X=[i for i in data_final_vars if i not in y]\n",
    "\n",
    "from sklearn.feature_selection import RFE\n",
    "from sklearn.linear_model import LogisticRegression\n",
    "\n",
    "logreg = LogisticRegression()\n",
    "rfe = RFE(logreg, n_features_to_select=10, step=1)\n",
    "rfe = rfe.fit(os_data_X, os_data_y.values.ravel())\n",
    "print(rfe.support_)\n",
    "print(rfe.ranking_)"
   ],
   "metadata": {
    "collapsed": false,
    "pycharm": {
     "name": "#%%\n"
    }
   }
  },
  {
   "cell_type": "markdown",
   "source": [
    "The RFE has helped us select the following features:\n",
    "\n",
    "*TODO: COMPLETE *******"
   ],
   "metadata": {
    "collapsed": false,
    "pycharm": {
     "name": "#%% md\n"
    }
   }
  },
  {
   "cell_type": "markdown",
   "source": [
    "## Implementing the model"
   ],
   "metadata": {
    "collapsed": false,
    "pycharm": {
     "name": "#%% md\n"
    }
   }
  },
  {
   "cell_type": "code",
   "execution_count": 31,
   "outputs": [
    {
     "name": "stdout",
     "output_type": "stream",
     "text": [
      "Optimization terminated successfully.\n",
      "         Current function value: 0.608954\n",
      "         Iterations 6\n",
      "                             Results: Logit\n",
      "========================================================================\n",
      "Model:                 Logit              Pseudo R-squared:   0.121     \n",
      "Dependent Variable:    Label              AIC:                36234.9000\n",
      "Date:                  2022-05-08 16:47   BIC:                36425.7856\n",
      "No. Observations:      29714              Log-Likelihood:     -18094.   \n",
      "Df Model:              22                 LL-Null:            -20596.   \n",
      "Df Residuals:          29691              LLR p-value:        0.0000    \n",
      "Converged:             1.0000             Scale:              1.0000    \n",
      "No. Iterations:        6.0000                                           \n",
      "------------------------------------------------------------------------\n",
      "                         Coef.  Std.Err.    z     P>|z|   [0.025  0.975]\n",
      "------------------------------------------------------------------------\n",
      "ID                      -0.0000   0.0000 -13.1069 0.0000 -0.0000 -0.0000\n",
      "max_ICULOS               0.0051   0.0004  13.0189 0.0000  0.0043  0.0059\n",
      "Gender                   0.1057   0.0278   3.7970 0.0001  0.0511  0.1603\n",
      "HR__median               0.0204   0.0019  10.7572 0.0000  0.0167  0.0241\n",
      "HR__max                 -0.0018   0.0017  -1.0523 0.2926 -0.0050  0.0015\n",
      "MAP__median             -0.0321   0.0028 -11.4653 0.0000 -0.0376 -0.0266\n",
      "MAP__min                 0.0226   0.0027   8.3905 0.0000  0.0174  0.0279\n",
      "O2Sat__mean             -0.0099   0.0020  -4.9781 0.0000 -0.0138 -0.0060\n",
      "Resp__median             0.0643   0.0050  12.8625 0.0000  0.0545  0.0741\n",
      "Resp__max               -0.0259   0.0037  -7.0927 0.0000 -0.0331 -0.0188\n",
      "SBP__median              0.0070   0.0018   3.8622 0.0001  0.0034  0.0105\n",
      "SBP__min                -0.0076   0.0019  -4.1018 0.0000 -0.0113 -0.0040\n",
      "Hct__median              0.0101   0.0216   0.4666 0.6408 -0.0322  0.0523\n",
      "Hct__min                -0.0054   0.0211  -0.2544 0.7992 -0.0467  0.0360\n",
      "Potassium__mean         -0.2033   0.0297  -6.8372 0.0000 -0.2615 -0.1450\n",
      "Glucose__mean            0.0030   0.0004   7.9182 0.0000  0.0023  0.0037\n",
      "5w_sum_BaseExcess__mean -0.0046   0.0708  -0.0651 0.9481 -0.1433  0.1341\n",
      "5w_sum_FiO2__mean        0.7736   0.0260  29.7723 0.0000  0.7226  0.8245\n",
      "5w_sum_pH__mean         -0.3848   0.0802  -4.7997 0.0000 -0.5419 -0.2277\n",
      "5w_sum_PaCO2__mean       0.4484   0.0803   5.5841 0.0000  0.2910  0.6058\n",
      "5w_sum_Glucose__mean    -0.4034   0.0178 -22.6492 0.0000 -0.4383 -0.3685\n",
      "5w_sum_Lactate__mean     0.8263   0.0553  14.9431 0.0000  0.7179  0.9347\n",
      "5w_sum_PTT__mean         0.1014   0.0546   1.8565 0.0634 -0.0057  0.2085\n",
      "========================================================================\n",
      "\n"
     ]
    }
   ],
   "source": [
    "import statsmodels.api as sm\n",
    "\n",
    "X = os_data_X\n",
    "y = os_data_y\n",
    "\n",
    "logit_model = sm.Logit(y,X)\n",
    "result = logit_model.fit()\n",
    "print(result.summary2())"
   ],
   "metadata": {
    "collapsed": false,
    "pycharm": {
     "name": "#%%\n"
    }
   }
  },
  {
   "cell_type": "markdown",
   "source": [
    "#### ADJUSTMENTS????"
   ],
   "metadata": {
    "collapsed": false,
    "pycharm": {
     "name": "#%% md\n"
    }
   }
  },
  {
   "cell_type": "markdown",
   "source": [
    "### Logistic Regression Model Fitting"
   ],
   "metadata": {
    "collapsed": false,
    "pycharm": {
     "name": "#%% md\n"
    }
   }
  },
  {
   "cell_type": "code",
   "execution_count": 32,
   "outputs": [
    {
     "name": "stderr",
     "output_type": "stream",
     "text": [
      "/home/student/.local/lib/python3.8/site-packages/sklearn/utils/validation.py:993: DataConversionWarning: A column-vector y was passed when a 1d array was expected. Please change the shape of y to (n_samples, ), for example using ravel().\n",
      "  y = column_or_1d(y, warn=True)\n",
      "/home/student/.local/lib/python3.8/site-packages/sklearn/linear_model/_logistic.py:814: ConvergenceWarning: lbfgs failed to converge (status=1):\n",
      "STOP: TOTAL NO. of ITERATIONS REACHED LIMIT.\n",
      "\n",
      "Increase the number of iterations (max_iter) or scale the data as shown in:\n",
      "    https://scikit-learn.org/stable/modules/preprocessing.html\n",
      "Please also refer to the documentation for alternative solver options:\n",
      "    https://scikit-learn.org/stable/modules/linear_model.html#logistic-regression\n",
      "  n_iter_i = _check_optimize_result(\n"
     ]
    },
    {
     "data": {
      "text/plain": "LogisticRegression()"
     },
     "execution_count": 32,
     "metadata": {},
     "output_type": "execute_result"
    }
   ],
   "source": [
    "from sklearn.linear_model import LogisticRegression\n",
    "from sklearn import metrics\n",
    "# X_train, X_test, y_train, y_test = train_test_split(X, y, test_size=0.3, random_state=0)\n",
    "logreg = LogisticRegression()\n",
    "logreg.fit(X, y)"
   ],
   "metadata": {
    "collapsed": false,
    "pycharm": {
     "name": "#%%\n"
    }
   }
  },
  {
   "cell_type": "markdown",
   "source": [
    "### Predicting the test set results and calculating the accuracy\n"
   ],
   "metadata": {
    "collapsed": false,
    "pycharm": {
     "name": "#%% md\n"
    }
   }
  },
  {
   "cell_type": "code",
   "execution_count": 33,
   "outputs": [],
   "source": [
    "val_df = pd.read_csv(\"/home/student/filtered_val_df_0705.csv\")"
   ],
   "metadata": {
    "collapsed": false,
    "pycharm": {
     "name": "#%%\n"
    }
   }
  },
  {
   "cell_type": "code",
   "execution_count": null,
   "outputs": [],
   "source": [
    "val_df.columns"
   ],
   "metadata": {
    "collapsed": false,
    "pycharm": {
     "name": "#%%\n",
     "is_executing": true
    }
   }
  },
  {
   "cell_type": "code",
   "execution_count": null,
   "outputs": [],
   "source": [
    "X_test =\n",
    "y_pred = logreg.predict(X_test)\n",
    "print('Accuracy of logistic regression classifier on test set: {:.2f}'.format(logreg.score(X_test, y_test)))"
   ],
   "metadata": {
    "collapsed": false,
    "pycharm": {
     "name": "#%%\n"
    }
   }
  },
  {
   "cell_type": "markdown",
   "source": [
    "### Confusion Matrix"
   ],
   "metadata": {
    "collapsed": false,
    "pycharm": {
     "name": "#%% md\n"
    }
   }
  },
  {
   "cell_type": "code",
   "execution_count": 4,
   "outputs": [
    {
     "ename": "NameError",
     "evalue": "name 'y_test' is not defined",
     "output_type": "error",
     "traceback": [
      "\u001B[0;31m---------------------------------------------------------------------------\u001B[0m",
      "\u001B[0;31mNameError\u001B[0m                                 Traceback (most recent call last)",
      "\u001B[0;32m<ipython-input-4-ce754b32714f>\u001B[0m in \u001B[0;36m<module>\u001B[0;34m\u001B[0m\n\u001B[1;32m      1\u001B[0m \u001B[0;32mfrom\u001B[0m \u001B[0msklearn\u001B[0m\u001B[0;34m.\u001B[0m\u001B[0mmetrics\u001B[0m \u001B[0;32mimport\u001B[0m \u001B[0mconfusion_matrix\u001B[0m\u001B[0;34m\u001B[0m\u001B[0;34m\u001B[0m\u001B[0m\n\u001B[0;32m----> 2\u001B[0;31m \u001B[0mconfusion_matrix\u001B[0m \u001B[0;34m=\u001B[0m \u001B[0mconfusion_matrix\u001B[0m\u001B[0;34m(\u001B[0m\u001B[0my_test\u001B[0m\u001B[0;34m,\u001B[0m \u001B[0my_pred\u001B[0m\u001B[0;34m)\u001B[0m\u001B[0;34m\u001B[0m\u001B[0;34m\u001B[0m\u001B[0m\n\u001B[0m\u001B[1;32m      3\u001B[0m \u001B[0mprint\u001B[0m\u001B[0;34m(\u001B[0m\u001B[0mconfusion_matrix\u001B[0m\u001B[0;34m)\u001B[0m\u001B[0;34m\u001B[0m\u001B[0;34m\u001B[0m\u001B[0m\n",
      "\u001B[0;31mNameError\u001B[0m: name 'y_test' is not defined"
     ]
    }
   ],
   "source": [
    "from sklearn.metrics import confusion_matrix\n",
    "confusion_matrix = confusion_matrix(y_test, y_pred)\n",
    "print(confusion_matrix)"
   ],
   "metadata": {
    "collapsed": false,
    "pycharm": {
     "name": "#%%\n"
    }
   }
  },
  {
   "cell_type": "markdown",
   "source": [
    "### Compute precision, recall, F-measure and support"
   ],
   "metadata": {
    "collapsed": false,
    "pycharm": {
     "name": "#%% md\n"
    }
   }
  },
  {
   "cell_type": "code",
   "execution_count": null,
   "outputs": [],
   "source": [
    "from sklearn.metrics import classification_report\n",
    "\n",
    "print(classification_report(y_test, y_pred))"
   ],
   "metadata": {
    "collapsed": false,
    "pycharm": {
     "name": "#%%\n"
    }
   }
  },
  {
   "cell_type": "markdown",
   "source": [
    "### ROC Curve"
   ],
   "metadata": {
    "collapsed": false,
    "pycharm": {
     "name": "#%% md\n"
    }
   }
  },
  {
   "cell_type": "code",
   "execution_count": null,
   "outputs": [],
   "source": [
    "from sklearn.metrics import roc_auc_score\n",
    "from sklearn.metrics import roc_curve\n",
    "\n",
    "logit_roc_auc = roc_auc_score(y_test, logreg.predict(X_test))\n",
    "fpr, tpr, thresholds = roc_curve(y_test, logreg.predict_proba(X_test)[:,1])\n",
    "plt.figure()\n",
    "plt.plot(fpr, tpr, label='Logistic Regression (area = %0.2f)' % logit_roc_auc)\n",
    "plt.plot([0, 1], [0, 1],'r--')\n",
    "plt.xlim([0.0, 1.0])\n",
    "plt.ylim([0.0, 1.05])\n",
    "plt.xlabel('False Positive Rate')\n",
    "plt.ylabel('True Positive Rate')\n",
    "plt.title('Receiver operating characteristic')\n",
    "plt.legend(loc=\"lower right\")\n",
    "plt.savefig('Log_ROC')\n",
    "plt.show()"
   ],
   "metadata": {
    "collapsed": false,
    "pycharm": {
     "name": "#%%\n"
    }
   }
  },
  {
   "cell_type": "code",
   "execution_count": null,
   "outputs": [],
   "source": [],
   "metadata": {
    "collapsed": false,
    "pycharm": {
     "name": "#%%\n"
    }
   }
  }
 ],
 "metadata": {
  "kernelspec": {
   "display_name": "Python 3",
   "language": "python",
   "name": "python3"
  },
  "language_info": {
   "codemirror_mode": {
    "name": "ipython",
    "version": 2
   },
   "file_extension": ".py",
   "mimetype": "text/x-python",
   "name": "python",
   "nbconvert_exporter": "python",
   "pygments_lexer": "ipython2",
   "version": "2.7.6"
  }
 },
 "nbformat": 4,
 "nbformat_minor": 0
}