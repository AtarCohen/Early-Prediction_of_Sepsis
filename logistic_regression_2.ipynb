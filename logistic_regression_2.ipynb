{
 "cells": [
  {
   "cell_type": "code",
   "execution_count": 1,
   "outputs": [],
   "source": [
    "import pandas as pd\n",
    "import numpy as np\n",
    "from sklearn import preprocessing\n",
    "import matplotlib.pyplot as plt\n",
    "plt.rc(\"font\", size=14)\n",
    "from sklearn.linear_model import LogisticRegression\n",
    "from sklearn.model_selection import train_test_split\n",
    "import seaborn as sns\n",
    "sns.set(style=\"white\")\n",
    "sns.set(style=\"whitegrid\", color_codes=True)\n",
    "from sklearn.impute import KNNImputer\n",
    "from imblearn.over_sampling import SMOTE ##TODO: Insert to ENV.yml"
   ],
   "metadata": {
    "collapsed": false,
    "pycharm": {
     "name": "#%%\n"
    }
   }
  },
  {
   "cell_type": "code",
   "execution_count": 1,
   "outputs": [],
   "source": [
    "train_df = pd.read_csv(\"/home/student/filtered_train_df_0705.csv\")"
   ],
   "metadata": {
    "collapsed": false,
    "pycharm": {
     "name": "#%%\n"
    }
   }
  },
  {
   "cell_type": "code",
   "execution_count": null,
   "outputs": [],
   "source": [
    "def lr_preprocess_sepsis(df, window_size=5):\n",
    "\n",
    "    # columns for using\n",
    "    frequency_used_attributes = ['BaseExcess',  'FiO2', 'pH', 'PaCO2', 'Glucose','Lactate', 'PTT']\n",
    "    values_used_attributes = [ 'Hct', 'Glucose','Potassium']\n",
    "    constant_attributes = ['ID','max_ICULOS', 'Gender']\n",
    "    other_attributes = ['time_bm','HR','MAP','O2Sat', 'Resp','SBP', 'ICULOS']\n",
    "    label_attributes= ['Label','SepsisLabel']\n",
    "\n",
    "    # create frequency columns for some lab variables\n",
    "    def add_rolling_window(df, attr, window_size):\n",
    "        df = df.sort_values(by=['ID','ICULOS'], ascending =[True,True])\n",
    "        rolling = df[['ID']+attr].groupby('ID').rolling(window=window_size, closed='both').count()\n",
    "        rolling= rolling.rename(columns={at: f'{window_size}w_sum_{at}' for at in attr})\n",
    "        rolling=rolling[list(rolling.columns)[1:]].reset_index().set_index('level_1')\n",
    "        combined = df.join(rolling,how='left', rsuffix= 'r')\n",
    "        return combined, rolling\n",
    "    df_with_roll, df_roll = add_rolling_window(df,frequency_used_attributes,window_size)\n",
    "    frequency_used_attributes_fixed = [f'{window_size}w_sum_{x}' for x in frequency_used_attributes]\n",
    "    df_with_roll = df_with_roll[constant_attributes + other_attributes + \\\n",
    "                                        values_used_attributes + frequency_used_attributes_fixed + \\\n",
    "                                        label_attributes]\n",
    "\n",
    "    # crop 10 last ICULOS hours for each patient\n",
    "    df_with_roll = df_with_roll[df_with_roll['time_bm']>=-10]\n",
    "\n",
    "    # aggregations\n",
    "    data_final = train_df_with_roll.groupby(['ID', 'Label','max_ICULOS','Gender']).agg({\n",
    "                                                        'HR': ['median', 'max'],\\\n",
    "                                                        'MAP': ['median', 'min'],\\\n",
    "                                                        'O2Sat': 'mean',\\\n",
    "                                                        'Resp': ['median', 'max'],\\\n",
    "                                                        'SBP': ['median', 'min'],\\\n",
    "                                                        'Hct': ['median', 'min'],\\\n",
    "                                                        'Potassium': 'mean',\\\n",
    "                                                        'Glucose': 'mean',\\\n",
    "                                                        f'{window_size}w_sum_BaseExcess': 'mean',\\\n",
    "                                                        f'{window_size}w_sum_FiO2': 'mean',\\\n",
    "                                                        f'{window_size}w_sum_pH': 'mean',\\\n",
    "                                                        f'{window_size}w_sum_PaCO2': 'mean',\\\n",
    "                                                        f'{window_size}w_sum_Glucose': 'mean',\\\n",
    "                                                        f'{window_size}w_sum_Lactate': 'mean',\\\n",
    "                                                        f'{window_size}w_sum_PTT': 'mean'}).reset_index()\n",
    "    data_final.columns = ['__'.join(col).strip() for col in data_final.columns.values]\n",
    "    data_final.rename(columns={\"ID__\": \"ID\", \"Label__\": \"Label\", \"max_ICULOS__\":\"max_ICULOS\", \"Gender__\":\"Gender\"}, inplace=True)\n",
    "\n",
    "    #Imputation with KNNimputer\n",
    "    data_knn_imputed = data_final.copy(deep=True)    # Copy the data\n",
    "    knn_imp = KNNImputer(n_neighbors=3) # Init the transformer\n",
    "    data_knn_imputed.loc[:, :] = knn_imp.fit_transform(data_knn_imputed) # Fit/transform\n",
    "    data_final = data_knn_imputed\n",
    "\n",
    "    # Over-sampling using SMOTE\n",
    "    X = data_final.loc[:, data_final.columns != 'Label']\n",
    "    y = data_final.loc[:, data_final.columns == 'Label']\n",
    "    os = SMOTE(random_state=0)\n",
    "    columns = X.columns\n",
    "    os_data_X, os_data_y = os.fit_resample(X, y)\n",
    "    os_data_X = pd.DataFrame(data=os_data_X,columns=columns )\n",
    "    os_data_y = pd.DataFrame(data=os_data_y,columns=['Label'])\n",
    "\n"
   ],
   "metadata": {
    "collapsed": false,
    "pycharm": {
     "name": "#%%\n"
    }
   }
  },
  {
   "cell_type": "code",
   "execution_count": null,
   "outputs": [],
   "source": [],
   "metadata": {
    "collapsed": false,
    "pycharm": {
     "name": "#%%\n"
    }
   }
  }
 ],
 "metadata": {
  "kernelspec": {
   "display_name": "Python 3",
   "language": "python",
   "name": "python3"
  },
  "language_info": {
   "codemirror_mode": {
    "name": "ipython",
    "version": 2
   },
   "file_extension": ".py",
   "mimetype": "text/x-python",
   "name": "python",
   "nbconvert_exporter": "python",
   "pygments_lexer": "ipython2",
   "version": "2.7.6"
  }
 },
 "nbformat": 4,
 "nbformat_minor": 0
}