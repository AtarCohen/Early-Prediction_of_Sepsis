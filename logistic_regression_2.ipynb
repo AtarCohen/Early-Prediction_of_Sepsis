{
 "cells": [
  {
   "cell_type": "code",
   "execution_count": 2,
   "outputs": [
    {
     "name": "stdout",
     "output_type": "stream",
     "text": [
      "OmriShemTov Hatich Shel Yeled  - Ground Truth\n"
     ]
    }
   ],
   "source": [
    "print(\"OmriShemTov Hatich Shel Yeled  - Ground Truth\")"
   ],
   "metadata": {
    "collapsed": false,
    "pycharm": {
     "name": "#%%\n"
    }
   }
  },
  {
   "cell_type": "markdown",
   "source": [
    "## Setup"
   ],
   "metadata": {
    "collapsed": false,
    "pycharm": {
     "name": "#%% md\n"
    }
   }
  },
  {
   "cell_type": "code",
   "execution_count": 3,
   "outputs": [],
   "source": [
    "import pandas as pd\n",
    "import numpy as np\n",
    "from sklearn import preprocessing\n",
    "import matplotlib.pyplot as plt\n",
    "plt.rc(\"font\", size=14)\n",
    "from sklearn.linear_model import LogisticRegression\n",
    "from sklearn.model_selection import train_test_split\n",
    "from sklearn.linear_model import LogisticRegression\n",
    "from sklearn import metrics\n",
    "import seaborn as sns\n",
    "sns.set(style=\"white\")\n",
    "sns.set(style=\"whitegrid\", color_codes=True)\n",
    "from sklearn.impute import KNNImputer\n",
    "from imblearn.over_sampling import SMOTE ##TODO: Insert to ENV.yml\n",
    "from imblearn.under_sampling import RandomUnderSampler\n",
    "import statsmodels.api as sm\n",
    "import random\n",
    "seed=42\n",
    "random.seed(seed)\n",
    "from xgboost import XGBClassifier\n",
    "#Import Random Forest Model\n",
    "from sklearn.ensemble import RandomForestClassifier"
   ],
   "metadata": {
    "collapsed": false,
    "pycharm": {
     "name": "#%%\n"
    }
   }
  },
  {
   "cell_type": "markdown",
   "source": [
    "## Preprocess function\n",
    "\n",
    "- create frequency columns for some lab variables (??)\n",
    "- crop time_bm (10) last ICULOS hours for each patient\n",
    "- handle Units1/2/3\n",
    "- apply aggregations"
   ],
   "metadata": {
    "collapsed": false,
    "pycharm": {
     "name": "#%% md\n"
    }
   }
  },
  {
   "cell_type": "code",
   "execution_count": 9,
   "outputs": [],
   "source": [
    "def lr_preprocess_sepsis(df, window_size=5, time_bm=-10):\n",
    "\n",
    "    # columns for using\n",
    "    frequency_used_attributes = ['BaseExcess',  'FiO2', 'pH', 'PaCO2', 'Glucose','Lactate', 'PTT']\n",
    "    values_used_attributes = [ 'Hct', 'Glucose','Potassium']\n",
    "    constant_attributes = ['ID','max_ICULOS', 'Gender']\n",
    "    other_attributes = ['time_bm','HR','MAP','O2Sat', 'Resp','SBP', 'ICULOS']\n",
    "    units_attributes = ['Unit1', 'Unit2']\n",
    "    label_attributes= ['Label','SepsisLabel']\n",
    "\n",
    "    ## TO DELETE (not used)\n",
    "    # def add_frequency(df, freq_columns):\n",
    "    #     df = df.sort_values(by=['ID','ICULOS'], ascending =[True,True])\n",
    "    #     rolling = df[['ID','max_ICULOS']+self.freq_columns].groupby(by=['ID','max_ICULOS'])[freq_columns].expanding().count().reset_index()\n",
    "    #     for at in freq_columns:\n",
    "    #         rolling[at] = rolling[at]/rolling['max_ICULOS']\n",
    "    #     rolling= rolling.rename(columns={at: f'freq_{at}' for at in freq_columns})\n",
    "    #     combined = df.join(rolling,how='left',on='ID', rsuffix= 'r')\n",
    "    #     return combined\n",
    "    # #apply\n",
    "    # normalized_frequency_attr = ['FiO2', 'pH', 'PaCO2', 'Glucose','Lactate'] #choose attributes\n",
    "    # add_frequency(df, normalized_frequency_attr)\n",
    "    # normalized_frequency_attr = [f'freq_{at}' for at in normalizes_frequency_attr] #fix names\n",
    "\n",
    "    # create frequency columns for some lab variables\n",
    "    def add_rolling_window(df, attr, window_size):\n",
    "        df = df.sort_values(by=['ID','ICULOS'], ascending =[True,True])\n",
    "        rolling = df[['ID']+attr].groupby('ID').rolling(window=window_size, closed='both').count()\n",
    "        rolling= rolling.rename(columns={at: f'{window_size}w_sum_{at}' for at in attr})\n",
    "        rolling=rolling[list(rolling.columns)[1:]].reset_index().set_index('level_1')\n",
    "        combined = df.join(rolling,how='left', rsuffix= 'r')\n",
    "        return combined, rolling\n",
    "    #apply\n",
    "    df_with_roll, df_roll = add_rolling_window(df,frequency_used_attributes,window_size)\n",
    "    frequency_used_attributes_fixed = [f'{window_size}w_sum_{x}' for x in frequency_used_attributes]\n",
    "    df = df_with_roll\n",
    "\n",
    "\n",
    "    # crop 10 (time_bm) last ICULOS hours for each patient\n",
    "    df = df[df['time_bm']>=time_bm]\n",
    "\n",
    "    # handle Units123\n",
    "    df['Unit3'] = ( (1*(df['Unit1']+df['Unit2'])<1) |\n",
    "                          (df['Unit1'].isna() & df['Unit2'].isna()) )*1\n",
    "    df['Unit1'][df['Unit1'].isna()] = 0\n",
    "    df['Unit2'][df['Unit2'].isna()] = 0\n",
    "    df[['Unit1','Unit2','Unit3']]\n",
    "\n",
    "    # aggregations\n",
    "    data_final = df.groupby(['ID', 'Label','max_ICULOS','Gender']).agg({\n",
    "                                                        'Unit1': 'max',\\\n",
    "                                                        'Unit2': 'max',\\\n",
    "                                                        'Unit3': 'max',\\\n",
    "                                                        'HR': ['median', 'max'],\\\n",
    "                                                        'MAP': ['median', 'min'],\\\n",
    "                                                        'O2Sat': ['mean'],\\\n",
    "                                                        'Resp': ['median', 'max'],\\\n",
    "                                                        'SBP': ['median', 'min'],\\\n",
    "                                                        'Hct': ['median', 'min'],\\\n",
    "                                                        'Potassium': 'mean',\\\n",
    "                                                        'Glucose': 'mean',\\\n",
    "                                                        'Temp': ['mean', 'min'],\\\n",
    "                                                        'DBP': 'mean',\\\n",
    "                                                        'WBC': ['median', 'min'],\\\n",
    "                                                        'EtCO2': 'mean',\\\n",
    "                                                        'BaseExcess': 'mean',\\\n",
    "                                                        'HCO3': 'mean',\\\n",
    "                                                        'FiO2': 'mean',\\\n",
    "                                                        'SaO2': 'mean',\\\n",
    "                                                        'AST': 'mean',\\\n",
    "                                                        'Lactate': 'mean',\\\n",
    "                                                        'Magnesium': 'mean',\\\n",
    "                                                        'Phosphate': 'mean',\\\n",
    "                                                        'TroponinI': 'mean',\\\n",
    "                                                        'Hgb': 'mean',\\\n",
    "                                                        'PTT': 'mean',\\\n",
    "                                                        'Platelets': 'mean',\\\n",
    "                                                        'Age': 'mean',\\\n",
    "                                                        'HospAdmTime': 'mean',\\\n",
    "                                                        f'{window_size}w_sum_BaseExcess': 'mean',\\\n",
    "                                                        f'{window_size}w_sum_FiO2': 'mean',\\\n",
    "                                                        f'{window_size}w_sum_pH': 'mean',\\\n",
    "                                                        f'{window_size}w_sum_PaCO2': 'mean',\\\n",
    "                                                        f'{window_size}w_sum_Glucose': 'mean',\\\n",
    "                                                        f'{window_size}w_sum_Lactate': 'mean',\\\n",
    "                                                        f'{window_size}w_sum_PTT': 'mean'}).reset_index()\n",
    "    data_final.columns = ['__'.join(col).strip() for col in data_final.columns.values]\n",
    "    data_final.rename(columns={\"ID__\": \"ID\", \"Label__\": \"Label\", \"max_ICULOS__\":\"max_ICULOS\", \"Gender__\":\"Gender\"}, inplace=True)\n",
    "\n",
    "    return data_final\n"
   ],
   "metadata": {
    "collapsed": false,
    "pycharm": {
     "name": "#%%\n"
    }
   }
  },
  {
   "cell_type": "markdown",
   "source": [
    "## Imutation functions"
   ],
   "metadata": {
    "collapsed": false,
    "pycharm": {
     "name": "#%% md\n"
    }
   }
  },
  {
   "cell_type": "code",
   "execution_count": 10,
   "outputs": [],
   "source": [
    "def imputation_with_KNNimputer(train_df, n=3):\n",
    "    data_knn_imputed = train_df.copy(deep=True)    # Copy the data\n",
    "    knn_imp = KNNImputer(n_neighbors=n) # Init the transformer\n",
    "    knn_imp.fit(data_knn_imputed)\n",
    "    return knn_imp #return fitted inputer"
   ],
   "metadata": {
    "collapsed": false,
    "pycharm": {
     "name": "#%%\n"
    }
   }
  },
  {
   "cell_type": "markdown",
   "source": [
    "## Oversampling using SMOTE (function)"
   ],
   "metadata": {
    "collapsed": false,
    "pycharm": {
     "name": "#%% md\n"
    }
   }
  },
  {
   "cell_type": "code",
   "execution_count": 11,
   "outputs": [],
   "source": [
    "def os_with_smote(train_df, p=0.5):\n",
    "    X = train_df.loc[:, train_df.columns != 'Label']\n",
    "    y = train_df.loc[:, train_df.columns == 'Label']\n",
    "    os = SMOTE(sampling_strategy=p, random_state=0)\n",
    "    columns = X.columns\n",
    "    os_data_X, os_data_y = os.fit_resample(X, y)\n",
    "    os_data_X = pd.DataFrame(data=os_data_X,columns=columns )\n",
    "    os_data_y = pd.DataFrame(data=os_data_y,columns=['Label'])\n",
    "    return os_data_X, os_data_y"
   ],
   "metadata": {
    "collapsed": false,
    "pycharm": {
     "name": "#%%\n"
    }
   }
  },
  {
   "cell_type": "markdown",
   "source": [
    "## Load data"
   ],
   "metadata": {
    "collapsed": false,
    "pycharm": {
     "name": "#%% md\n"
    }
   }
  },
  {
   "cell_type": "code",
   "execution_count": 12,
   "outputs": [],
   "source": [
    "train_df = pd.read_csv(\"/home/student/filtered_train_df_0705.csv\")\n",
    "val_df = pd.read_csv(\"/home/student/filtered_val_df_0705.csv\")\n",
    "test_df =  pd.read_csv(\"/home/student/filtered_test_df_0705.csv\")"
   ],
   "metadata": {
    "collapsed": false,
    "pycharm": {
     "name": "#%%\n"
    }
   }
  },
  {
   "cell_type": "markdown",
   "source": [
    "## Handle training data"
   ],
   "metadata": {
    "collapsed": false,
    "pycharm": {
     "name": "#%% md\n"
    }
   }
  },
  {
   "cell_type": "code",
   "execution_count": 13,
   "outputs": [
    {
     "name": "stderr",
     "output_type": "stream",
     "text": [
      "/data/anaconda3/lib/python3.8/site-packages/pandas/core/window/rolling.py:2010: FutureWarning: min_periods=None will default to the size of window consistent with other methods in a future version. Specify min_periods=0 instead.\n",
      "  warnings.warn(\n",
      "<ipython-input-9-e0d7d5e87270>:43: SettingWithCopyWarning: \n",
      "A value is trying to be set on a copy of a slice from a DataFrame.\n",
      "Try using .loc[row_indexer,col_indexer] = value instead\n",
      "\n",
      "See the caveats in the documentation: https://pandas.pydata.org/pandas-docs/stable/user_guide/indexing.html#returning-a-view-versus-a-copy\n",
      "  df['Unit3'] = ( (1*(df['Unit1']+df['Unit2'])<1) |\n",
      "<ipython-input-9-e0d7d5e87270>:45: SettingWithCopyWarning: \n",
      "A value is trying to be set on a copy of a slice from a DataFrame\n",
      "\n",
      "See the caveats in the documentation: https://pandas.pydata.org/pandas-docs/stable/user_guide/indexing.html#returning-a-view-versus-a-copy\n",
      "  df['Unit1'][df['Unit1'].isna()] = 0\n",
      "/data/anaconda3/lib/python3.8/site-packages/pandas/core/series.py:992: SettingWithCopyWarning: \n",
      "A value is trying to be set on a copy of a slice from a DataFrame\n",
      "\n",
      "See the caveats in the documentation: https://pandas.pydata.org/pandas-docs/stable/user_guide/indexing.html#returning-a-view-versus-a-copy\n",
      "  self._where(~key, value, inplace=True)\n",
      "<ipython-input-9-e0d7d5e87270>:46: SettingWithCopyWarning: \n",
      "A value is trying to be set on a copy of a slice from a DataFrame\n",
      "\n",
      "See the caveats in the documentation: https://pandas.pydata.org/pandas-docs/stable/user_guide/indexing.html#returning-a-view-versus-a-copy\n",
      "  df['Unit2'][df['Unit2'].isna()] = 0\n"
     ]
    },
    {
     "name": "stdout",
     "output_type": "stream",
     "text": [
      "length of train data is 16000\n",
      "Number of Label=0 in train data 14857\n",
      "Number of Label=1 in train data 1143\n",
      "Proportion of Label=0 data in train data is  0.9285625\n",
      "Proportion of Label=1 data in train data is  0.0714375\n"
     ]
    }
   ],
   "source": [
    "train_df = lr_preprocess_sepsis(train_df)\n",
    "# Check the numbers of our data\n",
    "print(\"length of train data is\",len(train_df))\n",
    "print(\"Number of Label=0 in train data\",len(train_df[train_df['Label']==0]))\n",
    "print(\"Number of Label=1 in train data\",len(train_df[train_df['Label']==1]))\n",
    "print(\"Proportion of Label=0 data in train data is \",len(train_df[train_df['Label']==0])/len(train_df))\n",
    "print(\"Proportion of Label=1 data in train data is \",len(train_df[train_df['Label']==1])/len(train_df))"
   ],
   "metadata": {
    "collapsed": false,
    "pycharm": {
     "name": "#%%\n"
    }
   }
  },
  {
   "cell_type": "markdown",
   "source": [
    "## TODO: Choose final columns and create X,y"
   ],
   "metadata": {
    "collapsed": false,
    "pycharm": {
     "name": "#%% md\n"
    }
   }
  },
  {
   "cell_type": "markdown",
   "source": [
    "### Fit&Transform imputation (TODO: SAVE IMPUTER)"
   ],
   "metadata": {
    "collapsed": false,
    "pycharm": {
     "name": "#%% md\n"
    }
   }
  },
  {
   "cell_type": "code",
   "execution_count": 14,
   "outputs": [],
   "source": [
    "# imputing training data\n",
    "# TODO: Save Imputer\n",
    "knn_imp = imputation_with_KNNimputer(train_df, 3)\n",
    "train_df.loc[:, :] = knn_imp.transform(train_df)"
   ],
   "metadata": {
    "collapsed": false,
    "pycharm": {
     "name": "#%%\n"
    }
   }
  },
  {
   "cell_type": "markdown",
   "source": [
    "### Handle Imbalance"
   ],
   "metadata": {
    "collapsed": false,
    "pycharm": {
     "name": "#%% md\n"
    }
   }
  },
  {
   "cell_type": "code",
   "execution_count": 15,
   "outputs": [
    {
     "name": "stdout",
     "output_type": "stream",
     "text": [
      "length of oversampled data is  18571\n",
      "Number of Label=0 in oversampled data 14857\n",
      "Number of Label=1 3714\n",
      "Proportion of Label=0 data in oversampled data is  0.8000107694792957\n",
      "Proportion of Label=1 data in oversampled data is  0.19998923052070433\n"
     ]
    }
   ],
   "source": [
    "# over-sampling training data\n",
    "X, y = os_with_smote(train_df, p=0.25)\n",
    "\n",
    "# Check the numbers of our data\n",
    "print(\"length of oversampled data is \",len(X))\n",
    "print(\"Number of Label=0 in oversampled data\",len(y[y['Label']==0]))\n",
    "print(\"Number of Label=1\",len(y[y['Label']==1]))\n",
    "print(\"Proportion of Label=0 data in oversampled data is \",len(y[y['Label']==0])/len(X))\n",
    "print(\"Proportion of Label=1 data in oversampled data is \",len(y[y['Label']==1])/len(X))"
   ],
   "metadata": {
    "collapsed": false,
    "pycharm": {
     "name": "#%%\n"
    }
   }
  },
  {
   "cell_type": "code",
   "execution_count": 16,
   "outputs": [
    {
     "name": "stdout",
     "output_type": "stream",
     "text": [
      "length of final training data is  11142\n",
      "Number of Label=0 in final training data 7428\n",
      "Number of Label=1 3714\n",
      "Proportion of Label=0 data in final data training is  0.6666666666666666\n",
      "Proportion of Label=1 data in final training data is  0.3333333333333333\n"
     ]
    }
   ],
   "source": [
    "#Downsample majority class\n",
    "under = RandomUnderSampler(sampling_strategy=0.5)\n",
    "X,y = under.fit_resample(X, y)\n",
    "\n",
    "# Check the numbers of our data\n",
    "print(\"length of final training data is \",len(X))\n",
    "print(\"Number of Label=0 in final training data\",len(y[y['Label']==0]))\n",
    "print(\"Number of Label=1\",len(y[y['Label']==1]))\n",
    "print(\"Proportion of Label=0 data in final data training is \",len(y[y['Label']==0])/len(X))\n",
    "print(\"Proportion of Label=1 data in final training data is \",len(y[y['Label']==1])/len(X))"
   ],
   "metadata": {
    "collapsed": false,
    "pycharm": {
     "name": "#%%\n"
    }
   }
  },
  {
   "cell_type": "markdown",
   "source": [
    "## Evaluation data (preprocess)"
   ],
   "metadata": {
    "collapsed": false,
    "pycharm": {
     "name": "#%% md\n"
    }
   }
  },
  {
   "cell_type": "code",
   "execution_count": 17,
   "outputs": [
    {
     "name": "stderr",
     "output_type": "stream",
     "text": [
      "/data/anaconda3/lib/python3.8/site-packages/pandas/core/window/rolling.py:2010: FutureWarning: min_periods=None will default to the size of window consistent with other methods in a future version. Specify min_periods=0 instead.\n",
      "  warnings.warn(\n",
      "<ipython-input-9-e0d7d5e87270>:43: SettingWithCopyWarning: \n",
      "A value is trying to be set on a copy of a slice from a DataFrame.\n",
      "Try using .loc[row_indexer,col_indexer] = value instead\n",
      "\n",
      "See the caveats in the documentation: https://pandas.pydata.org/pandas-docs/stable/user_guide/indexing.html#returning-a-view-versus-a-copy\n",
      "  df['Unit3'] = ( (1*(df['Unit1']+df['Unit2'])<1) |\n",
      "<ipython-input-9-e0d7d5e87270>:45: SettingWithCopyWarning: \n",
      "A value is trying to be set on a copy of a slice from a DataFrame\n",
      "\n",
      "See the caveats in the documentation: https://pandas.pydata.org/pandas-docs/stable/user_guide/indexing.html#returning-a-view-versus-a-copy\n",
      "  df['Unit1'][df['Unit1'].isna()] = 0\n",
      "/data/anaconda3/lib/python3.8/site-packages/pandas/core/series.py:992: SettingWithCopyWarning: \n",
      "A value is trying to be set on a copy of a slice from a DataFrame\n",
      "\n",
      "See the caveats in the documentation: https://pandas.pydata.org/pandas-docs/stable/user_guide/indexing.html#returning-a-view-versus-a-copy\n",
      "  self._where(~key, value, inplace=True)\n",
      "<ipython-input-9-e0d7d5e87270>:46: SettingWithCopyWarning: \n",
      "A value is trying to be set on a copy of a slice from a DataFrame\n",
      "\n",
      "See the caveats in the documentation: https://pandas.pydata.org/pandas-docs/stable/user_guide/indexing.html#returning-a-view-versus-a-copy\n",
      "  df['Unit2'][df['Unit2'].isna()] = 0\n",
      "/data/anaconda3/lib/python3.8/site-packages/pandas/core/window/rolling.py:2010: FutureWarning: min_periods=None will default to the size of window consistent with other methods in a future version. Specify min_periods=0 instead.\n",
      "  warnings.warn(\n",
      "<ipython-input-9-e0d7d5e87270>:43: SettingWithCopyWarning: \n",
      "A value is trying to be set on a copy of a slice from a DataFrame.\n",
      "Try using .loc[row_indexer,col_indexer] = value instead\n",
      "\n",
      "See the caveats in the documentation: https://pandas.pydata.org/pandas-docs/stable/user_guide/indexing.html#returning-a-view-versus-a-copy\n",
      "  df['Unit3'] = ( (1*(df['Unit1']+df['Unit2'])<1) |\n",
      "<ipython-input-9-e0d7d5e87270>:45: SettingWithCopyWarning: \n",
      "A value is trying to be set on a copy of a slice from a DataFrame\n",
      "\n",
      "See the caveats in the documentation: https://pandas.pydata.org/pandas-docs/stable/user_guide/indexing.html#returning-a-view-versus-a-copy\n",
      "  df['Unit1'][df['Unit1'].isna()] = 0\n",
      "/data/anaconda3/lib/python3.8/site-packages/pandas/core/series.py:992: SettingWithCopyWarning: \n",
      "A value is trying to be set on a copy of a slice from a DataFrame\n",
      "\n",
      "See the caveats in the documentation: https://pandas.pydata.org/pandas-docs/stable/user_guide/indexing.html#returning-a-view-versus-a-copy\n",
      "  self._where(~key, value, inplace=True)\n",
      "<ipython-input-9-e0d7d5e87270>:46: SettingWithCopyWarning: \n",
      "A value is trying to be set on a copy of a slice from a DataFrame\n",
      "\n",
      "See the caveats in the documentation: https://pandas.pydata.org/pandas-docs/stable/user_guide/indexing.html#returning-a-view-versus-a-copy\n",
      "  df['Unit2'][df['Unit2'].isna()] = 0\n"
     ]
    }
   ],
   "source": [
    "val_df = lr_preprocess_sepsis(val_df)\n",
    "val_df.loc[:, :] = knn_imp.transform(val_df)\n",
    "\n",
    "test_df = lr_preprocess_sepsis(test_df)\n",
    "test_df.loc[:, :] = knn_imp.transform(test_df)"
   ],
   "metadata": {
    "collapsed": false,
    "pycharm": {
     "name": "#%%\n"
    }
   }
  },
  {
   "cell_type": "code",
   "execution_count": 18,
   "outputs": [],
   "source": [
    "X_val = val_df.loc[:, val_df.columns != 'Label']\n",
    "y_val = val_df.loc[:, val_df.columns == 'Label']\n",
    "\n",
    "X_test = test_df.loc[:, test_df.columns != 'Label']\n",
    "y_test = test_df.loc[:, test_df.columns == 'Label']"
   ],
   "metadata": {
    "collapsed": false,
    "pycharm": {
     "name": "#%%\n"
    }
   }
  },
  {
   "cell_type": "markdown",
   "source": [],
   "metadata": {
    "collapsed": false,
    "pycharm": {
     "name": "#%% md\n"
    }
   }
  },
  {
   "cell_type": "markdown",
   "source": [
    "## Models"
   ],
   "metadata": {
    "collapsed": false,
    "pycharm": {
     "name": "#%% md\n"
    }
   }
  },
  {
   "cell_type": "code",
   "execution_count": 19,
   "outputs": [
    {
     "name": "stdout",
     "output_type": "stream",
     "text": [
      "Optimization terminated successfully.\n",
      "         Current function value: 0.543233\n",
      "         Iterations 6\n",
      "                              Results: Logit\n",
      "===========================================================================\n",
      "Model:                  Logit               Pseudo R-squared:    0.147     \n",
      "Dependent Variable:     Label               AIC:                 12197.4039\n",
      "Date:                   2022-05-10 11:31    BIC:                 12534.0539\n",
      "No. Observations:       11142               Log-Likelihood:      -6052.7   \n",
      "Df Model:               45                  LL-Null:             -7092.0   \n",
      "Df Residuals:           11096               LLR p-value:         0.0000    \n",
      "Converged:              1.0000              Scale:               1.0000    \n",
      "No. Iterations:         6.0000                                             \n",
      "---------------------------------------------------------------------------\n",
      "                         Coef.   Std.Err.    z     P>|z|   [0.025   0.975] \n",
      "---------------------------------------------------------------------------\n",
      "ID                       -0.0000   0.0000  -4.9080 0.0000  -0.0000  -0.0000\n",
      "max_ICULOS                0.0077   0.0008  10.2023 0.0000   0.0062   0.0092\n",
      "Gender                    0.1922   0.0480   4.0012 0.0001   0.0980   0.2863\n",
      "Unit1__max              -24.9166   1.9229 -12.9578 0.0000 -28.6854 -21.1477\n",
      "Unit2__max              -25.3327   1.9310 -13.1190 0.0000 -29.1174 -21.5481\n",
      "Unit3__max              -24.9719   1.9284 -12.9497 0.0000 -28.7514 -21.1923\n",
      "HR__median                0.0184   0.0033   5.5111 0.0000   0.0119   0.0250\n",
      "HR__max                  -0.0062   0.0030  -2.1072 0.0351  -0.0120  -0.0004\n",
      "MAP__median              -0.0256   0.0054  -4.7604 0.0000  -0.0361  -0.0151\n",
      "MAP__min                  0.0254   0.0045   5.5990 0.0000   0.0165   0.0343\n",
      "O2Sat__mean               0.0730   0.0105   6.9183 0.0000   0.0523   0.0936\n",
      "Resp__median              0.0745   0.0089   8.3388 0.0000   0.0570   0.0920\n",
      "Resp__max                -0.0235   0.0066  -3.5857 0.0003  -0.0364  -0.0107\n",
      "SBP__median               0.0066   0.0031   2.1444 0.0320   0.0006   0.0126\n",
      "SBP__min                 -0.0082   0.0030  -2.6982 0.0070  -0.0141  -0.0022\n",
      "Hct__median               0.0335   0.0386   0.8663 0.3863  -0.0423   0.1092\n",
      "Hct__min                  0.0297   0.0368   0.8064 0.4200  -0.0424   0.1017\n",
      "Potassium__mean          -0.2065   0.0549  -3.7606 0.0002  -0.3142  -0.0989\n",
      "Glucose__mean             0.0027   0.0006   4.2892 0.0000   0.0015   0.0039\n",
      "Temp__mean                0.5110   0.0908   5.6303 0.0000   0.3331   0.6889\n",
      "Temp__min                -0.1106   0.0835  -1.3247 0.1853  -0.2742   0.0530\n",
      "DBP__mean                -0.0055   0.0039  -1.4193 0.1558  -0.0131   0.0021\n",
      "WBC__median               0.0254   0.0478   0.5309 0.5955  -0.0683   0.1191\n",
      "WBC__min                  0.0107   0.0490   0.2189 0.8267  -0.0853   0.1067\n",
      "EtCO2__mean              -0.0155   0.0033  -4.7162 0.0000  -0.0220  -0.0091\n",
      "BaseExcess__mean          0.0069   0.0086   0.7991 0.4242  -0.0100   0.0237\n",
      "HCO3__mean               -0.0242   0.0086  -2.8116 0.0049  -0.0410  -0.0073\n",
      "FiO2__mean                0.5380   0.1777   3.0269 0.0025   0.1896   0.8864\n",
      "SaO2__mean                0.0087   0.0038   2.3181 0.0204   0.0013   0.0161\n",
      "AST__mean                -0.0002   0.0001  -3.2748 0.0011  -0.0003  -0.0001\n",
      "Lactate__mean            -0.0019   0.0155  -0.1207 0.9039  -0.0322   0.0284\n",
      "Magnesium__mean           0.1619   0.0844   1.9197 0.0549  -0.0034   0.3273\n",
      "Phosphate__mean           0.0230   0.0244   0.9423 0.3460  -0.0249   0.0709\n",
      "TroponinI__mean          -0.0015   0.0021  -0.7412 0.4586  -0.0056   0.0025\n",
      "Hgb__mean                -0.1564   0.0372  -4.2020 0.0000  -0.2294  -0.0835\n",
      "PTT__mean                 0.0036   0.0013   2.7641 0.0057   0.0011   0.0062\n",
      "Platelets__mean           0.0005   0.0003   1.5222 0.1280  -0.0001   0.0010\n",
      "Age__mean                 0.0041   0.0016   2.6116 0.0090   0.0010   0.0072\n",
      "HospAdmTime__mean        -0.0008   0.0002  -4.7155 0.0000  -0.0011  -0.0004\n",
      "5w_sum_BaseExcess__mean   0.0595   0.1124   0.5298 0.5963  -0.1607   0.2798\n",
      "5w_sum_FiO2__mean         0.5723   0.0404  14.1531 0.0000   0.4930   0.6515\n",
      "5w_sum_pH__mean          -0.2669   0.1387  -1.9241 0.0543  -0.5388   0.0050\n",
      "5w_sum_PaCO2__mean        0.2197   0.1299   1.6911 0.0908  -0.0349   0.4742\n",
      "5w_sum_Glucose__mean     -0.3977   0.0335 -11.8679 0.0000  -0.4634  -0.3320\n",
      "5w_sum_Lactate__mean      0.7368   0.0865   8.5135 0.0000   0.5672   0.9065\n",
      "5w_sum_PTT__mean          0.2104   0.0930   2.2622 0.0237   0.0281   0.3928\n",
      "===========================================================================\n",
      "\n"
     ]
    }
   ],
   "source": [
    "logit_model = sm.Logit(y,X)\n",
    "result = logit_model.fit()\n",
    "print(result.summary2())"
   ],
   "metadata": {
    "collapsed": false,
    "pycharm": {
     "name": "#%%\n"
    }
   }
  },
  {
   "cell_type": "code",
   "execution_count": 20,
   "outputs": [
    {
     "name": "stderr",
     "output_type": "stream",
     "text": [
      "/home/student/.local/lib/python3.8/site-packages/sklearn/utils/validation.py:993: DataConversionWarning: A column-vector y was passed when a 1d array was expected. Please change the shape of y to (n_samples, ), for example using ravel().\n",
      "  y = column_or_1d(y, warn=True)\n",
      "/home/student/.local/lib/python3.8/site-packages/sklearn/linear_model/_logistic.py:814: ConvergenceWarning: lbfgs failed to converge (status=1):\n",
      "STOP: TOTAL NO. of ITERATIONS REACHED LIMIT.\n",
      "\n",
      "Increase the number of iterations (max_iter) or scale the data as shown in:\n",
      "    https://scikit-learn.org/stable/modules/preprocessing.html\n",
      "Please also refer to the documentation for alternative solver options:\n",
      "    https://scikit-learn.org/stable/modules/linear_model.html#logistic-regression\n",
      "  n_iter_i = _check_optimize_result(\n"
     ]
    },
    {
     "data": {
      "text/plain": "LogisticRegression()"
     },
     "execution_count": 20,
     "metadata": {},
     "output_type": "execute_result"
    }
   ],
   "source": [
    "logreg = LogisticRegression()\n",
    "logreg.fit(X, y)"
   ],
   "metadata": {
    "collapsed": false,
    "pycharm": {
     "name": "#%%\n"
    }
   }
  },
  {
   "cell_type": "code",
   "execution_count": 21,
   "outputs": [],
   "source": [
    "y_pred = logreg.predict(X_val)"
   ],
   "metadata": {
    "collapsed": false,
    "pycharm": {
     "name": "#%%\n"
    }
   }
  },
  {
   "cell_type": "code",
   "execution_count": 22,
   "outputs": [
    {
     "name": "stdout",
     "output_type": "stream",
     "text": [
      "Accuracy of logistic regression classifier on test set: 0.90\n",
      "exact: 0.9015\n"
     ]
    }
   ],
   "source": [
    "print('Accuracy of logistic regression classifier on test set: {:.2f}'.format(logreg.score(X_val, y_val)))\n",
    "print(f\"exact: {(val_df['Label']==y_pred).mean()}\")"
   ],
   "metadata": {
    "collapsed": false,
    "pycharm": {
     "name": "#%%\n"
    }
   }
  },
  {
   "cell_type": "code",
   "execution_count": 23,
   "outputs": [
    {
     "data": {
      "text/plain": "0.9015"
     },
     "execution_count": 23,
     "metadata": {},
     "output_type": "execute_result"
    }
   ],
   "source": [
    "(val_df['Label']==y_pred).mean()"
   ],
   "metadata": {
    "collapsed": false,
    "pycharm": {
     "name": "#%%\n"
    }
   }
  },
  {
   "cell_type": "code",
   "execution_count": 24,
   "outputs": [
    {
     "name": "stdout",
     "output_type": "stream",
     "text": [
      "Val F1:  0.5889256143162392\n"
     ]
    }
   ],
   "source": [
    "from sklearn.metrics import f1_score\n",
    "\n",
    "print('Val F1: ', f1_score(y_val, y_pred, average='macro'))\n",
    "\n",
    "# print(f1_score(y_val, y_pred, average='micro'))\n",
    "# print(f1_score(y_val, y_pred, average='weighted'))\n",
    "# print(f1_score(y_val, y_pred, average=None))"
   ],
   "metadata": {
    "collapsed": false,
    "pycharm": {
     "name": "#%%\n"
    }
   }
  },
  {
   "cell_type": "code",
   "execution_count": 24,
   "outputs": [],
   "source": [],
   "metadata": {
    "collapsed": false,
    "pycharm": {
     "name": "#%%\n"
    }
   }
  },
  {
   "cell_type": "code",
   "execution_count": 25,
   "outputs": [
    {
     "name": "stdout",
     "output_type": "stream",
     "text": [
      "Train F1: 1.0\n",
      "Val F1: 0.7382812499999999\n",
      "Test F1: 0.7024734982332156\n"
     ]
    }
   ],
   "source": [
    "xgbc = XGBClassifier()\n",
    "xgbc.fit(X, y)\n",
    "y_train_pred = xgbc.predict(X)\n",
    "print(f'Train F1: {f1_score(y,y_train_pred)}')\n",
    "y_val_pred = xgbc.predict(X_val)\n",
    "print(f'Val F1: {f1_score(y_val,y_val_pred)}')\n",
    "y_test_pred = xgbc.predict(X_test)\n",
    "print(f'Test F1: {f1_score(y_test,y_test_pred)}')"
   ],
   "metadata": {
    "collapsed": false,
    "pycharm": {
     "name": "#%%\n"
    }
   }
  },
  {
   "cell_type": "code",
   "execution_count": 26,
   "outputs": [
    {
     "name": "stderr",
     "output_type": "stream",
     "text": [
      "<ipython-input-26-a4ee45e6f201>:5: DataConversionWarning: A column-vector y was passed when a 1d array was expected. Please change the shape of y to (n_samples,), for example using ravel().\n",
      "  clf.fit(X,y)\n"
     ]
    },
    {
     "name": "stdout",
     "output_type": "stream",
     "text": [
      "Train F1: 1.0\n",
      "Val F1: 0.7125984251968502\n",
      "Test F1: 0.6879073135409125\n"
     ]
    }
   ],
   "source": [
    "#Create a Gaussian Classifier\n",
    "clf=RandomForestClassifier(n_estimators=100, random_state=0)\n",
    "\n",
    "#Train the model using the training sets y_pred=clf.predict(X_test)\n",
    "clf.fit(X,y)\n",
    "y_train_pred = clf.predict(X)\n",
    "print(f'Train F1: {f1_score(y, y_train_pred)}')\n",
    "y_val_pred = clf.predict(X_val)\n",
    "print(f'Val F1: {f1_score(y_val, y_val_pred)}')\n",
    "y_test_pred = clf.predict(X_test)\n",
    "print(f'Test F1: {f1_score(y_test, y_test_pred)}')"
   ],
   "metadata": {
    "collapsed": false,
    "pycharm": {
     "name": "#%%\n"
    }
   }
  },
  {
   "cell_type": "code",
   "execution_count": 27,
   "outputs": [],
   "source": [
    "# clf.summary()"
   ],
   "metadata": {
    "collapsed": false,
    "pycharm": {
     "name": "#%%\n"
    }
   }
  },
  {
   "cell_type": "code",
   "execution_count": null,
   "outputs": [],
   "source": [],
   "metadata": {
    "collapsed": false,
    "pycharm": {
     "name": "#%%\n"
    }
   }
  }
 ],
 "metadata": {
  "kernelspec": {
   "display_name": "Python 3",
   "language": "python",
   "name": "python3"
  },
  "language_info": {
   "codemirror_mode": {
    "name": "ipython",
    "version": 2
   },
   "file_extension": ".py",
   "mimetype": "text/x-python",
   "name": "python",
   "nbconvert_exporter": "python",
   "pygments_lexer": "ipython2",
   "version": "2.7.6"
  }
 },
 "nbformat": 4,
 "nbformat_minor": 0
}