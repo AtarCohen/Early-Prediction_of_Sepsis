{
 "cells": [
  {
   "cell_type": "code",
   "execution_count": 42,
   "outputs": [],
   "source": [
    "import pandas as pd\n",
    "import numpy as np\n",
    "from sklearn import preprocessing\n",
    "import matplotlib.pyplot as plt\n",
    "plt.rc(\"font\", size=14)\n",
    "from sklearn.linear_model import LogisticRegression\n",
    "from sklearn.model_selection import train_test_split\n",
    "from sklearn.linear_model import LogisticRegression\n",
    "from sklearn import metrics\n",
    "import seaborn as sns\n",
    "sns.set(style=\"white\")\n",
    "sns.set(style=\"whitegrid\", color_codes=True)\n",
    "from sklearn.impute import KNNImputer\n",
    "from imblearn.over_sampling import SMOTE ##TODO: Insert to ENV.yml\n",
    "from imblearn.under_sampling import RandomUnderSampler\n",
    "import statsmodels.api as sm\n",
    "import random\n",
    "seed=42\n",
    "random.seed(seed)"
   ],
   "metadata": {
    "collapsed": false,
    "pycharm": {
     "name": "#%%\n"
    }
   }
  },
  {
   "cell_type": "code",
   "execution_count": 43,
   "outputs": [],
   "source": [
    "def lr_preprocess_sepsis(df, window_size=5):\n",
    "\n",
    "    # columns for using\n",
    "    frequency_used_attributes = ['BaseExcess',  'FiO2', 'pH', 'PaCO2', 'Glucose','Lactate', 'PTT']\n",
    "    values_used_attributes = [ 'Hct', 'Glucose','Potassium']\n",
    "    constant_attributes = ['ID','max_ICULOS', 'Gender']\n",
    "    other_attributes = ['time_bm','HR','MAP','O2Sat', 'Resp','SBP', 'ICULOS']\n",
    "    units_attributes = ['Unit1', 'Unit2']\n",
    "    label_attributes= ['Label','SepsisLabel']\n",
    "\n",
    "    # create frequency columns for some lab variables\n",
    "    def add_rolling_window(df, attr, window_size):\n",
    "        df = df.sort_values(by=['ID','ICULOS'], ascending =[True,True])\n",
    "        rolling = df[['ID']+attr].groupby('ID').rolling(window=window_size, closed='both').count()\n",
    "        rolling= rolling.rename(columns={at: f'{window_size}w_sum_{at}' for at in attr})\n",
    "        rolling=rolling[list(rolling.columns)[1:]].reset_index().set_index('level_1')\n",
    "        combined = df.join(rolling,how='left', rsuffix= 'r')\n",
    "        return combined, rolling\n",
    "    df_with_roll, df_roll = add_rolling_window(df,frequency_used_attributes,window_size)\n",
    "    frequency_used_attributes_fixed = [f'{window_size}w_sum_{x}' for x in frequency_used_attributes]\n",
    "    df_with_roll = df_with_roll[constant_attributes + other_attributes + \\\n",
    "                                        values_used_attributes + frequency_used_attributes_fixed + \\\n",
    "                                        units_attributes + label_attributes]\n",
    "\n",
    "    # crop 10 last ICULOS hours for each patient\n",
    "    df_with_roll = df_with_roll[df_with_roll['time_bm']>=-10]\n",
    "\n",
    "    # handle Units123\n",
    "    df_with_roll['Unit3'] = ( (1*(df_with_roll['Unit1']+df_with_roll['Unit2'])<1) |\n",
    "                          (df_with_roll['Unit1'].isna() & df_with_roll['Unit2'].isna()) )*1\n",
    "    df_with_roll['Unit1'][df_with_roll['Unit1'].isna()] = 0\n",
    "    df_with_roll['Unit2'][df_with_roll['Unit2'].isna()] = 0\n",
    "    df_with_roll[['Unit1','Unit2','Unit3']]\n",
    "\n",
    "    # aggregations\n",
    "    data_final = df_with_roll.groupby(['ID', 'Label','max_ICULOS','Gender']).agg({\n",
    "                                                        'Unit1': 'max',\\\n",
    "                                                        'Unit2': 'max',\\\n",
    "                                                        'Unit3': 'max',\\\n",
    "                                                        'HR': ['median', 'max'],\\\n",
    "                                                        'MAP': ['median', 'min'],\\\n",
    "                                                        'O2Sat': ['mean'],\\\n",
    "                                                        'Resp': ['median', 'max'],\\\n",
    "                                                        'SBP': ['median', 'min'],\\\n",
    "                                                        'Hct': ['median', 'min'],\\\n",
    "                                                        'Potassium': 'mean',\\\n",
    "                                                        'Glucose': 'mean',\\\n",
    "                                                        f'{window_size}w_sum_BaseExcess': 'mean',\\\n",
    "                                                        f'{window_size}w_sum_FiO2': 'mean',\\\n",
    "                                                        f'{window_size}w_sum_pH': 'mean',\\\n",
    "                                                        f'{window_size}w_sum_PaCO2': 'mean',\\\n",
    "                                                        f'{window_size}w_sum_Glucose': 'mean',\\\n",
    "                                                        f'{window_size}w_sum_Lactate': 'mean',\\\n",
    "                                                        f'{window_size}w_sum_PTT': 'mean'}).reset_index()\n",
    "    data_final.columns = ['__'.join(col).strip() for col in data_final.columns.values]\n",
    "    data_final.rename(columns={\"ID__\": \"ID\", \"Label__\": \"Label\", \"max_ICULOS__\":\"max_ICULOS\", \"Gender__\":\"Gender\"}, inplace=True)\n",
    "\n",
    "    return data_final\n"
   ],
   "metadata": {
    "collapsed": false,
    "pycharm": {
     "name": "#%%\n"
    }
   }
  },
  {
   "cell_type": "code",
   "execution_count": 44,
   "outputs": [],
   "source": [
    "def imputation_with_KNNimputer(train_df, n=3):\n",
    "    data_knn_imputed = train_df.copy(deep=True)    # Copy the data\n",
    "    knn_imp = KNNImputer(n_neighbors=n) # Init the transformer\n",
    "    knn_imp.fit(data_knn_imputed)\n",
    "    return knn_imp"
   ],
   "metadata": {
    "collapsed": false,
    "pycharm": {
     "name": "#%%\n"
    }
   }
  },
  {
   "cell_type": "code",
   "execution_count": 45,
   "outputs": [],
   "source": [
    "def os_with_smote(train_df, p=0.5):\n",
    "    X = train_df.loc[:, train_df.columns != 'Label']\n",
    "    y = train_df.loc[:, train_df.columns == 'Label']\n",
    "    os = SMOTE(sampling_strategy=p, random_state=0)\n",
    "    columns = X.columns\n",
    "    os_data_X, os_data_y = os.fit_resample(X, y)\n",
    "    os_data_X = pd.DataFrame(data=os_data_X,columns=columns )\n",
    "    os_data_y = pd.DataFrame(data=os_data_y,columns=['Label'])\n",
    "    return os_data_X, os_data_y"
   ],
   "metadata": {
    "collapsed": false,
    "pycharm": {
     "name": "#%%\n"
    }
   }
  },
  {
   "cell_type": "code",
   "execution_count": 45,
   "outputs": [],
   "source": [],
   "metadata": {
    "collapsed": false,
    "pycharm": {
     "name": "#%%\n"
    }
   }
  },
  {
   "cell_type": "code",
   "execution_count": 46,
   "outputs": [],
   "source": [
    "train_df = pd.read_csv(\"/home/student/filtered_train_df_0705.csv\")\n",
    "val_df = pd.read_csv(\"/home/student/filtered_val_df_0705.csv\")\n",
    "test_df =  pd.read_csv(\"/home/student/filtered_test_df_0705.csv\")"
   ],
   "metadata": {
    "collapsed": false,
    "pycharm": {
     "name": "#%%\n"
    }
   }
  },
  {
   "cell_type": "code",
   "execution_count": 47,
   "outputs": [
    {
     "name": "stderr",
     "output_type": "stream",
     "text": [
      "/data/anaconda3/lib/python3.8/site-packages/pandas/core/window/rolling.py:2010: FutureWarning: min_periods=None will default to the size of window consistent with other methods in a future version. Specify min_periods=0 instead.\n",
      "  warnings.warn(\n"
     ]
    },
    {
     "name": "stdout",
     "output_type": "stream",
     "text": [
      "length of train data is 16000\n",
      "Number of Label=0 in train data 14857\n",
      "Number of Label=1 in train data 1143\n",
      "Proportion of Label=0 data in train data is  0.9285625\n",
      "Proportion of Label=1 data in train data is  0.0714375\n"
     ]
    }
   ],
   "source": [
    "train_df = lr_preprocess_sepsis(train_df)\n",
    "# Check the numbers of our data\n",
    "print(\"length of train data is\",len(train_df))\n",
    "print(\"Number of Label=0 in train data\",len(train_df[train_df['Label']==0]))\n",
    "print(\"Number of Label=1 in train data\",len(train_df[train_df['Label']==1]))\n",
    "print(\"Proportion of Label=0 data in train data is \",len(train_df[train_df['Label']==0])/len(train_df))\n",
    "print(\"Proportion of Label=1 data in train data is \",len(train_df[train_df['Label']==1])/len(train_df))"
   ],
   "metadata": {
    "collapsed": false,
    "pycharm": {
     "name": "#%%\n"
    }
   }
  },
  {
   "cell_type": "code",
   "execution_count": 48,
   "outputs": [],
   "source": [
    "knn_imp = imputation_with_KNNimputer(train_df, 3)\n",
    "train_df.loc[:, :] = knn_imp.transform(train_df)"
   ],
   "metadata": {
    "collapsed": false,
    "pycharm": {
     "name": "#%%\n"
    }
   }
  },
  {
   "cell_type": "code",
   "execution_count": 49,
   "outputs": [
    {
     "name": "stdout",
     "output_type": "stream",
     "text": [
      "length of oversampled data is  18571\n",
      "Number of Label=0 in oversampled data 14857\n",
      "Number of Label=1 3714\n",
      "Proportion of Label=0 data in oversampled data is  0.8000107694792957\n",
      "Proportion of Label=1 data in oversampled data is  0.19998923052070433\n"
     ]
    }
   ],
   "source": [
    "X, y = os_with_smote(train_df, p=0.25)\n",
    "\n",
    "# Check the numbers of our data\n",
    "print(\"length of oversampled data is \",len(X))\n",
    "print(\"Number of Label=0 in oversampled data\",len(y[y['Label']==0]))\n",
    "print(\"Number of Label=1\",len(y[y['Label']==1]))\n",
    "print(\"Proportion of Label=0 data in oversampled data is \",len(y[y['Label']==0])/len(X))\n",
    "print(\"Proportion of Label=1 data in oversampled data is \",len(y[y['Label']==1])/len(X))"
   ],
   "metadata": {
    "collapsed": false,
    "pycharm": {
     "name": "#%%\n"
    }
   }
  },
  {
   "cell_type": "code",
   "execution_count": 50,
   "outputs": [
    {
     "name": "stdout",
     "output_type": "stream",
     "text": [
      "length of final training data is  11142\n",
      "Number of Label=0 in final training data 7428\n",
      "Number of Label=1 3714\n",
      "Proportion of Label=0 data in final data training is  0.6666666666666666\n",
      "Proportion of Label=1 data in final training data is  0.3333333333333333\n"
     ]
    }
   ],
   "source": [
    "#Downsample majority class\n",
    "under = RandomUnderSampler(sampling_strategy=0.5)\n",
    "X,y = under.fit_resample(X, y)\n",
    "\n",
    "# Check the numbers of our data\n",
    "print(\"length of final training data is \",len(X))\n",
    "print(\"Number of Label=0 in final training data\",len(y[y['Label']==0]))\n",
    "print(\"Number of Label=1\",len(y[y['Label']==1]))\n",
    "print(\"Proportion of Label=0 data in final data training is \",len(y[y['Label']==0])/len(X))\n",
    "print(\"Proportion of Label=1 data in final training data is \",len(y[y['Label']==1])/len(X))"
   ],
   "metadata": {
    "collapsed": false,
    "pycharm": {
     "name": "#%%\n"
    }
   }
  },
  {
   "cell_type": "code",
   "execution_count": 51,
   "outputs": [
    {
     "name": "stderr",
     "output_type": "stream",
     "text": [
      "/data/anaconda3/lib/python3.8/site-packages/pandas/core/window/rolling.py:2010: FutureWarning: min_periods=None will default to the size of window consistent with other methods in a future version. Specify min_periods=0 instead.\n",
      "  warnings.warn(\n",
      "/data/anaconda3/lib/python3.8/site-packages/pandas/core/window/rolling.py:2010: FutureWarning: min_periods=None will default to the size of window consistent with other methods in a future version. Specify min_periods=0 instead.\n",
      "  warnings.warn(\n"
     ]
    }
   ],
   "source": [
    "val_df = lr_preprocess_sepsis(val_df)\n",
    "val_df.loc[:, :] = knn_imp.transform(val_df)\n",
    "\n",
    "test_df = lr_preprocess_sepsis(test_df)\n",
    "test_df.loc[:, :] = knn_imp.transform(test_df)"
   ],
   "metadata": {
    "collapsed": false,
    "pycharm": {
     "name": "#%%\n"
    }
   }
  },
  {
   "cell_type": "code",
   "execution_count": 52,
   "outputs": [],
   "source": [
    "X_val = val_df.loc[:, val_df.columns != 'Label']\n",
    "y_val = val_df.loc[:, val_df.columns == 'Label']\n",
    "\n",
    "X_test = test_df.loc[:, test_df.columns != 'Label']\n",
    "y_test = test_df.loc[:, test_df.columns == 'Label']"
   ],
   "metadata": {
    "collapsed": false,
    "pycharm": {
     "name": "#%%\n"
    }
   }
  },
  {
   "cell_type": "code",
   "execution_count": 52,
   "outputs": [],
   "source": [],
   "metadata": {
    "collapsed": false,
    "pycharm": {
     "name": "#%%\n"
    }
   }
  },
  {
   "cell_type": "code",
   "execution_count": 53,
   "outputs": [
    {
     "name": "stdout",
     "output_type": "stream",
     "text": [
      "Optimization terminated successfully.\n",
      "         Current function value: 0.554438\n",
      "         Iterations 6\n",
      "                              Results: Logit\n",
      "==========================================================================\n",
      "Model:                 Logit               Pseudo R-squared:    0.129     \n",
      "Dependent Variable:    Label               AIC:                 12407.0878\n",
      "Date:                  2022-05-09 00:59    BIC:                 12597.3682\n",
      "No. Observations:      11142               Log-Likelihood:      -6177.5   \n",
      "Df Model:              25                  LL-Null:             -7092.0   \n",
      "Df Residuals:          11116               LLR p-value:         0.0000    \n",
      "Converged:             1.0000              Scale:               1.0000    \n",
      "No. Iterations:        6.0000                                             \n",
      "--------------------------------------------------------------------------\n",
      "                         Coef.   Std.Err.    z     P>|z|   [0.025   0.975]\n",
      "--------------------------------------------------------------------------\n",
      "ID                       -0.0000   0.0000  -6.2418 0.0000  -0.0000 -0.0000\n",
      "max_ICULOS                0.0071   0.0007   9.8925 0.0000   0.0057  0.0085\n",
      "Gender                    0.2012   0.0471   4.2766 0.0000   0.1090  0.2935\n",
      "Unit1__max              -11.5511   1.1347 -10.1797 0.0000 -13.7751 -9.3271\n",
      "Unit2__max              -11.9538   1.1351 -10.5315 0.0000 -14.1785 -9.7292\n",
      "Unit3__max              -11.6156   1.1365 -10.2205 0.0000 -13.8431 -9.3881\n",
      "HR__median                0.0221   0.0033   6.7486 0.0000   0.0157  0.0285\n",
      "HR__max                  -0.0023   0.0029  -0.7790 0.4360  -0.0080  0.0035\n",
      "MAP__median              -0.0379   0.0047  -8.0983 0.0000  -0.0470 -0.0287\n",
      "MAP__min                  0.0237   0.0044   5.3395 0.0000   0.0150  0.0325\n",
      "O2Sat__mean               0.0857   0.0106   8.0669 0.0000   0.0649  0.1066\n",
      "Resp__median              0.0818   0.0086   9.4645 0.0000   0.0648  0.0987\n",
      "Resp__max                -0.0263   0.0064  -4.1272 0.0000  -0.0388 -0.0138\n",
      "SBP__median               0.0151   0.0030   5.0593 0.0000   0.0093  0.0210\n",
      "SBP__min                 -0.0121   0.0031  -3.9356 0.0001  -0.0181 -0.0061\n",
      "Hct__median               0.0455   0.0336   1.3552 0.1753  -0.0203  0.1113\n",
      "Hct__min                 -0.0284   0.0327  -0.8676 0.3856  -0.0926  0.0358\n",
      "Potassium__mean          -0.0644   0.0504  -1.2791 0.2008  -0.1632  0.0343\n",
      "Glucose__mean             0.0028   0.0006   4.5777 0.0000   0.0016  0.0040\n",
      "5w_sum_BaseExcess__mean  -0.1873   0.1121  -1.6709 0.0948  -0.4069  0.0324\n",
      "5w_sum_FiO2__mean         0.6407   0.0400  16.0267 0.0000   0.5623  0.7190\n",
      "5w_sum_pH__mean          -0.0794   0.1300  -0.6107 0.5414  -0.3341  0.1754\n",
      "5w_sum_PaCO2__mean        0.3353   0.1243   2.6980 0.0070   0.0917  0.5788\n",
      "5w_sum_Glucose__mean     -0.3229   0.0325  -9.9388 0.0000  -0.3865 -0.2592\n",
      "5w_sum_Lactate__mean      0.6300   0.0839   7.5131 0.0000   0.4657  0.7944\n",
      "5w_sum_PTT__mean          0.1444   0.0908   1.5914 0.1115  -0.0335  0.3223\n",
      "==========================================================================\n",
      "\n"
     ]
    }
   ],
   "source": [
    "logit_model = sm.Logit(y,X)\n",
    "result = logit_model.fit()\n",
    "print(result.summary2())"
   ],
   "metadata": {
    "collapsed": false,
    "pycharm": {
     "name": "#%%\n"
    }
   }
  },
  {
   "cell_type": "code",
   "execution_count": 54,
   "outputs": [
    {
     "name": "stderr",
     "output_type": "stream",
     "text": [
      "/home/student/.local/lib/python3.8/site-packages/sklearn/utils/validation.py:993: DataConversionWarning: A column-vector y was passed when a 1d array was expected. Please change the shape of y to (n_samples, ), for example using ravel().\n",
      "  y = column_or_1d(y, warn=True)\n",
      "/home/student/.local/lib/python3.8/site-packages/sklearn/linear_model/_logistic.py:814: ConvergenceWarning: lbfgs failed to converge (status=1):\n",
      "STOP: TOTAL NO. of ITERATIONS REACHED LIMIT.\n",
      "\n",
      "Increase the number of iterations (max_iter) or scale the data as shown in:\n",
      "    https://scikit-learn.org/stable/modules/preprocessing.html\n",
      "Please also refer to the documentation for alternative solver options:\n",
      "    https://scikit-learn.org/stable/modules/linear_model.html#logistic-regression\n",
      "  n_iter_i = _check_optimize_result(\n"
     ]
    },
    {
     "data": {
      "text/plain": "LogisticRegression()"
     },
     "execution_count": 54,
     "metadata": {},
     "output_type": "execute_result"
    }
   ],
   "source": [
    "logreg = LogisticRegression()\n",
    "logreg.fit(X, y)"
   ],
   "metadata": {
    "collapsed": false,
    "pycharm": {
     "name": "#%%\n"
    }
   }
  },
  {
   "cell_type": "code",
   "execution_count": 55,
   "outputs": [],
   "source": [
    "y_pred = logreg.predict(X_val)"
   ],
   "metadata": {
    "collapsed": false,
    "pycharm": {
     "name": "#%%\n"
    }
   }
  },
  {
   "cell_type": "code",
   "execution_count": 56,
   "outputs": [
    {
     "name": "stdout",
     "output_type": "stream",
     "text": [
      "Accuracy of logistic regression classifier on test set: 0.90\n",
      "exact: 0.89875\n"
     ]
    }
   ],
   "source": [
    "print('Accuracy of logistic regression classifier on test set: {:.2f}'.format(logreg.score(X_val, y_val)))\n",
    "print(f\"exact: {(val_df['Label']==y_pred).mean()}\")"
   ],
   "metadata": {
    "collapsed": false,
    "pycharm": {
     "name": "#%%\n"
    }
   }
  },
  {
   "cell_type": "code",
   "execution_count": 57,
   "outputs": [
    {
     "data": {
      "text/plain": "0.89875"
     },
     "execution_count": 57,
     "metadata": {},
     "output_type": "execute_result"
    }
   ],
   "source": [
    "(val_df['Label']==y_pred).mean()"
   ],
   "metadata": {
    "collapsed": false,
    "pycharm": {
     "name": "#%%\n"
    }
   }
  },
  {
   "cell_type": "code",
   "execution_count": 58,
   "outputs": [
    {
     "name": "stdout",
     "output_type": "stream",
     "text": [
      "Val F1:  0.598544749498119\n"
     ]
    }
   ],
   "source": [
    "from sklearn.metrics import f1_score\n",
    "\n",
    "print('Val F1: ', f1_score(y_val, y_pred, average='macro'))\n",
    "\n",
    "# print(f1_score(y_val, y_pred, average='micro'))\n",
    "# print(f1_score(y_val, y_pred, average='weighted'))\n",
    "# print(f1_score(y_val, y_pred, average=None))"
   ],
   "metadata": {
    "collapsed": false,
    "pycharm": {
     "name": "#%%\n"
    }
   }
  },
  {
   "cell_type": "code",
   "execution_count": 58,
   "outputs": [],
   "source": [],
   "metadata": {
    "collapsed": false,
    "pycharm": {
     "name": "#%%\n"
    }
   }
  },
  {
   "cell_type": "code",
   "execution_count": 58,
   "outputs": [],
   "source": [],
   "metadata": {
    "collapsed": false,
    "pycharm": {
     "name": "#%%\n"
    }
   }
  },
  {
   "cell_type": "code",
   "execution_count": 59,
   "outputs": [
    {
     "name": "stdout",
     "output_type": "stream",
     "text": [
      "Train F1: 0.9960805514258683\n",
      "Val F1: 0.7376425855513308\n",
      "Val F1: 0.697508896797153\n"
     ]
    }
   ],
   "source": [
    "from xgboost import XGBClassifier\n",
    "\n",
    "xgbc = XGBClassifier()\n",
    "xgbc.fit(X, y)\n",
    "y_train_pred = xgbc.predict(X)\n",
    "print(f'Train F1: {f1_score(y,y_train_pred)}')\n",
    "y_val_pred = xgbc.predict(X_val)\n",
    "print(f'Val F1: {f1_score(y_val,y_val_pred)}')\n",
    "y_test_pred = xgbc.predict(X_test)\n",
    "print(f'Val F1: {f1_score(y_test,y_test_pred)}')"
   ],
   "metadata": {
    "collapsed": false,
    "pycharm": {
     "name": "#%%\n"
    }
   }
  },
  {
   "cell_type": "code",
   "execution_count": 60,
   "outputs": [
    {
     "name": "stderr",
     "output_type": "stream",
     "text": [
      "<ipython-input-60-47a80e9ee28e>:7: DataConversionWarning: A column-vector y was passed when a 1d array was expected. Please change the shape of y to (n_samples,), for example using ravel().\n",
      "  clf.fit(X,y)\n"
     ]
    },
    {
     "name": "stdout",
     "output_type": "stream",
     "text": [
      "Train F1: 1.0\n",
      "Val F1: 0.7332053742802304\n",
      "Val F1: 0.6965174129353234\n"
     ]
    }
   ],
   "source": [
    "#Import Random Forest Model\n",
    "from sklearn.ensemble import RandomForestClassifier\n",
    "#Create a Gaussian Classifier\n",
    "clf=RandomForestClassifier(n_estimators=100)\n",
    "\n",
    "#Train the model using the training sets y_pred=clf.predict(X_test)\n",
    "clf.fit(X,y)\n",
    "y_train_pred = clf.predict(X)\n",
    "print(f'Train F1: {f1_score(y, y_train_pred)}')\n",
    "y_val_pred = clf.predict(X_val)\n",
    "print(f'Val F1: {f1_score(y_val, y_val_pred)}')\n",
    "y_test_pred = clf.predict(X_test)\n",
    "print(f'Val F1: {f1_score(y_test, y_test_pred)}')"
   ],
   "metadata": {
    "collapsed": false,
    "pycharm": {
     "name": "#%%\n"
    }
   }
  },
  {
   "cell_type": "code",
   "execution_count": 61,
   "outputs": [],
   "source": [
    "# clf.summary()"
   ],
   "metadata": {
    "collapsed": false,
    "pycharm": {
     "name": "#%%\n"
    }
   }
  },
  {
   "cell_type": "code",
   "execution_count": 61,
   "outputs": [],
   "source": [],
   "metadata": {
    "collapsed": false,
    "pycharm": {
     "name": "#%%\n"
    }
   }
  }
 ],
 "metadata": {
  "kernelspec": {
   "display_name": "Python 3",
   "language": "python",
   "name": "python3"
  },
  "language_info": {
   "codemirror_mode": {
    "name": "ipython",
    "version": 2
   },
   "file_extension": ".py",
   "mimetype": "text/x-python",
   "name": "python",
   "nbconvert_exporter": "python",
   "pygments_lexer": "ipython2",
   "version": "2.7.6"
  }
 },
 "nbformat": 4,
 "nbformat_minor": 0
}