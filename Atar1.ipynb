{
 "cells": [
  {
   "cell_type": "code",
   "execution_count": 1,
   "outputs": [],
   "source": [
    "import pandas as pd\n",
    "import numpy as np\n",
    "from sklearn import preprocessing\n",
    "import matplotlib.pyplot as plt\n",
    "plt.rc(\"font\", size=14)\n",
    "from sklearn.linear_model import LogisticRegression\n",
    "from sklearn.model_selection import train_test_split\n",
    "from sklearn.linear_model import LogisticRegression\n",
    "from sklearn import metrics\n",
    "import seaborn as sns\n",
    "sns.set(style=\"white\")\n",
    "sns.set(style=\"whitegrid\", color_codes=True)\n",
    "from sklearn.impute import KNNImputer\n",
    "from imblearn.over_sampling import SMOTE ##TODO: Insert to ENV.yml\n",
    "from imblearn.under_sampling import RandomUnderSampler\n",
    "import statsmodels.api as sm\n",
    "import random\n",
    "seed=42\n",
    "random.seed(seed)\n",
    "from xgboost import XGBClassifier\n",
    "#Import Random Forest Model\n",
    "from sklearn.ensemble import RandomForestClassifier"
   ],
   "metadata": {
    "collapsed": false,
    "pycharm": {
     "name": "#%%\n"
    }
   }
  },
  {
   "cell_type": "code",
   "execution_count": 2,
   "outputs": [],
   "source": [
    "def lr_preprocess_sepsis(df, window_size=5, time_bm=-10):\n",
    "\n",
    "    # columns for using\n",
    "    frequency_used_attributes = ['BaseExcess',  'FiO2', 'pH', 'PaCO2', 'Glucose','Lactate', 'PTT']\n",
    "    values_used_attributes = [ 'Hct', 'Glucose','Potassium']\n",
    "    constant_attributes = ['ID','max_ICULOS', 'Gender']\n",
    "    other_attributes = ['time_bm','HR','MAP','O2Sat', 'Resp','SBP', 'ICULOS']\n",
    "    units_attributes = ['Unit1', 'Unit2']\n",
    "    label_attributes= ['Label','SepsisLabel']\n",
    "\n",
    "    # create frequency columns for some lab variables\n",
    "    def add_rolling_window(df, attr, window_size):\n",
    "        df = df.sort_values(by=['ID','ICULOS'], ascending =[True,True])\n",
    "        rolling = df[['ID']+attr].groupby('ID').rolling(window=window_size, closed='both').count()\n",
    "        rolling= rolling.rename(columns={at: f'{window_size}w_sum_{at}' for at in attr})\n",
    "        rolling=rolling[list(rolling.columns)[1:]].reset_index().set_index('level_1')\n",
    "        combined = df.join(rolling,how='left', rsuffix= 'r')\n",
    "        return combined, rolling\n",
    "    df_with_roll, df_roll = add_rolling_window(df,frequency_used_attributes,window_size)\n",
    "    frequency_used_attributes_fixed = [f'{window_size}w_sum_{x}' for x in frequency_used_attributes]\n",
    "    # df_with_roll = df_with_roll[constant_attributes + other_attributes + \\\n",
    "    #                                     values_used_attributes + frequency_used_attributes_fixed + \\\n",
    "    #                                     units_attributes + label_attributes]\n",
    "\n",
    "    # crop 10 (time_bm) last ICULOS hours for each patient\n",
    "    df_with_roll = df_with_roll[df_with_roll['time_bm']>=time_bm]\n",
    "\n",
    "    # handle Units123\n",
    "    df_with_roll['Unit3'] = ( (1*(df_with_roll['Unit1']+df_with_roll['Unit2'])<1) |\n",
    "                          (df_with_roll['Unit1'].isna() & df_with_roll['Unit2'].isna()) )*1\n",
    "    df_with_roll['Unit1'][df_with_roll['Unit1'].isna()] = 0\n",
    "    df_with_roll['Unit2'][df_with_roll['Unit2'].isna()] = 0\n",
    "    df_with_roll[['Unit1','Unit2','Unit3']]\n",
    "\n",
    "    # aggregations\n",
    "    data_final = df_with_roll.groupby(['ID', 'Label','max_ICULOS','Gender']).agg({\n",
    "                                                        'Unit1': 'max',\\\n",
    "                                                        'Unit2': 'max',\\\n",
    "                                                        'Unit3': 'max',\\\n",
    "                                                        'HR': ['median', 'max'],\\\n",
    "                                                        'MAP': ['median', 'min'],\\\n",
    "                                                        'O2Sat': ['mean'],\\\n",
    "                                                        'Resp': ['median', 'max'],\\\n",
    "                                                        'SBP': ['median', 'min'],\\\n",
    "                                                        'Hct': ['median', 'min'],\\\n",
    "                                                        'Potassium': 'mean',\\\n",
    "                                                        'Glucose': 'mean',\\\n",
    "                                                        'Temp': ['mean', 'min'],\\\n",
    "                                                        'DBP': 'mean',\\\n",
    "                                                        'WBC': ['median', 'min'],\\\n",
    "                                                        'EtCO2': 'mean',\\\n",
    "                                                        'BaseExcess': 'mean',\\\n",
    "                                                        'HCO3': 'mean',\\\n",
    "                                                        'FiO2': 'mean',\\\n",
    "                                                        'SaO2': 'mean',\\\n",
    "                                                        'AST': 'mean',\\\n",
    "                                                        'Lactate': 'mean',\\\n",
    "                                                        'Magnesium': 'mean',\\\n",
    "                                                        'Phosphate': 'mean',\\\n",
    "                                                        'TroponinI': 'mean',\\\n",
    "                                                        'Hgb': 'mean',\\\n",
    "                                                        'PTT': 'mean',\\\n",
    "                                                        'Platelets': 'mean',\\\n",
    "                                                        'Age': 'mean',\\\n",
    "                                                        'HospAdmTime': 'mean',\\\n",
    "                                                        f'{window_size}w_sum_BaseExcess': 'mean',\\\n",
    "                                                        f'{window_size}w_sum_FiO2': 'mean',\\\n",
    "                                                        f'{window_size}w_sum_pH': 'mean',\\\n",
    "                                                        f'{window_size}w_sum_PaCO2': 'mean',\\\n",
    "                                                        f'{window_size}w_sum_Glucose': 'mean',\\\n",
    "                                                        f'{window_size}w_sum_Lactate': 'mean',\\\n",
    "                                                        f'{window_size}w_sum_PTT': 'mean'}).reset_index()\n",
    "    data_final.columns = ['__'.join(col).strip() for col in data_final.columns.values]\n",
    "    data_final.rename(columns={\"ID__\": \"ID\", \"Label__\": \"Label\", \"max_ICULOS__\":\"max_ICULOS\", \"Gender__\":\"Gender\"}, inplace=True)\n",
    "\n",
    "    return data_final\n"
   ],
   "metadata": {
    "collapsed": false,
    "pycharm": {
     "name": "#%%\n"
    }
   }
  },
  {
   "cell_type": "code",
   "execution_count": 3,
   "outputs": [],
   "source": [
    "train_df = pd.read_csv(\"/home/student/filtered_train_df_0705.csv\")"
   ],
   "metadata": {
    "collapsed": false,
    "pycharm": {
     "name": "#%%\n"
    }
   }
  },
  {
   "cell_type": "code",
   "execution_count": 4,
   "outputs": [
    {
     "name": "stderr",
     "output_type": "stream",
     "text": [
      "/data/anaconda3/lib/python3.8/site-packages/pandas/core/window/rolling.py:2010: FutureWarning: min_periods=None will default to the size of window consistent with other methods in a future version. Specify min_periods=0 instead.\n",
      "  warnings.warn(\n"
     ]
    }
   ],
   "source": [
    "train_df = lr_preprocess_sepsis(train_df)"
   ],
   "metadata": {
    "collapsed": false,
    "pycharm": {
     "name": "#%%\n"
    }
   }
  },
  {
   "cell_type": "code",
   "execution_count": 5,
   "outputs": [
    {
     "data": {
      "text/plain": "Index(['ID', 'Label', 'max_ICULOS', 'Gender', 'Unit1__max', 'Unit2__max',\n       'Unit3__max', 'HR__median', 'HR__max', 'MAP__median', 'MAP__min',\n       'O2Sat__mean', 'Resp__median', 'Resp__max', 'SBP__median', 'SBP__min',\n       'Hct__median', 'Hct__min', 'Potassium__mean', 'Glucose__mean',\n       'Temp__mean', 'Temp__min', 'DBP__mean', 'WBC__median', 'WBC__min',\n       'EtCO2__mean', 'BaseExcess__mean', 'HCO3__mean', 'FiO2__mean',\n       'SaO2__mean', 'AST__mean', 'Lactate__mean', 'Magnesium__mean',\n       'Phosphate__mean', 'TroponinI__mean', 'Hgb__mean', 'PTT__mean',\n       'Platelets__mean', 'Age__mean', 'HospAdmTime__mean',\n       '5w_sum_BaseExcess__mean', '5w_sum_FiO2__mean', '5w_sum_pH__mean',\n       '5w_sum_PaCO2__mean', '5w_sum_Glucose__mean', '5w_sum_Lactate__mean',\n       '5w_sum_PTT__mean'],\n      dtype='object')"
     },
     "execution_count": 5,
     "metadata": {},
     "output_type": "execute_result"
    }
   ],
   "source": [
    "train_df.columns"
   ],
   "metadata": {
    "collapsed": false,
    "pycharm": {
     "name": "#%%\n"
    }
   }
  },
  {
   "cell_type": "code",
   "execution_count": null,
   "outputs": [],
   "source": [],
   "metadata": {
    "collapsed": false,
    "pycharm": {
     "name": "#%%\n"
    }
   }
  }
 ],
 "metadata": {
  "kernelspec": {
   "display_name": "Python 3",
   "language": "python",
   "name": "python3"
  },
  "language_info": {
   "codemirror_mode": {
    "name": "ipython",
    "version": 2
   },
   "file_extension": ".py",
   "mimetype": "text/x-python",
   "name": "python",
   "nbconvert_exporter": "python",
   "pygments_lexer": "ipython2",
   "version": "2.7.6"
  }
 },
 "nbformat": 4,
 "nbformat_minor": 0
}