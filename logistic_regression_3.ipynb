{
 "cells": [
  {
   "cell_type": "markdown",
   "source": [
    "## Setup"
   ],
   "metadata": {
    "collapsed": false,
    "pycharm": {
     "name": "#%% md\n"
    }
   }
  },
  {
   "cell_type": "code",
   "execution_count": 2,
   "outputs": [],
   "source": [
    "import pandas as pd\n",
    "import numpy as np\n",
    "from sklearn import preprocessing\n",
    "import matplotlib.pyplot as plt\n",
    "plt.rc(\"font\", size=14)\n",
    "from sklearn.linear_model import LogisticRegression\n",
    "from sklearn.model_selection import train_test_split\n",
    "from sklearn.linear_model import LogisticRegression\n",
    "from sklearn import metrics\n",
    "import seaborn as sns\n",
    "sns.set(style=\"white\")\n",
    "sns.set(style=\"whitegrid\", color_codes=True)\n",
    "from sklearn.impute import KNNImputer\n",
    "from imblearn.over_sampling import SMOTE ##TODO: Insert to ENV.yml\n",
    "from imblearn.under_sampling import RandomUnderSampler\n",
    "import statsmodels.api as sm\n",
    "import random\n",
    "seed=42\n",
    "random.seed(seed)\n",
    "from xgboost import XGBClassifier\n",
    "#Import Random Forest Model\n",
    "from sklearn.ensemble import RandomForestClassifier"
   ],
   "metadata": {
    "collapsed": false,
    "pycharm": {
     "name": "#%%\n"
    }
   }
  },
  {
   "cell_type": "markdown",
   "source": [
    "## Preprocess function\n",
    "\n",
    "- create frequency columns for some lab variables (??)\n",
    "- crop time_bm (10) last ICULOS hours for each patient\n",
    "- handle Units1/2/3\n",
    "- apply aggregations"
   ],
   "metadata": {
    "collapsed": false,
    "pycharm": {
     "name": "#%% md\n"
    }
   }
  },
  {
   "cell_type": "code",
   "execution_count": 3,
   "outputs": [],
   "source": [
    "def lr_preprocess_sepsis(df, window_size=5, time_bm=-10):\n",
    "\n",
    "    # columns for using\n",
    "    frequency_used_attributes = ['BaseExcess',  'FiO2', 'pH', 'PaCO2', 'Glucose','Lactate', 'PTT']\n",
    "    values_used_attributes = [ 'Hct', 'Glucose','Potassium']\n",
    "    constant_attributes = ['ID','max_ICULOS', 'Gender']\n",
    "    other_attributes = ['time_bm','HR','MAP','O2Sat', 'Resp','SBP', 'ICULOS']\n",
    "    units_attributes = ['Unit1', 'Unit2']\n",
    "    label_attributes= ['Label','SepsisLabel']\n",
    "\n",
    "    # create frequency columns for some lab variables\n",
    "    def add_rolling_window(df, attr, window_size):\n",
    "        df = df.sort_values(by=['ID','ICULOS'], ascending =[True,True])\n",
    "        rolling = df[['ID']+attr].groupby('ID').rolling(window=window_size, closed='both').count()\n",
    "        rolling= rolling.rename(columns={at: f'{window_size}w_sum_{at}' for at in attr})\n",
    "        rolling=rolling[list(rolling.columns)[1:]].reset_index().set_index('level_1')\n",
    "        combined = df.join(rolling,how='left', rsuffix= 'r')\n",
    "        return combined, rolling\n",
    "    df_with_roll, df_roll = add_rolling_window(df,frequency_used_attributes,window_size)\n",
    "    frequency_used_attributes_fixed = [f'{window_size}w_sum_{x}' for x in frequency_used_attributes]\n",
    "    # df_with_roll = df_with_roll[constant_attributes + other_attributes + \\\n",
    "    #                                     values_used_attributes + frequency_used_attributes_fixed + \\\n",
    "    #                                     units_attributes + label_attributes]\n",
    "\n",
    "    # crop 10 (time_bm) last ICULOS hours for each patient\n",
    "    df_with_roll = df_with_roll[df_with_roll['time_bm']>=time_bm]\n",
    "\n",
    "    # handle Units123\n",
    "    df_with_roll['Unit3'] = ( (1*(df_with_roll['Unit1']+df_with_roll['Unit2'])<1) |\n",
    "                          (df_with_roll['Unit1'].isna() & df_with_roll['Unit2'].isna()) )*1\n",
    "    df_with_roll['Unit1'][df_with_roll['Unit1'].isna()] = 0\n",
    "    df_with_roll['Unit2'][df_with_roll['Unit2'].isna()] = 0\n",
    "    df_with_roll[['Unit1','Unit2','Unit3']]\n",
    "\n",
    "    # aggregations\n",
    "    data_final = df_with_roll.groupby(['ID', 'Label','max_ICULOS','Gender']).agg({\n",
    "                                                        'Unit1': 'max',\\\n",
    "                                                        'Unit2': 'max',\\\n",
    "                                                        'Unit3': 'max',\\\n",
    "                                                        'HR': ['median', 'max'],\\\n",
    "                                                        'MAP': ['median', 'min'],\\\n",
    "                                                        'O2Sat': ['mean'],\\\n",
    "                                                        'Resp': ['median', 'max'],\\\n",
    "                                                        'SBP': ['median', 'min'],\\\n",
    "                                                        'Hct': ['median', 'min'],\\\n",
    "                                                        'Potassium': 'mean',\\\n",
    "                                                        'Glucose': 'mean',\\\n",
    "                                                        'Temp': ['mean', 'min'],\\\n",
    "                                                        'DBP': 'mean',\\\n",
    "                                                        'WBC': ['median', 'min'],\\\n",
    "                                                        'EtCO2': 'mean',\\\n",
    "                                                        'BaseExcess': 'mean',\\\n",
    "                                                        'HCO3': 'mean',\\\n",
    "                                                        'FiO2': 'mean',\\\n",
    "                                                        'SaO2': 'mean',\\\n",
    "                                                        'AST': 'mean',\\\n",
    "                                                        'Lactate': 'mean',\\\n",
    "                                                        'Magnesium': 'mean',\\\n",
    "                                                        'Phosphate': 'mean',\\\n",
    "                                                        'TroponinI': 'mean',\\\n",
    "                                                        'Hgb': 'mean',\\\n",
    "                                                        'PTT': 'mean',\\\n",
    "                                                        'Platelets': 'mean',\\\n",
    "                                                        'Age': 'mean',\\\n",
    "                                                        'HospAdmTime': 'mean',\\\n",
    "                                                        f'{window_size}w_sum_BaseExcess': 'mean',\\\n",
    "                                                        f'{window_size}w_sum_FiO2': 'mean',\\\n",
    "                                                        f'{window_size}w_sum_pH': 'mean',\\\n",
    "                                                        f'{window_size}w_sum_PaCO2': 'mean',\\\n",
    "                                                        f'{window_size}w_sum_Glucose': 'mean',\\\n",
    "                                                        f'{window_size}w_sum_Lactate': 'mean',\\\n",
    "                                                        f'{window_size}w_sum_PTT': 'mean'}).reset_index()\n",
    "    data_final.columns = ['__'.join(col).strip() for col in data_final.columns.values]\n",
    "    data_final.rename(columns={\"ID__\": \"ID\", \"Label__\": \"Label\", \"max_ICULOS__\":\"max_ICULOS\", \"Gender__\":\"Gender\"}, inplace=True)\n",
    "\n",
    "    return data_final\n"
   ],
   "metadata": {
    "collapsed": false,
    "pycharm": {
     "name": "#%%\n"
    }
   }
  },
  {
   "cell_type": "markdown",
   "source": [
    "## Imutation functions"
   ],
   "metadata": {
    "collapsed": false,
    "pycharm": {
     "name": "#%% md\n"
    }
   }
  },
  {
   "cell_type": "code",
   "execution_count": 4,
   "outputs": [],
   "source": [
    "def imputation_with_KNNimputer(train_df, n=3):\n",
    "    data_knn_imputed = train_df.copy(deep=True)    # Copy the data\n",
    "    knn_imp = KNNImputer(n_neighbors=n) # Init the transformer\n",
    "    knn_imp.fit(data_knn_imputed)\n",
    "    return knn_imp #return fitted inputer"
   ],
   "metadata": {
    "collapsed": false,
    "pycharm": {
     "name": "#%%\n"
    }
   }
  },
  {
   "cell_type": "markdown",
   "source": [
    "## Oversampling using SMOTE (function)"
   ],
   "metadata": {
    "collapsed": false,
    "pycharm": {
     "name": "#%% md\n"
    }
   }
  },
  {
   "cell_type": "code",
   "execution_count": 5,
   "outputs": [],
   "source": [
    "def os_with_smote(X,y, p=0.5):\n",
    "    # X = train_df.loc[:, train_df.columns != 'Label']\n",
    "    # y = train_df.loc[:, train_df.columns == 'Label']\n",
    "    os = SMOTE(sampling_strategy=p, random_state=0)\n",
    "    columns = X.columns\n",
    "    os_data_X, os_data_y = os.fit_resample(X, y)\n",
    "    os_data_X = pd.DataFrame(data=os_data_X,columns=columns )\n",
    "    os_data_y = pd.DataFrame(data=os_data_y,columns=['Label'])\n",
    "    return os_data_X, os_data_y"
   ],
   "metadata": {
    "collapsed": false,
    "pycharm": {
     "name": "#%%\n"
    }
   }
  },
  {
   "cell_type": "markdown",
   "source": [
    "## Load data"
   ],
   "metadata": {
    "collapsed": false,
    "pycharm": {
     "name": "#%% md\n"
    }
   }
  },
  {
   "cell_type": "code",
   "execution_count": 16,
   "outputs": [],
   "source": [
    "train_df = pd.read_csv(\"/home/student/filtered_train_df_0705.csv\")\n",
    "val_df = pd.read_csv(\"/home/student/filtered_val_df_0705.csv\")\n",
    "test_df =  pd.read_csv(\"/home/student/filtered_test_df_0705.csv\")"
   ],
   "metadata": {
    "collapsed": false,
    "pycharm": {
     "name": "#%%\n"
    }
   }
  },
  {
   "cell_type": "markdown",
   "source": [
    "## Handle training data"
   ],
   "metadata": {
    "collapsed": false,
    "pycharm": {
     "name": "#%% md\n"
    }
   }
  },
  {
   "cell_type": "code",
   "execution_count": 7,
   "outputs": [
    {
     "name": "stderr",
     "output_type": "stream",
     "text": [
      "/data/anaconda3/lib/python3.8/site-packages/pandas/core/window/rolling.py:2010: FutureWarning: min_periods=None will default to the size of window consistent with other methods in a future version. Specify min_periods=0 instead.\n",
      "  warnings.warn(\n"
     ]
    },
    {
     "name": "stdout",
     "output_type": "stream",
     "text": [
      "length of train data is 16000\n",
      "Number of Label=0 in train data 14857\n",
      "Number of Label=1 in train data 1143\n",
      "Proportion of Label=0 data in train data is  0.9285625\n",
      "Proportion of Label=1 data in train data is  0.0714375\n"
     ]
    }
   ],
   "source": [
    "train_df = lr_preprocess_sepsis(train_df)\n",
    "# Check the numbers of our data\n",
    "print(\"length of train data is\",len(train_df))\n",
    "print(\"Number of Label=0 in train data\",len(train_df[train_df['Label']==0]))\n",
    "print(\"Number of Label=1 in train data\",len(train_df[train_df['Label']==1]))\n",
    "print(\"Proportion of Label=0 data in train data is \",len(train_df[train_df['Label']==0])/len(train_df))\n",
    "print(\"Proportion of Label=1 data in train data is \",len(train_df[train_df['Label']==1])/len(train_df))"
   ],
   "metadata": {
    "collapsed": false,
    "pycharm": {
     "name": "#%%\n"
    }
   }
  },
  {
   "cell_type": "markdown",
   "source": [
    "## TODO: Choose final columns and create X,y"
   ],
   "metadata": {
    "collapsed": false,
    "pycharm": {
     "name": "#%% md\n"
    }
   }
  },
  {
   "cell_type": "markdown",
   "source": [
    "### Fit&Transform imputation (TODO: SAVE IMPUTER)"
   ],
   "metadata": {
    "collapsed": false,
    "pycharm": {
     "name": "#%% md\n"
    }
   }
  },
  {
   "cell_type": "code",
   "execution_count": 10,
   "outputs": [],
   "source": [
    "# imputing training data\n",
    "# TODO: Save Imputer\n",
    "cols = list(train_df.columns)\n",
    "cols.remove('Label')\n",
    "X = train_df[cols]\n",
    "y = train_df['Label']\n",
    "knn_imp = imputation_with_KNNimputer(X, 3)\n",
    "X = pd.DataFrame(knn_imp.transform(X),columns=cols)"
   ],
   "metadata": {
    "collapsed": false,
    "pycharm": {
     "name": "#%%\n"
    }
   }
  },
  {
   "cell_type": "markdown",
   "source": [
    "### Handle Imbalance"
   ],
   "metadata": {
    "collapsed": false,
    "pycharm": {
     "name": "#%% md\n"
    }
   }
  },
  {
   "cell_type": "code",
   "execution_count": 11,
   "outputs": [
    {
     "name": "stdout",
     "output_type": "stream",
     "text": [
      "length of oversampled data is  18571\n",
      "Number of Label=0 in oversampled data 14857\n",
      "Number of Label=1 3714\n",
      "Proportion of Label=0 data in oversampled data is  0.8000107694792957\n",
      "Proportion of Label=1 data in oversampled data is  0.19998923052070433\n"
     ]
    }
   ],
   "source": [
    "# over-sampling training data\n",
    "X, y = os_with_smote(X,y, p=0.25)\n",
    "\n",
    "# Check the numbers of our data\n",
    "print(\"length of oversampled data is \",len(X))\n",
    "print(\"Number of Label=0 in oversampled data\",len(y[y['Label']==0]))\n",
    "print(\"Number of Label=1\",len(y[y['Label']==1]))\n",
    "print(\"Proportion of Label=0 data in oversampled data is \",len(y[y['Label']==0])/len(X))\n",
    "print(\"Proportion of Label=1 data in oversampled data is \",len(y[y['Label']==1])/len(X))"
   ],
   "metadata": {
    "collapsed": false,
    "pycharm": {
     "name": "#%%\n"
    }
   }
  },
  {
   "cell_type": "code",
   "execution_count": 12,
   "outputs": [
    {
     "name": "stdout",
     "output_type": "stream",
     "text": [
      "length of final training data is  11142\n",
      "Number of Label=0 in final training data 7428\n",
      "Number of Label=1 3714\n",
      "Proportion of Label=0 data in final data training is  0.6666666666666666\n",
      "Proportion of Label=1 data in final training data is  0.3333333333333333\n"
     ]
    }
   ],
   "source": [
    "#Downsample majority class\n",
    "under = RandomUnderSampler(sampling_strategy=0.5)\n",
    "X,y = under.fit_resample(X, y)\n",
    "\n",
    "# Check the numbers of our data\n",
    "print(\"length of final training data is \",len(X))\n",
    "print(\"Number of Label=0 in final training data\",len(y[y['Label']==0]))\n",
    "print(\"Number of Label=1\",len(y[y['Label']==1]))\n",
    "print(\"Proportion of Label=0 data in final data training is \",len(y[y['Label']==0])/len(X))\n",
    "print(\"Proportion of Label=1 data in final training data is \",len(y[y['Label']==1])/len(X))"
   ],
   "metadata": {
    "collapsed": false,
    "pycharm": {
     "name": "#%%\n"
    }
   }
  },
  {
   "cell_type": "markdown",
   "source": [
    "## Evaluation data (preprocess)"
   ],
   "metadata": {
    "collapsed": false,
    "pycharm": {
     "name": "#%% md\n"
    }
   }
  },
  {
   "cell_type": "code",
   "execution_count": 17,
   "outputs": [
    {
     "name": "stderr",
     "output_type": "stream",
     "text": [
      "/data/anaconda3/lib/python3.8/site-packages/pandas/core/window/rolling.py:2010: FutureWarning: min_periods=None will default to the size of window consistent with other methods in a future version. Specify min_periods=0 instead.\n",
      "  warnings.warn(\n",
      "/data/anaconda3/lib/python3.8/site-packages/pandas/core/window/rolling.py:2010: FutureWarning: min_periods=None will default to the size of window consistent with other methods in a future version. Specify min_periods=0 instead.\n",
      "  warnings.warn(\n"
     ]
    }
   ],
   "source": [
    "val_df = lr_preprocess_sepsis(val_df)\n",
    "X_val= val_df[cols]\n",
    "y_val = val_df['Label']\n",
    "X_val = knn_imp.transform(X_val)\n",
    "\n",
    "test_df = lr_preprocess_sepsis(test_df)\n",
    "X_test = test_df[cols]\n",
    "y_test = test_df['Label']\n",
    "X_test = knn_imp.transform(X_test)\n"
   ],
   "metadata": {
    "collapsed": false,
    "pycharm": {
     "name": "#%%\n"
    }
   }
  },
  {
   "cell_type": "markdown",
   "source": [
    "## Models"
   ],
   "metadata": {
    "collapsed": false,
    "pycharm": {
     "name": "#%% md\n"
    }
   }
  },
  {
   "cell_type": "code",
   "execution_count": 18,
   "outputs": [
    {
     "name": "stdout",
     "output_type": "stream",
     "text": [
      "Optimization terminated successfully.\n",
      "         Current function value: 0.540689\n",
      "         Iterations 6\n",
      "                              Results: Logit\n",
      "===========================================================================\n",
      "Model:                  Logit               Pseudo R-squared:    0.151     \n",
      "Dependent Variable:     Label               AIC:                 12140.7097\n",
      "Date:                   2022-05-10 13:21    BIC:                 12477.3596\n",
      "No. Observations:       11142               Log-Likelihood:      -6024.4   \n",
      "Df Model:               45                  LL-Null:             -7092.0   \n",
      "Df Residuals:           11096               LLR p-value:         0.0000    \n",
      "Converged:              1.0000              Scale:               1.0000    \n",
      "No. Iterations:         6.0000                                             \n",
      "---------------------------------------------------------------------------\n",
      "                         Coef.   Std.Err.    z     P>|z|   [0.025   0.975] \n",
      "---------------------------------------------------------------------------\n",
      "ID                       -0.0000   0.0000  -4.9876 0.0000  -0.0000  -0.0000\n",
      "max_ICULOS                0.0072   0.0007   9.8101 0.0000   0.0058   0.0087\n",
      "Gender                    0.1904   0.0480   3.9664 0.0001   0.0963   0.2845\n",
      "Unit1__max              -26.6695   1.9599 -13.6079 0.0000 -30.5107 -22.8282\n",
      "Unit2__max              -27.1429   1.9685 -13.7886 0.0000 -31.0011 -23.2847\n",
      "Unit3__max              -26.7364   1.9661 -13.5986 0.0000 -30.5900 -22.8829\n",
      "HR__median                0.0180   0.0034   5.3394 0.0000   0.0114   0.0246\n",
      "HR__max                  -0.0062   0.0030  -2.0837 0.0372  -0.0121  -0.0004\n",
      "MAP__median              -0.0269   0.0055  -4.9249 0.0000  -0.0376  -0.0162\n",
      "MAP__min                  0.0245   0.0046   5.3567 0.0000   0.0155   0.0334\n",
      "O2Sat__mean               0.0798   0.0111   7.2035 0.0000   0.0581   0.1015\n",
      "Resp__median              0.0706   0.0087   8.0726 0.0000   0.0535   0.0878\n",
      "Resp__max                -0.0230   0.0064  -3.5610 0.0004  -0.0356  -0.0103\n",
      "SBP__median               0.0065   0.0031   2.1180 0.0342   0.0005   0.0126\n",
      "SBP__min                 -0.0085   0.0030  -2.7899 0.0053  -0.0144  -0.0025\n",
      "Hct__median              -0.0113   0.0395  -0.2868 0.7743  -0.0887   0.0660\n",
      "Hct__min                  0.0767   0.0376   2.0382 0.0415   0.0029   0.1505\n",
      "Potassium__mean          -0.2311   0.0550  -4.2011 0.0000  -0.3389  -0.1233\n",
      "Glucose__mean             0.0029   0.0006   4.5232 0.0000   0.0016   0.0041\n",
      "Temp__mean                0.5426   0.0958   5.6662 0.0000   0.3549   0.7303\n",
      "Temp__min                -0.1233   0.0898  -1.3731 0.1697  -0.2994   0.0527\n",
      "DBP__mean                -0.0016   0.0039  -0.4187 0.6754  -0.0094   0.0061\n",
      "WBC__median               0.0634   0.0589   1.0777 0.2812  -0.0519   0.1788\n",
      "WBC__min                 -0.0258   0.0598  -0.4320 0.6657  -0.1430   0.0913\n",
      "EtCO2__mean              -0.0169   0.0033  -5.1066 0.0000  -0.0234  -0.0104\n",
      "BaseExcess__mean          0.0075   0.0086   0.8690 0.3848  -0.0094   0.0245\n",
      "HCO3__mean               -0.0199   0.0084  -2.3711 0.0177  -0.0364  -0.0035\n",
      "FiO2__mean                0.6115   0.1790   3.4162 0.0006   0.2607   0.9623\n",
      "SaO2__mean                0.0117   0.0037   3.1143 0.0018   0.0043   0.0190\n",
      "AST__mean                -0.0001   0.0001  -2.2222 0.0263  -0.0002  -0.0000\n",
      "Lactate__mean            -0.0031   0.0156  -0.2002 0.8413  -0.0336   0.0274\n",
      "Magnesium__mean           0.2554   0.0867   2.9447 0.0032   0.0854   0.4253\n",
      "Phosphate__mean           0.0450   0.0245   1.8412 0.0656  -0.0029   0.0930\n",
      "TroponinI__mean          -0.0037   0.0022  -1.6483 0.0993  -0.0080   0.0007\n",
      "Hgb__mean                -0.1678   0.0374  -4.4852 0.0000  -0.2411  -0.0944\n",
      "PTT__mean                 0.0038   0.0013   2.8530 0.0043   0.0012   0.0064\n",
      "Platelets__mean           0.0003   0.0003   1.0926 0.2746  -0.0003   0.0009\n",
      "Age__mean                 0.0046   0.0016   2.9093 0.0036   0.0015   0.0077\n",
      "HospAdmTime__mean        -0.0007   0.0002  -4.5454 0.0000  -0.0010  -0.0004\n",
      "5w_sum_BaseExcess__mean  -0.0048   0.1172  -0.0408 0.9674  -0.2344   0.2249\n",
      "5w_sum_FiO2__mean         0.5721   0.0402  14.2273 0.0000   0.4933   0.6510\n",
      "5w_sum_pH__mean          -0.1441   0.1379  -1.0451 0.2960  -0.4144   0.1261\n",
      "5w_sum_PaCO2__mean        0.2315   0.1284   1.8022 0.0715  -0.0203   0.4832\n",
      "5w_sum_Glucose__mean     -0.4159   0.0340 -12.2468 0.0000  -0.4825  -0.3493\n",
      "5w_sum_Lactate__mean      0.7451   0.0870   8.5625 0.0000   0.5746   0.9157\n",
      "5w_sum_PTT__mean          0.1017   0.0938   1.0835 0.2786  -0.0822   0.2856\n",
      "===========================================================================\n",
      "\n"
     ]
    }
   ],
   "source": [
    "logit_model = sm.Logit(y,X)\n",
    "result = logit_model.fit()\n",
    "print(result.summary2())"
   ],
   "metadata": {
    "collapsed": false,
    "pycharm": {
     "name": "#%%\n"
    }
   }
  },
  {
   "cell_type": "code",
   "execution_count": 19,
   "outputs": [
    {
     "name": "stderr",
     "output_type": "stream",
     "text": [
      "/home/student/.local/lib/python3.8/site-packages/sklearn/utils/validation.py:993: DataConversionWarning: A column-vector y was passed when a 1d array was expected. Please change the shape of y to (n_samples, ), for example using ravel().\n",
      "  y = column_or_1d(y, warn=True)\n",
      "/home/student/.local/lib/python3.8/site-packages/sklearn/linear_model/_logistic.py:814: ConvergenceWarning: lbfgs failed to converge (status=1):\n",
      "STOP: TOTAL NO. of ITERATIONS REACHED LIMIT.\n",
      "\n",
      "Increase the number of iterations (max_iter) or scale the data as shown in:\n",
      "    https://scikit-learn.org/stable/modules/preprocessing.html\n",
      "Please also refer to the documentation for alternative solver options:\n",
      "    https://scikit-learn.org/stable/modules/linear_model.html#logistic-regression\n",
      "  n_iter_i = _check_optimize_result(\n"
     ]
    },
    {
     "data": {
      "text/plain": "LogisticRegression()"
     },
     "execution_count": 19,
     "metadata": {},
     "output_type": "execute_result"
    }
   ],
   "source": [
    "logreg = LogisticRegression()\n",
    "logreg.fit(X, y)"
   ],
   "metadata": {
    "collapsed": false,
    "pycharm": {
     "name": "#%%\n"
    }
   }
  },
  {
   "cell_type": "code",
   "execution_count": 20,
   "outputs": [
    {
     "name": "stderr",
     "output_type": "stream",
     "text": [
      "/home/student/.local/lib/python3.8/site-packages/sklearn/base.py:450: UserWarning: X does not have valid feature names, but LogisticRegression was fitted with feature names\n",
      "  warnings.warn(\n"
     ]
    }
   ],
   "source": [
    "y_pred = logreg.predict(X_val)"
   ],
   "metadata": {
    "collapsed": false,
    "pycharm": {
     "name": "#%%\n"
    }
   }
  },
  {
   "cell_type": "code",
   "execution_count": 21,
   "outputs": [
    {
     "name": "stdout",
     "output_type": "stream",
     "text": [
      "Accuracy of logistic regression classifier on test set: 0.91\n",
      "exact: 0.90975\n"
     ]
    },
    {
     "name": "stderr",
     "output_type": "stream",
     "text": [
      "/home/student/.local/lib/python3.8/site-packages/sklearn/base.py:450: UserWarning: X does not have valid feature names, but LogisticRegression was fitted with feature names\n",
      "  warnings.warn(\n"
     ]
    }
   ],
   "source": [
    "print('Accuracy of logistic regression classifier on test set: {:.2f}'.format(logreg.score(X_val, y_val)))\n",
    "print(f\"exact: {(val_df['Label']==y_pred).mean()}\")"
   ],
   "metadata": {
    "collapsed": false,
    "pycharm": {
     "name": "#%%\n"
    }
   }
  },
  {
   "cell_type": "code",
   "execution_count": 22,
   "outputs": [
    {
     "data": {
      "text/plain": "0.90975"
     },
     "execution_count": 22,
     "metadata": {},
     "output_type": "execute_result"
    }
   ],
   "source": [
    "(val_df['Label']==y_pred).mean()"
   ],
   "metadata": {
    "collapsed": false,
    "pycharm": {
     "name": "#%%\n"
    }
   }
  },
  {
   "cell_type": "code",
   "execution_count": 23,
   "outputs": [
    {
     "name": "stdout",
     "output_type": "stream",
     "text": [
      "Val F1:  0.6022817569341101\n"
     ]
    }
   ],
   "source": [
    "from sklearn.metrics import f1_score\n",
    "\n",
    "print('Val F1: ', f1_score(y_val, y_pred, average='macro'))\n",
    "\n",
    "# print(f1_score(y_val, y_pred, average='micro'))\n",
    "# print(f1_score(y_val, y_pred, average='weighted'))\n",
    "# print(f1_score(y_val, y_pred, average=None))"
   ],
   "metadata": {
    "collapsed": false,
    "pycharm": {
     "name": "#%%\n"
    }
   }
  },
  {
   "cell_type": "code",
   "execution_count": 23,
   "outputs": [],
   "source": [],
   "metadata": {
    "collapsed": false,
    "pycharm": {
     "name": "#%%\n"
    }
   }
  },
  {
   "cell_type": "code",
   "execution_count": 24,
   "outputs": [
    {
     "name": "stdout",
     "output_type": "stream",
     "text": [
      "Train F1: 0.9998653561330281\n",
      "Val F1: 0.7307692307692308\n",
      "Test F1: 0.692090395480226\n"
     ]
    }
   ],
   "source": [
    "xgbc = XGBClassifier()\n",
    "xgbc.fit(X, y)\n",
    "y_train_pred = xgbc.predict(X)\n",
    "print(f'Train F1: {f1_score(y,y_train_pred)}')\n",
    "y_val_pred = xgbc.predict(X_val)\n",
    "print(f'Val F1: {f1_score(y_val,y_val_pred)}')\n",
    "y_test_pred = xgbc.predict(X_test)\n",
    "print(f'Test F1: {f1_score(y_test,y_test_pred)}')"
   ],
   "metadata": {
    "collapsed": false,
    "pycharm": {
     "name": "#%%\n"
    }
   }
  },
  {
   "cell_type": "code",
   "execution_count": 25,
   "outputs": [
    {
     "name": "stderr",
     "output_type": "stream",
     "text": [
      "<ipython-input-25-a4ee45e6f201>:5: DataConversionWarning: A column-vector y was passed when a 1d array was expected. Please change the shape of y to (n_samples,), for example using ravel().\n",
      "  clf.fit(X,y)\n"
     ]
    },
    {
     "name": "stdout",
     "output_type": "stream",
     "text": [
      "Train F1: 1.0\n",
      "Val F1: 0.709551656920078\n"
     ]
    },
    {
     "name": "stderr",
     "output_type": "stream",
     "text": [
      "/home/student/.local/lib/python3.8/site-packages/sklearn/base.py:450: UserWarning: X does not have valid feature names, but RandomForestClassifier was fitted with feature names\n",
      "  warnings.warn(\n",
      "/home/student/.local/lib/python3.8/site-packages/sklearn/base.py:450: UserWarning: X does not have valid feature names, but RandomForestClassifier was fitted with feature names\n",
      "  warnings.warn(\n"
     ]
    },
    {
     "name": "stdout",
     "output_type": "stream",
     "text": [
      "Test F1: 0.6734842951059168\n"
     ]
    }
   ],
   "source": [
    "#Create a Gaussian Classifier\n",
    "clf=RandomForestClassifier(n_estimators=100, random_state=0)\n",
    "\n",
    "#Train the model using the training sets y_pred=clf.predict(X_test)\n",
    "clf.fit(X,y)\n",
    "y_train_pred = clf.predict(X)\n",
    "print(f'Train F1: {f1_score(y, y_train_pred)}')\n",
    "y_val_pred = clf.predict(X_val)\n",
    "print(f'Val F1: {f1_score(y_val, y_val_pred)}')\n",
    "y_test_pred = clf.predict(X_test)\n",
    "print(f'Test F1: {f1_score(y_test, y_test_pred)}')"
   ],
   "metadata": {
    "collapsed": false,
    "pycharm": {
     "name": "#%%\n"
    }
   }
  },
  {
   "cell_type": "code",
   "execution_count": 26,
   "outputs": [],
   "source": [
    "# clf.summary()"
   ],
   "metadata": {
    "collapsed": false,
    "pycharm": {
     "name": "#%%\n"
    }
   }
  },
  {
   "cell_type": "code",
   "execution_count": null,
   "outputs": [],
   "source": [],
   "metadata": {
    "collapsed": false,
    "pycharm": {
     "name": "#%%\n"
    }
   }
  }
 ],
 "metadata": {
  "kernelspec": {
   "display_name": "Python 3",
   "language": "python",
   "name": "python3"
  },
  "language_info": {
   "codemirror_mode": {
    "name": "ipython",
    "version": 2
   },
   "file_extension": ".py",
   "mimetype": "text/x-python",
   "name": "python",
   "nbconvert_exporter": "python",
   "pygments_lexer": "ipython2",
   "version": "2.7.6"
  }
 },
 "nbformat": 4,
 "nbformat_minor": 0
}